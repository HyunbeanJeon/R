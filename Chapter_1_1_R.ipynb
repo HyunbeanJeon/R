{
  "nbformat": 4,
  "nbformat_minor": 0,
  "metadata": {
    "colab": {
      "provenance": [],
      "authorship_tag": "ABX9TyOJYmag606cY43D2MkYQxz4",
      "include_colab_link": true
    },
    "kernelspec": {
      "name": "ir",
      "display_name": "R"
    },
    "language_info": {
      "name": "R"
    }
  },
  "cells": [
    {
      "cell_type": "markdown",
      "metadata": {
        "id": "view-in-github",
        "colab_type": "text"
      },
      "source": [
        "<a href=\"https://colab.research.google.com/github/jhbeann/R/blob/main/Chapter_1_1_R.ipynb\" target=\"_parent\"><img src=\"https://colab.research.google.com/assets/colab-badge.svg\" alt=\"Open In Colab\"/></a>"
      ]
    },
    {
      "cell_type": "code",
      "execution_count": null,
      "metadata": {
        "colab": {
          "base_uri": "https://localhost:8080/",
          "height": 34
        },
        "id": "Em2CK8-5DuAy",
        "outputId": "89922631-92e0-4fab-e50e-345fa25d5d8e"
      },
      "outputs": [
        {
          "output_type": "display_data",
          "data": {
            "text/html": [
              "1"
            ],
            "text/markdown": "1",
            "text/latex": "1",
            "text/plain": [
              "[1] 1"
            ]
          },
          "metadata": {}
        }
      ],
      "source": [
        "a<-1\n",
        "a"
      ]
    },
    {
      "cell_type": "code",
      "source": [
        "b <-5\n",
        "a <-b\n",
        "a"
      ],
      "metadata": {
        "colab": {
          "base_uri": "https://localhost:8080/",
          "height": 34
        },
        "id": "-GKAE21TD6tp",
        "outputId": "37ee1c8b-4265-41c7-f11c-ae5cc30bb203"
      },
      "execution_count": null,
      "outputs": [
        {
          "output_type": "display_data",
          "data": {
            "text/html": [
              "5"
            ],
            "text/markdown": "5",
            "text/latex": "5",
            "text/plain": [
              "[1] 5"
            ]
          },
          "metadata": {}
        }
      ]
    },
    {
      "cell_type": "code",
      "source": [
        "a<-1\n",
        "b<-1.5\n",
        "a\n",
        "b\n"
      ],
      "metadata": {
        "colab": {
          "base_uri": "https://localhost:8080/",
          "height": 52
        },
        "id": "kbpkZIPsEth_",
        "outputId": "23d4c695-ecaf-46f6-d711-3f1401768754"
      },
      "execution_count": null,
      "outputs": [
        {
          "output_type": "display_data",
          "data": {
            "text/html": [
              "1"
            ],
            "text/markdown": "1",
            "text/latex": "1",
            "text/plain": [
              "[1] 1"
            ]
          },
          "metadata": {}
        },
        {
          "output_type": "display_data",
          "data": {
            "text/html": [
              "1.5"
            ],
            "text/markdown": "1.5",
            "text/latex": "1.5",
            "text/plain": [
              "[1] 1.5"
            ]
          },
          "metadata": {}
        }
      ]
    },
    {
      "cell_type": "code",
      "source": [
        "a<-1\n",
        "b<-a\n",
        "x<-c(b,2,7)\n",
        "a\n",
        "b\n",
        "x"
      ],
      "metadata": {
        "colab": {
          "base_uri": "https://localhost:8080/",
          "height": 69
        },
        "id": "zabUko00FH4G",
        "outputId": "e384f52a-6561-4847-d1ec-550c7052490a"
      },
      "execution_count": null,
      "outputs": [
        {
          "output_type": "display_data",
          "data": {
            "text/html": [
              "1"
            ],
            "text/markdown": "1",
            "text/latex": "1",
            "text/plain": [
              "[1] 1"
            ]
          },
          "metadata": {}
        },
        {
          "output_type": "display_data",
          "data": {
            "text/html": [
              "1"
            ],
            "text/markdown": "1",
            "text/latex": "1",
            "text/plain": [
              "[1] 1"
            ]
          },
          "metadata": {}
        },
        {
          "output_type": "display_data",
          "data": {
            "text/html": [
              "<style>\n",
              ".list-inline {list-style: none; margin:0; padding: 0}\n",
              ".list-inline>li {display: inline-block}\n",
              ".list-inline>li:not(:last-child)::after {content: \"\\00b7\"; padding: 0 .5ex}\n",
              "</style>\n",
              "<ol class=list-inline><li>1</li><li>2</li><li>7</li></ol>\n"
            ],
            "text/markdown": "1. 1\n2. 2\n3. 7\n\n\n",
            "text/latex": "\\begin{enumerate*}\n\\item 1\n\\item 2\n\\item 7\n\\end{enumerate*}\n",
            "text/plain": [
              "[1] 1 2 7"
            ]
          },
          "metadata": {}
        }
      ]
    },
    {
      "cell_type": "code",
      "source": [
        "a=10\n",
        "b=5\n",
        "c=3\n",
        "a+b;a-b;a*b;a/b\n",
        "a^3;a%/%c;a%%c # 거듭제곱, 몫,나머지"
      ],
      "metadata": {
        "colab": {
          "base_uri": "https://localhost:8080/",
          "height": 138
        },
        "id": "atV3QTmQFRgj",
        "outputId": "c7689202-60e3-405b-aab2-10fcfb4ce8ea"
      },
      "execution_count": null,
      "outputs": [
        {
          "output_type": "display_data",
          "data": {
            "text/html": [
              "15"
            ],
            "text/markdown": "15",
            "text/latex": "15",
            "text/plain": [
              "[1] 15"
            ]
          },
          "metadata": {}
        },
        {
          "output_type": "display_data",
          "data": {
            "text/html": [
              "5"
            ],
            "text/markdown": "5",
            "text/latex": "5",
            "text/plain": [
              "[1] 5"
            ]
          },
          "metadata": {}
        },
        {
          "output_type": "display_data",
          "data": {
            "text/html": [
              "50"
            ],
            "text/markdown": "50",
            "text/latex": "50",
            "text/plain": [
              "[1] 50"
            ]
          },
          "metadata": {}
        },
        {
          "output_type": "display_data",
          "data": {
            "text/html": [
              "2"
            ],
            "text/markdown": "2",
            "text/latex": "2",
            "text/plain": [
              "[1] 2"
            ]
          },
          "metadata": {}
        },
        {
          "output_type": "display_data",
          "data": {
            "text/html": [
              "1000"
            ],
            "text/markdown": "1000",
            "text/latex": "1000",
            "text/plain": [
              "[1] 1000"
            ]
          },
          "metadata": {}
        },
        {
          "output_type": "display_data",
          "data": {
            "text/html": [
              "3"
            ],
            "text/markdown": "3",
            "text/latex": "3",
            "text/plain": [
              "[1] 3"
            ]
          },
          "metadata": {}
        },
        {
          "output_type": "display_data",
          "data": {
            "text/html": [
              "1"
            ],
            "text/markdown": "1",
            "text/latex": "1",
            "text/plain": [
              "[1] 1"
            ]
          },
          "metadata": {}
        }
      ]
    },
    {
      "cell_type": "markdown",
      "source": [
        "### 문자형\n"
      ],
      "metadata": {
        "id": "GOUo9bgBHnRN"
      }
    },
    {
      "cell_type": "code",
      "source": [
        "str1 <-\"R\"\n",
        "str2 <-\"programming\"\n",
        "str1\n",
        "str2"
      ],
      "metadata": {
        "colab": {
          "base_uri": "https://localhost:8080/",
          "height": 52
        },
        "id": "zkGeZxSgF6i-",
        "outputId": "a37a979d-e326-4e22-f815-c6db39501ecb"
      },
      "execution_count": null,
      "outputs": [
        {
          "output_type": "display_data",
          "data": {
            "text/html": [
              "'R'"
            ],
            "text/markdown": "'R'",
            "text/latex": "'R'",
            "text/plain": [
              "[1] \"R\""
            ]
          },
          "metadata": {}
        },
        {
          "output_type": "display_data",
          "data": {
            "text/html": [
              "'programming'"
            ],
            "text/markdown": "'programming'",
            "text/latex": "'programming'",
            "text/plain": [
              "[1] \"programming\""
            ]
          },
          "metadata": {}
        }
      ]
    },
    {
      "cell_type": "code",
      "source": [
        "str1 <-\"R\"\n",
        "str2 <-\"programming\"\n",
        "str3 <-paste(str1,str2)\n",
        "str3"
      ],
      "metadata": {
        "colab": {
          "base_uri": "https://localhost:8080/",
          "height": 34
        },
        "id": "0OeLo4hqGXgb",
        "outputId": "d08b448e-6907-4d36-852c-50bb0896a650"
      },
      "execution_count": null,
      "outputs": [
        {
          "output_type": "display_data",
          "data": {
            "text/html": [
              "'R programming'"
            ],
            "text/markdown": "'R programming'",
            "text/latex": "'R programming'",
            "text/plain": [
              "[1] \"R programming\""
            ]
          },
          "metadata": {}
        }
      ]
    },
    {
      "cell_type": "code",
      "source": [
        "str4 <- c(\"a\",\"b\",\"c\")\n",
        "str5 <-paste(str4,collapse = \" \")  # str4 포함 문자를 공백과 함께\n",
        "str5"
      ],
      "metadata": {
        "colab": {
          "base_uri": "https://localhost:8080/",
          "height": 34
        },
        "id": "qXQrlbrEHS3n",
        "outputId": "9a67f2a5-0956-42be-f5f8-f5819da1321c"
      },
      "execution_count": null,
      "outputs": [
        {
          "output_type": "display_data",
          "data": {
            "text/html": [
              "'a b c'"
            ],
            "text/markdown": "'a b c'",
            "text/latex": "'a b c'",
            "text/plain": [
              "[1] \"a b c\""
            ]
          },
          "metadata": {}
        }
      ]
    },
    {
      "cell_type": "markdown",
      "source": [
        "## 날짜형\n",
        "- 날짜형으로 변환 : as.Date\n",
        "- 날짜 산술연산 가능\n"
      ],
      "metadata": {
        "id": "PvAGsvNzHwm8"
      }
    },
    {
      "cell_type": "code",
      "source": [
        "str1 <-'2023-02-09'\n",
        "str2 <-'2023-02-13'\n",
        "x <- as.Date(str1)\n",
        "y <- as.Date(str2)\n",
        "y-x"
      ],
      "metadata": {
        "colab": {
          "base_uri": "https://localhost:8080/",
          "height": 36
        },
        "id": "u_SYaIctHkdd",
        "outputId": "36f606ed-2f06-492a-b0dd-61c14babf211"
      },
      "execution_count": null,
      "outputs": [
        {
          "output_type": "display_data",
          "data": {
            "text/plain": [
              "Time difference of 4 days"
            ]
          },
          "metadata": {}
        }
      ]
    },
    {
      "cell_type": "markdown",
      "source": [
        "## 논리형\n",
        "- & : 두 개 모두 T 일때 T\n",
        "- | : 하나라도 T 이면 T\n",
        "- ! : 부정문, 반대가 된다.\n"
      ],
      "metadata": {
        "id": "qTTbgwECJBMx"
      }
    },
    {
      "cell_type": "code",
      "source": [
        "x <-TRUE\n",
        "y <-FALSE\n",
        "\n",
        "x & y\n",
        "x | y\n",
        "!y"
      ],
      "metadata": {
        "colab": {
          "base_uri": "https://localhost:8080/",
          "height": 69
        },
        "id": "IqTFpi5yJHLY",
        "outputId": "836be287-7630-46b9-e206-bba5b076e20e"
      },
      "execution_count": null,
      "outputs": [
        {
          "output_type": "display_data",
          "data": {
            "text/html": [
              "FALSE"
            ],
            "text/markdown": "FALSE",
            "text/latex": "FALSE",
            "text/plain": [
              "[1] FALSE"
            ]
          },
          "metadata": {}
        },
        {
          "output_type": "display_data",
          "data": {
            "text/html": [
              "TRUE"
            ],
            "text/markdown": "TRUE",
            "text/latex": "TRUE",
            "text/plain": [
              "[1] TRUE"
            ]
          },
          "metadata": {}
        },
        {
          "output_type": "display_data",
          "data": {
            "text/html": [
              "TRUE"
            ],
            "text/markdown": "TRUE",
            "text/latex": "TRUE",
            "text/plain": [
              "[1] TRUE"
            ]
          },
          "metadata": {}
        }
      ]
    },
    {
      "cell_type": "markdown",
      "source": [
        "# 연산자\n",
        " 1. 산술연산자\n",
        "*   (+ ,-,*,/)\n",
        "*  %/% 몫(소수점 버림)\n",
        "*   %% 나머지\n",
        "*   ^ ** 거듭제곱\n",
        "\n",
        "\n",
        "\n",
        "\n",
        " 2. 비교 연산자\n",
        "*   >,<,<=,>=\n",
        "*   == 같다 != 같지않다\n",
        "\n",
        "\n",
        " 3. 논리 연산자\n",
        "*   논리 곱 : &\n",
        "*   논리합 : |\n",
        "*   논리 부정 : !\n",
        "\n",
        "\n",
        "\n"
      ],
      "metadata": {
        "id": "3GK2Cg3BJoM9"
      }
    },
    {
      "cell_type": "markdown",
      "source": [
        "## 벡터 행렬 배열"
      ],
      "metadata": {
        "id": "D20cSmfEMJ-o"
      }
    },
    {
      "cell_type": "code",
      "source": [
        "X1 <-c(1,2,3)\n",
        "X2 <-c(\"A\",\"B\",\"C\")\n",
        "X3<-c(1,2,\"A\")  # 숫자형과 문자형 섞이면 문자형으로 출력 \n",
        "\n",
        "X1\n",
        "X2\n",
        "X3"
      ],
      "metadata": {
        "colab": {
          "base_uri": "https://localhost:8080/",
          "height": 69
        },
        "id": "WZt4GemuMOGc",
        "outputId": "1731069a-29f7-4272-f864-94fc96838860"
      },
      "execution_count": null,
      "outputs": [
        {
          "output_type": "display_data",
          "data": {
            "text/html": [
              "<style>\n",
              ".list-inline {list-style: none; margin:0; padding: 0}\n",
              ".list-inline>li {display: inline-block}\n",
              ".list-inline>li:not(:last-child)::after {content: \"\\00b7\"; padding: 0 .5ex}\n",
              "</style>\n",
              "<ol class=list-inline><li>1</li><li>2</li><li>3</li></ol>\n"
            ],
            "text/markdown": "1. 1\n2. 2\n3. 3\n\n\n",
            "text/latex": "\\begin{enumerate*}\n\\item 1\n\\item 2\n\\item 3\n\\end{enumerate*}\n",
            "text/plain": [
              "[1] 1 2 3"
            ]
          },
          "metadata": {}
        },
        {
          "output_type": "display_data",
          "data": {
            "text/html": [
              "<style>\n",
              ".list-inline {list-style: none; margin:0; padding: 0}\n",
              ".list-inline>li {display: inline-block}\n",
              ".list-inline>li:not(:last-child)::after {content: \"\\00b7\"; padding: 0 .5ex}\n",
              "</style>\n",
              "<ol class=list-inline><li>'A'</li><li>'B'</li><li>'C'</li></ol>\n"
            ],
            "text/markdown": "1. 'A'\n2. 'B'\n3. 'C'\n\n\n",
            "text/latex": "\\begin{enumerate*}\n\\item 'A'\n\\item 'B'\n\\item 'C'\n\\end{enumerate*}\n",
            "text/plain": [
              "[1] \"A\" \"B\" \"C\""
            ]
          },
          "metadata": {}
        },
        {
          "output_type": "display_data",
          "data": {
            "text/html": [
              "<style>\n",
              ".list-inline {list-style: none; margin:0; padding: 0}\n",
              ".list-inline>li {display: inline-block}\n",
              ".list-inline>li:not(:last-child)::after {content: \"\\00b7\"; padding: 0 .5ex}\n",
              "</style>\n",
              "<ol class=list-inline><li>'1'</li><li>'2'</li><li>'A'</li></ol>\n"
            ],
            "text/markdown": "1. '1'\n2. '2'\n3. 'A'\n\n\n",
            "text/latex": "\\begin{enumerate*}\n\\item '1'\n\\item '2'\n\\item 'A'\n\\end{enumerate*}\n",
            "text/plain": [
              "[1] \"1\" \"2\" \"A\""
            ]
          },
          "metadata": {}
        }
      ]
    },
    {
      "cell_type": "code",
      "source": [
        "x1 <-c(1,2,3)\n",
        "x2 <-rep(x1,3)  # 3회 반복\n",
        "x2\n",
        "x3<-seq(1,10,2)  # 1부터 10까지 2씩 증가하는 수열\n",
        "x3"
      ],
      "metadata": {
        "colab": {
          "base_uri": "https://localhost:8080/",
          "height": 52
        },
        "id": "zSpyAvfUMaL6",
        "outputId": "95684619-58dc-4fdf-9553-a2be3b2731e1"
      },
      "execution_count": null,
      "outputs": [
        {
          "output_type": "display_data",
          "data": {
            "text/html": [
              "<style>\n",
              ".list-inline {list-style: none; margin:0; padding: 0}\n",
              ".list-inline>li {display: inline-block}\n",
              ".list-inline>li:not(:last-child)::after {content: \"\\00b7\"; padding: 0 .5ex}\n",
              "</style>\n",
              "<ol class=list-inline><li>1</li><li>2</li><li>3</li><li>1</li><li>2</li><li>3</li><li>1</li><li>2</li><li>3</li></ol>\n"
            ],
            "text/markdown": "1. 1\n2. 2\n3. 3\n4. 1\n5. 2\n6. 3\n7. 1\n8. 2\n9. 3\n\n\n",
            "text/latex": "\\begin{enumerate*}\n\\item 1\n\\item 2\n\\item 3\n\\item 1\n\\item 2\n\\item 3\n\\item 1\n\\item 2\n\\item 3\n\\end{enumerate*}\n",
            "text/plain": [
              "[1] 1 2 3 1 2 3 1 2 3"
            ]
          },
          "metadata": {}
        },
        {
          "output_type": "display_data",
          "data": {
            "text/html": [
              "<style>\n",
              ".list-inline {list-style: none; margin:0; padding: 0}\n",
              ".list-inline>li {display: inline-block}\n",
              ".list-inline>li:not(:last-child)::after {content: \"\\00b7\"; padding: 0 .5ex}\n",
              "</style>\n",
              "<ol class=list-inline><li>1</li><li>3</li><li>5</li><li>7</li><li>9</li></ol>\n"
            ],
            "text/markdown": "1. 1\n2. 3\n3. 5\n4. 7\n5. 9\n\n\n",
            "text/latex": "\\begin{enumerate*}\n\\item 1\n\\item 3\n\\item 5\n\\item 7\n\\item 9\n\\end{enumerate*}\n",
            "text/plain": [
              "[1] 1 3 5 7 9"
            ]
          },
          "metadata": {}
        }
      ]
    },
    {
      "cell_type": "code",
      "source": [
        "x <-c(1:5)\n",
        "x[3]\n",
        "x[c(3,5)]\n",
        "x[1:3]\n",
        "x[-2]\n",
        "x[x>=4]"
      ],
      "metadata": {
        "colab": {
          "base_uri": "https://localhost:8080/",
          "height": 104
        },
        "id": "6YDA6eM6MxTy",
        "outputId": "744b1fe8-f16c-4e37-d38b-e04d7890bdae"
      },
      "execution_count": null,
      "outputs": [
        {
          "output_type": "display_data",
          "data": {
            "text/html": [
              "3"
            ],
            "text/markdown": "3",
            "text/latex": "3",
            "text/plain": [
              "[1] 3"
            ]
          },
          "metadata": {}
        },
        {
          "output_type": "display_data",
          "data": {
            "text/html": [
              "<style>\n",
              ".list-inline {list-style: none; margin:0; padding: 0}\n",
              ".list-inline>li {display: inline-block}\n",
              ".list-inline>li:not(:last-child)::after {content: \"\\00b7\"; padding: 0 .5ex}\n",
              "</style>\n",
              "<ol class=list-inline><li>3</li><li>5</li></ol>\n"
            ],
            "text/markdown": "1. 3\n2. 5\n\n\n",
            "text/latex": "\\begin{enumerate*}\n\\item 3\n\\item 5\n\\end{enumerate*}\n",
            "text/plain": [
              "[1] 3 5"
            ]
          },
          "metadata": {}
        },
        {
          "output_type": "display_data",
          "data": {
            "text/html": [
              "<style>\n",
              ".list-inline {list-style: none; margin:0; padding: 0}\n",
              ".list-inline>li {display: inline-block}\n",
              ".list-inline>li:not(:last-child)::after {content: \"\\00b7\"; padding: 0 .5ex}\n",
              "</style>\n",
              "<ol class=list-inline><li>1</li><li>2</li><li>3</li></ol>\n"
            ],
            "text/markdown": "1. 1\n2. 2\n3. 3\n\n\n",
            "text/latex": "\\begin{enumerate*}\n\\item 1\n\\item 2\n\\item 3\n\\end{enumerate*}\n",
            "text/plain": [
              "[1] 1 2 3"
            ]
          },
          "metadata": {}
        },
        {
          "output_type": "display_data",
          "data": {
            "text/html": [
              "<style>\n",
              ".list-inline {list-style: none; margin:0; padding: 0}\n",
              ".list-inline>li {display: inline-block}\n",
              ".list-inline>li:not(:last-child)::after {content: \"\\00b7\"; padding: 0 .5ex}\n",
              "</style>\n",
              "<ol class=list-inline><li>1</li><li>3</li><li>4</li><li>5</li></ol>\n"
            ],
            "text/markdown": "1. 1\n2. 3\n3. 4\n4. 5\n\n\n",
            "text/latex": "\\begin{enumerate*}\n\\item 1\n\\item 3\n\\item 4\n\\item 5\n\\end{enumerate*}\n",
            "text/plain": [
              "[1] 1 3 4 5"
            ]
          },
          "metadata": {}
        },
        {
          "output_type": "display_data",
          "data": {
            "text/html": [
              "<style>\n",
              ".list-inline {list-style: none; margin:0; padding: 0}\n",
              ".list-inline>li {display: inline-block}\n",
              ".list-inline>li:not(:last-child)::after {content: \"\\00b7\"; padding: 0 .5ex}\n",
              "</style>\n",
              "<ol class=list-inline><li>4</li><li>5</li></ol>\n"
            ],
            "text/markdown": "1. 4\n2. 5\n\n\n",
            "text/latex": "\\begin{enumerate*}\n\\item 4\n\\item 5\n\\end{enumerate*}\n",
            "text/plain": [
              "[1] 4 5"
            ]
          },
          "metadata": {}
        }
      ]
    },
    {
      "cell_type": "code",
      "source": [
        "x<-c(100,200,300)\n",
        "names(x)<-c('aa','bb','cc')\n",
        "x['bb']  # 이름 이용한 벡터 x 값 출력 \n",
        "names(x)"
      ],
      "metadata": {
        "colab": {
          "base_uri": "https://localhost:8080/",
          "height": 52
        },
        "id": "erGsxxdGNKiE",
        "outputId": "ed280527-32fa-44ad-d3cd-e51050859723"
      },
      "execution_count": null,
      "outputs": [
        {
          "output_type": "display_data",
          "data": {
            "text/html": [
              "<strong>bb:</strong> 200"
            ],
            "text/markdown": "**bb:** 200",
            "text/latex": "\\textbf{bb:} 200",
            "text/plain": [
              " bb \n",
              "200 "
            ]
          },
          "metadata": {}
        },
        {
          "output_type": "display_data",
          "data": {
            "text/html": [
              "<style>\n",
              ".list-inline {list-style: none; margin:0; padding: 0}\n",
              ".list-inline>li {display: inline-block}\n",
              ".list-inline>li:not(:last-child)::after {content: \"\\00b7\"; padding: 0 .5ex}\n",
              "</style>\n",
              "<ol class=list-inline><li>'aa'</li><li>'bb'</li><li>'cc'</li></ol>\n"
            ],
            "text/markdown": "1. 'aa'\n2. 'bb'\n3. 'cc'\n\n\n",
            "text/latex": "\\begin{enumerate*}\n\\item 'aa'\n\\item 'bb'\n\\item 'cc'\n\\end{enumerate*}\n",
            "text/plain": [
              "[1] \"aa\" \"bb\" \"cc\""
            ]
          },
          "metadata": {}
        }
      ]
    },
    {
      "cell_type": "code",
      "source": [
        "x1<-c(100,200,300,400)\n",
        "x2<-c(10,20,30,40)\n",
        "x3<-c(10,20)\n",
        "\n",
        "x1 + x2\n",
        "x1 - x2\n",
        "\n",
        "x1+x3  # 원소수가 작은 벡터는 기존의 원소가 반복\n",
        "x1/x3  # (10,20) 가 (10,20,10,20) \n"
      ],
      "metadata": {
        "colab": {
          "base_uri": "https://localhost:8080/",
          "height": 86
        },
        "id": "3lDQy5dONXNI",
        "outputId": "2703e284-942a-4ba1-ac93-c1331232bd54"
      },
      "execution_count": null,
      "outputs": [
        {
          "output_type": "display_data",
          "data": {
            "text/html": [
              "<style>\n",
              ".list-inline {list-style: none; margin:0; padding: 0}\n",
              ".list-inline>li {display: inline-block}\n",
              ".list-inline>li:not(:last-child)::after {content: \"\\00b7\"; padding: 0 .5ex}\n",
              "</style>\n",
              "<ol class=list-inline><li>110</li><li>220</li><li>330</li><li>440</li></ol>\n"
            ],
            "text/markdown": "1. 110\n2. 220\n3. 330\n4. 440\n\n\n",
            "text/latex": "\\begin{enumerate*}\n\\item 110\n\\item 220\n\\item 330\n\\item 440\n\\end{enumerate*}\n",
            "text/plain": [
              "[1] 110 220 330 440"
            ]
          },
          "metadata": {}
        },
        {
          "output_type": "display_data",
          "data": {
            "text/html": [
              "<style>\n",
              ".list-inline {list-style: none; margin:0; padding: 0}\n",
              ".list-inline>li {display: inline-block}\n",
              ".list-inline>li:not(:last-child)::after {content: \"\\00b7\"; padding: 0 .5ex}\n",
              "</style>\n",
              "<ol class=list-inline><li>90</li><li>180</li><li>270</li><li>360</li></ol>\n"
            ],
            "text/markdown": "1. 90\n2. 180\n3. 270\n4. 360\n\n\n",
            "text/latex": "\\begin{enumerate*}\n\\item 90\n\\item 180\n\\item 270\n\\item 360\n\\end{enumerate*}\n",
            "text/plain": [
              "[1]  90 180 270 360"
            ]
          },
          "metadata": {}
        },
        {
          "output_type": "display_data",
          "data": {
            "text/html": [
              "<style>\n",
              ".list-inline {list-style: none; margin:0; padding: 0}\n",
              ".list-inline>li {display: inline-block}\n",
              ".list-inline>li:not(:last-child)::after {content: \"\\00b7\"; padding: 0 .5ex}\n",
              "</style>\n",
              "<ol class=list-inline><li>110</li><li>220</li><li>310</li><li>420</li></ol>\n"
            ],
            "text/markdown": "1. 110\n2. 220\n3. 310\n4. 420\n\n\n",
            "text/latex": "\\begin{enumerate*}\n\\item 110\n\\item 220\n\\item 310\n\\item 420\n\\end{enumerate*}\n",
            "text/plain": [
              "[1] 110 220 310 420"
            ]
          },
          "metadata": {}
        },
        {
          "output_type": "display_data",
          "data": {
            "text/html": [
              "<style>\n",
              ".list-inline {list-style: none; margin:0; padding: 0}\n",
              ".list-inline>li {display: inline-block}\n",
              ".list-inline>li:not(:last-child)::after {content: \"\\00b7\"; padding: 0 .5ex}\n",
              "</style>\n",
              "<ol class=list-inline><li>10</li><li>10</li><li>30</li><li>20</li></ol>\n"
            ],
            "text/markdown": "1. 10\n2. 10\n3. 30\n4. 20\n\n\n",
            "text/latex": "\\begin{enumerate*}\n\\item 10\n\\item 10\n\\item 30\n\\item 20\n\\end{enumerate*}\n",
            "text/plain": [
              "[1] 10 10 30 20"
            ]
          },
          "metadata": {}
        }
      ]
    },
    {
      "cell_type": "code",
      "source": [
        "x1<-c(10,20,30,40)\n",
        "x2 <-c(30,40,50,60)\n",
        "x3 <-c(40,30,20,10)\n",
        "\n",
        "union(x1,x2)  # 합집합\n",
        "intersect(x1,x2)  # 교집합\n",
        "setdiff(x1,x2)  # 차집합 \n",
        "setequal(x1,x2)  # x1, x2 동일하면 TRUE, 아니면 FALSE 반환\n",
        "setequal(x1,x3)  # 순서와 무관하게 동일집합"
      ],
      "metadata": {
        "colab": {
          "base_uri": "https://localhost:8080/",
          "height": 104
        },
        "id": "ns2xNbJ6Tbcn",
        "outputId": "ba335996-e583-4448-f1c8-c521ccd02dd4"
      },
      "execution_count": null,
      "outputs": [
        {
          "output_type": "display_data",
          "data": {
            "text/html": [
              "<style>\n",
              ".list-inline {list-style: none; margin:0; padding: 0}\n",
              ".list-inline>li {display: inline-block}\n",
              ".list-inline>li:not(:last-child)::after {content: \"\\00b7\"; padding: 0 .5ex}\n",
              "</style>\n",
              "<ol class=list-inline><li>10</li><li>20</li><li>30</li><li>40</li><li>50</li><li>60</li></ol>\n"
            ],
            "text/markdown": "1. 10\n2. 20\n3. 30\n4. 40\n5. 50\n6. 60\n\n\n",
            "text/latex": "\\begin{enumerate*}\n\\item 10\n\\item 20\n\\item 30\n\\item 40\n\\item 50\n\\item 60\n\\end{enumerate*}\n",
            "text/plain": [
              "[1] 10 20 30 40 50 60"
            ]
          },
          "metadata": {}
        },
        {
          "output_type": "display_data",
          "data": {
            "text/html": [
              "<style>\n",
              ".list-inline {list-style: none; margin:0; padding: 0}\n",
              ".list-inline>li {display: inline-block}\n",
              ".list-inline>li:not(:last-child)::after {content: \"\\00b7\"; padding: 0 .5ex}\n",
              "</style>\n",
              "<ol class=list-inline><li>30</li><li>40</li></ol>\n"
            ],
            "text/markdown": "1. 30\n2. 40\n\n\n",
            "text/latex": "\\begin{enumerate*}\n\\item 30\n\\item 40\n\\end{enumerate*}\n",
            "text/plain": [
              "[1] 30 40"
            ]
          },
          "metadata": {}
        },
        {
          "output_type": "display_data",
          "data": {
            "text/html": [
              "<style>\n",
              ".list-inline {list-style: none; margin:0; padding: 0}\n",
              ".list-inline>li {display: inline-block}\n",
              ".list-inline>li:not(:last-child)::after {content: \"\\00b7\"; padding: 0 .5ex}\n",
              "</style>\n",
              "<ol class=list-inline><li>10</li><li>20</li></ol>\n"
            ],
            "text/markdown": "1. 10\n2. 20\n\n\n",
            "text/latex": "\\begin{enumerate*}\n\\item 10\n\\item 20\n\\end{enumerate*}\n",
            "text/plain": [
              "[1] 10 20"
            ]
          },
          "metadata": {}
        },
        {
          "output_type": "display_data",
          "data": {
            "text/html": [
              "FALSE"
            ],
            "text/markdown": "FALSE",
            "text/latex": "FALSE",
            "text/plain": [
              "[1] FALSE"
            ]
          },
          "metadata": {}
        },
        {
          "output_type": "display_data",
          "data": {
            "text/html": [
              "TRUE"
            ],
            "text/markdown": "TRUE",
            "text/latex": "TRUE",
            "text/plain": [
              "[1] TRUE"
            ]
          },
          "metadata": {}
        }
      ]
    },
    {
      "cell_type": "code",
      "source": [],
      "metadata": {
        "id": "Hnebny8_T_44"
      },
      "execution_count": null,
      "outputs": []
    },
    {
      "cell_type": "markdown",
      "source": [
        "### 기초 통계 함수"
      ],
      "metadata": {
        "id": "DJtFN1NIUOY5"
      }
    },
    {
      "cell_type": "code",
      "source": [
        "x <-c(10,20,30,40,50)\n",
        "sum(x)\n",
        "mean(x)\n",
        "sd(x)\n",
        "var(x)"
      ],
      "metadata": {
        "colab": {
          "base_uri": "https://localhost:8080/",
          "height": 86
        },
        "id": "8_23Nv3dUR0h",
        "outputId": "7603e2a1-1f8d-466a-e58a-f44041dc9cbb"
      },
      "execution_count": null,
      "outputs": [
        {
          "output_type": "display_data",
          "data": {
            "text/html": [
              "150"
            ],
            "text/markdown": "150",
            "text/latex": "150",
            "text/plain": [
              "[1] 150"
            ]
          },
          "metadata": {}
        },
        {
          "output_type": "display_data",
          "data": {
            "text/html": [
              "30"
            ],
            "text/markdown": "30",
            "text/latex": "30",
            "text/plain": [
              "[1] 30"
            ]
          },
          "metadata": {}
        },
        {
          "output_type": "display_data",
          "data": {
            "text/html": [
              "15.8113883008419"
            ],
            "text/markdown": "15.8113883008419",
            "text/latex": "15.8113883008419",
            "text/plain": [
              "[1] 15.81139"
            ]
          },
          "metadata": {}
        },
        {
          "output_type": "display_data",
          "data": {
            "text/html": [
              "250"
            ],
            "text/markdown": "250",
            "text/latex": "250",
            "text/plain": [
              "[1] 250"
            ]
          },
          "metadata": {}
        }
      ]
    },
    {
      "cell_type": "markdown",
      "source": [
        "### 행렬"
      ],
      "metadata": {
        "id": "7B-F5wnzUd0O"
      }
    },
    {
      "cell_type": "code",
      "source": [
        "x <-c(1:20)\n",
        "x<-matrix(x,5,4)  # 벡터 x를 5 x 4 행렬로 변환\n",
        "x"
      ],
      "metadata": {
        "colab": {
          "base_uri": "https://localhost:8080/",
          "height": 208
        },
        "id": "gsHaKfqGUctx",
        "outputId": "5cd43d11-acaf-4a97-936a-56a4ca5e0086"
      },
      "execution_count": null,
      "outputs": [
        {
          "output_type": "display_data",
          "data": {
            "text/html": [
              "<table class=\"dataframe\">\n",
              "<caption>A matrix: 5 × 4 of type int</caption>\n",
              "<tbody>\n",
              "\t<tr><td>1</td><td> 6</td><td>11</td><td>16</td></tr>\n",
              "\t<tr><td>2</td><td> 7</td><td>12</td><td>17</td></tr>\n",
              "\t<tr><td>3</td><td> 8</td><td>13</td><td>18</td></tr>\n",
              "\t<tr><td>4</td><td> 9</td><td>14</td><td>19</td></tr>\n",
              "\t<tr><td>5</td><td>10</td><td>15</td><td>20</td></tr>\n",
              "</tbody>\n",
              "</table>\n"
            ],
            "text/markdown": "\nA matrix: 5 × 4 of type int\n\n| 1 |  6 | 11 | 16 |\n| 2 |  7 | 12 | 17 |\n| 3 |  8 | 13 | 18 |\n| 4 |  9 | 14 | 19 |\n| 5 | 10 | 15 | 20 |\n\n",
            "text/latex": "A matrix: 5 × 4 of type int\n\\begin{tabular}{llll}\n\t 1 &  6 & 11 & 16\\\\\n\t 2 &  7 & 12 & 17\\\\\n\t 3 &  8 & 13 & 18\\\\\n\t 4 &  9 & 14 & 19\\\\\n\t 5 & 10 & 15 & 20\\\\\n\\end{tabular}\n",
            "text/plain": [
              "     [,1] [,2] [,3] [,4]\n",
              "[1,] 1     6   11   16  \n",
              "[2,] 2     7   12   17  \n",
              "[3,] 3     8   13   18  \n",
              "[4,] 4     9   14   19  \n",
              "[5,] 5    10   15   20  "
            ]
          },
          "metadata": {}
        }
      ]
    },
    {
      "cell_type": "code",
      "source": [
        "x<-matrix(1:20,5,4)\n",
        "x[1,3]  # 1행 3열 "
      ],
      "metadata": {
        "colab": {
          "base_uri": "https://localhost:8080/",
          "height": 34
        },
        "id": "i87rltfOUtT5",
        "outputId": "fd7f1b09-7116-468e-9785-b9423d04c4b2"
      },
      "execution_count": null,
      "outputs": [
        {
          "output_type": "display_data",
          "data": {
            "text/html": [
              "11"
            ],
            "text/markdown": "11",
            "text/latex": "11",
            "text/plain": [
              "[1] 11"
            ]
          },
          "metadata": {}
        }
      ]
    },
    {
      "cell_type": "code",
      "source": [
        "x[2:4,3:4]  # 2~4행,3~4열 해당 데이터"
      ],
      "metadata": {
        "colab": {
          "base_uri": "https://localhost:8080/",
          "height": 163
        },
        "id": "Vo5YCQnHU4F8",
        "outputId": "f3ed0fb9-e4ec-49e5-9f54-bd2272352fa6"
      },
      "execution_count": null,
      "outputs": [
        {
          "output_type": "display_data",
          "data": {
            "text/html": [
              "<table class=\"dataframe\">\n",
              "<caption>A matrix: 3 × 2 of type int</caption>\n",
              "<tbody>\n",
              "\t<tr><td>12</td><td>17</td></tr>\n",
              "\t<tr><td>13</td><td>18</td></tr>\n",
              "\t<tr><td>14</td><td>19</td></tr>\n",
              "</tbody>\n",
              "</table>\n"
            ],
            "text/markdown": "\nA matrix: 3 × 2 of type int\n\n| 12 | 17 |\n| 13 | 18 |\n| 14 | 19 |\n\n",
            "text/latex": "A matrix: 3 × 2 of type int\n\\begin{tabular}{ll}\n\t 12 & 17\\\\\n\t 13 & 18\\\\\n\t 14 & 19\\\\\n\\end{tabular}\n",
            "text/plain": [
              "     [,1] [,2]\n",
              "[1,] 12   17  \n",
              "[2,] 13   18  \n",
              "[3,] 14   19  "
            ]
          },
          "metadata": {}
        }
      ]
    },
    {
      "cell_type": "code",
      "source": [
        "x[-3,]  # 3행을 제외한 나머지 데이터 "
      ],
      "metadata": {
        "colab": {
          "base_uri": "https://localhost:8080/",
          "height": 177
        },
        "id": "tai8hdKXU_UB",
        "outputId": "6cbd1584-0dde-4c67-9357-a2ff96af8e3d"
      },
      "execution_count": null,
      "outputs": [
        {
          "output_type": "display_data",
          "data": {
            "text/html": [
              "<table class=\"dataframe\">\n",
              "<caption>A matrix: 4 × 4 of type int</caption>\n",
              "<tbody>\n",
              "\t<tr><td>1</td><td> 6</td><td>11</td><td>16</td></tr>\n",
              "\t<tr><td>2</td><td> 7</td><td>12</td><td>17</td></tr>\n",
              "\t<tr><td>4</td><td> 9</td><td>14</td><td>19</td></tr>\n",
              "\t<tr><td>5</td><td>10</td><td>15</td><td>20</td></tr>\n",
              "</tbody>\n",
              "</table>\n"
            ],
            "text/markdown": "\nA matrix: 4 × 4 of type int\n\n| 1 |  6 | 11 | 16 |\n| 2 |  7 | 12 | 17 |\n| 4 |  9 | 14 | 19 |\n| 5 | 10 | 15 | 20 |\n\n",
            "text/latex": "A matrix: 4 × 4 of type int\n\\begin{tabular}{llll}\n\t 1 &  6 & 11 & 16\\\\\n\t 2 &  7 & 12 & 17\\\\\n\t 4 &  9 & 14 & 19\\\\\n\t 5 & 10 & 15 & 20\\\\\n\\end{tabular}\n",
            "text/plain": [
              "     [,1] [,2] [,3] [,4]\n",
              "[1,] 1     6   11   16  \n",
              "[2,] 2     7   12   17  \n",
              "[3,] 4     9   14   19  \n",
              "[4,] 5    10   15   20  "
            ]
          },
          "metadata": {}
        }
      ]
    },
    {
      "cell_type": "markdown",
      "source": [
        "## 데이터 프레임과 리스트\n",
        "\n",
        "### 데이터 프레임 \n",
        "- table 형태\n",
        "- 벡터들의 모임\n",
        "- 서로 다른 자료형 가질 수 있음\n"
      ],
      "metadata": {
        "id": "AiW0nq8hVgJN"
      }
    },
    {
      "cell_type": "code",
      "source": [
        "x1 <-c(\"01\",\"02\",\"03\",\"04\",\"05\")\n",
        "x2 <-c(\"사과\",\"배\",\"귤\",\"딸기\",\"바나나\")\n",
        "x3 <-c(100,200,100,300,200)\n",
        "x4 <-c(10,25,30,20,15)\n",
        "\n",
        "# 데이터프레임 생성과 출력\n",
        "df = data.frame(과일번호=x1, 과일명=x2, 가격=x3, 수량=x4)\n",
        "df"
      ],
      "metadata": {
        "colab": {
          "base_uri": "https://localhost:8080/",
          "height": 255
        },
        "id": "Q1KuEsciVIc1",
        "outputId": "246de178-aebe-41bd-94f3-8c415271d894"
      },
      "execution_count": null,
      "outputs": [
        {
          "output_type": "display_data",
          "data": {
            "text/html": [
              "<table class=\"dataframe\">\n",
              "<caption>A data.frame: 5 × 4</caption>\n",
              "<thead>\n",
              "\t<tr><th scope=col>과일번호</th><th scope=col>과일명</th><th scope=col>가격</th><th scope=col>수량</th></tr>\n",
              "\t<tr><th scope=col>&lt;chr&gt;</th><th scope=col>&lt;chr&gt;</th><th scope=col>&lt;dbl&gt;</th><th scope=col>&lt;dbl&gt;</th></tr>\n",
              "</thead>\n",
              "<tbody>\n",
              "\t<tr><td>01</td><td>사과  </td><td>100</td><td>10</td></tr>\n",
              "\t<tr><td>02</td><td>배    </td><td>200</td><td>25</td></tr>\n",
              "\t<tr><td>03</td><td>귤    </td><td>100</td><td>30</td></tr>\n",
              "\t<tr><td>04</td><td>딸기  </td><td>300</td><td>20</td></tr>\n",
              "\t<tr><td>05</td><td>바나나</td><td>200</td><td>15</td></tr>\n",
              "</tbody>\n",
              "</table>\n"
            ],
            "text/markdown": "\nA data.frame: 5 × 4\n\n| 과일번호 &lt;chr&gt; | 과일명 &lt;chr&gt; | 가격 &lt;dbl&gt; | 수량 &lt;dbl&gt; |\n|---|---|---|---|\n| 01 | 사과   | 100 | 10 |\n| 02 | 배     | 200 | 25 |\n| 03 | 귤     | 100 | 30 |\n| 04 | 딸기   | 300 | 20 |\n| 05 | 바나나 | 200 | 15 |\n\n",
            "text/latex": "A data.frame: 5 × 4\n\\begin{tabular}{llll}\n 과일번호 & 과일명 & 가격 & 수량\\\\\n <chr> & <chr> & <dbl> & <dbl>\\\\\n\\hline\n\t 01 & 사과   & 100 & 10\\\\\n\t 02 & 배     & 200 & 25\\\\\n\t 03 & 귤     & 100 & 30\\\\\n\t 04 & 딸기   & 300 & 20\\\\\n\t 05 & 바나나 & 200 & 15\\\\\n\\end{tabular}\n",
            "text/plain": [
              "  과일번호 과일명 가격 수량\n",
              "1 01       사과   100  10  \n",
              "2 02       배     200  25  \n",
              "3 03       귤     100  30  \n",
              "4 04       딸기   300  20  \n",
              "5 05       바나나 200  15  "
            ]
          },
          "metadata": {}
        }
      ]
    },
    {
      "cell_type": "code",
      "source": [
        "str(df)  # 구조 확인"
      ],
      "metadata": {
        "colab": {
          "base_uri": "https://localhost:8080/"
        },
        "id": "zd2uyn7EYgNg",
        "outputId": "90353734-529c-4869-8532-c10c680b362d"
      },
      "execution_count": null,
      "outputs": [
        {
          "output_type": "stream",
          "name": "stdout",
          "text": [
            "'data.frame':\t5 obs. of  4 variables:\n",
            " $ 과일번호: chr  \"01\" \"02\" \"03\" \"04\" ...\n",
            " $ 과일명  : chr  \"사과\" \"배\" \"귤\" \"딸기\" ...\n",
            " $ 가격    : num  100 200 100 300 200\n",
            " $ 수량    : num  10 25 30 20 15\n"
          ]
        }
      ]
    },
    {
      "cell_type": "code",
      "source": [
        "df[2,]\n"
      ],
      "metadata": {
        "colab": {
          "base_uri": "https://localhost:8080/",
          "height": 129
        },
        "id": "KhTiH8MBYiKG",
        "outputId": "d118177d-1358-4bd4-d99d-c3f7ee8764ed"
      },
      "execution_count": null,
      "outputs": [
        {
          "output_type": "display_data",
          "data": {
            "text/html": [
              "<table class=\"dataframe\">\n",
              "<caption>A data.frame: 1 × 4</caption>\n",
              "<thead>\n",
              "\t<tr><th></th><th scope=col>과일번호</th><th scope=col>과일명</th><th scope=col>가격</th><th scope=col>수량</th></tr>\n",
              "\t<tr><th></th><th scope=col>&lt;chr&gt;</th><th scope=col>&lt;chr&gt;</th><th scope=col>&lt;dbl&gt;</th><th scope=col>&lt;dbl&gt;</th></tr>\n",
              "</thead>\n",
              "<tbody>\n",
              "\t<tr><th scope=row>2</th><td>02</td><td>배</td><td>200</td><td>25</td></tr>\n",
              "</tbody>\n",
              "</table>\n"
            ],
            "text/markdown": "\nA data.frame: 1 × 4\n\n| <!--/--> | 과일번호 &lt;chr&gt; | 과일명 &lt;chr&gt; | 가격 &lt;dbl&gt; | 수량 &lt;dbl&gt; |\n|---|---|---|---|---|\n| 2 | 02 | 배 | 200 | 25 |\n\n",
            "text/latex": "A data.frame: 1 × 4\n\\begin{tabular}{r|llll}\n  & 과일번호 & 과일명 & 가격 & 수량\\\\\n  & <chr> & <chr> & <dbl> & <dbl>\\\\\n\\hline\n\t2 & 02 & 배 & 200 & 25\\\\\n\\end{tabular}\n",
            "text/plain": [
              "  과일번호 과일명 가격 수량\n",
              "2 02       배     200  25  "
            ]
          },
          "metadata": {}
        }
      ]
    },
    {
      "cell_type": "code",
      "source": [
        "df[,\"과일명\"]"
      ],
      "metadata": {
        "colab": {
          "base_uri": "https://localhost:8080/",
          "height": 34
        },
        "id": "GgTEdL1LYt6F",
        "outputId": "f797a4af-0a6a-4e32-9c42-33deb894431d"
      },
      "execution_count": null,
      "outputs": [
        {
          "output_type": "display_data",
          "data": {
            "text/html": [
              "<style>\n",
              ".list-inline {list-style: none; margin:0; padding: 0}\n",
              ".list-inline>li {display: inline-block}\n",
              ".list-inline>li:not(:last-child)::after {content: \"\\00b7\"; padding: 0 .5ex}\n",
              "</style>\n",
              "<ol class=list-inline><li>'사과'</li><li>'배'</li><li>'귤'</li><li>'딸기'</li><li>'바나나'</li></ol>\n"
            ],
            "text/markdown": "1. '사과'\n2. '배'\n3. '귤'\n4. '딸기'\n5. '바나나'\n\n\n",
            "text/latex": "\\begin{enumerate*}\n\\item '사과'\n\\item '배'\n\\item '귤'\n\\item '딸기'\n\\item '바나나'\n\\end{enumerate*}\n",
            "text/plain": [
              "[1] \"사과\"   \"배\"     \"귤\"     \"딸기\"   \"바나나\""
            ]
          },
          "metadata": {}
        }
      ]
    },
    {
      "cell_type": "code",
      "source": [
        "# 세로로 출력하려면 drop 사용\n",
        "df[,\"과일명\",drop=FALSE]"
      ],
      "metadata": {
        "colab": {
          "base_uri": "https://localhost:8080/",
          "height": 289
        },
        "id": "Rjake-D1Y1cC",
        "outputId": "e6751aa8-5611-400d-9c66-a2cc3aa43671"
      },
      "execution_count": null,
      "outputs": [
        {
          "output_type": "display_data",
          "data": {
            "text/html": [
              "<table class=\"dataframe\">\n",
              "<caption>A data.frame: 5 × 1</caption>\n",
              "<thead>\n",
              "\t<tr><th scope=col>과일명</th></tr>\n",
              "\t<tr><th scope=col>&lt;chr&gt;</th></tr>\n",
              "</thead>\n",
              "<tbody>\n",
              "\t<tr><td>사과  </td></tr>\n",
              "\t<tr><td>배    </td></tr>\n",
              "\t<tr><td>귤    </td></tr>\n",
              "\t<tr><td>딸기  </td></tr>\n",
              "\t<tr><td>바나나</td></tr>\n",
              "</tbody>\n",
              "</table>\n"
            ],
            "text/markdown": "\nA data.frame: 5 × 1\n\n| 과일명 &lt;chr&gt; |\n|---|\n| 사과   |\n| 배     |\n| 귤     |\n| 딸기   |\n| 바나나 |\n\n",
            "text/latex": "A data.frame: 5 × 1\n\\begin{tabular}{l}\n 과일명\\\\\n <chr>\\\\\n\\hline\n\t 사과  \\\\\n\t 배    \\\\\n\t 귤    \\\\\n\t 딸기  \\\\\n\t 바나나\\\\\n\\end{tabular}\n",
            "text/plain": [
              "  과일명\n",
              "1 사과  \n",
              "2 배    \n",
              "3 귤    \n",
              "4 딸기  \n",
              "5 바나나"
            ]
          },
          "metadata": {}
        }
      ]
    },
    {
      "cell_type": "code",
      "source": [
        "df$과일명  # df[,\"과일명\"] 과 동일"
      ],
      "metadata": {
        "colab": {
          "base_uri": "https://localhost:8080/",
          "height": 34
        },
        "id": "5YhFkbgcY_bA",
        "outputId": "65988ec0-6621-47cf-f35e-273b90652d74"
      },
      "execution_count": null,
      "outputs": [
        {
          "output_type": "display_data",
          "data": {
            "text/html": [
              "<style>\n",
              ".list-inline {list-style: none; margin:0; padding: 0}\n",
              ".list-inline>li {display: inline-block}\n",
              ".list-inline>li:not(:last-child)::after {content: \"\\00b7\"; padding: 0 .5ex}\n",
              "</style>\n",
              "<ol class=list-inline><li>10</li><li>25</li><li>30</li><li>20</li><li>15</li></ol>\n"
            ],
            "text/markdown": "1. 10\n2. 25\n3. 30\n4. 20\n5. 15\n\n\n",
            "text/latex": "\\begin{enumerate*}\n\\item 10\n\\item 25\n\\item 30\n\\item 20\n\\item 15\n\\end{enumerate*}\n",
            "text/plain": [
              "[1] 10 25 30 20 15"
            ]
          },
          "metadata": {}
        }
      ]
    },
    {
      "cell_type": "code",
      "source": [
        "# 다양한 데이터 선택 방법\n",
        "df[2,2]\n",
        "df[,2]\n",
        "df[2,]\n",
        "df[,\"과일명\"]\n",
        "df$`수량`\n",
        "df[c(1,3),]\n",
        "df[1:2,2:4]\n",
        "df[-3,]\n",
        "df[-2,-3]\n"
      ],
      "metadata": {
        "colab": {
          "base_uri": "https://localhost:8080/",
          "height": 898
        },
        "id": "ssyWf2WZZCN-",
        "outputId": "1e7c2d00-5c87-48c3-f0aa-ba45a86ab60e"
      },
      "execution_count": null,
      "outputs": [
        {
          "output_type": "display_data",
          "data": {
            "text/html": [
              "'배'"
            ],
            "text/markdown": "'배'",
            "text/latex": "'배'",
            "text/plain": [
              "[1] \"배\""
            ]
          },
          "metadata": {}
        },
        {
          "output_type": "display_data",
          "data": {
            "text/html": [
              "<style>\n",
              ".list-inline {list-style: none; margin:0; padding: 0}\n",
              ".list-inline>li {display: inline-block}\n",
              ".list-inline>li:not(:last-child)::after {content: \"\\00b7\"; padding: 0 .5ex}\n",
              "</style>\n",
              "<ol class=list-inline><li>'사과'</li><li>'배'</li><li>'귤'</li><li>'딸기'</li><li>'바나나'</li></ol>\n"
            ],
            "text/markdown": "1. '사과'\n2. '배'\n3. '귤'\n4. '딸기'\n5. '바나나'\n\n\n",
            "text/latex": "\\begin{enumerate*}\n\\item '사과'\n\\item '배'\n\\item '귤'\n\\item '딸기'\n\\item '바나나'\n\\end{enumerate*}\n",
            "text/plain": [
              "[1] \"사과\"   \"배\"     \"귤\"     \"딸기\"   \"바나나\""
            ]
          },
          "metadata": {}
        },
        {
          "output_type": "display_data",
          "data": {
            "text/html": [
              "<table class=\"dataframe\">\n",
              "<caption>A data.frame: 1 × 4</caption>\n",
              "<thead>\n",
              "\t<tr><th></th><th scope=col>과일번호</th><th scope=col>과일명</th><th scope=col>가격</th><th scope=col>수량</th></tr>\n",
              "\t<tr><th></th><th scope=col>&lt;chr&gt;</th><th scope=col>&lt;chr&gt;</th><th scope=col>&lt;dbl&gt;</th><th scope=col>&lt;dbl&gt;</th></tr>\n",
              "</thead>\n",
              "<tbody>\n",
              "\t<tr><th scope=row>2</th><td>02</td><td>배</td><td>200</td><td>25</td></tr>\n",
              "</tbody>\n",
              "</table>\n"
            ],
            "text/markdown": "\nA data.frame: 1 × 4\n\n| <!--/--> | 과일번호 &lt;chr&gt; | 과일명 &lt;chr&gt; | 가격 &lt;dbl&gt; | 수량 &lt;dbl&gt; |\n|---|---|---|---|---|\n| 2 | 02 | 배 | 200 | 25 |\n\n",
            "text/latex": "A data.frame: 1 × 4\n\\begin{tabular}{r|llll}\n  & 과일번호 & 과일명 & 가격 & 수량\\\\\n  & <chr> & <chr> & <dbl> & <dbl>\\\\\n\\hline\n\t2 & 02 & 배 & 200 & 25\\\\\n\\end{tabular}\n",
            "text/plain": [
              "  과일번호 과일명 가격 수량\n",
              "2 02       배     200  25  "
            ]
          },
          "metadata": {}
        },
        {
          "output_type": "display_data",
          "data": {
            "text/html": [
              "<style>\n",
              ".list-inline {list-style: none; margin:0; padding: 0}\n",
              ".list-inline>li {display: inline-block}\n",
              ".list-inline>li:not(:last-child)::after {content: \"\\00b7\"; padding: 0 .5ex}\n",
              "</style>\n",
              "<ol class=list-inline><li>'사과'</li><li>'배'</li><li>'귤'</li><li>'딸기'</li><li>'바나나'</li></ol>\n"
            ],
            "text/markdown": "1. '사과'\n2. '배'\n3. '귤'\n4. '딸기'\n5. '바나나'\n\n\n",
            "text/latex": "\\begin{enumerate*}\n\\item '사과'\n\\item '배'\n\\item '귤'\n\\item '딸기'\n\\item '바나나'\n\\end{enumerate*}\n",
            "text/plain": [
              "[1] \"사과\"   \"배\"     \"귤\"     \"딸기\"   \"바나나\""
            ]
          },
          "metadata": {}
        },
        {
          "output_type": "display_data",
          "data": {
            "text/html": [
              "<style>\n",
              ".list-inline {list-style: none; margin:0; padding: 0}\n",
              ".list-inline>li {display: inline-block}\n",
              ".list-inline>li:not(:last-child)::after {content: \"\\00b7\"; padding: 0 .5ex}\n",
              "</style>\n",
              "<ol class=list-inline><li>10</li><li>25</li><li>30</li><li>20</li><li>15</li></ol>\n"
            ],
            "text/markdown": "1. 10\n2. 25\n3. 30\n4. 20\n5. 15\n\n\n",
            "text/latex": "\\begin{enumerate*}\n\\item 10\n\\item 25\n\\item 30\n\\item 20\n\\item 15\n\\end{enumerate*}\n",
            "text/plain": [
              "[1] 10 25 30 20 15"
            ]
          },
          "metadata": {}
        },
        {
          "output_type": "display_data",
          "data": {
            "text/html": [
              "<table class=\"dataframe\">\n",
              "<caption>A data.frame: 2 × 4</caption>\n",
              "<thead>\n",
              "\t<tr><th></th><th scope=col>과일번호</th><th scope=col>과일명</th><th scope=col>가격</th><th scope=col>수량</th></tr>\n",
              "\t<tr><th></th><th scope=col>&lt;chr&gt;</th><th scope=col>&lt;chr&gt;</th><th scope=col>&lt;dbl&gt;</th><th scope=col>&lt;dbl&gt;</th></tr>\n",
              "</thead>\n",
              "<tbody>\n",
              "\t<tr><th scope=row>1</th><td>01</td><td>사과</td><td>100</td><td>10</td></tr>\n",
              "\t<tr><th scope=row>3</th><td>03</td><td>귤  </td><td>100</td><td>30</td></tr>\n",
              "</tbody>\n",
              "</table>\n"
            ],
            "text/markdown": "\nA data.frame: 2 × 4\n\n| <!--/--> | 과일번호 &lt;chr&gt; | 과일명 &lt;chr&gt; | 가격 &lt;dbl&gt; | 수량 &lt;dbl&gt; |\n|---|---|---|---|---|\n| 1 | 01 | 사과 | 100 | 10 |\n| 3 | 03 | 귤   | 100 | 30 |\n\n",
            "text/latex": "A data.frame: 2 × 4\n\\begin{tabular}{r|llll}\n  & 과일번호 & 과일명 & 가격 & 수량\\\\\n  & <chr> & <chr> & <dbl> & <dbl>\\\\\n\\hline\n\t1 & 01 & 사과 & 100 & 10\\\\\n\t3 & 03 & 귤   & 100 & 30\\\\\n\\end{tabular}\n",
            "text/plain": [
              "  과일번호 과일명 가격 수량\n",
              "1 01       사과   100  10  \n",
              "3 03       귤     100  30  "
            ]
          },
          "metadata": {}
        },
        {
          "output_type": "display_data",
          "data": {
            "text/html": [
              "<table class=\"dataframe\">\n",
              "<caption>A data.frame: 2 × 3</caption>\n",
              "<thead>\n",
              "\t<tr><th></th><th scope=col>과일명</th><th scope=col>가격</th><th scope=col>수량</th></tr>\n",
              "\t<tr><th></th><th scope=col>&lt;chr&gt;</th><th scope=col>&lt;dbl&gt;</th><th scope=col>&lt;dbl&gt;</th></tr>\n",
              "</thead>\n",
              "<tbody>\n",
              "\t<tr><th scope=row>1</th><td>사과</td><td>100</td><td>10</td></tr>\n",
              "\t<tr><th scope=row>2</th><td>배  </td><td>200</td><td>25</td></tr>\n",
              "</tbody>\n",
              "</table>\n"
            ],
            "text/markdown": "\nA data.frame: 2 × 3\n\n| <!--/--> | 과일명 &lt;chr&gt; | 가격 &lt;dbl&gt; | 수량 &lt;dbl&gt; |\n|---|---|---|---|\n| 1 | 사과 | 100 | 10 |\n| 2 | 배   | 200 | 25 |\n\n",
            "text/latex": "A data.frame: 2 × 3\n\\begin{tabular}{r|lll}\n  & 과일명 & 가격 & 수량\\\\\n  & <chr> & <dbl> & <dbl>\\\\\n\\hline\n\t1 & 사과 & 100 & 10\\\\\n\t2 & 배   & 200 & 25\\\\\n\\end{tabular}\n",
            "text/plain": [
              "  과일명 가격 수량\n",
              "1 사과   100  10  \n",
              "2 배     200  25  "
            ]
          },
          "metadata": {}
        },
        {
          "output_type": "display_data",
          "data": {
            "text/html": [
              "<table class=\"dataframe\">\n",
              "<caption>A data.frame: 4 × 4</caption>\n",
              "<thead>\n",
              "\t<tr><th></th><th scope=col>과일번호</th><th scope=col>과일명</th><th scope=col>가격</th><th scope=col>수량</th></tr>\n",
              "\t<tr><th></th><th scope=col>&lt;chr&gt;</th><th scope=col>&lt;chr&gt;</th><th scope=col>&lt;dbl&gt;</th><th scope=col>&lt;dbl&gt;</th></tr>\n",
              "</thead>\n",
              "<tbody>\n",
              "\t<tr><th scope=row>1</th><td>01</td><td>사과  </td><td>100</td><td>10</td></tr>\n",
              "\t<tr><th scope=row>2</th><td>02</td><td>배    </td><td>200</td><td>25</td></tr>\n",
              "\t<tr><th scope=row>4</th><td>04</td><td>딸기  </td><td>300</td><td>20</td></tr>\n",
              "\t<tr><th scope=row>5</th><td>05</td><td>바나나</td><td>200</td><td>15</td></tr>\n",
              "</tbody>\n",
              "</table>\n"
            ],
            "text/markdown": "\nA data.frame: 4 × 4\n\n| <!--/--> | 과일번호 &lt;chr&gt; | 과일명 &lt;chr&gt; | 가격 &lt;dbl&gt; | 수량 &lt;dbl&gt; |\n|---|---|---|---|---|\n| 1 | 01 | 사과   | 100 | 10 |\n| 2 | 02 | 배     | 200 | 25 |\n| 4 | 04 | 딸기   | 300 | 20 |\n| 5 | 05 | 바나나 | 200 | 15 |\n\n",
            "text/latex": "A data.frame: 4 × 4\n\\begin{tabular}{r|llll}\n  & 과일번호 & 과일명 & 가격 & 수량\\\\\n  & <chr> & <chr> & <dbl> & <dbl>\\\\\n\\hline\n\t1 & 01 & 사과   & 100 & 10\\\\\n\t2 & 02 & 배     & 200 & 25\\\\\n\t4 & 04 & 딸기   & 300 & 20\\\\\n\t5 & 05 & 바나나 & 200 & 15\\\\\n\\end{tabular}\n",
            "text/plain": [
              "  과일번호 과일명 가격 수량\n",
              "1 01       사과   100  10  \n",
              "2 02       배     200  25  \n",
              "4 04       딸기   300  20  \n",
              "5 05       바나나 200  15  "
            ]
          },
          "metadata": {}
        },
        {
          "output_type": "display_data",
          "data": {
            "text/html": [
              "<table class=\"dataframe\">\n",
              "<caption>A data.frame: 4 × 3</caption>\n",
              "<thead>\n",
              "\t<tr><th></th><th scope=col>과일번호</th><th scope=col>과일명</th><th scope=col>수량</th></tr>\n",
              "\t<tr><th></th><th scope=col>&lt;chr&gt;</th><th scope=col>&lt;chr&gt;</th><th scope=col>&lt;dbl&gt;</th></tr>\n",
              "</thead>\n",
              "<tbody>\n",
              "\t<tr><th scope=row>1</th><td>01</td><td>사과  </td><td>10</td></tr>\n",
              "\t<tr><th scope=row>3</th><td>03</td><td>귤    </td><td>30</td></tr>\n",
              "\t<tr><th scope=row>4</th><td>04</td><td>딸기  </td><td>20</td></tr>\n",
              "\t<tr><th scope=row>5</th><td>05</td><td>바나나</td><td>15</td></tr>\n",
              "</tbody>\n",
              "</table>\n"
            ],
            "text/markdown": "\nA data.frame: 4 × 3\n\n| <!--/--> | 과일번호 &lt;chr&gt; | 과일명 &lt;chr&gt; | 수량 &lt;dbl&gt; |\n|---|---|---|---|\n| 1 | 01 | 사과   | 10 |\n| 3 | 03 | 귤     | 30 |\n| 4 | 04 | 딸기   | 20 |\n| 5 | 05 | 바나나 | 15 |\n\n",
            "text/latex": "A data.frame: 4 × 3\n\\begin{tabular}{r|lll}\n  & 과일번호 & 과일명 & 수량\\\\\n  & <chr> & <chr> & <dbl>\\\\\n\\hline\n\t1 & 01 & 사과   & 10\\\\\n\t3 & 03 & 귤     & 30\\\\\n\t4 & 04 & 딸기   & 20\\\\\n\t5 & 05 & 바나나 & 15\\\\\n\\end{tabular}\n",
            "text/plain": [
              "  과일번호 과일명 수량\n",
              "1 01       사과   10  \n",
              "3 03       귤     30  \n",
              "4 04       딸기   20  \n",
              "5 05       바나나 15  "
            ]
          },
          "metadata": {}
        }
      ]
    },
    {
      "cell_type": "code",
      "source": [
        "head(df,n=2)\n",
        "tail(df,n=3)\n",
        "# 기본값은 6"
      ],
      "metadata": {
        "colab": {
          "base_uri": "https://localhost:8080/",
          "height": 335
        },
        "id": "afxl8YQSZZLP",
        "outputId": "3022f268-0eec-4e24-eca0-ae9739526296"
      },
      "execution_count": null,
      "outputs": [
        {
          "output_type": "display_data",
          "data": {
            "text/html": [
              "<table class=\"dataframe\">\n",
              "<caption>A data.frame: 2 × 4</caption>\n",
              "<thead>\n",
              "\t<tr><th></th><th scope=col>과일번호</th><th scope=col>과일명</th><th scope=col>가격</th><th scope=col>수량</th></tr>\n",
              "\t<tr><th></th><th scope=col>&lt;chr&gt;</th><th scope=col>&lt;chr&gt;</th><th scope=col>&lt;dbl&gt;</th><th scope=col>&lt;dbl&gt;</th></tr>\n",
              "</thead>\n",
              "<tbody>\n",
              "\t<tr><th scope=row>1</th><td>01</td><td>사과</td><td>100</td><td>10</td></tr>\n",
              "\t<tr><th scope=row>2</th><td>02</td><td>배  </td><td>200</td><td>25</td></tr>\n",
              "</tbody>\n",
              "</table>\n"
            ],
            "text/markdown": "\nA data.frame: 2 × 4\n\n| <!--/--> | 과일번호 &lt;chr&gt; | 과일명 &lt;chr&gt; | 가격 &lt;dbl&gt; | 수량 &lt;dbl&gt; |\n|---|---|---|---|---|\n| 1 | 01 | 사과 | 100 | 10 |\n| 2 | 02 | 배   | 200 | 25 |\n\n",
            "text/latex": "A data.frame: 2 × 4\n\\begin{tabular}{r|llll}\n  & 과일번호 & 과일명 & 가격 & 수량\\\\\n  & <chr> & <chr> & <dbl> & <dbl>\\\\\n\\hline\n\t1 & 01 & 사과 & 100 & 10\\\\\n\t2 & 02 & 배   & 200 & 25\\\\\n\\end{tabular}\n",
            "text/plain": [
              "  과일번호 과일명 가격 수량\n",
              "1 01       사과   100  10  \n",
              "2 02       배     200  25  "
            ]
          },
          "metadata": {}
        },
        {
          "output_type": "display_data",
          "data": {
            "text/html": [
              "<table class=\"dataframe\">\n",
              "<caption>A data.frame: 3 × 4</caption>\n",
              "<thead>\n",
              "\t<tr><th></th><th scope=col>과일번호</th><th scope=col>과일명</th><th scope=col>가격</th><th scope=col>수량</th></tr>\n",
              "\t<tr><th></th><th scope=col>&lt;chr&gt;</th><th scope=col>&lt;chr&gt;</th><th scope=col>&lt;dbl&gt;</th><th scope=col>&lt;dbl&gt;</th></tr>\n",
              "</thead>\n",
              "<tbody>\n",
              "\t<tr><th scope=row>3</th><td>03</td><td>귤    </td><td>100</td><td>30</td></tr>\n",
              "\t<tr><th scope=row>4</th><td>04</td><td>딸기  </td><td>300</td><td>20</td></tr>\n",
              "\t<tr><th scope=row>5</th><td>05</td><td>바나나</td><td>200</td><td>15</td></tr>\n",
              "</tbody>\n",
              "</table>\n"
            ],
            "text/markdown": "\nA data.frame: 3 × 4\n\n| <!--/--> | 과일번호 &lt;chr&gt; | 과일명 &lt;chr&gt; | 가격 &lt;dbl&gt; | 수량 &lt;dbl&gt; |\n|---|---|---|---|---|\n| 3 | 03 | 귤     | 100 | 30 |\n| 4 | 04 | 딸기   | 300 | 20 |\n| 5 | 05 | 바나나 | 200 | 15 |\n\n",
            "text/latex": "A data.frame: 3 × 4\n\\begin{tabular}{r|llll}\n  & 과일번호 & 과일명 & 가격 & 수량\\\\\n  & <chr> & <chr> & <dbl> & <dbl>\\\\\n\\hline\n\t3 & 03 & 귤     & 100 & 30\\\\\n\t4 & 04 & 딸기   & 300 & 20\\\\\n\t5 & 05 & 바나나 & 200 & 15\\\\\n\\end{tabular}\n",
            "text/plain": [
              "  과일번호 과일명 가격 수량\n",
              "3 03       귤     100  30  \n",
              "4 04       딸기   300  20  \n",
              "5 05       바나나 200  15  "
            ]
          },
          "metadata": {}
        }
      ]
    },
    {
      "cell_type": "code",
      "source": [
        "# 조건에 맞는 행 선택\n",
        "subset(df, 가격 >=150)"
      ],
      "metadata": {
        "colab": {
          "base_uri": "https://localhost:8080/",
          "height": 192
        },
        "id": "P-9bAxRhajcD",
        "outputId": "37d3ea04-f314-419c-f68a-7e921bb882bb"
      },
      "execution_count": null,
      "outputs": [
        {
          "output_type": "display_data",
          "data": {
            "text/html": [
              "<table class=\"dataframe\">\n",
              "<caption>A data.frame: 3 × 4</caption>\n",
              "<thead>\n",
              "\t<tr><th></th><th scope=col>과일번호</th><th scope=col>과일명</th><th scope=col>가격</th><th scope=col>수량</th></tr>\n",
              "\t<tr><th></th><th scope=col>&lt;chr&gt;</th><th scope=col>&lt;chr&gt;</th><th scope=col>&lt;dbl&gt;</th><th scope=col>&lt;dbl&gt;</th></tr>\n",
              "</thead>\n",
              "<tbody>\n",
              "\t<tr><th scope=row>2</th><td>02</td><td>배    </td><td>200</td><td>25</td></tr>\n",
              "\t<tr><th scope=row>4</th><td>04</td><td>딸기  </td><td>300</td><td>20</td></tr>\n",
              "\t<tr><th scope=row>5</th><td>05</td><td>바나나</td><td>200</td><td>15</td></tr>\n",
              "</tbody>\n",
              "</table>\n"
            ],
            "text/markdown": "\nA data.frame: 3 × 4\n\n| <!--/--> | 과일번호 &lt;chr&gt; | 과일명 &lt;chr&gt; | 가격 &lt;dbl&gt; | 수량 &lt;dbl&gt; |\n|---|---|---|---|---|\n| 2 | 02 | 배     | 200 | 25 |\n| 4 | 04 | 딸기   | 300 | 20 |\n| 5 | 05 | 바나나 | 200 | 15 |\n\n",
            "text/latex": "A data.frame: 3 × 4\n\\begin{tabular}{r|llll}\n  & 과일번호 & 과일명 & 가격 & 수량\\\\\n  & <chr> & <chr> & <dbl> & <dbl>\\\\\n\\hline\n\t2 & 02 & 배     & 200 & 25\\\\\n\t4 & 04 & 딸기   & 300 & 20\\\\\n\t5 & 05 & 바나나 & 200 & 15\\\\\n\\end{tabular}\n",
            "text/plain": [
              "  과일번호 과일명 가격 수량\n",
              "2 02       배     200  25  \n",
              "4 04       딸기   300  20  \n",
              "5 05       바나나 200  15  "
            ]
          },
          "metadata": {}
        }
      ]
    },
    {
      "cell_type": "code",
      "source": [
        "subset(df, 가격 >=150, select = c(\"과일명\",\"과일번호\"))"
      ],
      "metadata": {
        "colab": {
          "base_uri": "https://localhost:8080/",
          "height": 192
        },
        "id": "rI8U3HM1aoLO",
        "outputId": "baf2155d-7444-4df6-ca57-4f287daef0c6"
      },
      "execution_count": null,
      "outputs": [
        {
          "output_type": "display_data",
          "data": {
            "text/html": [
              "<table class=\"dataframe\">\n",
              "<caption>A data.frame: 3 × 2</caption>\n",
              "<thead>\n",
              "\t<tr><th></th><th scope=col>과일명</th><th scope=col>과일번호</th></tr>\n",
              "\t<tr><th></th><th scope=col>&lt;chr&gt;</th><th scope=col>&lt;chr&gt;</th></tr>\n",
              "</thead>\n",
              "<tbody>\n",
              "\t<tr><th scope=row>2</th><td>배    </td><td>02</td></tr>\n",
              "\t<tr><th scope=row>4</th><td>딸기  </td><td>04</td></tr>\n",
              "\t<tr><th scope=row>5</th><td>바나나</td><td>05</td></tr>\n",
              "</tbody>\n",
              "</table>\n"
            ],
            "text/markdown": "\nA data.frame: 3 × 2\n\n| <!--/--> | 과일명 &lt;chr&gt; | 과일번호 &lt;chr&gt; |\n|---|---|---|\n| 2 | 배     | 02 |\n| 4 | 딸기   | 04 |\n| 5 | 바나나 | 05 |\n\n",
            "text/latex": "A data.frame: 3 × 2\n\\begin{tabular}{r|ll}\n  & 과일명 & 과일번호\\\\\n  & <chr> & <chr>\\\\\n\\hline\n\t2 & 배     & 02\\\\\n\t4 & 딸기   & 04\\\\\n\t5 & 바나나 & 05\\\\\n\\end{tabular}\n",
            "text/plain": [
              "  과일명 과일번호\n",
              "2 배     02      \n",
              "4 딸기   04      \n",
              "5 바나나 05      "
            ]
          },
          "metadata": {}
        }
      ]
    },
    {
      "cell_type": "code",
      "source": [
        "# 행,열 결합\n",
        "df1<-head(df,n=2)\n",
        "df2<-tail(df,n=2)\n",
        "rbind(df1,df2)"
      ],
      "metadata": {
        "colab": {
          "base_uri": "https://localhost:8080/",
          "height": 223
        },
        "id": "km3uPhU-ayaL",
        "outputId": "9e2cbe3b-eb68-4fa3-fa3b-2f088ee12dc0"
      },
      "execution_count": null,
      "outputs": [
        {
          "output_type": "display_data",
          "data": {
            "text/html": [
              "<table class=\"dataframe\">\n",
              "<caption>A data.frame: 4 × 4</caption>\n",
              "<thead>\n",
              "\t<tr><th></th><th scope=col>과일번호</th><th scope=col>과일명</th><th scope=col>가격</th><th scope=col>수량</th></tr>\n",
              "\t<tr><th></th><th scope=col>&lt;chr&gt;</th><th scope=col>&lt;chr&gt;</th><th scope=col>&lt;dbl&gt;</th><th scope=col>&lt;dbl&gt;</th></tr>\n",
              "</thead>\n",
              "<tbody>\n",
              "\t<tr><th scope=row>1</th><td>01</td><td>사과  </td><td>100</td><td>10</td></tr>\n",
              "\t<tr><th scope=row>2</th><td>02</td><td>배    </td><td>200</td><td>25</td></tr>\n",
              "\t<tr><th scope=row>4</th><td>04</td><td>딸기  </td><td>300</td><td>20</td></tr>\n",
              "\t<tr><th scope=row>5</th><td>05</td><td>바나나</td><td>200</td><td>15</td></tr>\n",
              "</tbody>\n",
              "</table>\n"
            ],
            "text/markdown": "\nA data.frame: 4 × 4\n\n| <!--/--> | 과일번호 &lt;chr&gt; | 과일명 &lt;chr&gt; | 가격 &lt;dbl&gt; | 수량 &lt;dbl&gt; |\n|---|---|---|---|---|\n| 1 | 01 | 사과   | 100 | 10 |\n| 2 | 02 | 배     | 200 | 25 |\n| 4 | 04 | 딸기   | 300 | 20 |\n| 5 | 05 | 바나나 | 200 | 15 |\n\n",
            "text/latex": "A data.frame: 4 × 4\n\\begin{tabular}{r|llll}\n  & 과일번호 & 과일명 & 가격 & 수량\\\\\n  & <chr> & <chr> & <dbl> & <dbl>\\\\\n\\hline\n\t1 & 01 & 사과   & 100 & 10\\\\\n\t2 & 02 & 배     & 200 & 25\\\\\n\t4 & 04 & 딸기   & 300 & 20\\\\\n\t5 & 05 & 바나나 & 200 & 15\\\\\n\\end{tabular}\n",
            "text/plain": [
              "  과일번호 과일명 가격 수량\n",
              "1 01       사과   100  10  \n",
              "2 02       배     200  25  \n",
              "4 04       딸기   300  20  \n",
              "5 05       바나나 200  15  "
            ]
          },
          "metadata": {}
        }
      ]
    },
    {
      "cell_type": "code",
      "source": [
        "cbind(df1,df2)"
      ],
      "metadata": {
        "colab": {
          "base_uri": "https://localhost:8080/",
          "height": 161
        },
        "id": "_8FvuP-fa7h2",
        "outputId": "c0c035c7-45b9-45bf-ec65-af304112039a"
      },
      "execution_count": null,
      "outputs": [
        {
          "output_type": "display_data",
          "data": {
            "text/html": [
              "<table class=\"dataframe\">\n",
              "<caption>A data.frame: 2 × 8</caption>\n",
              "<thead>\n",
              "\t<tr><th></th><th scope=col>과일번호</th><th scope=col>과일명</th><th scope=col>가격</th><th scope=col>수량</th><th scope=col>과일번호</th><th scope=col>과일명</th><th scope=col>가격</th><th scope=col>수량</th></tr>\n",
              "\t<tr><th></th><th scope=col>&lt;chr&gt;</th><th scope=col>&lt;chr&gt;</th><th scope=col>&lt;dbl&gt;</th><th scope=col>&lt;dbl&gt;</th><th scope=col>&lt;chr&gt;</th><th scope=col>&lt;chr&gt;</th><th scope=col>&lt;dbl&gt;</th><th scope=col>&lt;dbl&gt;</th></tr>\n",
              "</thead>\n",
              "<tbody>\n",
              "\t<tr><th scope=row>1</th><td>01</td><td>사과</td><td>100</td><td>10</td><td>04</td><td>딸기  </td><td>300</td><td>20</td></tr>\n",
              "\t<tr><th scope=row>2</th><td>02</td><td>배  </td><td>200</td><td>25</td><td>05</td><td>바나나</td><td>200</td><td>15</td></tr>\n",
              "</tbody>\n",
              "</table>\n"
            ],
            "text/markdown": "\nA data.frame: 2 × 8\n\n| <!--/--> | 과일번호 &lt;chr&gt; | 과일명 &lt;chr&gt; | 가격 &lt;dbl&gt; | 수량 &lt;dbl&gt; | 과일번호 &lt;chr&gt; | 과일명 &lt;chr&gt; | 가격 &lt;dbl&gt; | 수량 &lt;dbl&gt; |\n|---|---|---|---|---|---|---|---|---|\n| 1 | 01 | 사과 | 100 | 10 | 04 | 딸기   | 300 | 20 |\n| 2 | 02 | 배   | 200 | 25 | 05 | 바나나 | 200 | 15 |\n\n",
            "text/latex": "A data.frame: 2 × 8\n\\begin{tabular}{r|llllllll}\n  & 과일번호 & 과일명 & 가격 & 수량 & 과일번호 & 과일명 & 가격 & 수량\\\\\n  & <chr> & <chr> & <dbl> & <dbl> & <chr> & <chr> & <dbl> & <dbl>\\\\\n\\hline\n\t1 & 01 & 사과 & 100 & 10 & 04 & 딸기   & 300 & 20\\\\\n\t2 & 02 & 배   & 200 & 25 & 05 & 바나나 & 200 & 15\\\\\n\\end{tabular}\n",
            "text/plain": [
              "  과일번호 과일명 가격 수량 과일번호 과일명 가격 수량\n",
              "1 01       사과   100  10   04       딸기   300  20  \n",
              "2 02       배     200  25   05       바나나 200  15  "
            ]
          },
          "metadata": {}
        }
      ]
    },
    {
      "cell_type": "markdown",
      "source": [
        "##  리스트\n",
        "- (키,값) 형태"
      ],
      "metadata": {
        "id": "pWsPquvDbB1e"
      }
    },
    {
      "cell_type": "code",
      "source": [
        "x <- c(\"사과\",\"배\",\"귤\",\"바나나\",\"딸기\")\n",
        "y1 <-c(10,20,30,40,50)\n",
        "y2 <-c(10,20,30,40,50)\n",
        "df = data.frame(y1,y2)\n",
        "\n",
        "lst1 <-list(x,df)\n",
        "lst1"
      ],
      "metadata": {
        "id": "sysu8_CPbARu",
        "colab": {
          "base_uri": "https://localhost:8080/",
          "height": 317
        },
        "outputId": "53477541-2a36-46e6-f993-512ddf0caaee"
      },
      "execution_count": null,
      "outputs": [
        {
          "output_type": "display_data",
          "data": {
            "text/html": [
              "<ol>\n",
              "\t<li><style>\n",
              ".list-inline {list-style: none; margin:0; padding: 0}\n",
              ".list-inline>li {display: inline-block}\n",
              ".list-inline>li:not(:last-child)::after {content: \"\\00b7\"; padding: 0 .5ex}\n",
              "</style>\n",
              "<ol class=list-inline><li>'사과'</li><li>'배'</li><li>'귤'</li><li>'바나나'</li><li>'딸기'</li></ol>\n",
              "</li>\n",
              "\t<li><table class=\"dataframe\">\n",
              "<caption>A data.frame: 5 × 2</caption>\n",
              "<thead>\n",
              "\t<tr><th scope=col>y1</th><th scope=col>y2</th></tr>\n",
              "\t<tr><th scope=col>&lt;dbl&gt;</th><th scope=col>&lt;dbl&gt;</th></tr>\n",
              "</thead>\n",
              "<tbody>\n",
              "\t<tr><td>10</td><td>10</td></tr>\n",
              "\t<tr><td>20</td><td>20</td></tr>\n",
              "\t<tr><td>30</td><td>30</td></tr>\n",
              "\t<tr><td>40</td><td>40</td></tr>\n",
              "\t<tr><td>50</td><td>50</td></tr>\n",
              "</tbody>\n",
              "</table>\n",
              "</li>\n",
              "</ol>\n"
            ],
            "text/markdown": "1. 1. '사과'\n2. '배'\n3. '귤'\n4. '바나나'\n5. '딸기'\n\n\n\n2. \nA data.frame: 5 × 2\n\n| y1 &lt;dbl&gt; | y2 &lt;dbl&gt; |\n|---|---|\n| 10 | 10 |\n| 20 | 20 |\n| 30 | 30 |\n| 40 | 40 |\n| 50 | 50 |\n\n\n\n\n",
            "text/latex": "\\begin{enumerate}\n\\item \\begin{enumerate*}\n\\item '사과'\n\\item '배'\n\\item '귤'\n\\item '바나나'\n\\item '딸기'\n\\end{enumerate*}\n\n\\item A data.frame: 5 × 2\n\\begin{tabular}{ll}\n y1 & y2\\\\\n <dbl> & <dbl>\\\\\n\\hline\n\t 10 & 10\\\\\n\t 20 & 20\\\\\n\t 30 & 30\\\\\n\t 40 & 40\\\\\n\t 50 & 50\\\\\n\\end{tabular}\n\n\\end{enumerate}\n",
            "text/plain": [
              "[[1]]\n",
              "[1] \"사과\"   \"배\"     \"귤\"     \"바나나\" \"딸기\"  \n",
              "\n",
              "[[2]]\n",
              "  y1 y2\n",
              "1 10 10\n",
              "2 20 20\n",
              "3 30 30\n",
              "4 40 40\n",
              "5 50 50\n"
            ]
          },
          "metadata": {}
        }
      ]
    },
    {
      "cell_type": "code",
      "source": [
        "x <- c(\"사과\",\"배\",\"귤\",\"바나나\",\"딸기\")\n",
        "y <- c(10:20)\n",
        "\n",
        "lst1<-list(\"과일\"=x,\"숫자\"=y)\n",
        "lst1[1]\n",
        "lst1$숫자"
      ],
      "metadata": {
        "colab": {
          "base_uri": "https://localhost:8080/",
          "height": 69
        },
        "id": "S2d3VpX6zrJ3",
        "outputId": "8c3e1e8f-e72d-464f-cb66-54b1602f11d6"
      },
      "execution_count": null,
      "outputs": [
        {
          "output_type": "display_data",
          "data": {
            "text/html": [
              "<strong>$과일</strong> = <style>\n",
              ".list-inline {list-style: none; margin:0; padding: 0}\n",
              ".list-inline>li {display: inline-block}\n",
              ".list-inline>li:not(:last-child)::after {content: \"\\00b7\"; padding: 0 .5ex}\n",
              "</style>\n",
              "<ol class=list-inline><li>'사과'</li><li>'배'</li><li>'귤'</li><li>'바나나'</li><li>'딸기'</li></ol>\n"
            ],
            "text/markdown": "**$과일** = 1. '사과'\n2. '배'\n3. '귤'\n4. '바나나'\n5. '딸기'\n\n\n",
            "text/latex": "\\textbf{\\$과일} = \\begin{enumerate*}\n\\item '사과'\n\\item '배'\n\\item '귤'\n\\item '바나나'\n\\item '딸기'\n\\end{enumerate*}\n",
            "text/plain": [
              "$과일\n",
              "[1] \"사과\"   \"배\"     \"귤\"     \"바나나\" \"딸기\"  \n"
            ]
          },
          "metadata": {}
        },
        {
          "output_type": "display_data",
          "data": {
            "text/html": [
              "<style>\n",
              ".list-inline {list-style: none; margin:0; padding: 0}\n",
              ".list-inline>li {display: inline-block}\n",
              ".list-inline>li:not(:last-child)::after {content: \"\\00b7\"; padding: 0 .5ex}\n",
              "</style>\n",
              "<ol class=list-inline><li>10</li><li>11</li><li>12</li><li>13</li><li>14</li><li>15</li><li>16</li><li>17</li><li>18</li><li>19</li><li>20</li></ol>\n"
            ],
            "text/markdown": "1. 10\n2. 11\n3. 12\n4. 13\n5. 14\n6. 15\n7. 16\n8. 17\n9. 18\n10. 19\n11. 20\n\n\n",
            "text/latex": "\\begin{enumerate*}\n\\item 10\n\\item 11\n\\item 12\n\\item 13\n\\item 14\n\\item 15\n\\item 16\n\\item 17\n\\item 18\n\\item 19\n\\item 20\n\\end{enumerate*}\n",
            "text/plain": [
              " [1] 10 11 12 13 14 15 16 17 18 19 20"
            ]
          },
          "metadata": {}
        }
      ]
    },
    {
      "cell_type": "markdown",
      "source": [
        "# 조건문과 반복문\n"
      ],
      "metadata": {
        "id": "dQHJdYwY0lNq"
      }
    },
    {
      "cell_type": "markdown",
      "source": [
        "## 1) 조건문"
      ],
      "metadata": {
        "id": "o_Wl3_iQ0pWX"
      }
    },
    {
      "cell_type": "code",
      "source": [
        "# if\n",
        "a <-10\n",
        "if (a>0){\n",
        "  print(\"a는 양의 정수입니다.\")\n",
        "}"
      ],
      "metadata": {
        "colab": {
          "base_uri": "https://localhost:8080/"
        },
        "id": "HjIUeuYZtHQL",
        "outputId": "82ae7c95-9e5c-47d8-ddf4-cc66e128fb40"
      },
      "execution_count": null,
      "outputs": [
        {
          "output_type": "stream",
          "name": "stdout",
          "text": [
            "[1] \"a는 양의 정수입니다.\"\n"
          ]
        }
      ]
    },
    {
      "cell_type": "code",
      "source": [
        "# if~ else\n",
        "a <- -10\n",
        "if (a>=0){\n",
        "  print(\"a는 0보다 크거나 같습니다.\")\n",
        "} else {\n",
        "  print(\"a는 0보다 작습니다.\")\n",
        "}"
      ],
      "metadata": {
        "colab": {
          "base_uri": "https://localhost:8080/"
        },
        "id": "05Tzv24KtQsx",
        "outputId": "d319cbe8-c794-4b8f-e9e7-857283009c75"
      },
      "execution_count": null,
      "outputs": [
        {
          "output_type": "stream",
          "name": "stdout",
          "text": [
            "[1] \"a는 0보다 작습니다.\"\n"
          ]
        }
      ]
    },
    {
      "cell_type": "code",
      "source": [
        "# ifelse\n",
        "\n",
        "x <-c(10,20,30,40,50)\n",
        "ifelse(x>=30,\"30이상\",\"30미만\")"
      ],
      "metadata": {
        "colab": {
          "base_uri": "https://localhost:8080/",
          "height": 34
        },
        "id": "QCoQJg2mtkKt",
        "outputId": "5400fdf2-89d3-4c8c-f94d-c8c6371b39ef"
      },
      "execution_count": null,
      "outputs": [
        {
          "output_type": "display_data",
          "data": {
            "text/html": [
              "<style>\n",
              ".list-inline {list-style: none; margin:0; padding: 0}\n",
              ".list-inline>li {display: inline-block}\n",
              ".list-inline>li:not(:last-child)::after {content: \"\\00b7\"; padding: 0 .5ex}\n",
              "</style>\n",
              "<ol class=list-inline><li>'30미만'</li><li>'30미만'</li><li>'30이상'</li><li>'30이상'</li><li>'30이상'</li></ol>\n"
            ],
            "text/markdown": "1. '30미만'\n2. '30미만'\n3. '30이상'\n4. '30이상'\n5. '30이상'\n\n\n",
            "text/latex": "\\begin{enumerate*}\n\\item '30미만'\n\\item '30미만'\n\\item '30이상'\n\\item '30이상'\n\\item '30이상'\n\\end{enumerate*}\n",
            "text/plain": [
              "[1] \"30미만\" \"30미만\" \"30이상\" \"30이상\" \"30이상\""
            ]
          },
          "metadata": {}
        }
      ]
    },
    {
      "cell_type": "markdown",
      "source": [
        "## 2) 반복문"
      ],
      "metadata": {
        "id": "xnhqLGGTtvbr"
      }
    },
    {
      "cell_type": "code",
      "source": [
        "for (i in 1:4){\n",
        "  print(i)\n",
        "}"
      ],
      "metadata": {
        "colab": {
          "base_uri": "https://localhost:8080/"
        },
        "id": "SAW1ZkRRtuBw",
        "outputId": "d076bfb9-591d-4ea8-b2f6-39a9b2f8a0ae"
      },
      "execution_count": null,
      "outputs": [
        {
          "output_type": "stream",
          "name": "stdout",
          "text": [
            "[1] 1\n",
            "[1] 2\n",
            "[1] 3\n",
            "[1] 4\n"
          ]
        }
      ]
    },
    {
      "cell_type": "code",
      "source": [
        "x = c(\"a\",\"b\",\"c\",\"d\",\"e\")\n",
        "for (i in x){\n",
        "  print(i)\n",
        "}"
      ],
      "metadata": {
        "colab": {
          "base_uri": "https://localhost:8080/"
        },
        "id": "_ZNxObcUt1Xf",
        "outputId": "bb190915-4138-4be8-a79a-81a2f47fa83a"
      },
      "execution_count": null,
      "outputs": [
        {
          "output_type": "stream",
          "name": "stdout",
          "text": [
            "[1] \"a\"\n",
            "[1] \"b\"\n",
            "[1] \"c\"\n",
            "[1] \"d\"\n",
            "[1] \"e\"\n"
          ]
        }
      ]
    },
    {
      "cell_type": "code",
      "source": [
        "# 구구단 출력\n",
        "\n",
        "for (i in 2:9){\n",
        "  for (j in 1:9){\n",
        "    cat(i, \"*\", j, \"=\", i*j, \" \" )\n",
        "  }\n",
        "  cat(\"\\n\") # 줄바꿈\n",
        "}"
      ],
      "metadata": {
        "colab": {
          "base_uri": "https://localhost:8080/"
        },
        "id": "zsiPrX3_t9bc",
        "outputId": "a0e39908-e421-475c-fc40-d582f55aeb12"
      },
      "execution_count": null,
      "outputs": [
        {
          "output_type": "stream",
          "name": "stdout",
          "text": [
            "2 * 1 = 2  2 * 2 = 4  2 * 3 = 6  2 * 4 = 8  2 * 5 = 10  2 * 6 = 12  2 * 7 = 14  2 * 8 = 16  2 * 9 = 18  \n",
            "3 * 1 = 3  3 * 2 = 6  3 * 3 = 9  3 * 4 = 12  3 * 5 = 15  3 * 6 = 18  3 * 7 = 21  3 * 8 = 24  3 * 9 = 27  \n",
            "4 * 1 = 4  4 * 2 = 8  4 * 3 = 12  4 * 4 = 16  4 * 5 = 20  4 * 6 = 24  4 * 7 = 28  4 * 8 = 32  4 * 9 = 36  \n",
            "5 * 1 = 5  5 * 2 = 10  5 * 3 = 15  5 * 4 = 20  5 * 5 = 25  5 * 6 = 30  5 * 7 = 35  5 * 8 = 40  5 * 9 = 45  \n",
            "6 * 1 = 6  6 * 2 = 12  6 * 3 = 18  6 * 4 = 24  6 * 5 = 30  6 * 6 = 36  6 * 7 = 42  6 * 8 = 48  6 * 9 = 54  \n",
            "7 * 1 = 7  7 * 2 = 14  7 * 3 = 21  7 * 4 = 28  7 * 5 = 35  7 * 6 = 42  7 * 7 = 49  7 * 8 = 56  7 * 9 = 63  \n",
            "8 * 1 = 8  8 * 2 = 16  8 * 3 = 24  8 * 4 = 32  8 * 5 = 40  8 * 6 = 48  8 * 7 = 56  8 * 8 = 64  8 * 9 = 72  \n",
            "9 * 1 = 9  9 * 2 = 18  9 * 3 = 27  9 * 4 = 36  9 * 5 = 45  9 * 6 = 54  9 * 7 = 63  9 * 8 = 72  9 * 9 = 81  \n"
          ]
        }
      ]
    },
    {
      "cell_type": "code",
      "source": [
        "# while 형식\n",
        "\n",
        "i <- 1\n",
        "while (i<=4) {\n",
        "  print(i)\n",
        "  i = i + 1\n",
        "}"
      ],
      "metadata": {
        "colab": {
          "base_uri": "https://localhost:8080/"
        },
        "id": "nGPpw7hVuf9O",
        "outputId": "caa81c5b-b54c-422b-ebbb-6299e89673c8"
      },
      "execution_count": null,
      "outputs": [
        {
          "output_type": "stream",
          "name": "stdout",
          "text": [
            "[1] 1\n",
            "[1] 2\n",
            "[1] 3\n",
            "[1] 4\n"
          ]
        }
      ]
    },
    {
      "cell_type": "code",
      "source": [
        "sum <- 0\n",
        "i <- 1\n",
        "\n",
        "while (i <=10) {\n",
        "  sum = sum + i\n",
        "  i = i + 1\n",
        "}\n",
        "print(sum)"
      ],
      "metadata": {
        "colab": {
          "base_uri": "https://localhost:8080/"
        },
        "id": "SjTX4myRuyWQ",
        "outputId": "2cdfeaf3-355d-4bb6-df67-612a108366f6"
      },
      "execution_count": null,
      "outputs": [
        {
          "output_type": "stream",
          "name": "stdout",
          "text": [
            "[1] 55\n"
          ]
        }
      ]
    },
    {
      "cell_type": "markdown",
      "source": [
        "## 평균점수 계산\n",
        "\n",
        "\n",
        "1.   for\n",
        "2.   while\n",
        "\n"
      ],
      "metadata": {
        "id": "Mfw78SrBvQAz"
      }
    },
    {
      "cell_type": "code",
      "source": [
        "x <- c(70,60,95,55,80,70,85,47,83,78)\n",
        "sum = 0 \n",
        "avg = 0\n",
        "\n",
        "for (i in 1:10){\n",
        "  sum = sum + x[i]\n",
        "  i = i + 1\n",
        "}\n",
        "avg = sum/10\n",
        "cat(\"평균은\",avg,\"입니다.\")"
      ],
      "metadata": {
        "colab": {
          "base_uri": "https://localhost:8080/"
        },
        "id": "9B-rDGEqu9V9",
        "outputId": "628d214a-26d7-4c37-8caf-7b6833ada09d"
      },
      "execution_count": null,
      "outputs": [
        {
          "output_type": "stream",
          "name": "stdout",
          "text": [
            "평균은 72.3 입니다."
          ]
        }
      ]
    },
    {
      "cell_type": "code",
      "source": [
        "x <- c(70,60,95,55,80,70,85,47,83,78)\n",
        "sum = 0 \n",
        "avg = 0\n",
        "\n",
        "i <-1\n",
        "while (i <=10){\n",
        "  sum = sum + x[i]\n",
        "  i = i + 1\n",
        "}\n",
        "avg = sum/10\n",
        "cat(\"평균은\",avg,\"입니다.\")"
      ],
      "metadata": {
        "colab": {
          "base_uri": "https://localhost:8080/"
        },
        "id": "6ai4Y6nEv3fx",
        "outputId": "969936bd-9941-468c-9899-9f680bf4bafa"
      },
      "execution_count": null,
      "outputs": [
        {
          "output_type": "stream",
          "name": "stdout",
          "text": [
            "평균은 72.3 입니다."
          ]
        }
      ]
    },
    {
      "cell_type": "markdown",
      "source": [
        "# 함수와 라이브러리\n",
        "1) 함수\n",
        "function() 함수 사용하여 정의, 매개변수 존재."
      ],
      "metadata": {
        "id": "iU-fd4_7yNb6"
      }
    },
    {
      "cell_type": "code",
      "source": [
        "sum <- function(x,y){\n",
        "  return(x + y)\n",
        "}"
      ],
      "metadata": {
        "id": "Nc2hBEEBwKS4"
      },
      "execution_count": null,
      "outputs": []
    },
    {
      "cell_type": "code",
      "source": [
        "f1 <- function(x){\n",
        "  if (x %/% 2 == 0){\n",
        "      return(\"짝수\")\n",
        "  }else{\n",
        "      return(\"홀수\")\n",
        "  }\n",
        "}\n",
        "f1(12)"
      ],
      "metadata": {
        "colab": {
          "base_uri": "https://localhost:8080/",
          "height": 34
        },
        "id": "tSzk6ktXyaV8",
        "outputId": "99c71f17-6b70-47f8-cc87-6799b7fbfadf"
      },
      "execution_count": null,
      "outputs": [
        {
          "output_type": "display_data",
          "data": {
            "text/html": [
              "'홀수'"
            ],
            "text/markdown": "'홀수'",
            "text/latex": "'홀수'",
            "text/plain": [
              "[1] \"홀수\""
            ]
          },
          "metadata": {}
        }
      ]
    },
    {
      "cell_type": "code",
      "source": [
        "f2 <- function(x,y){\n",
        "  return(x*y)\n",
        "}\n",
        "f2(2,8)"
      ],
      "metadata": {
        "colab": {
          "base_uri": "https://localhost:8080/",
          "height": 34
        },
        "id": "M7A9DW5Byy93",
        "outputId": "2e181b4d-4821-4127-cce4-6a09917ab566"
      },
      "execution_count": null,
      "outputs": [
        {
          "output_type": "display_data",
          "data": {
            "text/html": [
              "16"
            ],
            "text/markdown": "16",
            "text/latex": "16",
            "text/plain": [
              "[1] 16"
            ]
          },
          "metadata": {}
        }
      ]
    },
    {
      "cell_type": "code",
      "source": [
        "\n",
        "\n"
      ],
      "metadata": {
        "id": "XcBLcY6-zIsq"
      },
      "execution_count": null,
      "outputs": []
    }
  ]
}