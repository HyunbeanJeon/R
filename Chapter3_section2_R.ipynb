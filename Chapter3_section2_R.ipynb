{
  "nbformat": 4,
  "nbformat_minor": 0,
  "metadata": {
    "colab": {
      "provenance": [],
      "authorship_tag": "ABX9TyMCWTR7fU2Sgi84IxDCIB8Q",
      "include_colab_link": true
    },
    "kernelspec": {
      "name": "ir",
      "display_name": "R"
    },
    "language_info": {
      "name": "R"
    }
  },
  "cells": [
    {
      "cell_type": "markdown",
      "metadata": {
        "id": "view-in-github",
        "colab_type": "text"
      },
      "source": [
        "<a href=\"https://colab.research.google.com/github/jhbeann/Bigdata_R/blob/main/Chapter3_section2_R.ipynb\" target=\"_parent\"><img src=\"https://colab.research.google.com/assets/colab-badge.svg\" alt=\"Open In Colab\"/></a>"
      ]
    },
    {
      "cell_type": "markdown",
      "source": [
        "## SECTION 02. 지도학습 - 분류\n",
        "\n"
      ],
      "metadata": {
        "id": "5tcsh9lOudRE"
      }
    },
    {
      "cell_type": "markdown",
      "source": [
        "### 1 . 의사결정나무 이용한 타이타닉 생존자 분류(예측) 분석 수행"
      ],
      "metadata": {
        "id": "TjzEq5Q2YL7b"
      }
    },
    {
      "cell_type": "markdown",
      "source": [],
      "metadata": {
        "id": "q0sggH5xYL5C"
      }
    },
    {
      "cell_type": "code",
      "source": [
        "library(dplyr)\n",
        "library(ggplot2)\n",
        "# 의사결정나무 분류모델 위한 패키지 import\n",
        "library(class)"
      ],
      "metadata": {
        "id": "HtsU63Rtuswh"
      },
      "execution_count": null,
      "outputs": []
    },
    {
      "cell_type": "code",
      "source": [
        "# 데이터 불러오기\n",
        "df <- read.csv(\"https://raw.githubusercontent.com/datasciencedojo/datasets/master/titanic.csv\",\n",
        " stringsAsFactors = TRUE)\n",
        "\n",
        " # stringsAsFactors = TRUE : 문자열을 factor 형으로 가져오기\n",
        "\n",
        "head(df)"
      ],
      "metadata": {
        "colab": {
          "base_uri": "https://localhost:8080/",
          "height": 321
        },
        "id": "Mts_rJZsu1YU",
        "outputId": "e44148b1-699e-429c-c9d1-db7079401eec"
      },
      "execution_count": null,
      "outputs": [
        {
          "output_type": "display_data",
          "data": {
            "text/html": [
              "<table class=\"dataframe\">\n",
              "<caption>A data.frame: 6 × 12</caption>\n",
              "<thead>\n",
              "\t<tr><th></th><th scope=col>PassengerId</th><th scope=col>Survived</th><th scope=col>Pclass</th><th scope=col>Name</th><th scope=col>Sex</th><th scope=col>Age</th><th scope=col>SibSp</th><th scope=col>Parch</th><th scope=col>Ticket</th><th scope=col>Fare</th><th scope=col>Cabin</th><th scope=col>Embarked</th></tr>\n",
              "\t<tr><th></th><th scope=col>&lt;int&gt;</th><th scope=col>&lt;int&gt;</th><th scope=col>&lt;int&gt;</th><th scope=col>&lt;fct&gt;</th><th scope=col>&lt;fct&gt;</th><th scope=col>&lt;dbl&gt;</th><th scope=col>&lt;int&gt;</th><th scope=col>&lt;int&gt;</th><th scope=col>&lt;fct&gt;</th><th scope=col>&lt;dbl&gt;</th><th scope=col>&lt;fct&gt;</th><th scope=col>&lt;fct&gt;</th></tr>\n",
              "</thead>\n",
              "<tbody>\n",
              "\t<tr><th scope=row>1</th><td>1</td><td>0</td><td>3</td><td>Braund, Mr. Owen Harris                            </td><td>male  </td><td>22</td><td>1</td><td>0</td><td>A/5 21171       </td><td> 7.2500</td><td>    </td><td>S</td></tr>\n",
              "\t<tr><th scope=row>2</th><td>2</td><td>1</td><td>1</td><td>Cumings, Mrs. John Bradley (Florence Briggs Thayer)</td><td>female</td><td>38</td><td>1</td><td>0</td><td>PC 17599        </td><td>71.2833</td><td>C85 </td><td>C</td></tr>\n",
              "\t<tr><th scope=row>3</th><td>3</td><td>1</td><td>3</td><td>Heikkinen, Miss. Laina                             </td><td>female</td><td>26</td><td>0</td><td>0</td><td>STON/O2. 3101282</td><td> 7.9250</td><td>    </td><td>S</td></tr>\n",
              "\t<tr><th scope=row>4</th><td>4</td><td>1</td><td>1</td><td>Futrelle, Mrs. Jacques Heath (Lily May Peel)       </td><td>female</td><td>35</td><td>1</td><td>0</td><td>113803          </td><td>53.1000</td><td>C123</td><td>S</td></tr>\n",
              "\t<tr><th scope=row>5</th><td>5</td><td>0</td><td>3</td><td>Allen, Mr. William Henry                           </td><td>male  </td><td>35</td><td>0</td><td>0</td><td>373450          </td><td> 8.0500</td><td>    </td><td>S</td></tr>\n",
              "\t<tr><th scope=row>6</th><td>6</td><td>0</td><td>3</td><td>Moran, Mr. James                                   </td><td>male  </td><td>NA</td><td>0</td><td>0</td><td>330877          </td><td> 8.4583</td><td>    </td><td>Q</td></tr>\n",
              "</tbody>\n",
              "</table>\n"
            ],
            "text/markdown": "\nA data.frame: 6 × 12\n\n| <!--/--> | PassengerId &lt;int&gt; | Survived &lt;int&gt; | Pclass &lt;int&gt; | Name &lt;fct&gt; | Sex &lt;fct&gt; | Age &lt;dbl&gt; | SibSp &lt;int&gt; | Parch &lt;int&gt; | Ticket &lt;fct&gt; | Fare &lt;dbl&gt; | Cabin &lt;fct&gt; | Embarked &lt;fct&gt; |\n|---|---|---|---|---|---|---|---|---|---|---|---|---|\n| 1 | 1 | 0 | 3 | Braund, Mr. Owen Harris                             | male   | 22 | 1 | 0 | A/5 21171        |  7.2500 | <!----> | S |\n| 2 | 2 | 1 | 1 | Cumings, Mrs. John Bradley (Florence Briggs Thayer) | female | 38 | 1 | 0 | PC 17599         | 71.2833 | C85  | C |\n| 3 | 3 | 1 | 3 | Heikkinen, Miss. Laina                              | female | 26 | 0 | 0 | STON/O2. 3101282 |  7.9250 | <!----> | S |\n| 4 | 4 | 1 | 1 | Futrelle, Mrs. Jacques Heath (Lily May Peel)        | female | 35 | 1 | 0 | 113803           | 53.1000 | C123 | S |\n| 5 | 5 | 0 | 3 | Allen, Mr. William Henry                            | male   | 35 | 0 | 0 | 373450           |  8.0500 | <!----> | S |\n| 6 | 6 | 0 | 3 | Moran, Mr. James                                    | male   | NA | 0 | 0 | 330877           |  8.4583 | <!----> | Q |\n\n",
            "text/latex": "A data.frame: 6 × 12\n\\begin{tabular}{r|llllllllllll}\n  & PassengerId & Survived & Pclass & Name & Sex & Age & SibSp & Parch & Ticket & Fare & Cabin & Embarked\\\\\n  & <int> & <int> & <int> & <fct> & <fct> & <dbl> & <int> & <int> & <fct> & <dbl> & <fct> & <fct>\\\\\n\\hline\n\t1 & 1 & 0 & 3 & Braund, Mr. Owen Harris                             & male   & 22 & 1 & 0 & A/5 21171        &  7.2500 &      & S\\\\\n\t2 & 2 & 1 & 1 & Cumings, Mrs. John Bradley (Florence Briggs Thayer) & female & 38 & 1 & 0 & PC 17599         & 71.2833 & C85  & C\\\\\n\t3 & 3 & 1 & 3 & Heikkinen, Miss. Laina                              & female & 26 & 0 & 0 & STON/O2. 3101282 &  7.9250 &      & S\\\\\n\t4 & 4 & 1 & 1 & Futrelle, Mrs. Jacques Heath (Lily May Peel)        & female & 35 & 1 & 0 & 113803           & 53.1000 & C123 & S\\\\\n\t5 & 5 & 0 & 3 & Allen, Mr. William Henry                            & male   & 35 & 0 & 0 & 373450           &  8.0500 &      & S\\\\\n\t6 & 6 & 0 & 3 & Moran, Mr. James                                    & male   & NA & 0 & 0 & 330877           &  8.4583 &      & Q\\\\\n\\end{tabular}\n",
            "text/plain": [
              "  PassengerId Survived Pclass\n",
              "1 1           0        3     \n",
              "2 2           1        1     \n",
              "3 3           1        3     \n",
              "4 4           1        1     \n",
              "5 5           0        3     \n",
              "6 6           0        3     \n",
              "  Name                                                Sex    Age SibSp Parch\n",
              "1 Braund, Mr. Owen Harris                             male   22  1     0    \n",
              "2 Cumings, Mrs. John Bradley (Florence Briggs Thayer) female 38  1     0    \n",
              "3 Heikkinen, Miss. Laina                              female 26  0     0    \n",
              "4 Futrelle, Mrs. Jacques Heath (Lily May Peel)        female 35  1     0    \n",
              "5 Allen, Mr. William Henry                            male   35  0     0    \n",
              "6 Moran, Mr. James                                    male   NA  0     0    \n",
              "  Ticket           Fare    Cabin Embarked\n",
              "1 A/5 21171         7.2500       S       \n",
              "2 PC 17599         71.2833 C85   C       \n",
              "3 STON/O2. 3101282  7.9250       S       \n",
              "4 113803           53.1000 C123  S       \n",
              "5 373450            8.0500       S       \n",
              "6 330877            8.4583       Q       "
            ]
          },
          "metadata": {}
        }
      ]
    },
    {
      "cell_type": "code",
      "source": [
        "summary(df)  # df 기술통계 및 결측치 확인"
      ],
      "metadata": {
        "colab": {
          "base_uri": "https://localhost:8080/",
          "height": 613
        },
        "id": "eCpIli5JvJmD",
        "outputId": "0c25f156-8cab-4a98-fdaa-bdf9a0fccf4d"
      },
      "execution_count": null,
      "outputs": [
        {
          "output_type": "display_data",
          "data": {
            "text/plain": [
              "  PassengerId       Survived          Pclass     \n",
              " Min.   :  1.0   Min.   :0.0000   Min.   :1.000  \n",
              " 1st Qu.:223.5   1st Qu.:0.0000   1st Qu.:2.000  \n",
              " Median :446.0   Median :0.0000   Median :3.000  \n",
              " Mean   :446.0   Mean   :0.3838   Mean   :2.309  \n",
              " 3rd Qu.:668.5   3rd Qu.:1.0000   3rd Qu.:3.000  \n",
              " Max.   :891.0   Max.   :1.0000   Max.   :3.000  \n",
              "                                                 \n",
              "                                    Name         Sex           Age       \n",
              " Abbing, Mr. Anthony                  :  1   female:314   Min.   : 0.42  \n",
              " Abbott, Mr. Rossmore Edward          :  1   male  :577   1st Qu.:20.12  \n",
              " Abbott, Mrs. Stanton (Rosa Hunt)     :  1                Median :28.00  \n",
              " Abelson, Mr. Samuel                  :  1                Mean   :29.70  \n",
              " Abelson, Mrs. Samuel (Hannah Wizosky):  1                3rd Qu.:38.00  \n",
              " Adahl, Mr. Mauritz Nils Martin       :  1                Max.   :80.00  \n",
              " (Other)                              :885                NA's   :177    \n",
              "     SibSp           Parch             Ticket         Fare       \n",
              " Min.   :0.000   Min.   :0.0000   1601    :  7   Min.   :  0.00  \n",
              " 1st Qu.:0.000   1st Qu.:0.0000   347082  :  7   1st Qu.:  7.91  \n",
              " Median :0.000   Median :0.0000   CA. 2343:  7   Median : 14.45  \n",
              " Mean   :0.523   Mean   :0.3816   3101295 :  6   Mean   : 32.20  \n",
              " 3rd Qu.:1.000   3rd Qu.:0.0000   347088  :  6   3rd Qu.: 31.00  \n",
              " Max.   :8.000   Max.   :6.0000   CA 2144 :  6   Max.   :512.33  \n",
              "                                  (Other) :852                   \n",
              "         Cabin     Embarked\n",
              "            :687    :  2   \n",
              " B96 B98    :  4   C:168   \n",
              " C23 C25 C27:  4   Q: 77   \n",
              " G6         :  4   S:644   \n",
              " C22 C26    :  3           \n",
              " D          :  3           \n",
              " (Other)    :186           "
            ]
          },
          "metadata": {}
        }
      ]
    },
    {
      "cell_type": "code",
      "source": [
        "# 데이터 전처리\n",
        "# Age 컬럼의 결측값을 평균으로 대치\n",
        "d_mean = mean(df$Age, na.rm = TRUE)  # 결측값 제외한 평균\n",
        "df$Age = ifelse(is.na(df$Age), d_mean, df$Age)  # 평균으로 대치\n",
        "\n",
        "\n",
        "# Embarked 컬럼의 결측값을 최빈값 s로 대치\n",
        "df$Embarked = replace(df$Embarked, df$Embarked == \"\", \"S\")"
      ],
      "metadata": {
        "id": "yTPHFuz7vRDG"
      },
      "execution_count": null,
      "outputs": []
    },
    {
      "cell_type": "markdown",
      "source": [
        "- 레이블 인코딩 : 카테고리 값을 코드형 숫자로 변환\n",
        "- R의 factor() 사용 -> 컬럼의 값을 1,2,3 으로 인코딩하고 \n",
        "  as.numeric() 이용해 숫자로 변환"
      ],
      "metadata": {
        "id": "2QpcPKoy56Kw"
      }
    },
    {
      "cell_type": "code",
      "source": [
        "# sex 컬럼 : 레이블 인코딩\n",
        "# male:1, female:2\n",
        "df$Sex <- as.numeric(factor(df$Sex), level = c(\"male\",\"female\"))\n",
        "\n",
        "# Embarked : 레이블 인코딩\n",
        "df$Embarked <- as.numeric(factor(df$Embarked), level = c(\"C\",\"Q\",\"S\"))\n",
        "\n",
        "str(df)"
      ],
      "metadata": {
        "colab": {
          "base_uri": "https://localhost:8080/"
        },
        "id": "Ez51bnMU48bb",
        "outputId": "26892122-6f05-4ad9-cabc-d26355e0f743"
      },
      "execution_count": null,
      "outputs": [
        {
          "output_type": "stream",
          "name": "stdout",
          "text": [
            "'data.frame':\t891 obs. of  12 variables:\n",
            " $ PassengerId: int  1 2 3 4 5 6 7 8 9 10 ...\n",
            " $ Survived   : int  0 1 1 1 0 0 0 0 1 1 ...\n",
            " $ Pclass     : int  3 1 3 1 3 3 1 3 3 2 ...\n",
            " $ Name       : Factor w/ 891 levels \"Abbing, Mr. Anthony\",..: 109 191 358 277 16 559 520 629 417 581 ...\n",
            " $ Sex        : num  2 1 1 1 2 2 2 2 1 1 ...\n",
            " $ Age        : num  22 38 26 35 35 ...\n",
            " $ SibSp      : int  1 1 0 1 0 0 0 3 0 1 ...\n",
            " $ Parch      : int  0 0 0 0 0 0 0 1 2 0 ...\n",
            " $ Ticket     : Factor w/ 681 levels \"110152\",\"110413\",..: 524 597 670 50 473 276 86 396 345 133 ...\n",
            " $ Fare       : num  7.25 71.28 7.92 53.1 8.05 ...\n",
            " $ Cabin      : Factor w/ 148 levels \"\",\"A10\",\"A14\",..: 1 83 1 57 1 1 131 1 1 1 ...\n",
            " $ Embarked   : num  3 1 3 3 3 2 3 3 3 1 ...\n"
          ]
        }
      ]
    },
    {
      "cell_type": "code",
      "source": [
        "# family_size 파생변수 생성\n",
        "# SibSp + Parch ( 동승자가족수 형제또는 배우자 + 부모 또는 자녀수)\n",
        "\n",
        "df$family_size <- df$SibSp + df$Parch"
      ],
      "metadata": {
        "id": "14YPZEmH5bkc"
      },
      "execution_count": null,
      "outputs": []
    },
    {
      "cell_type": "code",
      "source": [
        "head(df)"
      ],
      "metadata": {
        "colab": {
          "base_uri": "https://localhost:8080/",
          "height": 338
        },
        "id": "cgOsVK9h7WBw",
        "outputId": "c3e99870-0063-43c5-9eb8-c633d07e64cc"
      },
      "execution_count": null,
      "outputs": [
        {
          "output_type": "display_data",
          "data": {
            "text/html": [
              "<table class=\"dataframe\">\n",
              "<caption>A data.frame: 6 × 13</caption>\n",
              "<thead>\n",
              "\t<tr><th></th><th scope=col>PassengerId</th><th scope=col>Survived</th><th scope=col>Pclass</th><th scope=col>Name</th><th scope=col>Sex</th><th scope=col>Age</th><th scope=col>SibSp</th><th scope=col>Parch</th><th scope=col>Ticket</th><th scope=col>Fare</th><th scope=col>Cabin</th><th scope=col>Embarked</th><th scope=col>family_size</th></tr>\n",
              "\t<tr><th></th><th scope=col>&lt;int&gt;</th><th scope=col>&lt;int&gt;</th><th scope=col>&lt;int&gt;</th><th scope=col>&lt;fct&gt;</th><th scope=col>&lt;dbl&gt;</th><th scope=col>&lt;dbl&gt;</th><th scope=col>&lt;int&gt;</th><th scope=col>&lt;int&gt;</th><th scope=col>&lt;fct&gt;</th><th scope=col>&lt;dbl&gt;</th><th scope=col>&lt;fct&gt;</th><th scope=col>&lt;dbl&gt;</th><th scope=col>&lt;int&gt;</th></tr>\n",
              "</thead>\n",
              "<tbody>\n",
              "\t<tr><th scope=row>1</th><td>1</td><td>0</td><td>3</td><td>Braund, Mr. Owen Harris                            </td><td>2</td><td>22.00000</td><td>1</td><td>0</td><td>A/5 21171       </td><td> 7.2500</td><td>    </td><td>3</td><td>1</td></tr>\n",
              "\t<tr><th scope=row>2</th><td>2</td><td>1</td><td>1</td><td>Cumings, Mrs. John Bradley (Florence Briggs Thayer)</td><td>1</td><td>38.00000</td><td>1</td><td>0</td><td>PC 17599        </td><td>71.2833</td><td>C85 </td><td>1</td><td>1</td></tr>\n",
              "\t<tr><th scope=row>3</th><td>3</td><td>1</td><td>3</td><td>Heikkinen, Miss. Laina                             </td><td>1</td><td>26.00000</td><td>0</td><td>0</td><td>STON/O2. 3101282</td><td> 7.9250</td><td>    </td><td>3</td><td>0</td></tr>\n",
              "\t<tr><th scope=row>4</th><td>4</td><td>1</td><td>1</td><td>Futrelle, Mrs. Jacques Heath (Lily May Peel)       </td><td>1</td><td>35.00000</td><td>1</td><td>0</td><td>113803          </td><td>53.1000</td><td>C123</td><td>3</td><td>1</td></tr>\n",
              "\t<tr><th scope=row>5</th><td>5</td><td>0</td><td>3</td><td>Allen, Mr. William Henry                           </td><td>2</td><td>35.00000</td><td>0</td><td>0</td><td>373450          </td><td> 8.0500</td><td>    </td><td>3</td><td>0</td></tr>\n",
              "\t<tr><th scope=row>6</th><td>6</td><td>0</td><td>3</td><td>Moran, Mr. James                                   </td><td>2</td><td>29.69912</td><td>0</td><td>0</td><td>330877          </td><td> 8.4583</td><td>    </td><td>2</td><td>0</td></tr>\n",
              "</tbody>\n",
              "</table>\n"
            ],
            "text/markdown": "\nA data.frame: 6 × 13\n\n| <!--/--> | PassengerId &lt;int&gt; | Survived &lt;int&gt; | Pclass &lt;int&gt; | Name &lt;fct&gt; | Sex &lt;dbl&gt; | Age &lt;dbl&gt; | SibSp &lt;int&gt; | Parch &lt;int&gt; | Ticket &lt;fct&gt; | Fare &lt;dbl&gt; | Cabin &lt;fct&gt; | Embarked &lt;dbl&gt; | family_size &lt;int&gt; |\n|---|---|---|---|---|---|---|---|---|---|---|---|---|---|\n| 1 | 1 | 0 | 3 | Braund, Mr. Owen Harris                             | 2 | 22.00000 | 1 | 0 | A/5 21171        |  7.2500 | <!----> | 3 | 1 |\n| 2 | 2 | 1 | 1 | Cumings, Mrs. John Bradley (Florence Briggs Thayer) | 1 | 38.00000 | 1 | 0 | PC 17599         | 71.2833 | C85  | 1 | 1 |\n| 3 | 3 | 1 | 3 | Heikkinen, Miss. Laina                              | 1 | 26.00000 | 0 | 0 | STON/O2. 3101282 |  7.9250 | <!----> | 3 | 0 |\n| 4 | 4 | 1 | 1 | Futrelle, Mrs. Jacques Heath (Lily May Peel)        | 1 | 35.00000 | 1 | 0 | 113803           | 53.1000 | C123 | 3 | 1 |\n| 5 | 5 | 0 | 3 | Allen, Mr. William Henry                            | 2 | 35.00000 | 0 | 0 | 373450           |  8.0500 | <!----> | 3 | 0 |\n| 6 | 6 | 0 | 3 | Moran, Mr. James                                    | 2 | 29.69912 | 0 | 0 | 330877           |  8.4583 | <!----> | 2 | 0 |\n\n",
            "text/latex": "A data.frame: 6 × 13\n\\begin{tabular}{r|lllllllllllll}\n  & PassengerId & Survived & Pclass & Name & Sex & Age & SibSp & Parch & Ticket & Fare & Cabin & Embarked & family\\_size\\\\\n  & <int> & <int> & <int> & <fct> & <dbl> & <dbl> & <int> & <int> & <fct> & <dbl> & <fct> & <dbl> & <int>\\\\\n\\hline\n\t1 & 1 & 0 & 3 & Braund, Mr. Owen Harris                             & 2 & 22.00000 & 1 & 0 & A/5 21171        &  7.2500 &      & 3 & 1\\\\\n\t2 & 2 & 1 & 1 & Cumings, Mrs. John Bradley (Florence Briggs Thayer) & 1 & 38.00000 & 1 & 0 & PC 17599         & 71.2833 & C85  & 1 & 1\\\\\n\t3 & 3 & 1 & 3 & Heikkinen, Miss. Laina                              & 1 & 26.00000 & 0 & 0 & STON/O2. 3101282 &  7.9250 &      & 3 & 0\\\\\n\t4 & 4 & 1 & 1 & Futrelle, Mrs. Jacques Heath (Lily May Peel)        & 1 & 35.00000 & 1 & 0 & 113803           & 53.1000 & C123 & 3 & 1\\\\\n\t5 & 5 & 0 & 3 & Allen, Mr. William Henry                            & 2 & 35.00000 & 0 & 0 & 373450           &  8.0500 &      & 3 & 0\\\\\n\t6 & 6 & 0 & 3 & Moran, Mr. James                                    & 2 & 29.69912 & 0 & 0 & 330877           &  8.4583 &      & 2 & 0\\\\\n\\end{tabular}\n",
            "text/plain": [
              "  PassengerId Survived Pclass\n",
              "1 1           0        3     \n",
              "2 2           1        1     \n",
              "3 3           1        3     \n",
              "4 4           1        1     \n",
              "5 5           0        3     \n",
              "6 6           0        3     \n",
              "  Name                                                Sex Age      SibSp Parch\n",
              "1 Braund, Mr. Owen Harris                             2   22.00000 1     0    \n",
              "2 Cumings, Mrs. John Bradley (Florence Briggs Thayer) 1   38.00000 1     0    \n",
              "3 Heikkinen, Miss. Laina                              1   26.00000 0     0    \n",
              "4 Futrelle, Mrs. Jacques Heath (Lily May Peel)        1   35.00000 1     0    \n",
              "5 Allen, Mr. William Henry                            2   35.00000 0     0    \n",
              "6 Moran, Mr. James                                    2   29.69912 0     0    \n",
              "  Ticket           Fare    Cabin Embarked family_size\n",
              "1 A/5 21171         7.2500       3        1          \n",
              "2 PC 17599         71.2833 C85   1        1          \n",
              "3 STON/O2. 3101282  7.9250       3        0          \n",
              "4 113803           53.1000 C123  3        1          \n",
              "5 373450            8.0500       3        0          \n",
              "6 330877            8.4583       2        0          "
            ]
          },
          "metadata": {}
        }
      ]
    },
    {
      "cell_type": "markdown",
      "source": [
        "#### 데이터셋 준비\n",
        "- 타이타닉의 목표변수(종속변수)는 survived\n",
        "- 탑승자 생존과 무관한 아이디,이름, 티켓번호는 분석에서 제외\n",
        "- 파생변수 만든 sibsp, parch 제외\n",
        "\n",
        "** 정리 **\n",
        "- 분석결과에 영향 없는 변수는 제외하고 나머지 변수로 데이터셋 재구성\n"
      ],
      "metadata": {
        "id": "ie12IjFX7eW1"
      }
    },
    {
      "cell_type": "code",
      "source": [
        "df <-df[,c(\"Survived\",\"Pclass\",\"Sex\",\"Age\",\"Fare\",\"Embarked\",\"family_size\")]\n",
        "head(df)"
      ],
      "metadata": {
        "colab": {
          "base_uri": "https://localhost:8080/",
          "height": 286
        },
        "id": "_-3k1Imu7XyD",
        "outputId": "58a2152d-244b-40f5-f137-97b34da273e3"
      },
      "execution_count": null,
      "outputs": [
        {
          "output_type": "display_data",
          "data": {
            "text/html": [
              "<table class=\"dataframe\">\n",
              "<caption>A data.frame: 6 × 7</caption>\n",
              "<thead>\n",
              "\t<tr><th></th><th scope=col>Survived</th><th scope=col>Pclass</th><th scope=col>Sex</th><th scope=col>Age</th><th scope=col>Fare</th><th scope=col>Embarked</th><th scope=col>family_size</th></tr>\n",
              "\t<tr><th></th><th scope=col>&lt;int&gt;</th><th scope=col>&lt;int&gt;</th><th scope=col>&lt;dbl&gt;</th><th scope=col>&lt;dbl&gt;</th><th scope=col>&lt;dbl&gt;</th><th scope=col>&lt;dbl&gt;</th><th scope=col>&lt;int&gt;</th></tr>\n",
              "</thead>\n",
              "<tbody>\n",
              "\t<tr><th scope=row>1</th><td>0</td><td>3</td><td>2</td><td>22.00000</td><td> 7.2500</td><td>3</td><td>1</td></tr>\n",
              "\t<tr><th scope=row>2</th><td>1</td><td>1</td><td>1</td><td>38.00000</td><td>71.2833</td><td>1</td><td>1</td></tr>\n",
              "\t<tr><th scope=row>3</th><td>1</td><td>3</td><td>1</td><td>26.00000</td><td> 7.9250</td><td>3</td><td>0</td></tr>\n",
              "\t<tr><th scope=row>4</th><td>1</td><td>1</td><td>1</td><td>35.00000</td><td>53.1000</td><td>3</td><td>1</td></tr>\n",
              "\t<tr><th scope=row>5</th><td>0</td><td>3</td><td>2</td><td>35.00000</td><td> 8.0500</td><td>3</td><td>0</td></tr>\n",
              "\t<tr><th scope=row>6</th><td>0</td><td>3</td><td>2</td><td>29.69912</td><td> 8.4583</td><td>2</td><td>0</td></tr>\n",
              "</tbody>\n",
              "</table>\n"
            ],
            "text/markdown": "\nA data.frame: 6 × 7\n\n| <!--/--> | Survived &lt;int&gt; | Pclass &lt;int&gt; | Sex &lt;dbl&gt; | Age &lt;dbl&gt; | Fare &lt;dbl&gt; | Embarked &lt;dbl&gt; | family_size &lt;int&gt; |\n|---|---|---|---|---|---|---|---|\n| 1 | 0 | 3 | 2 | 22.00000 |  7.2500 | 3 | 1 |\n| 2 | 1 | 1 | 1 | 38.00000 | 71.2833 | 1 | 1 |\n| 3 | 1 | 3 | 1 | 26.00000 |  7.9250 | 3 | 0 |\n| 4 | 1 | 1 | 1 | 35.00000 | 53.1000 | 3 | 1 |\n| 5 | 0 | 3 | 2 | 35.00000 |  8.0500 | 3 | 0 |\n| 6 | 0 | 3 | 2 | 29.69912 |  8.4583 | 2 | 0 |\n\n",
            "text/latex": "A data.frame: 6 × 7\n\\begin{tabular}{r|lllllll}\n  & Survived & Pclass & Sex & Age & Fare & Embarked & family\\_size\\\\\n  & <int> & <int> & <dbl> & <dbl> & <dbl> & <dbl> & <int>\\\\\n\\hline\n\t1 & 0 & 3 & 2 & 22.00000 &  7.2500 & 3 & 1\\\\\n\t2 & 1 & 1 & 1 & 38.00000 & 71.2833 & 1 & 1\\\\\n\t3 & 1 & 3 & 1 & 26.00000 &  7.9250 & 3 & 0\\\\\n\t4 & 1 & 1 & 1 & 35.00000 & 53.1000 & 3 & 1\\\\\n\t5 & 0 & 3 & 2 & 35.00000 &  8.0500 & 3 & 0\\\\\n\t6 & 0 & 3 & 2 & 29.69912 &  8.4583 & 2 & 0\\\\\n\\end{tabular}\n",
            "text/plain": [
              "  Survived Pclass Sex Age      Fare    Embarked family_size\n",
              "1 0        3      2   22.00000  7.2500 3        1          \n",
              "2 1        1      1   38.00000 71.2833 1        1          \n",
              "3 1        3      1   26.00000  7.9250 3        0          \n",
              "4 1        1      1   35.00000 53.1000 3        1          \n",
              "5 0        3      2   35.00000  8.0500 3        0          \n",
              "6 0        3      2   29.69912  8.4583 2        0          "
            ]
          },
          "metadata": {}
        }
      ]
    },
    {
      "cell_type": "markdown",
      "source": [
        "#### 데이터셋 분리\n",
        "sample()\n",
        "- 학습/테스트 데이터셋 분리"
      ],
      "metadata": {
        "id": "5DpTz9CF8iZy"
      }
    },
    {
      "cell_type": "code",
      "source": [
        "# 난수 발생 위해 seed 값\n",
        "set.seed(123)\n",
        "\n",
        "# 80%를 인덱스\n",
        "idx <- sample(1:nrow(df),0.8*nrow(df))\n",
        "\n",
        "# 인덱스 해당 행을 학습 데이터로\n",
        "df_train <- df[idx,]\n",
        "# 나머지 행을 테스트 데이터로\n",
        "df_test <- df[-idx,]"
      ],
      "metadata": {
        "id": "lKObW2xI8PDA"
      },
      "execution_count": null,
      "outputs": []
    },
    {
      "cell_type": "code",
      "source": [
        "print(dim(df_train))\n",
        "\n",
        "print(dim(df_test))"
      ],
      "metadata": {
        "colab": {
          "base_uri": "https://localhost:8080/"
        },
        "id": "mI4Z-eGYTLme",
        "outputId": "a0b7cb10-facc-41e5-af87-e7d9aee947ef"
      },
      "execution_count": null,
      "outputs": [
        {
          "output_type": "stream",
          "name": "stdout",
          "text": [
            "[1] 712   7\n",
            "[1] 179   7\n"
          ]
        }
      ]
    },
    {
      "cell_type": "markdown",
      "source": [
        "* 분류를 위한 알고리즘 : **의사결정나무**\n",
        "  - rpart()\n",
        "  - method=\"class\"\n"
      ],
      "metadata": {
        "id": "ZD3Yi-rRTUvl"
      }
    },
    {
      "cell_type": "code",
      "source": [
        "install.packages(\"rpart\")\n",
        "library(rpart)"
      ],
      "metadata": {
        "colab": {
          "base_uri": "https://localhost:8080/"
        },
        "id": "g0j6pYpXU0j0",
        "outputId": "f6eac428-faa9-4748-ffab-87119d5294fc"
      },
      "execution_count": null,
      "outputs": [
        {
          "output_type": "stream",
          "name": "stderr",
          "text": [
            "Installing package into ‘/usr/local/lib/R/site-library’\n",
            "(as ‘lib’ is unspecified)\n",
            "\n"
          ]
        }
      ]
    },
    {
      "cell_type": "code",
      "source": [
        "model <- rpart(Survived~., method = \"class\", data = df_train)"
      ],
      "metadata": {
        "id": "N1Hqq1LUTSNk"
      },
      "execution_count": null,
      "outputs": []
    },
    {
      "cell_type": "code",
      "source": [
        "# 학습된 모델을 기반으로 예측 수행\n",
        "# survived 열 제외\n",
        "pred <- predict(model, df_test[,-1],type=\"class\")"
      ],
      "metadata": {
        "id": "70gVa1f-T9PE"
      },
      "execution_count": null,
      "outputs": []
    },
    {
      "cell_type": "code",
      "source": [
        "# 예측 결과와 실제값을 비교(오차행렬)\n",
        "cm <- table(df_test$Survived, pred)\n",
        "print(cm)\n",
        "\n",
        "# 모델평가 - 정확도\n",
        "acc <- (cm[1,1] + cm[2,2])/ nrow(df_test)\n",
        "print(acc)"
      ],
      "metadata": {
        "colab": {
          "base_uri": "https://localhost:8080/"
        },
        "id": "jHoF0OfSVUzc",
        "outputId": "6a45bac2-fad1-4300-dfc8-c55fe0936f7c"
      },
      "execution_count": null,
      "outputs": [
        {
          "output_type": "stream",
          "name": "stdout",
          "text": [
            "   pred\n",
            "     0  1\n",
            "  0 95 15\n",
            "  1 20 49\n",
            "[1] 0.8044693\n"
          ]
        }
      ]
    },
    {
      "cell_type": "markdown",
      "source": [
        "#### 4) 의사결정나무 최적화\n",
        "- 최적화 \n",
        "  - 가지치기\n",
        "  - 의사결정나무 크기 정하기 : CP\n",
        "    - printcp()\n",
        "      - nsplit : 분할횟수\n",
        "      - xerror : 교차검증시 오류율\n",
        "      - xstd   : 교차검증의 편차\n",
        "      \n"
      ],
      "metadata": {
        "id": "K2VuAgzXVNFC"
      }
    },
    {
      "cell_type": "code",
      "source": [
        "printcp(model)\n"
      ],
      "metadata": {
        "colab": {
          "base_uri": "https://localhost:8080/"
        },
        "id": "1tAHeEnCVL21",
        "outputId": "c5e9d47c-434c-4a41-dcb0-863daf09a630"
      },
      "execution_count": null,
      "outputs": [
        {
          "output_type": "stream",
          "name": "stdout",
          "text": [
            "\n",
            "Classification tree:\n",
            "rpart(formula = Survived ~ ., data = df_train, method = \"class\")\n",
            "\n",
            "Variables actually used in tree construction:\n",
            "[1] Age    Fare   Pclass Sex   \n",
            "\n",
            "Root node error: 273/712 = 0.38343\n",
            "\n",
            "n= 712 \n",
            "\n",
            "        CP nsplit rel error  xerror     xstd\n",
            "1 0.450549      0   1.00000 1.00000 0.047524\n",
            "2 0.032967      1   0.54945 0.54945 0.039858\n",
            "3 0.025641      3   0.48352 0.52747 0.039260\n",
            "4 0.014652      4   0.45788 0.49451 0.038314\n",
            "5 0.010000      6   0.42857 0.50183 0.038529\n"
          ]
        }
      ]
    },
    {
      "cell_type": "markdown",
      "source": [
        "- xerror  가장 낮을 때\n",
        "  - nsplit : 4 -->  의사결정나무 최적 :4\n",
        "  - cp :0.014 --> 조금 큰 값 0.015를 prune() 함수로 전달"
      ],
      "metadata": {
        "id": "aTYypdn9V5CX"
      }
    },
    {
      "cell_type": "code",
      "source": [
        "# 의사결정나무 가지치기(최적화)\n",
        "# 최적의 cp 보다 조금 큰 값으로\n",
        "\n",
        "model_opt <- prune(model, cp=0.015)\n",
        "printcp(model_opt)\n",
        "\n",
        "plot(model);text(model)\n",
        "plot(model_opt);text(model_opt) # 분할 횟수가 4인 모델"
      ],
      "metadata": {
        "colab": {
          "base_uri": "https://localhost:8080/",
          "height": 1000
        },
        "id": "aee5q8seV4pO",
        "outputId": "51dd9bd4-0409-4a3a-8cd5-e465f70b9599"
      },
      "execution_count": null,
      "outputs": [
        {
          "output_type": "stream",
          "name": "stdout",
          "text": [
            "\n",
            "Classification tree:\n",
            "rpart(formula = Survived ~ ., data = df_train, method = \"class\")\n",
            "\n",
            "Variables actually used in tree construction:\n",
            "[1] Age    Fare   Pclass Sex   \n",
            "\n",
            "Root node error: 273/712 = 0.38343\n",
            "\n",
            "n= 712 \n",
            "\n",
            "        CP nsplit rel error  xerror     xstd\n",
            "1 0.450549      0   1.00000 1.00000 0.047524\n",
            "2 0.032967      1   0.54945 0.54945 0.039858\n",
            "3 0.025641      3   0.48352 0.52747 0.039260\n",
            "4 0.015000      4   0.45788 0.49451 0.038314\n"
          ]
        },
        {
          "output_type": "display_data",
          "data": {
            "text/plain": [
              "plot without title"
            ],
            "image/png": "[encoded data removed]"
          },
          "metadata": {
            "image/png": {
              "width": 420,
              "height": 420
            }
          }
        },
        {
          "output_type": "display_data",
          "data": {
            "text/plain": [
              "plot without title"
            ],
            "image/png": "[encoded data removed]"
          },
          "metadata": {
            "image/png": {
              "width": 420,
              "height": 420
            }
          }
        }
      ]
    },
    {
      "cell_type": "markdown",
      "source": [
        "### 2. KNN 이용한 분류  "
      ],
      "metadata": {
        "id": "z-eLoasHYDBe"
      }
    },
    {
      "cell_type": "code",
      "source": [
        "library(dplyr)\n",
        "library(ggplot2)\n",
        "\n",
        "# knn 위한 패키지\n",
        "library(class)"
      ],
      "metadata": {
        "id": "kE4o74T2YCq5"
      },
      "execution_count": null,
      "outputs": []
    },
    {
      "cell_type": "code",
      "source": [
        "# 아이리스 \n",
        "df<- read.csv(\"https://raw.githubusercontent.com/mwaskom/seaborn-data/master/iris.csv\")\n",
        "head(df)"
      ],
      "metadata": {
        "id": "XlVogllAVaBv",
        "colab": {
          "base_uri": "https://localhost:8080/",
          "height": 286
        },
        "outputId": "0f7824b5-998d-496b-e128-cd7e24f81f20"
      },
      "execution_count": null,
      "outputs": [
        {
          "output_type": "display_data",
          "data": {
            "text/html": [
              "<table class=\"dataframe\">\n",
              "<caption>A data.frame: 6 × 5</caption>\n",
              "<thead>\n",
              "\t<tr><th></th><th scope=col>sepal_length</th><th scope=col>sepal_width</th><th scope=col>petal_length</th><th scope=col>petal_width</th><th scope=col>species</th></tr>\n",
              "\t<tr><th></th><th scope=col>&lt;dbl&gt;</th><th scope=col>&lt;dbl&gt;</th><th scope=col>&lt;dbl&gt;</th><th scope=col>&lt;dbl&gt;</th><th scope=col>&lt;chr&gt;</th></tr>\n",
              "</thead>\n",
              "<tbody>\n",
              "\t<tr><th scope=row>1</th><td>5.1</td><td>3.5</td><td>1.4</td><td>0.2</td><td>setosa</td></tr>\n",
              "\t<tr><th scope=row>2</th><td>4.9</td><td>3.0</td><td>1.4</td><td>0.2</td><td>setosa</td></tr>\n",
              "\t<tr><th scope=row>3</th><td>4.7</td><td>3.2</td><td>1.3</td><td>0.2</td><td>setosa</td></tr>\n",
              "\t<tr><th scope=row>4</th><td>4.6</td><td>3.1</td><td>1.5</td><td>0.2</td><td>setosa</td></tr>\n",
              "\t<tr><th scope=row>5</th><td>5.0</td><td>3.6</td><td>1.4</td><td>0.2</td><td>setosa</td></tr>\n",
              "\t<tr><th scope=row>6</th><td>5.4</td><td>3.9</td><td>1.7</td><td>0.4</td><td>setosa</td></tr>\n",
              "</tbody>\n",
              "</table>\n"
            ],
            "text/markdown": "\nA data.frame: 6 × 5\n\n| <!--/--> | sepal_length &lt;dbl&gt; | sepal_width &lt;dbl&gt; | petal_length &lt;dbl&gt; | petal_width &lt;dbl&gt; | species &lt;chr&gt; |\n|---|---|---|---|---|---|\n| 1 | 5.1 | 3.5 | 1.4 | 0.2 | setosa |\n| 2 | 4.9 | 3.0 | 1.4 | 0.2 | setosa |\n| 3 | 4.7 | 3.2 | 1.3 | 0.2 | setosa |\n| 4 | 4.6 | 3.1 | 1.5 | 0.2 | setosa |\n| 5 | 5.0 | 3.6 | 1.4 | 0.2 | setosa |\n| 6 | 5.4 | 3.9 | 1.7 | 0.4 | setosa |\n\n",
            "text/latex": "A data.frame: 6 × 5\n\\begin{tabular}{r|lllll}\n  & sepal\\_length & sepal\\_width & petal\\_length & petal\\_width & species\\\\\n  & <dbl> & <dbl> & <dbl> & <dbl> & <chr>\\\\\n\\hline\n\t1 & 5.1 & 3.5 & 1.4 & 0.2 & setosa\\\\\n\t2 & 4.9 & 3.0 & 1.4 & 0.2 & setosa\\\\\n\t3 & 4.7 & 3.2 & 1.3 & 0.2 & setosa\\\\\n\t4 & 4.6 & 3.1 & 1.5 & 0.2 & setosa\\\\\n\t5 & 5.0 & 3.6 & 1.4 & 0.2 & setosa\\\\\n\t6 & 5.4 & 3.9 & 1.7 & 0.4 & setosa\\\\\n\\end{tabular}\n",
            "text/plain": [
              "  sepal_length sepal_width petal_length petal_width species\n",
              "1 5.1          3.5         1.4          0.2         setosa \n",
              "2 4.9          3.0         1.4          0.2         setosa \n",
              "3 4.7          3.2         1.3          0.2         setosa \n",
              "4 4.6          3.1         1.5          0.2         setosa \n",
              "5 5.0          3.6         1.4          0.2         setosa \n",
              "6 5.4          3.9         1.7          0.4         setosa "
            ]
          },
          "metadata": {}
        }
      ]
    },
    {
      "cell_type": "code",
      "source": [
        "str(df)"
      ],
      "metadata": {
        "colab": {
          "base_uri": "https://localhost:8080/"
        },
        "id": "RThPGksNY0ej",
        "outputId": "5f05d64c-248b-4819-d288-174b14f163de"
      },
      "execution_count": null,
      "outputs": [
        {
          "output_type": "stream",
          "name": "stdout",
          "text": [
            "'data.frame':\t150 obs. of  5 variables:\n",
            " $ sepal_length: num  5.1 4.9 4.7 4.6 5 5.4 4.6 5 4.4 4.9 ...\n",
            " $ sepal_width : num  3.5 3 3.2 3.1 3.6 3.9 3.4 3.4 2.9 3.1 ...\n",
            " $ petal_length: num  1.4 1.4 1.3 1.5 1.4 1.7 1.4 1.5 1.4 1.5 ...\n",
            " $ petal_width : num  0.2 0.2 0.2 0.2 0.2 0.4 0.3 0.2 0.2 0.1 ...\n",
            " $ species     : chr  \"setosa\" \"setosa\" \"setosa\" \"setosa\" ...\n"
          ]
        }
      ]
    },
    {
      "cell_type": "code",
      "source": [
        "summary(df)"
      ],
      "metadata": {
        "colab": {
          "base_uri": "https://localhost:8080/",
          "height": 278
        },
        "id": "MY0eqqXNY25N",
        "outputId": "3b8d44e1-ca31-4bb4-cb4d-f8db906e478e"
      },
      "execution_count": null,
      "outputs": [
        {
          "output_type": "display_data",
          "data": {
            "text/plain": [
              "  sepal_length    sepal_width     petal_length    petal_width   \n",
              " Min.   :4.300   Min.   :2.000   Min.   :1.000   Min.   :0.100  \n",
              " 1st Qu.:5.100   1st Qu.:2.800   1st Qu.:1.600   1st Qu.:0.300  \n",
              " Median :5.800   Median :3.000   Median :4.350   Median :1.300  \n",
              " Mean   :5.843   Mean   :3.057   Mean   :3.758   Mean   :1.199  \n",
              " 3rd Qu.:6.400   3rd Qu.:3.300   3rd Qu.:5.100   3rd Qu.:1.800  \n",
              " Max.   :7.900   Max.   :4.400   Max.   :6.900   Max.   :2.500  \n",
              "   species         \n",
              " Length:150        \n",
              " Class :character  \n",
              " Mode  :character  \n",
              "                   \n",
              "                   \n",
              "                   "
            ]
          },
          "metadata": {}
        }
      ]
    },
    {
      "cell_type": "code",
      "source": [
        "# 결측치 처리\n",
        "sum(is.na(df))"
      ],
      "metadata": {
        "colab": {
          "base_uri": "https://localhost:8080/",
          "height": 34
        },
        "id": "MvwtG3WIY6Pz",
        "outputId": "bcfd1053-99ea-4b42-d872-c134427c280b"
      },
      "execution_count": null,
      "outputs": [
        {
          "output_type": "display_data",
          "data": {
            "text/html": [
              "0"
            ],
            "text/markdown": "0",
            "text/latex": "0",
            "text/plain": [
              "[1] 0"
            ]
          },
          "metadata": {}
        }
      ]
    },
    {
      "cell_type": "code",
      "source": [
        "table(df$species)"
      ],
      "metadata": {
        "colab": {
          "base_uri": "https://localhost:8080/",
          "height": 73
        },
        "id": "9aReANHuY-Sx",
        "outputId": "afc757b4-1057-45f1-d3e1-915bc7d22d69"
      },
      "execution_count": null,
      "outputs": [
        {
          "output_type": "display_data",
          "data": {
            "text/plain": [
              "\n",
              "    setosa versicolor  virginica \n",
              "        50         50         50 "
            ]
          },
          "metadata": {}
        }
      ]
    },
    {
      "cell_type": "code",
      "source": [
        "# Min-Max  정규화 함수 정의\n",
        "normal <- function(x) (\n",
        "  return((x-min(x))/max(x)-min(x))\n",
        ")\n",
        "\n",
        "# 정규화 함수 적용\n",
        "# lapply : \n",
        "df[1:4] <- as.data.frame(lapply(df[1:4], normal))\n",
        "summary(df)"
      ],
      "metadata": {
        "colab": {
          "base_uri": "https://localhost:8080/",
          "height": 278
        },
        "id": "6vysPegLZDHQ",
        "outputId": "aca12949-6f11-4cb5-8e7b-deacb2f1e7d6"
      },
      "execution_count": null,
      "outputs": [
        {
          "output_type": "display_data",
          "data": {
            "text/plain": [
              "  sepal_length     sepal_width      petal_length      petal_width     \n",
              " Min.   :-4.300   Min.   :-2.000   Min.   :-1.0000   Min.   :-0.1000  \n",
              " 1st Qu.:-4.199   1st Qu.:-1.818   1st Qu.:-0.9130   1st Qu.:-0.0200  \n",
              " Median :-4.110   Median :-1.773   Median :-0.5145   Median : 0.3800  \n",
              " Mean   :-4.105   Mean   :-1.760   Mean   :-0.6003   Mean   : 0.3397  \n",
              " 3rd Qu.:-4.034   3rd Qu.:-1.705   3rd Qu.:-0.4058   3rd Qu.: 0.5800  \n",
              " Max.   :-3.844   Max.   :-1.455   Max.   :-0.1449   Max.   : 0.8600  \n",
              "   species         \n",
              " Length:150        \n",
              " Class :character  \n",
              " Mode  :character  \n",
              "                   \n",
              "                   \n",
              "                   "
            ]
          },
          "metadata": {}
        }
      ]
    },
    {
      "cell_type": "code",
      "source": [
        "# 학습용 데이터, 테스트용 데이터셋 분리 => sample() 사용\n",
        "\n",
        "# 난수 발생 위한 seed 값 부여\n",
        "set.seed(123)\n",
        "\n",
        "# 80% 행 인덱스 선덩\n",
        "idx <- sample(1:nrow(df), 0.8*nrow(df))\n",
        "\n",
        "X_train <- df[idx, 1:4]\n",
        "y_train <- df[idx, 5]  # 종속변수\n",
        "\n",
        "#인덱스 해당하지 않는 행 : 테스트 데이터\n",
        "X_test <- df[-idx,1:4]\n",
        "y_test <- df[-idx,5]\n"
      ],
      "metadata": {
        "id": "bZJy6-3GZkHa"
      },
      "execution_count": null,
      "outputs": []
    },
    {
      "cell_type": "code",
      "source": [
        "print(dim(X_train))\n",
        "print(dim(X_test))\n",
        "\n",
        "print(dim(data.frame(y_train)))\n",
        "print(dim(data.frame(y_test)))"
      ],
      "metadata": {
        "colab": {
          "base_uri": "https://localhost:8080/"
        },
        "id": "KG1XEys0lEqB",
        "outputId": "c4835974-8f95-4010-9226-d45cbc462156"
      },
      "execution_count": null,
      "outputs": [
        {
          "output_type": "stream",
          "name": "stdout",
          "text": [
            "[1] 120   4\n",
            "[1] 30  4\n",
            "[1] 120   1\n",
            "[1] 30  1\n"
          ]
        }
      ]
    },
    {
      "cell_type": "markdown",
      "source": [
        "- knn(train,test,cl,k=10,l=0,prob=FALSE)\n",
        "  - train : 훈련 데이터셋\n",
        "  - test : 테스트 데이터셋\n",
        "  - cl : 훈련 데이터셋의 그룹,정보\n",
        "  - k : 이웃 수\n",
        "  - l : 최소 유효 수\n",
        "  - prob : True 인 경우 prob 속성에서 당첨된 비율을 반환"
      ],
      "metadata": {
        "id": "2cFPvKOznvvw"
      }
    },
    {
      "cell_type": "code",
      "source": [
        "# knn 학습\n",
        "model <- knn(train=X_train, test = X_test, cl = y_train, k=3)\n",
        "\n",
        "table(factor(model))"
      ],
      "metadata": {
        "colab": {
          "base_uri": "https://localhost:8080/",
          "height": 73
        },
        "id": "b6YOZ2ymlSt8",
        "outputId": "5e61a825-ef9f-4468-8587-95da47f7b933"
      },
      "execution_count": null,
      "outputs": [
        {
          "output_type": "display_data",
          "data": {
            "text/plain": [
              "\n",
              "    setosa versicolor  virginica \n",
              "        10         14          6 "
            ]
          },
          "metadata": {}
        }
      ]
    },
    {
      "cell_type": "code",
      "source": [
        "# 모델평가-오차행렬\n",
        "c_mat <- table(y_test, model)\n",
        "c_mat"
      ],
      "metadata": {
        "colab": {
          "base_uri": "https://localhost:8080/",
          "height": 110
        },
        "id": "tdFeNxxEoVdd",
        "outputId": "2b366af8-8b18-4858-d7ea-4b29ebe9f990"
      },
      "execution_count": null,
      "outputs": [
        {
          "output_type": "display_data",
          "data": {
            "text/plain": [
              "            model\n",
              "y_test       setosa versicolor virginica\n",
              "  setosa         10          0         0\n",
              "  versicolor      0         14         1\n",
              "  virginica       0          0         5"
            ]
          },
          "metadata": {}
        }
      ]
    },
    {
      "cell_type": "code",
      "source": [
        "# 모델평가-정확도\n",
        "acc <- (c_mat[1,1] +c_mat[2,2] +c_mat[3,3])/nrow(X_test)\n",
        "acc"
      ],
      "metadata": {
        "colab": {
          "base_uri": "https://localhost:8080/",
          "height": 34
        },
        "id": "fjNQuZ8-ojcX",
        "outputId": "7536204c-eb5d-48df-db40-f90b17754159"
      },
      "execution_count": null,
      "outputs": [
        {
          "output_type": "display_data",
          "data": {
            "text/html": [
              "0.966666666666667"
            ],
            "text/markdown": "0.966666666666667",
            "text/latex": "0.966666666666667",
            "text/plain": [
              "[1] 0.9666667"
            ]
          },
          "metadata": {}
        }
      ]
    },
    {
      "cell_type": "code",
      "source": [
        "model2 <- knn(train=X_train, test = X_test, cl = y_train, k=6)\n",
        "\n",
        "table(factor(model2))\n",
        "c_mat2 <- table(y_test, model)\n",
        "c_mat2\n",
        "\n",
        "acc2 <- (c_mat2[1,1] +c_mat2[2,2] +c_mat2[3,3])/nrow(X_test)\n",
        "acc2"
      ],
      "metadata": {
        "colab": {
          "base_uri": "https://localhost:8080/",
          "height": 183
        },
        "id": "hRVYatjwoysd",
        "outputId": "6683707a-49d5-4e12-d091-9774f0f61a81"
      },
      "execution_count": null,
      "outputs": [
        {
          "output_type": "display_data",
          "data": {
            "text/plain": [
              "\n",
              "    setosa versicolor  virginica \n",
              "        10         14          6 "
            ]
          },
          "metadata": {}
        },
        {
          "output_type": "display_data",
          "data": {
            "text/plain": [
              "            model\n",
              "y_test       setosa versicolor virginica\n",
              "  setosa         10          0         0\n",
              "  versicolor      0         14         1\n",
              "  virginica       0          0         5"
            ]
          },
          "metadata": {}
        },
        {
          "output_type": "display_data",
          "data": {
            "text/html": [
              "0.966666666666667"
            ],
            "text/markdown": "0.966666666666667",
            "text/latex": "0.966666666666667",
            "text/plain": [
              "[1] 0.9666667"
            ]
          },
          "metadata": {}
        }
      ]
    },
    {
      "cell_type": "markdown",
      "source": [
        "k=3 -> 0.966666666666667                                             \n",
        "k=6 -> 0.966666666666667                \n",
        "k=9 ->0.966666666666667                            "
      ],
      "metadata": {
        "id": "NTm6rc9uq0sh"
      }
    },
    {
      "cell_type": "markdown",
      "source": [
        "### 3. SVM"
      ],
      "metadata": {
        "id": "OX3FyD_IWuMX"
      }
    },
    {
      "cell_type": "code",
      "source": [
        "library(dplyr)\n",
        "library(ggplot2)\n",
        "\n",
        "# SVM 분류모델 위한 패키지 설치와 임포트\n",
        "install.packages(\"e1071\")\n",
        "library(e1071)\n"
      ],
      "metadata": {
        "colab": {
          "base_uri": "https://localhost:8080/"
        },
        "id": "G1cRu3y1qPco",
        "outputId": "b2da8ecf-8406-4fc1-86d6-9ddbf1be98bc"
      },
      "execution_count": null,
      "outputs": [
        {
          "output_type": "stream",
          "name": "stderr",
          "text": [
            "Installing package into ‘/usr/local/lib/R/site-library’\n",
            "(as ‘lib’ is unspecified)\n",
            "\n"
          ]
        }
      ]
    },
    {
      "cell_type": "code",
      "source": [
        "df = read.csv(\"https://raw.githubusercontent.com/datasciencedojo/datasets/master/titanic.csv\", stringsAsFactors=TRUE)\n",
        "head(df)"
      ],
      "metadata": {
        "id": "QFt1BHkvqXI3",
        "colab": {
          "base_uri": "https://localhost:8080/",
          "height": 321
        },
        "outputId": "ef2e3fc7-2e62-424f-f495-1503b858ac01"
      },
      "execution_count": null,
      "outputs": [
        {
          "output_type": "display_data",
          "data": {
            "text/html": [
              "<table class=\"dataframe\">\n",
              "<caption>A data.frame: 6 × 12</caption>\n",
              "<thead>\n",
              "\t<tr><th></th><th scope=col>PassengerId</th><th scope=col>Survived</th><th scope=col>Pclass</th><th scope=col>Name</th><th scope=col>Sex</th><th scope=col>Age</th><th scope=col>SibSp</th><th scope=col>Parch</th><th scope=col>Ticket</th><th scope=col>Fare</th><th scope=col>Cabin</th><th scope=col>Embarked</th></tr>\n",
              "\t<tr><th></th><th scope=col>&lt;int&gt;</th><th scope=col>&lt;int&gt;</th><th scope=col>&lt;int&gt;</th><th scope=col>&lt;fct&gt;</th><th scope=col>&lt;fct&gt;</th><th scope=col>&lt;dbl&gt;</th><th scope=col>&lt;int&gt;</th><th scope=col>&lt;int&gt;</th><th scope=col>&lt;fct&gt;</th><th scope=col>&lt;dbl&gt;</th><th scope=col>&lt;fct&gt;</th><th scope=col>&lt;fct&gt;</th></tr>\n",
              "</thead>\n",
              "<tbody>\n",
              "\t<tr><th scope=row>1</th><td>1</td><td>0</td><td>3</td><td>Braund, Mr. Owen Harris                            </td><td>male  </td><td>22</td><td>1</td><td>0</td><td>A/5 21171       </td><td> 7.2500</td><td>    </td><td>S</td></tr>\n",
              "\t<tr><th scope=row>2</th><td>2</td><td>1</td><td>1</td><td>Cumings, Mrs. John Bradley (Florence Briggs Thayer)</td><td>female</td><td>38</td><td>1</td><td>0</td><td>PC 17599        </td><td>71.2833</td><td>C85 </td><td>C</td></tr>\n",
              "\t<tr><th scope=row>3</th><td>3</td><td>1</td><td>3</td><td>Heikkinen, Miss. Laina                             </td><td>female</td><td>26</td><td>0</td><td>0</td><td>STON/O2. 3101282</td><td> 7.9250</td><td>    </td><td>S</td></tr>\n",
              "\t<tr><th scope=row>4</th><td>4</td><td>1</td><td>1</td><td>Futrelle, Mrs. Jacques Heath (Lily May Peel)       </td><td>female</td><td>35</td><td>1</td><td>0</td><td>113803          </td><td>53.1000</td><td>C123</td><td>S</td></tr>\n",
              "\t<tr><th scope=row>5</th><td>5</td><td>0</td><td>3</td><td>Allen, Mr. William Henry                           </td><td>male  </td><td>35</td><td>0</td><td>0</td><td>373450          </td><td> 8.0500</td><td>    </td><td>S</td></tr>\n",
              "\t<tr><th scope=row>6</th><td>6</td><td>0</td><td>3</td><td>Moran, Mr. James                                   </td><td>male  </td><td>NA</td><td>0</td><td>0</td><td>330877          </td><td> 8.4583</td><td>    </td><td>Q</td></tr>\n",
              "</tbody>\n",
              "</table>\n"
            ],
            "text/markdown": "\nA data.frame: 6 × 12\n\n| <!--/--> | PassengerId &lt;int&gt; | Survived &lt;int&gt; | Pclass &lt;int&gt; | Name &lt;fct&gt; | Sex &lt;fct&gt; | Age &lt;dbl&gt; | SibSp &lt;int&gt; | Parch &lt;int&gt; | Ticket &lt;fct&gt; | Fare &lt;dbl&gt; | Cabin &lt;fct&gt; | Embarked &lt;fct&gt; |\n|---|---|---|---|---|---|---|---|---|---|---|---|---|\n| 1 | 1 | 0 | 3 | Braund, Mr. Owen Harris                             | male   | 22 | 1 | 0 | A/5 21171        |  7.2500 | <!----> | S |\n| 2 | 2 | 1 | 1 | Cumings, Mrs. John Bradley (Florence Briggs Thayer) | female | 38 | 1 | 0 | PC 17599         | 71.2833 | C85  | C |\n| 3 | 3 | 1 | 3 | Heikkinen, Miss. Laina                              | female | 26 | 0 | 0 | STON/O2. 3101282 |  7.9250 | <!----> | S |\n| 4 | 4 | 1 | 1 | Futrelle, Mrs. Jacques Heath (Lily May Peel)        | female | 35 | 1 | 0 | 113803           | 53.1000 | C123 | S |\n| 5 | 5 | 0 | 3 | Allen, Mr. William Henry                            | male   | 35 | 0 | 0 | 373450           |  8.0500 | <!----> | S |\n| 6 | 6 | 0 | 3 | Moran, Mr. James                                    | male   | NA | 0 | 0 | 330877           |  8.4583 | <!----> | Q |\n\n",
            "text/latex": "A data.frame: 6 × 12\n\\begin{tabular}{r|llllllllllll}\n  & PassengerId & Survived & Pclass & Name & Sex & Age & SibSp & Parch & Ticket & Fare & Cabin & Embarked\\\\\n  & <int> & <int> & <int> & <fct> & <fct> & <dbl> & <int> & <int> & <fct> & <dbl> & <fct> & <fct>\\\\\n\\hline\n\t1 & 1 & 0 & 3 & Braund, Mr. Owen Harris                             & male   & 22 & 1 & 0 & A/5 21171        &  7.2500 &      & S\\\\\n\t2 & 2 & 1 & 1 & Cumings, Mrs. John Bradley (Florence Briggs Thayer) & female & 38 & 1 & 0 & PC 17599         & 71.2833 & C85  & C\\\\\n\t3 & 3 & 1 & 3 & Heikkinen, Miss. Laina                              & female & 26 & 0 & 0 & STON/O2. 3101282 &  7.9250 &      & S\\\\\n\t4 & 4 & 1 & 1 & Futrelle, Mrs. Jacques Heath (Lily May Peel)        & female & 35 & 1 & 0 & 113803           & 53.1000 & C123 & S\\\\\n\t5 & 5 & 0 & 3 & Allen, Mr. William Henry                            & male   & 35 & 0 & 0 & 373450           &  8.0500 &      & S\\\\\n\t6 & 6 & 0 & 3 & Moran, Mr. James                                    & male   & NA & 0 & 0 & 330877           &  8.4583 &      & Q\\\\\n\\end{tabular}\n",
            "text/plain": [
              "  PassengerId Survived Pclass\n",
              "1 1           0        3     \n",
              "2 2           1        1     \n",
              "3 3           1        3     \n",
              "4 4           1        1     \n",
              "5 5           0        3     \n",
              "6 6           0        3     \n",
              "  Name                                                Sex    Age SibSp Parch\n",
              "1 Braund, Mr. Owen Harris                             male   22  1     0    \n",
              "2 Cumings, Mrs. John Bradley (Florence Briggs Thayer) female 38  1     0    \n",
              "3 Heikkinen, Miss. Laina                              female 26  0     0    \n",
              "4 Futrelle, Mrs. Jacques Heath (Lily May Peel)        female 35  1     0    \n",
              "5 Allen, Mr. William Henry                            male   35  0     0    \n",
              "6 Moran, Mr. James                                    male   NA  0     0    \n",
              "  Ticket           Fare    Cabin Embarked\n",
              "1 A/5 21171         7.2500       S       \n",
              "2 PC 17599         71.2833 C85   C       \n",
              "3 STON/O2. 3101282  7.9250       S       \n",
              "4 113803           53.1000 C123  S       \n",
              "5 373450            8.0500       S       \n",
              "6 330877            8.4583       Q       "
            ]
          },
          "metadata": {}
        }
      ]
    },
    {
      "cell_type": "code",
      "source": [
        "d_mean = mean(df$Age, na.rm = TRUE)\n",
        "df$Age = ifelse(is.na(df$Age), d_mean, df$Age)\n",
        "\n",
        "df$Embarked = replace(df$Embarked, df$Embarked==\"\",\"S\")\n",
        "df$FamilySize <- df$SibSp + df$Parch"
      ],
      "metadata": {
        "id": "aQ4pdPjnYIxi"
      },
      "execution_count": null,
      "outputs": []
    },
    {
      "cell_type": "code",
      "source": [
        "# sex , Embarked 컬럼 원-핫 인코딩\n",
        "# 원-핫 인코딩 : 범주형 데이터를 숫자로 변형 (0,1 로만 표시.단순.)\n",
        "df <- mutate(df, Male = ifelse(df$Sex==\"male\",1,0))\n",
        "df <- mutate(df,Female = ifelse(df$Sex==\"female\",1,0))\n",
        "\n",
        "df <- mutate(df,C = ifelse(df$Embarked==\"C\",1,0))\n",
        "df <- mutate(df,Q = ifelse(df$Embarked==\"Q\",1,0))\n",
        "df <- mutate(df,S= ifelse(df$Embarked==\"S\",1,0))\n",
        "\n",
        "head(df)"
      ],
      "metadata": {
        "colab": {
          "base_uri": "https://localhost:8080/",
          "height": 601
        },
        "id": "gUCJPWYZ0MIt",
        "outputId": "217dce16-5790-4e5c-9fc1-8ef109a7dd67"
      },
      "execution_count": null,
      "outputs": [
        {
          "output_type": "display_data",
          "data": {
            "text/html": [
              "<table class=\"dataframe\">\n",
              "<caption>A data.frame: 6 × 18</caption>\n",
              "<thead>\n",
              "\t<tr><th></th><th scope=col>PassengerId</th><th scope=col>Survived</th><th scope=col>Pclass</th><th scope=col>Name</th><th scope=col>Sex</th><th scope=col>Age</th><th scope=col>SibSp</th><th scope=col>Parch</th><th scope=col>Ticket</th><th scope=col>Fare</th><th scope=col>Cabin</th><th scope=col>Embarked</th><th scope=col>FamilySize</th><th scope=col>Male</th><th scope=col>Female</th><th scope=col>C</th><th scope=col>Q</th><th scope=col>S</th></tr>\n",
              "\t<tr><th></th><th scope=col>&lt;int&gt;</th><th scope=col>&lt;int&gt;</th><th scope=col>&lt;int&gt;</th><th scope=col>&lt;fct&gt;</th><th scope=col>&lt;fct&gt;</th><th scope=col>&lt;dbl&gt;</th><th scope=col>&lt;int&gt;</th><th scope=col>&lt;int&gt;</th><th scope=col>&lt;fct&gt;</th><th scope=col>&lt;dbl&gt;</th><th scope=col>&lt;fct&gt;</th><th scope=col>&lt;fct&gt;</th><th scope=col>&lt;int&gt;</th><th scope=col>&lt;dbl&gt;</th><th scope=col>&lt;dbl&gt;</th><th scope=col>&lt;dbl&gt;</th><th scope=col>&lt;dbl&gt;</th><th scope=col>&lt;dbl&gt;</th></tr>\n",
              "</thead>\n",
              "<tbody>\n",
              "\t<tr><th scope=row>1</th><td>1</td><td>0</td><td>3</td><td>Braund, Mr. Owen Harris                            </td><td>male  </td><td>22.00000</td><td>1</td><td>0</td><td>A/5 21171       </td><td> 7.2500</td><td>    </td><td>S</td><td>1</td><td>1</td><td>0</td><td>0</td><td>0</td><td>1</td></tr>\n",
              "\t<tr><th scope=row>2</th><td>2</td><td>1</td><td>1</td><td>Cumings, Mrs. John Bradley (Florence Briggs Thayer)</td><td>female</td><td>38.00000</td><td>1</td><td>0</td><td>PC 17599        </td><td>71.2833</td><td>C85 </td><td>C</td><td>1</td><td>0</td><td>1</td><td>1</td><td>0</td><td>0</td></tr>\n",
              "\t<tr><th scope=row>3</th><td>3</td><td>1</td><td>3</td><td>Heikkinen, Miss. Laina                             </td><td>female</td><td>26.00000</td><td>0</td><td>0</td><td>STON/O2. 3101282</td><td> 7.9250</td><td>    </td><td>S</td><td>0</td><td>0</td><td>1</td><td>0</td><td>0</td><td>1</td></tr>\n",
              "\t<tr><th scope=row>4</th><td>4</td><td>1</td><td>1</td><td>Futrelle, Mrs. Jacques Heath (Lily May Peel)       </td><td>female</td><td>35.00000</td><td>1</td><td>0</td><td>113803          </td><td>53.1000</td><td>C123</td><td>S</td><td>1</td><td>0</td><td>1</td><td>0</td><td>0</td><td>1</td></tr>\n",
              "\t<tr><th scope=row>5</th><td>5</td><td>0</td><td>3</td><td>Allen, Mr. William Henry                           </td><td>male  </td><td>35.00000</td><td>0</td><td>0</td><td>373450          </td><td> 8.0500</td><td>    </td><td>S</td><td>0</td><td>1</td><td>0</td><td>0</td><td>0</td><td>1</td></tr>\n",
              "\t<tr><th scope=row>6</th><td>6</td><td>0</td><td>3</td><td>Moran, Mr. James                                   </td><td>male  </td><td>29.69912</td><td>0</td><td>0</td><td>330877          </td><td> 8.4583</td><td>    </td><td>Q</td><td>0</td><td>1</td><td>0</td><td>0</td><td>1</td><td>0</td></tr>\n",
              "</tbody>\n",
              "</table>\n"
            ],
            "text/markdown": "\nA data.frame: 6 × 18\n\n| <!--/--> | PassengerId &lt;int&gt; | Survived &lt;int&gt; | Pclass &lt;int&gt; | Name &lt;fct&gt; | Sex &lt;fct&gt; | Age &lt;dbl&gt; | SibSp &lt;int&gt; | Parch &lt;int&gt; | Ticket &lt;fct&gt; | Fare &lt;dbl&gt; | Cabin &lt;fct&gt; | Embarked &lt;fct&gt; | FamilySize &lt;int&gt; | Male &lt;dbl&gt; | Female &lt;dbl&gt; | C &lt;dbl&gt; | Q &lt;dbl&gt; | S &lt;dbl&gt; |\n|---|---|---|---|---|---|---|---|---|---|---|---|---|---|---|---|---|---|---|\n| 1 | 1 | 0 | 3 | Braund, Mr. Owen Harris                             | male   | 22.00000 | 1 | 0 | A/5 21171        |  7.2500 | <!----> | S | 1 | 1 | 0 | 0 | 0 | 1 |\n| 2 | 2 | 1 | 1 | Cumings, Mrs. John Bradley (Florence Briggs Thayer) | female | 38.00000 | 1 | 0 | PC 17599         | 71.2833 | C85  | C | 1 | 0 | 1 | 1 | 0 | 0 |\n| 3 | 3 | 1 | 3 | Heikkinen, Miss. Laina                              | female | 26.00000 | 0 | 0 | STON/O2. 3101282 |  7.9250 | <!----> | S | 0 | 0 | 1 | 0 | 0 | 1 |\n| 4 | 4 | 1 | 1 | Futrelle, Mrs. Jacques Heath (Lily May Peel)        | female | 35.00000 | 1 | 0 | 113803           | 53.1000 | C123 | S | 1 | 0 | 1 | 0 | 0 | 1 |\n| 5 | 5 | 0 | 3 | Allen, Mr. William Henry                            | male   | 35.00000 | 0 | 0 | 373450           |  8.0500 | <!----> | S | 0 | 1 | 0 | 0 | 0 | 1 |\n| 6 | 6 | 0 | 3 | Moran, Mr. James                                    | male   | 29.69912 | 0 | 0 | 330877           |  8.4583 | <!----> | Q | 0 | 1 | 0 | 0 | 1 | 0 |\n\n",
            "text/latex": "A data.frame: 6 × 18\n\\begin{tabular}{r|llllllllllllllllll}\n  & PassengerId & Survived & Pclass & Name & Sex & Age & SibSp & Parch & Ticket & Fare & Cabin & Embarked & FamilySize & Male & Female & C & Q & S\\\\\n  & <int> & <int> & <int> & <fct> & <fct> & <dbl> & <int> & <int> & <fct> & <dbl> & <fct> & <fct> & <int> & <dbl> & <dbl> & <dbl> & <dbl> & <dbl>\\\\\n\\hline\n\t1 & 1 & 0 & 3 & Braund, Mr. Owen Harris                             & male   & 22.00000 & 1 & 0 & A/5 21171        &  7.2500 &      & S & 1 & 1 & 0 & 0 & 0 & 1\\\\\n\t2 & 2 & 1 & 1 & Cumings, Mrs. John Bradley (Florence Briggs Thayer) & female & 38.00000 & 1 & 0 & PC 17599         & 71.2833 & C85  & C & 1 & 0 & 1 & 1 & 0 & 0\\\\\n\t3 & 3 & 1 & 3 & Heikkinen, Miss. Laina                              & female & 26.00000 & 0 & 0 & STON/O2. 3101282 &  7.9250 &      & S & 0 & 0 & 1 & 0 & 0 & 1\\\\\n\t4 & 4 & 1 & 1 & Futrelle, Mrs. Jacques Heath (Lily May Peel)        & female & 35.00000 & 1 & 0 & 113803           & 53.1000 & C123 & S & 1 & 0 & 1 & 0 & 0 & 1\\\\\n\t5 & 5 & 0 & 3 & Allen, Mr. William Henry                            & male   & 35.00000 & 0 & 0 & 373450           &  8.0500 &      & S & 0 & 1 & 0 & 0 & 0 & 1\\\\\n\t6 & 6 & 0 & 3 & Moran, Mr. James                                    & male   & 29.69912 & 0 & 0 & 330877           &  8.4583 &      & Q & 0 & 1 & 0 & 0 & 1 & 0\\\\\n\\end{tabular}\n",
            "text/plain": [
              "  PassengerId Survived Pclass\n",
              "1 1           0        3     \n",
              "2 2           1        1     \n",
              "3 3           1        3     \n",
              "4 4           1        1     \n",
              "5 5           0        3     \n",
              "6 6           0        3     \n",
              "  Name                                                Sex    Age      SibSp\n",
              "1 Braund, Mr. Owen Harris                             male   22.00000 1    \n",
              "2 Cumings, Mrs. John Bradley (Florence Briggs Thayer) female 38.00000 1    \n",
              "3 Heikkinen, Miss. Laina                              female 26.00000 0    \n",
              "4 Futrelle, Mrs. Jacques Heath (Lily May Peel)        female 35.00000 1    \n",
              "5 Allen, Mr. William Henry                            male   35.00000 0    \n",
              "6 Moran, Mr. James                                    male   29.69912 0    \n",
              "  Parch Ticket           Fare    Cabin Embarked FamilySize Male Female C Q S\n",
              "1 0     A/5 21171         7.2500       S        1          1    0      0 0 1\n",
              "2 0     PC 17599         71.2833 C85   C        1          0    1      1 0 0\n",
              "3 0     STON/O2. 3101282  7.9250       S        0          0    1      0 0 1\n",
              "4 0     113803           53.1000 C123  S        1          0    1      0 0 1\n",
              "5 0     373450            8.0500       S        0          1    0      0 0 1\n",
              "6 0     330877            8.4583       Q        0          1    0      0 1 0"
            ]
          },
          "metadata": {}
        }
      ]
    },
    {
      "cell_type": "code",
      "source": [
        "# 분석 결과에 영향 없는 변수 제거. 나머지로 재구성\n",
        "df <- df[,c(\"Survived\",\"Pclass\",\"Male\",\"Female\",\"Age\",\"Fare\",\"C\",\"Q\",\"S\",\"FamilySize\")]"
      ],
      "metadata": {
        "id": "oKfBaibU1h9X"
      },
      "execution_count": null,
      "outputs": []
    },
    {
      "cell_type": "code",
      "source": [
        "# 난수 발생 위한 seed 값 부여\n",
        "set.seed(123)\n",
        "\n",
        "idx <- sample(1:nrow(df),0.7*nrow(df))\n",
        "df_train <- df[idx,]\n",
        "df_test <-df[-idx,]\n",
        "\n",
        "print(dim(df_train))\n",
        "print(dim(df_test))\n"
      ],
      "metadata": {
        "colab": {
          "base_uri": "https://localhost:8080/"
        },
        "id": "dtHaRLcR1cyA",
        "outputId": "23c28aee-c394-4955-ffd8-6165ec7a9c3c"
      },
      "execution_count": null,
      "outputs": [
        {
          "output_type": "stream",
          "name": "stdout",
          "text": [
            "[1] 623  10\n",
            "[1] 268  10\n"
          ]
        }
      ]
    },
    {
      "cell_type": "code",
      "source": [
        "model <- svm(Survived~.,data = df_train, type =\"C-classification\")\n",
        "pred <- predict(model, df_test, type = \"class\")\n",
        "\n",
        "cm <- table(df_test$Survived, pred)\n",
        "print(cm)\n",
        "\n",
        "acc <- (cm[1,1] +cm[2,2])/ nrow(df_test)\n",
        "print(acc)"
      ],
      "metadata": {
        "colab": {
          "base_uri": "https://localhost:8080/"
        },
        "id": "M2kamvdI3PAU",
        "outputId": "b6dccc96-656b-413e-8744-c2d8b5ff8aa2"
      },
      "execution_count": null,
      "outputs": [
        {
          "output_type": "stream",
          "name": "stdout",
          "text": [
            "   pred\n",
            "      0   1\n",
            "  0 148  20\n",
            "  1  30  70\n",
            "[1] 0.8134328\n"
          ]
        }
      ]
    },
    {
      "cell_type": "code",
      "source": [
        "model <- svm(Survived~., data = df_train, kernel = \"radial\", gamma = 0.01, cost = 10, type =\"C-classification\")"
      ],
      "metadata": {
        "id": "4WhI1sNcDo2V"
      },
      "execution_count": null,
      "outputs": []
    },
    {
      "cell_type": "markdown",
      "source": [
        "- svm 파라미터 조정\n",
        "  - cost 값의 예\n",
        "  - gamma  값의 예\n",
        "  "
      ],
      "metadata": {
        "id": "TIAgORflvLKO"
      }
    },
    {
      "cell_type": "code",
      "source": [
        "pred <- predict(model, df_test, type=\"class\")\n",
        "cm<- table(df_test$Survived,pred)\n",
        "print(cm)\n",
        "\n",
        "acc<-(cm[1,1]+cm[2,2])/nrow(df_test)\n",
        "print(acc)"
      ],
      "metadata": {
        "id": "LnPevN7IEdHP",
        "colab": {
          "base_uri": "https://localhost:8080/"
        },
        "outputId": "bb19786c-f4b0-41fe-915d-95b3bb412979"
      },
      "execution_count": null,
      "outputs": [
        {
          "output_type": "stream",
          "name": "stdout",
          "text": [
            "   pred\n",
            "      0   1\n",
            "  0 145  23\n",
            "  1  29  71\n",
            "[1] 0.8059701\n"
          ]
        }
      ]
    },
    {
      "cell_type": "markdown",
      "source": [
        "4. 로지스틱 회귀 위한 문제해결\n",
        "-  y = sigmoid\n",
        "-  0~1\n"
      ],
      "metadata": {
        "id": "JhgSbGrWsrrp"
      }
    },
    {
      "cell_type": "code",
      "source": [
        "library(dplyr)\n",
        "library(ggplot2)\n",
        "\n",
        "# 로지스틱 회귀 분류모델 위한 임포트\n",
        "library(nnet)"
      ],
      "metadata": {
        "colab": {
          "base_uri": "https://localhost:8080/"
        },
        "id": "qyVQ_M61YnRb",
        "outputId": "f6f73346-beea-4a0a-efec-d9961b57087d"
      },
      "execution_count": 1,
      "outputs": [
        {
          "output_type": "stream",
          "name": "stderr",
          "text": [
            "\n",
            "Attaching package: ‘dplyr’\n",
            "\n",
            "\n",
            "The following objects are masked from ‘package:stats’:\n",
            "\n",
            "    filter, lag\n",
            "\n",
            "\n",
            "The following objects are masked from ‘package:base’:\n",
            "\n",
            "    intersect, setdiff, setequal, union\n",
            "\n",
            "\n"
          ]
        }
      ]
    },
    {
      "cell_type": "code",
      "source": [
        "df<- read.csv(\"https://raw.githubusercontent.com/mwaskom/seaborn-data/master/iris.csv\")\n",
        "str(df)\n",
        "summary(df)"
      ],
      "metadata": {
        "colab": {
          "base_uri": "https://localhost:8080/",
          "height": 390
        },
        "id": "sda3G1tKZu3z",
        "outputId": "bd2efd26-1d65-4e64-f5d1-976e2e438358"
      },
      "execution_count": 4,
      "outputs": [
        {
          "output_type": "stream",
          "name": "stdout",
          "text": [
            "'data.frame':\t150 obs. of  5 variables:\n",
            " $ sepal_length: num  5.1 4.9 4.7 4.6 5 5.4 4.6 5 4.4 4.9 ...\n",
            " $ sepal_width : num  3.5 3 3.2 3.1 3.6 3.9 3.4 3.4 2.9 3.1 ...\n",
            " $ petal_length: num  1.4 1.4 1.3 1.5 1.4 1.7 1.4 1.5 1.4 1.5 ...\n",
            " $ petal_width : num  0.2 0.2 0.2 0.2 0.2 0.4 0.3 0.2 0.2 0.1 ...\n",
            " $ species     : chr  \"setosa\" \"setosa\" \"setosa\" \"setosa\" ...\n"
          ]
        },
        {
          "output_type": "display_data",
          "data": {
            "text/plain": [
              "  sepal_length    sepal_width     petal_length    petal_width   \n",
              " Min.   :4.300   Min.   :2.000   Min.   :1.000   Min.   :0.100  \n",
              " 1st Qu.:5.100   1st Qu.:2.800   1st Qu.:1.600   1st Qu.:0.300  \n",
              " Median :5.800   Median :3.000   Median :4.350   Median :1.300  \n",
              " Mean   :5.843   Mean   :3.057   Mean   :3.758   Mean   :1.199  \n",
              " 3rd Qu.:6.400   3rd Qu.:3.300   3rd Qu.:5.100   3rd Qu.:1.800  \n",
              " Max.   :7.900   Max.   :4.400   Max.   :6.900   Max.   :2.500  \n",
              "   species         \n",
              " Length:150        \n",
              " Class :character  \n",
              " Mode  :character  \n",
              "                   \n",
              "                   \n",
              "                   "
            ]
          },
          "metadata": {}
        }
      ]
    },
    {
      "cell_type": "code",
      "source": [
        "# 전처리\n",
        "sum(is.na(df))"
      ],
      "metadata": {
        "colab": {
          "base_uri": "https://localhost:8080/",
          "height": 34
        },
        "id": "z9rhoIEraDj8",
        "outputId": "bdcb21f7-58b7-4843-aee4-bdfe80aa2001"
      },
      "execution_count": 5,
      "outputs": [
        {
          "output_type": "display_data",
          "data": {
            "text/html": [
              "0"
            ],
            "text/markdown": "0",
            "text/latex": "0",
            "text/plain": [
              "[1] 0"
            ]
          },
          "metadata": {}
        }
      ]
    },
    {
      "cell_type": "code",
      "source": [
        "table(df$species)"
      ],
      "metadata": {
        "colab": {
          "base_uri": "https://localhost:8080/",
          "height": 73
        },
        "id": "V_vFv30KaOTA",
        "outputId": "16f87a78-23e3-4a86-8167-de9230cda985"
      },
      "execution_count": 6,
      "outputs": [
        {
          "output_type": "display_data",
          "data": {
            "text/plain": [
              "\n",
              "    setosa versicolor  virginica \n",
              "        50         50         50 "
            ]
          },
          "metadata": {}
        }
      ]
    },
    {
      "cell_type": "code",
      "source": [
        "# min-max 정규화\n",
        "\n",
        "normal <-function(x)(\n",
        "    return((x-min(x))/(max(x)-min(x)))\n",
        ")\n",
        "\n",
        "# 정규화 함수 적용\n",
        "\n",
        "df[1:4] <- as.data.frame(lapply(df[1:4],normal))\n",
        "\n",
        "summary(df)"
      ],
      "metadata": {
        "colab": {
          "base_uri": "https://localhost:8080/",
          "height": 278
        },
        "id": "nvyi_oVnaQB1",
        "outputId": "6c0b468b-c488-4a81-ae17-fbe8fb75f218"
      },
      "execution_count": 7,
      "outputs": [
        {
          "output_type": "display_data",
          "data": {
            "text/plain": [
              "  sepal_length     sepal_width      petal_length     petal_width     \n",
              " Min.   :0.0000   Min.   :0.0000   Min.   :0.0000   Min.   :0.00000  \n",
              " 1st Qu.:0.2222   1st Qu.:0.3333   1st Qu.:0.1017   1st Qu.:0.08333  \n",
              " Median :0.4167   Median :0.4167   Median :0.5678   Median :0.50000  \n",
              " Mean   :0.4287   Mean   :0.4406   Mean   :0.4675   Mean   :0.45806  \n",
              " 3rd Qu.:0.5833   3rd Qu.:0.5417   3rd Qu.:0.6949   3rd Qu.:0.70833  \n",
              " Max.   :1.0000   Max.   :1.0000   Max.   :1.0000   Max.   :1.00000  \n",
              "   species         \n",
              " Length:150        \n",
              " Class :character  \n",
              " Mode  :character  \n",
              "                   \n",
              "                   \n",
              "                   "
            ]
          },
          "metadata": {}
        }
      ]
    },
    {
      "cell_type": "code",
      "source": [
        "set.seed(123)\n",
        "idx <- sample(1:nrow(df),0.8*nrow(df))\n",
        "\n",
        "train_dataset <-df[idx,1:5]\n",
        "test_dataset <-df[-idx,1:5]\n",
        "\n",
        "print(dim(train_dataset))\n",
        "print(dim(test_dataset))"
      ],
      "metadata": {
        "colab": {
          "base_uri": "https://localhost:8080/"
        },
        "id": "-zdRuDSzctsu",
        "outputId": "e5e8ca2e-d06b-4efa-e1a6-e6bfe69a4c2a"
      },
      "execution_count": 8,
      "outputs": [
        {
          "output_type": "stream",
          "name": "stdout",
          "text": [
            "[1] 120   5\n",
            "[1] 30  5\n"
          ]
        }
      ]
    },
    {
      "cell_type": "markdown",
      "source": [
        "### 4. 로지스틱 회귀\n",
        " - multinom(formula, data)\n",
        " - formula: 함수식(종속변수~독립변수1 + 독립변수2)\n",
        " - data: 학습 데이터셋(데이터 프레임)\n"
      ],
      "metadata": {
        "id": "9F2cFcIDeBFE"
      }
    },
    {
      "cell_type": "code",
      "source": [
        "# 로지스틱 회귀 모델 학습\n",
        "# 독립변수 X_train, 종속변수 y_train으로 학습\n",
        "model <- multinom(formula = species ~ sepal_length +sepal_width + petal_length + petal_width,\n",
        "data = train_dataset)\n",
        "\n",
        "fitted(model)\n"
      ],
      "metadata": {
        "colab": {
          "base_uri": "https://localhost:8080/",
          "height": 1000
        },
        "id": "0FBC9O_Odpbq",
        "outputId": "32618cd0-b6a6-4c30-9bd2-90c2331a86d0"
      },
      "execution_count": 9,
      "outputs": [
        {
          "output_type": "stream",
          "name": "stdout",
          "text": [
            "# weights:  18 (10 variable)\n",
            "initial  value 131.833475 \n",
            "iter  10 value 13.518787\n",
            "iter  20 value 4.708637\n",
            "iter  30 value 3.368639\n",
            "iter  40 value 2.934471\n",
            "iter  50 value 2.692612\n",
            "iter  60 value 2.619843\n",
            "iter  70 value 2.404755\n",
            "iter  80 value 2.368683\n",
            "iter  90 value 2.253571\n",
            "iter 100 value 2.206298\n",
            "final  value 2.206298 \n",
            "stopped after 100 iterations\n"
          ]
        },
        {
          "output_type": "display_data",
          "data": {
            "text/html": [
              "<table class=\"dataframe\">\n",
              "<caption>A matrix: 120 × 3 of type dbl</caption>\n",
              "<thead>\n",
              "\t<tr><th></th><th scope=col>setosa</th><th scope=col>versicolor</th><th scope=col>virginica</th></tr>\n",
              "</thead>\n",
              "<tbody>\n",
              "\t<tr><th scope=row>14</th><td>1.000000e+00</td><td>3.281873e-08</td><td>1.587809e-52</td></tr>\n",
              "\t<tr><th scope=row>50</th><td>9.999973e-01</td><td>2.735069e-06</td><td>7.801278e-51</td></tr>\n",
              "\t<tr><th scope=row>118</th><td>9.626793e-24</td><td>1.199338e-12</td><td>1.000000e+00</td></tr>\n",
              "\t<tr><th scope=row>43</th><td>1.000000e+00</td><td>1.915765e-08</td><td>2.856899e-51</td></tr>\n",
              "\t<tr><th scope=row>150</th><td>2.488589e-10</td><td>2.447711e-04</td><td>9.997552e-01</td></tr>\n",
              "\t<tr><th scope=row>148</th><td>1.067095e-14</td><td>4.308072e-05</td><td>9.999569e-01</td></tr>\n",
              "\t<tr><th scope=row>90</th><td>1.027061e-05</td><td>9.999897e-01</td><td>2.676168e-08</td></tr>\n",
              "\t<tr><th scope=row>91</th><td>1.493468e-04</td><td>9.998464e-01</td><td>4.229918e-06</td></tr>\n",
              "\t<tr><th scope=row>143</th><td>9.162982e-15</td><td>3.665186e-07</td><td>9.999996e-01</td></tr>\n",
              "\t<tr><th scope=row>92</th><td>5.476620e-06</td><td>9.999924e-01</td><td>2.149935e-06</td></tr>\n",
              "\t<tr><th scope=row>137</th><td>1.004173e-19</td><td>1.757350e-11</td><td>1.000000e+00</td></tr>\n",
              "\t<tr><th scope=row>99</th><td>2.185638e-03</td><td>9.978144e-01</td><td>4.712331e-18</td></tr>\n",
              "\t<tr><th scope=row>72</th><td>7.644634e-07</td><td>9.999992e-01</td><td>6.373092e-12</td></tr>\n",
              "\t<tr><th scope=row>26</th><td>9.999097e-01</td><td>9.030503e-05</td><td>5.349455e-46</td></tr>\n",
              "\t<tr><th scope=row>7</th><td>1.000000e+00</td><td>3.508993e-08</td><td>8.501567e-51</td></tr>\n",
              "\t<tr><th scope=row>78</th><td>5.737482e-10</td><td>9.355118e-01</td><td>6.448818e-02</td></tr>\n",
              "\t<tr><th scope=row>81</th><td>2.084945e-05</td><td>9.999792e-01</td><td>1.254040e-11</td></tr>\n",
              "\t<tr><th scope=row>147</th><td>2.004312e-16</td><td>1.944226e-05</td><td>9.999806e-01</td></tr>\n",
              "\t<tr><th scope=row>103</th><td>6.924715e-23</td><td>2.227948e-10</td><td>1.000000e+00</td></tr>\n",
              "\t<tr><th scope=row>117</th><td>1.982645e-14</td><td>7.143388e-06</td><td>9.999929e-01</td></tr>\n",
              "\t<tr><th scope=row>76</th><td>2.399812e-08</td><td>1.000000e+00</td><td>5.046117e-10</td></tr>\n",
              "\t<tr><th scope=row>32</th><td>9.995963e-01</td><td>4.036602e-04</td><td>1.094087e-47</td></tr>\n",
              "\t<tr><th scope=row>106</th><td>1.594206e-29</td><td>4.944327e-15</td><td>1.000000e+00</td></tr>\n",
              "\t<tr><th scope=row>109</th><td>2.164224e-22</td><td>2.224297e-10</td><td>1.000000e+00</td></tr>\n",
              "\t<tr><th scope=row>136</th><td>3.924526e-28</td><td>4.709523e-12</td><td>1.000000e+00</td></tr>\n",
              "\t<tr><th scope=row>9</th><td>9.999993e-01</td><td>6.961620e-07</td><td>2.590000e-47</td></tr>\n",
              "\t<tr><th scope=row>41</th><td>9.999993e-01</td><td>7.463048e-07</td><td>2.592084e-52</td></tr>\n",
              "\t<tr><th scope=row>74</th><td>4.333022e-06</td><td>9.999939e-01</td><td>1.805273e-06</td></tr>\n",
              "\t<tr><th scope=row>23</th><td>1.000000e+00</td><td>1.517848e-09</td><td>8.115124e-58</td></tr>\n",
              "\t<tr><th scope=row>27</th><td>9.999944e-01</td><td>5.552261e-06</td><td>3.379595e-47</td></tr>\n",
              "\t<tr><th scope=row>⋮</th><td>⋮</td><td>⋮</td><td>⋮</td></tr>\n",
              "\t<tr><th scope=row>44</th><td>9.999863e-01</td><td>1.365031e-05</td><td>2.558634e-45</td></tr>\n",
              "\t<tr><th scope=row>85</th><td>2.620240e-03</td><td>9.965759e-01</td><td>8.038336e-04</td></tr>\n",
              "\t<tr><th scope=row>107</th><td>9.180685e-08</td><td>7.285591e-04</td><td>9.992713e-01</td></tr>\n",
              "\t<tr><th scope=row>139</th><td>6.514943e-08</td><td>2.435064e-01</td><td>7.564935e-01</td></tr>\n",
              "\t<tr><th scope=row>73</th><td>3.952428e-10</td><td>5.969113e-01</td><td>4.030887e-01</td></tr>\n",
              "\t<tr><th scope=row>20</th><td>1.000000e+00</td><td>4.393611e-08</td><td>1.548311e-53</td></tr>\n",
              "\t<tr><th scope=row>46</th><td>9.999610e-01</td><td>3.900961e-05</td><td>1.693903e-46</td></tr>\n",
              "\t<tr><th scope=row>17</th><td>9.999990e-01</td><td>1.045777e-06</td><td>1.414574e-54</td></tr>\n",
              "\t<tr><th scope=row>54</th><td>8.782747e-07</td><td>9.999989e-01</td><td>2.582061e-07</td></tr>\n",
              "\t<tr><th scope=row>108</th><td>2.901029e-23</td><td>7.257192e-11</td><td>1.000000e+00</td></tr>\n",
              "\t<tr><th scope=row>75</th><td>1.503150e-07</td><td>9.999998e-01</td><td>9.999280e-11</td></tr>\n",
              "\t<tr><th scope=row>80</th><td>6.524539e-05</td><td>9.999348e-01</td><td>4.435145e-17</td></tr>\n",
              "\t<tr><th scope=row>71</th><td>5.145112e-06</td><td>5.767553e-01</td><td>4.232396e-01</td></tr>\n",
              "\t<tr><th scope=row>15</th><td>9.999974e-01</td><td>2.645523e-06</td><td>5.363139e-59</td></tr>\n",
              "\t<tr><th scope=row>24</th><td>9.998574e-01</td><td>1.426173e-04</td><td>9.632826e-44</td></tr>\n",
              "\t<tr><th scope=row>68</th><td>1.389918e-04</td><td>9.998610e-01</td><td>2.084883e-12</td></tr>\n",
              "\t<tr><th scope=row>133</th><td>4.493903e-23</td><td>4.265356e-12</td><td>1.000000e+00</td></tr>\n",
              "\t<tr><th scope=row>145</th><td>1.798902e-23</td><td>1.874643e-12</td><td>1.000000e+00</td></tr>\n",
              "\t<tr><th scope=row>29</th><td>9.999935e-01</td><td>6.502013e-06</td><td>1.149537e-51</td></tr>\n",
              "\t<tr><th scope=row>104</th><td>3.862159e-16</td><td>5.318898e-08</td><td>9.999999e-01</td></tr>\n",
              "\t<tr><th scope=row>45</th><td>9.999999e-01</td><td>8.685718e-08</td><td>1.437617e-48</td></tr>\n",
              "\t<tr><th scope=row>140</th><td>2.851417e-17</td><td>5.326544e-06</td><td>9.999947e-01</td></tr>\n",
              "\t<tr><th scope=row>101</th><td>1.018156e-25</td><td>1.204573e-16</td><td>1.000000e+00</td></tr>\n",
              "\t<tr><th scope=row>135</th><td>3.261981e-13</td><td>3.126364e-06</td><td>9.999969e-01</td></tr>\n",
              "\t<tr><th scope=row>95</th><td>5.101391e-05</td><td>9.999489e-01</td><td>8.433817e-08</td></tr>\n",
              "\t<tr><th scope=row>116</th><td>8.731995e-18</td><td>2.342046e-08</td><td>1.000000e+00</td></tr>\n",
              "\t<tr><th scope=row>5</th><td>9.999999e-01</td><td>6.839344e-08</td><td>6.509361e-54</td></tr>\n",
              "\t<tr><th scope=row>111</th><td>9.076472e-12</td><td>3.448369e-03</td><td>9.965516e-01</td></tr>\n",
              "\t<tr><th scope=row>94</th><td>2.059617e-03</td><td>9.979404e-01</td><td>6.112666e-15</td></tr>\n",
              "\t<tr><th scope=row>49</th><td>9.999996e-01</td><td>4.212521e-07</td><td>9.077323e-54</td></tr>\n",
              "</tbody>\n",
              "</table>\n"
            ],
            "text/markdown": "\nA matrix: 120 × 3 of type dbl\n\n| <!--/--> | setosa | versicolor | virginica |\n|---|---|---|---|\n| 14 | 1.000000e+00 | 3.281873e-08 | 1.587809e-52 |\n| 50 | 9.999973e-01 | 2.735069e-06 | 7.801278e-51 |\n| 118 | 9.626793e-24 | 1.199338e-12 | 1.000000e+00 |\n| 43 | 1.000000e+00 | 1.915765e-08 | 2.856899e-51 |\n| 150 | 2.488589e-10 | 2.447711e-04 | 9.997552e-01 |\n| 148 | 1.067095e-14 | 4.308072e-05 | 9.999569e-01 |\n| 90 | 1.027061e-05 | 9.999897e-01 | 2.676168e-08 |\n| 91 | 1.493468e-04 | 9.998464e-01 | 4.229918e-06 |\n| 143 | 9.162982e-15 | 3.665186e-07 | 9.999996e-01 |\n| 92 | 5.476620e-06 | 9.999924e-01 | 2.149935e-06 |\n| 137 | 1.004173e-19 | 1.757350e-11 | 1.000000e+00 |\n| 99 | 2.185638e-03 | 9.978144e-01 | 4.712331e-18 |\n| 72 | 7.644634e-07 | 9.999992e-01 | 6.373092e-12 |\n| 26 | 9.999097e-01 | 9.030503e-05 | 5.349455e-46 |\n| 7 | 1.000000e+00 | 3.508993e-08 | 8.501567e-51 |\n| 78 | 5.737482e-10 | 9.355118e-01 | 6.448818e-02 |\n| 81 | 2.084945e-05 | 9.999792e-01 | 1.254040e-11 |\n| 147 | 2.004312e-16 | 1.944226e-05 | 9.999806e-01 |\n| 103 | 6.924715e-23 | 2.227948e-10 | 1.000000e+00 |\n| 117 | 1.982645e-14 | 7.143388e-06 | 9.999929e-01 |\n| 76 | 2.399812e-08 | 1.000000e+00 | 5.046117e-10 |\n| 32 | 9.995963e-01 | 4.036602e-04 | 1.094087e-47 |\n| 106 | 1.594206e-29 | 4.944327e-15 | 1.000000e+00 |\n| 109 | 2.164224e-22 | 2.224297e-10 | 1.000000e+00 |\n| 136 | 3.924526e-28 | 4.709523e-12 | 1.000000e+00 |\n| 9 | 9.999993e-01 | 6.961620e-07 | 2.590000e-47 |\n| 41 | 9.999993e-01 | 7.463048e-07 | 2.592084e-52 |\n| 74 | 4.333022e-06 | 9.999939e-01 | 1.805273e-06 |\n| 23 | 1.000000e+00 | 1.517848e-09 | 8.115124e-58 |\n| 27 | 9.999944e-01 | 5.552261e-06 | 3.379595e-47 |\n| ⋮ | ⋮ | ⋮ | ⋮ |\n| 44 | 9.999863e-01 | 1.365031e-05 | 2.558634e-45 |\n| 85 | 2.620240e-03 | 9.965759e-01 | 8.038336e-04 |\n| 107 | 9.180685e-08 | 7.285591e-04 | 9.992713e-01 |\n| 139 | 6.514943e-08 | 2.435064e-01 | 7.564935e-01 |\n| 73 | 3.952428e-10 | 5.969113e-01 | 4.030887e-01 |\n| 20 | 1.000000e+00 | 4.393611e-08 | 1.548311e-53 |\n| 46 | 9.999610e-01 | 3.900961e-05 | 1.693903e-46 |\n| 17 | 9.999990e-01 | 1.045777e-06 | 1.414574e-54 |\n| 54 | 8.782747e-07 | 9.999989e-01 | 2.582061e-07 |\n| 108 | 2.901029e-23 | 7.257192e-11 | 1.000000e+00 |\n| 75 | 1.503150e-07 | 9.999998e-01 | 9.999280e-11 |\n| 80 | 6.524539e-05 | 9.999348e-01 | 4.435145e-17 |\n| 71 | 5.145112e-06 | 5.767553e-01 | 4.232396e-01 |\n| 15 | 9.999974e-01 | 2.645523e-06 | 5.363139e-59 |\n| 24 | 9.998574e-01 | 1.426173e-04 | 9.632826e-44 |\n| 68 | 1.389918e-04 | 9.998610e-01 | 2.084883e-12 |\n| 133 | 4.493903e-23 | 4.265356e-12 | 1.000000e+00 |\n| 145 | 1.798902e-23 | 1.874643e-12 | 1.000000e+00 |\n| 29 | 9.999935e-01 | 6.502013e-06 | 1.149537e-51 |\n| 104 | 3.862159e-16 | 5.318898e-08 | 9.999999e-01 |\n| 45 | 9.999999e-01 | 8.685718e-08 | 1.437617e-48 |\n| 140 | 2.851417e-17 | 5.326544e-06 | 9.999947e-01 |\n| 101 | 1.018156e-25 | 1.204573e-16 | 1.000000e+00 |\n| 135 | 3.261981e-13 | 3.126364e-06 | 9.999969e-01 |\n| 95 | 5.101391e-05 | 9.999489e-01 | 8.433817e-08 |\n| 116 | 8.731995e-18 | 2.342046e-08 | 1.000000e+00 |\n| 5 | 9.999999e-01 | 6.839344e-08 | 6.509361e-54 |\n| 111 | 9.076472e-12 | 3.448369e-03 | 9.965516e-01 |\n| 94 | 2.059617e-03 | 9.979404e-01 | 6.112666e-15 |\n| 49 | 9.999996e-01 | 4.212521e-07 | 9.077323e-54 |\n\n",
            "text/latex": "A matrix: 120 × 3 of type dbl\n\\begin{tabular}{r|lll}\n  & setosa & versicolor & virginica\\\\\n\\hline\n\t14 & 1.000000e+00 & 3.281873e-08 & 1.587809e-52\\\\\n\t50 & 9.999973e-01 & 2.735069e-06 & 7.801278e-51\\\\\n\t118 & 9.626793e-24 & 1.199338e-12 & 1.000000e+00\\\\\n\t43 & 1.000000e+00 & 1.915765e-08 & 2.856899e-51\\\\\n\t150 & 2.488589e-10 & 2.447711e-04 & 9.997552e-01\\\\\n\t148 & 1.067095e-14 & 4.308072e-05 & 9.999569e-01\\\\\n\t90 & 1.027061e-05 & 9.999897e-01 & 2.676168e-08\\\\\n\t91 & 1.493468e-04 & 9.998464e-01 & 4.229918e-06\\\\\n\t143 & 9.162982e-15 & 3.665186e-07 & 9.999996e-01\\\\\n\t92 & 5.476620e-06 & 9.999924e-01 & 2.149935e-06\\\\\n\t137 & 1.004173e-19 & 1.757350e-11 & 1.000000e+00\\\\\n\t99 & 2.185638e-03 & 9.978144e-01 & 4.712331e-18\\\\\n\t72 & 7.644634e-07 & 9.999992e-01 & 6.373092e-12\\\\\n\t26 & 9.999097e-01 & 9.030503e-05 & 5.349455e-46\\\\\n\t7 & 1.000000e+00 & 3.508993e-08 & 8.501567e-51\\\\\n\t78 & 5.737482e-10 & 9.355118e-01 & 6.448818e-02\\\\\n\t81 & 2.084945e-05 & 9.999792e-01 & 1.254040e-11\\\\\n\t147 & 2.004312e-16 & 1.944226e-05 & 9.999806e-01\\\\\n\t103 & 6.924715e-23 & 2.227948e-10 & 1.000000e+00\\\\\n\t117 & 1.982645e-14 & 7.143388e-06 & 9.999929e-01\\\\\n\t76 & 2.399812e-08 & 1.000000e+00 & 5.046117e-10\\\\\n\t32 & 9.995963e-01 & 4.036602e-04 & 1.094087e-47\\\\\n\t106 & 1.594206e-29 & 4.944327e-15 & 1.000000e+00\\\\\n\t109 & 2.164224e-22 & 2.224297e-10 & 1.000000e+00\\\\\n\t136 & 3.924526e-28 & 4.709523e-12 & 1.000000e+00\\\\\n\t9 & 9.999993e-01 & 6.961620e-07 & 2.590000e-47\\\\\n\t41 & 9.999993e-01 & 7.463048e-07 & 2.592084e-52\\\\\n\t74 & 4.333022e-06 & 9.999939e-01 & 1.805273e-06\\\\\n\t23 & 1.000000e+00 & 1.517848e-09 & 8.115124e-58\\\\\n\t27 & 9.999944e-01 & 5.552261e-06 & 3.379595e-47\\\\\n\t⋮ & ⋮ & ⋮ & ⋮\\\\\n\t44 & 9.999863e-01 & 1.365031e-05 & 2.558634e-45\\\\\n\t85 & 2.620240e-03 & 9.965759e-01 & 8.038336e-04\\\\\n\t107 & 9.180685e-08 & 7.285591e-04 & 9.992713e-01\\\\\n\t139 & 6.514943e-08 & 2.435064e-01 & 7.564935e-01\\\\\n\t73 & 3.952428e-10 & 5.969113e-01 & 4.030887e-01\\\\\n\t20 & 1.000000e+00 & 4.393611e-08 & 1.548311e-53\\\\\n\t46 & 9.999610e-01 & 3.900961e-05 & 1.693903e-46\\\\\n\t17 & 9.999990e-01 & 1.045777e-06 & 1.414574e-54\\\\\n\t54 & 8.782747e-07 & 9.999989e-01 & 2.582061e-07\\\\\n\t108 & 2.901029e-23 & 7.257192e-11 & 1.000000e+00\\\\\n\t75 & 1.503150e-07 & 9.999998e-01 & 9.999280e-11\\\\\n\t80 & 6.524539e-05 & 9.999348e-01 & 4.435145e-17\\\\\n\t71 & 5.145112e-06 & 5.767553e-01 & 4.232396e-01\\\\\n\t15 & 9.999974e-01 & 2.645523e-06 & 5.363139e-59\\\\\n\t24 & 9.998574e-01 & 1.426173e-04 & 9.632826e-44\\\\\n\t68 & 1.389918e-04 & 9.998610e-01 & 2.084883e-12\\\\\n\t133 & 4.493903e-23 & 4.265356e-12 & 1.000000e+00\\\\\n\t145 & 1.798902e-23 & 1.874643e-12 & 1.000000e+00\\\\\n\t29 & 9.999935e-01 & 6.502013e-06 & 1.149537e-51\\\\\n\t104 & 3.862159e-16 & 5.318898e-08 & 9.999999e-01\\\\\n\t45 & 9.999999e-01 & 8.685718e-08 & 1.437617e-48\\\\\n\t140 & 2.851417e-17 & 5.326544e-06 & 9.999947e-01\\\\\n\t101 & 1.018156e-25 & 1.204573e-16 & 1.000000e+00\\\\\n\t135 & 3.261981e-13 & 3.126364e-06 & 9.999969e-01\\\\\n\t95 & 5.101391e-05 & 9.999489e-01 & 8.433817e-08\\\\\n\t116 & 8.731995e-18 & 2.342046e-08 & 1.000000e+00\\\\\n\t5 & 9.999999e-01 & 6.839344e-08 & 6.509361e-54\\\\\n\t111 & 9.076472e-12 & 3.448369e-03 & 9.965516e-01\\\\\n\t94 & 2.059617e-03 & 9.979404e-01 & 6.112666e-15\\\\\n\t49 & 9.999996e-01 & 4.212521e-07 & 9.077323e-54\\\\\n\\end{tabular}\n",
            "text/plain": [
              "    setosa       versicolor   virginica   \n",
              "14  1.000000e+00 3.281873e-08 1.587809e-52\n",
              "50  9.999973e-01 2.735069e-06 7.801278e-51\n",
              "118 9.626793e-24 1.199338e-12 1.000000e+00\n",
              "43  1.000000e+00 1.915765e-08 2.856899e-51\n",
              "150 2.488589e-10 2.447711e-04 9.997552e-01\n",
              "148 1.067095e-14 4.308072e-05 9.999569e-01\n",
              "90  1.027061e-05 9.999897e-01 2.676168e-08\n",
              "91  1.493468e-04 9.998464e-01 4.229918e-06\n",
              "143 9.162982e-15 3.665186e-07 9.999996e-01\n",
              "92  5.476620e-06 9.999924e-01 2.149935e-06\n",
              "137 1.004173e-19 1.757350e-11 1.000000e+00\n",
              "99  2.185638e-03 9.978144e-01 4.712331e-18\n",
              "72  7.644634e-07 9.999992e-01 6.373092e-12\n",
              "26  9.999097e-01 9.030503e-05 5.349455e-46\n",
              "7   1.000000e+00 3.508993e-08 8.501567e-51\n",
              "78  5.737482e-10 9.355118e-01 6.448818e-02\n",
              "81  2.084945e-05 9.999792e-01 1.254040e-11\n",
              "147 2.004312e-16 1.944226e-05 9.999806e-01\n",
              "103 6.924715e-23 2.227948e-10 1.000000e+00\n",
              "117 1.982645e-14 7.143388e-06 9.999929e-01\n",
              "76  2.399812e-08 1.000000e+00 5.046117e-10\n",
              "32  9.995963e-01 4.036602e-04 1.094087e-47\n",
              "106 1.594206e-29 4.944327e-15 1.000000e+00\n",
              "109 2.164224e-22 2.224297e-10 1.000000e+00\n",
              "136 3.924526e-28 4.709523e-12 1.000000e+00\n",
              "9   9.999993e-01 6.961620e-07 2.590000e-47\n",
              "41  9.999993e-01 7.463048e-07 2.592084e-52\n",
              "74  4.333022e-06 9.999939e-01 1.805273e-06\n",
              "23  1.000000e+00 1.517848e-09 8.115124e-58\n",
              "27  9.999944e-01 5.552261e-06 3.379595e-47\n",
              "⋮   ⋮            ⋮            ⋮           \n",
              "44  9.999863e-01 1.365031e-05 2.558634e-45\n",
              "85  2.620240e-03 9.965759e-01 8.038336e-04\n",
              "107 9.180685e-08 7.285591e-04 9.992713e-01\n",
              "139 6.514943e-08 2.435064e-01 7.564935e-01\n",
              "73  3.952428e-10 5.969113e-01 4.030887e-01\n",
              "20  1.000000e+00 4.393611e-08 1.548311e-53\n",
              "46  9.999610e-01 3.900961e-05 1.693903e-46\n",
              "17  9.999990e-01 1.045777e-06 1.414574e-54\n",
              "54  8.782747e-07 9.999989e-01 2.582061e-07\n",
              "108 2.901029e-23 7.257192e-11 1.000000e+00\n",
              "75  1.503150e-07 9.999998e-01 9.999280e-11\n",
              "80  6.524539e-05 9.999348e-01 4.435145e-17\n",
              "71  5.145112e-06 5.767553e-01 4.232396e-01\n",
              "15  9.999974e-01 2.645523e-06 5.363139e-59\n",
              "24  9.998574e-01 1.426173e-04 9.632826e-44\n",
              "68  1.389918e-04 9.998610e-01 2.084883e-12\n",
              "133 4.493903e-23 4.265356e-12 1.000000e+00\n",
              "145 1.798902e-23 1.874643e-12 1.000000e+00\n",
              "29  9.999935e-01 6.502013e-06 1.149537e-51\n",
              "104 3.862159e-16 5.318898e-08 9.999999e-01\n",
              "45  9.999999e-01 8.685718e-08 1.437617e-48\n",
              "140 2.851417e-17 5.326544e-06 9.999947e-01\n",
              "101 1.018156e-25 1.204573e-16 1.000000e+00\n",
              "135 3.261981e-13 3.126364e-06 9.999969e-01\n",
              "95  5.101391e-05 9.999489e-01 8.433817e-08\n",
              "116 8.731995e-18 2.342046e-08 1.000000e+00\n",
              "5   9.999999e-01 6.839344e-08 6.509361e-54\n",
              "111 9.076472e-12 3.448369e-03 9.965516e-01\n",
              "94  2.059617e-03 9.979404e-01 6.112666e-15\n",
              "49  9.999996e-01 4.212521e-07 9.077323e-54"
            ]
          },
          "metadata": {}
        }
      ]
    },
    {
      "cell_type": "code",
      "source": [
        "result <-predict(model, newdata = test_dataset,type =\"class\")\n",
        "correct_model <- sum(result == test_dataset$species)/nrow(test_dataset)\n",
        "\n",
        "c_mat<-xtabs(~ result + test_dataset$species)\n",
        "c_mat\n",
        "\n",
        "acc <- (c_mat[1,1]+c_mat[2,2]+c_mat[3,3])/ nrow(test_dataset)\n",
        "acc\n",
        "\n",
        "# versicolor 를 virginica로 잘못 분류// 97%의 정확도로 분류(ㅇㅖ측함)"
      ],
      "metadata": {
        "colab": {
          "base_uri": "https://localhost:8080/",
          "height": 128
        },
        "id": "CNK-tjAMgv1D",
        "outputId": "94610ce8-a4d5-472e-d599-2f947294a58f"
      },
      "execution_count": 11,
      "outputs": [
        {
          "output_type": "display_data",
          "data": {
            "text/plain": [
              "            test_dataset$species\n",
              "result       setosa versicolor virginica\n",
              "  setosa         10          0         0\n",
              "  versicolor      0         14         0\n",
              "  virginica       0          1         5"
            ]
          },
          "metadata": {}
        },
        {
          "output_type": "display_data",
          "data": {
            "text/html": [
              "0.966666666666667"
            ],
            "text/markdown": "0.966666666666667",
            "text/latex": "0.966666666666667",
            "text/plain": [
              "[1] 0.9666667"
            ]
          },
          "metadata": {}
        }
      ]
    },
    {
      "cell_type": "markdown",
      "source": [
        "### 5. 랜덤 포레스트를 이용한 분류 문제 해결\n",
        "- 다수 의사결정 트리들 배깅하여 분류,회귀 수행하는 앙상블 기법\n",
        "(배깅 : 같은 종류 알고리즘 모델 여러개 결합하여 예측)"
      ],
      "metadata": {
        "id": "FQQDh3gdo1gp"
      }
    },
    {
      "cell_type": "code",
      "source": [
        "# 랜덤포레스트를 이용한 타이타닉 생존자 분류 예측 방법\n",
        "\n",
        "install.packages(\"randomForest\")\n",
        "library(randomForest)"
      ],
      "metadata": {
        "colab": {
          "base_uri": "https://localhost:8080/"
        },
        "id": "fRVOmD7RjVK_",
        "outputId": "e061db8e-dfb5-4685-85ec-c1706c4cec8d"
      },
      "execution_count": 12,
      "outputs": [
        {
          "output_type": "stream",
          "name": "stderr",
          "text": [
            "Installing package into ‘/usr/local/lib/R/site-library’\n",
            "(as ‘lib’ is unspecified)\n",
            "\n",
            "randomForest 4.7-1.1\n",
            "\n",
            "Type rfNews() to see new features/changes/bug fixes.\n",
            "\n",
            "\n",
            "Attaching package: ‘randomForest’\n",
            "\n",
            "\n",
            "The following object is masked from ‘package:ggplot2’:\n",
            "\n",
            "    margin\n",
            "\n",
            "\n",
            "The following object is masked from ‘package:dplyr’:\n",
            "\n",
            "    combine\n",
            "\n",
            "\n"
          ]
        }
      ]
    },
    {
      "cell_type": "code",
      "source": [
        "df = read.csv(\"https://raw.githubusercontent.com/datasciencedojo/datasets/master/titanic.csv\", stringsAsFactors=TRUE)\n",
        "\n"
      ],
      "metadata": {
        "id": "VqpmIeAWprrl"
      },
      "execution_count": 13,
      "outputs": []
    },
    {
      "cell_type": "code",
      "source": [
        "# 결측치 확인\n",
        "summary(df)\n",
        "# Age :NA// Embarked:빈칸/ Cabin:빈칸"
      ],
      "metadata": {
        "colab": {
          "base_uri": "https://localhost:8080/",
          "height": 613
        },
        "id": "UOSxd92hp1kO",
        "outputId": "b51ab211-bd05-4f6d-92b3-0982381dbb1c"
      },
      "execution_count": 14,
      "outputs": [
        {
          "output_type": "display_data",
          "data": {
            "text/plain": [
              "  PassengerId       Survived          Pclass     \n",
              " Min.   :  1.0   Min.   :0.0000   Min.   :1.000  \n",
              " 1st Qu.:223.5   1st Qu.:0.0000   1st Qu.:2.000  \n",
              " Median :446.0   Median :0.0000   Median :3.000  \n",
              " Mean   :446.0   Mean   :0.3838   Mean   :2.309  \n",
              " 3rd Qu.:668.5   3rd Qu.:1.0000   3rd Qu.:3.000  \n",
              " Max.   :891.0   Max.   :1.0000   Max.   :3.000  \n",
              "                                                 \n",
              "                                    Name         Sex           Age       \n",
              " Abbing, Mr. Anthony                  :  1   female:314   Min.   : 0.42  \n",
              " Abbott, Mr. Rossmore Edward          :  1   male  :577   1st Qu.:20.12  \n",
              " Abbott, Mrs. Stanton (Rosa Hunt)     :  1                Median :28.00  \n",
              " Abelson, Mr. Samuel                  :  1                Mean   :29.70  \n",
              " Abelson, Mrs. Samuel (Hannah Wizosky):  1                3rd Qu.:38.00  \n",
              " Adahl, Mr. Mauritz Nils Martin       :  1                Max.   :80.00  \n",
              " (Other)                              :885                NA's   :177    \n",
              "     SibSp           Parch             Ticket         Fare       \n",
              " Min.   :0.000   Min.   :0.0000   1601    :  7   Min.   :  0.00  \n",
              " 1st Qu.:0.000   1st Qu.:0.0000   347082  :  7   1st Qu.:  7.91  \n",
              " Median :0.000   Median :0.0000   CA. 2343:  7   Median : 14.45  \n",
              " Mean   :0.523   Mean   :0.3816   3101295 :  6   Mean   : 32.20  \n",
              " 3rd Qu.:1.000   3rd Qu.:0.0000   347088  :  6   3rd Qu.: 31.00  \n",
              " Max.   :8.000   Max.   :6.0000   CA 2144 :  6   Max.   :512.33  \n",
              "                                  (Other) :852                   \n",
              "         Cabin     Embarked\n",
              "            :687    :  2   \n",
              " B96 B98    :  4   C:168   \n",
              " C23 C25 C27:  4   Q: 77   \n",
              " G6         :  4   S:644   \n",
              " C22 C26    :  3           \n",
              " D          :  3           \n",
              " (Other)    :186           "
            ]
          },
          "metadata": {}
        }
      ]
    },
    {
      "cell_type": "code",
      "source": [
        "# Age 컬럼의 결측값을 평균으로 대치\n",
        "d_mean = mean(df$Age, na.rm = TRUE)\n",
        "df$Age = ifelse(is.na(df$Age),d_mean, df$Age)\n",
        "\n",
        "# Embarked  컬럼 결측값은 최빈값 s로 대체\n",
        "df$Embarked = replace(df$Embarked,df$Embarked==\"\",\"S\")"
      ],
      "metadata": {
        "id": "D9o9KLovp5-B"
      },
      "execution_count": 15,
      "outputs": []
    },
    {
      "cell_type": "code",
      "source": [
        "# sex 컬럼 레이블 인코딩\n",
        "df$Sex <- as.numeric(factor(df$Sex), level =c(\"male\",\"female\"))\n",
        "\n",
        "df$Embarked <- as.numeric(factor(df$Embarked),level = c(\"C\",\"Q\",\"S\"))\n",
        "\n",
        "# R의 factor 함수를 사용해 컬럼의 값을 1,2,3 으로 인코딩 하고 그 다음에 숫자로 변경(as.numeric)"
      ],
      "metadata": {
        "id": "v3hL7e_XqnmC"
      },
      "execution_count": 16,
      "outputs": []
    },
    {
      "cell_type": "code",
      "source": [
        "str(df)"
      ],
      "metadata": {
        "colab": {
          "base_uri": "https://localhost:8080/"
        },
        "id": "Klr--Rlfq7BQ",
        "outputId": "8aad26b5-a119-47b6-9a51-c19148f68eee"
      },
      "execution_count": 17,
      "outputs": [
        {
          "output_type": "stream",
          "name": "stdout",
          "text": [
            "'data.frame':\t891 obs. of  12 variables:\n",
            " $ PassengerId: int  1 2 3 4 5 6 7 8 9 10 ...\n",
            " $ Survived   : int  0 1 1 1 0 0 0 0 1 1 ...\n",
            " $ Pclass     : int  3 1 3 1 3 3 1 3 3 2 ...\n",
            " $ Name       : Factor w/ 891 levels \"Abbing, Mr. Anthony\",..: 109 191 358 277 16 559 520 629 417 581 ...\n",
            " $ Sex        : num  2 1 1 1 2 2 2 2 1 1 ...\n",
            " $ Age        : num  22 38 26 35 35 ...\n",
            " $ SibSp      : int  1 1 0 1 0 0 0 3 0 1 ...\n",
            " $ Parch      : int  0 0 0 0 0 0 0 1 2 0 ...\n",
            " $ Ticket     : Factor w/ 681 levels \"110152\",\"110413\",..: 524 597 670 50 473 276 86 396 345 133 ...\n",
            " $ Fare       : num  7.25 71.28 7.92 53.1 8.05 ...\n",
            " $ Cabin      : Factor w/ 148 levels \"\",\"A10\",\"A14\",..: 1 83 1 57 1 1 131 1 1 1 ...\n",
            " $ Embarked   : num  3 1 3 3 3 2 3 3 3 1 ...\n"
          ]
        }
      ]
    },
    {
      "cell_type": "code",
      "source": [
        "df$FamilySize <- df$SibSp + df$Parch\n",
        "head(df,3)"
      ],
      "metadata": {
        "colab": {
          "base_uri": "https://localhost:8080/",
          "height": 227
        },
        "id": "AkbIM-4zq7x4",
        "outputId": "aa888945-80de-4d23-861b-0bcf24c527d3"
      },
      "execution_count": 19,
      "outputs": [
        {
          "output_type": "display_data",
          "data": {
            "text/html": [
              "<table class=\"dataframe\">\n",
              "<caption>A data.frame: 3 × 13</caption>\n",
              "<thead>\n",
              "\t<tr><th></th><th scope=col>PassengerId</th><th scope=col>Survived</th><th scope=col>Pclass</th><th scope=col>Name</th><th scope=col>Sex</th><th scope=col>Age</th><th scope=col>SibSp</th><th scope=col>Parch</th><th scope=col>Ticket</th><th scope=col>Fare</th><th scope=col>Cabin</th><th scope=col>Embarked</th><th scope=col>FamilySize</th></tr>\n",
              "\t<tr><th></th><th scope=col>&lt;int&gt;</th><th scope=col>&lt;int&gt;</th><th scope=col>&lt;int&gt;</th><th scope=col>&lt;fct&gt;</th><th scope=col>&lt;dbl&gt;</th><th scope=col>&lt;dbl&gt;</th><th scope=col>&lt;int&gt;</th><th scope=col>&lt;int&gt;</th><th scope=col>&lt;fct&gt;</th><th scope=col>&lt;dbl&gt;</th><th scope=col>&lt;fct&gt;</th><th scope=col>&lt;dbl&gt;</th><th scope=col>&lt;int&gt;</th></tr>\n",
              "</thead>\n",
              "<tbody>\n",
              "\t<tr><th scope=row>1</th><td>1</td><td>0</td><td>3</td><td>Braund, Mr. Owen Harris                            </td><td>2</td><td>22</td><td>1</td><td>0</td><td>A/5 21171       </td><td> 7.2500</td><td>   </td><td>3</td><td>1</td></tr>\n",
              "\t<tr><th scope=row>2</th><td>2</td><td>1</td><td>1</td><td>Cumings, Mrs. John Bradley (Florence Briggs Thayer)</td><td>1</td><td>38</td><td>1</td><td>0</td><td>PC 17599        </td><td>71.2833</td><td>C85</td><td>1</td><td>1</td></tr>\n",
              "\t<tr><th scope=row>3</th><td>3</td><td>1</td><td>3</td><td>Heikkinen, Miss. Laina                             </td><td>1</td><td>26</td><td>0</td><td>0</td><td>STON/O2. 3101282</td><td> 7.9250</td><td>   </td><td>3</td><td>0</td></tr>\n",
              "</tbody>\n",
              "</table>\n"
            ],
            "text/markdown": "\nA data.frame: 3 × 13\n\n| <!--/--> | PassengerId &lt;int&gt; | Survived &lt;int&gt; | Pclass &lt;int&gt; | Name &lt;fct&gt; | Sex &lt;dbl&gt; | Age &lt;dbl&gt; | SibSp &lt;int&gt; | Parch &lt;int&gt; | Ticket &lt;fct&gt; | Fare &lt;dbl&gt; | Cabin &lt;fct&gt; | Embarked &lt;dbl&gt; | FamilySize &lt;int&gt; |\n|---|---|---|---|---|---|---|---|---|---|---|---|---|---|\n| 1 | 1 | 0 | 3 | Braund, Mr. Owen Harris                             | 2 | 22 | 1 | 0 | A/5 21171        |  7.2500 | <!----> | 3 | 1 |\n| 2 | 2 | 1 | 1 | Cumings, Mrs. John Bradley (Florence Briggs Thayer) | 1 | 38 | 1 | 0 | PC 17599         | 71.2833 | C85 | 1 | 1 |\n| 3 | 3 | 1 | 3 | Heikkinen, Miss. Laina                              | 1 | 26 | 0 | 0 | STON/O2. 3101282 |  7.9250 | <!----> | 3 | 0 |\n\n",
            "text/latex": "A data.frame: 3 × 13\n\\begin{tabular}{r|lllllllllllll}\n  & PassengerId & Survived & Pclass & Name & Sex & Age & SibSp & Parch & Ticket & Fare & Cabin & Embarked & FamilySize\\\\\n  & <int> & <int> & <int> & <fct> & <dbl> & <dbl> & <int> & <int> & <fct> & <dbl> & <fct> & <dbl> & <int>\\\\\n\\hline\n\t1 & 1 & 0 & 3 & Braund, Mr. Owen Harris                             & 2 & 22 & 1 & 0 & A/5 21171        &  7.2500 &     & 3 & 1\\\\\n\t2 & 2 & 1 & 1 & Cumings, Mrs. John Bradley (Florence Briggs Thayer) & 1 & 38 & 1 & 0 & PC 17599         & 71.2833 & C85 & 1 & 1\\\\\n\t3 & 3 & 1 & 3 & Heikkinen, Miss. Laina                              & 1 & 26 & 0 & 0 & STON/O2. 3101282 &  7.9250 &     & 3 & 0\\\\\n\\end{tabular}\n",
            "text/plain": [
              "  PassengerId Survived Pclass\n",
              "1 1           0        3     \n",
              "2 2           1        1     \n",
              "3 3           1        3     \n",
              "  Name                                                Sex Age SibSp Parch\n",
              "1 Braund, Mr. Owen Harris                             2   22  1     0    \n",
              "2 Cumings, Mrs. John Bradley (Florence Briggs Thayer) 1   38  1     0    \n",
              "3 Heikkinen, Miss. Laina                              1   26  0     0    \n",
              "  Ticket           Fare    Cabin Embarked FamilySize\n",
              "1 A/5 21171         7.2500       3        1         \n",
              "2 PC 17599         71.2833 C85   1        1         \n",
              "3 STON/O2. 3101282  7.9250       3        0         "
            ]
          },
          "metadata": {}
        }
      ]
    },
    {
      "cell_type": "code",
      "source": [
        "# 분석 데이터셋 준비\n",
        "df <-df[,c(\"Survived\",\"Pclass\",\"Sex\",\"Age\",\"Fare\",\"Embarked\",\"FamilySize\")]\n",
        "head(df,3)"
      ],
      "metadata": {
        "colab": {
          "base_uri": "https://localhost:8080/",
          "height": 192
        },
        "id": "NWu-trKYrjbj",
        "outputId": "8c9de4f9-6a87-4074-e602-992b7ca37a76"
      },
      "execution_count": 20,
      "outputs": [
        {
          "output_type": "display_data",
          "data": {
            "text/html": [
              "<table class=\"dataframe\">\n",
              "<caption>A data.frame: 3 × 7</caption>\n",
              "<thead>\n",
              "\t<tr><th></th><th scope=col>Survived</th><th scope=col>Pclass</th><th scope=col>Sex</th><th scope=col>Age</th><th scope=col>Fare</th><th scope=col>Embarked</th><th scope=col>FamilySize</th></tr>\n",
              "\t<tr><th></th><th scope=col>&lt;int&gt;</th><th scope=col>&lt;int&gt;</th><th scope=col>&lt;dbl&gt;</th><th scope=col>&lt;dbl&gt;</th><th scope=col>&lt;dbl&gt;</th><th scope=col>&lt;dbl&gt;</th><th scope=col>&lt;int&gt;</th></tr>\n",
              "</thead>\n",
              "<tbody>\n",
              "\t<tr><th scope=row>1</th><td>0</td><td>3</td><td>2</td><td>22</td><td> 7.2500</td><td>3</td><td>1</td></tr>\n",
              "\t<tr><th scope=row>2</th><td>1</td><td>1</td><td>1</td><td>38</td><td>71.2833</td><td>1</td><td>1</td></tr>\n",
              "\t<tr><th scope=row>3</th><td>1</td><td>3</td><td>1</td><td>26</td><td> 7.9250</td><td>3</td><td>0</td></tr>\n",
              "</tbody>\n",
              "</table>\n"
            ],
            "text/markdown": "\nA data.frame: 3 × 7\n\n| <!--/--> | Survived &lt;int&gt; | Pclass &lt;int&gt; | Sex &lt;dbl&gt; | Age &lt;dbl&gt; | Fare &lt;dbl&gt; | Embarked &lt;dbl&gt; | FamilySize &lt;int&gt; |\n|---|---|---|---|---|---|---|---|\n| 1 | 0 | 3 | 2 | 22 |  7.2500 | 3 | 1 |\n| 2 | 1 | 1 | 1 | 38 | 71.2833 | 1 | 1 |\n| 3 | 1 | 3 | 1 | 26 |  7.9250 | 3 | 0 |\n\n",
            "text/latex": "A data.frame: 3 × 7\n\\begin{tabular}{r|lllllll}\n  & Survived & Pclass & Sex & Age & Fare & Embarked & FamilySize\\\\\n  & <int> & <int> & <dbl> & <dbl> & <dbl> & <dbl> & <int>\\\\\n\\hline\n\t1 & 0 & 3 & 2 & 22 &  7.2500 & 3 & 1\\\\\n\t2 & 1 & 1 & 1 & 38 & 71.2833 & 1 & 1\\\\\n\t3 & 1 & 3 & 1 & 26 &  7.9250 & 3 & 0\\\\\n\\end{tabular}\n",
            "text/plain": [
              "  Survived Pclass Sex Age Fare    Embarked FamilySize\n",
              "1 0        3      2   22   7.2500 3        1         \n",
              "2 1        1      1   38  71.2833 1        1         \n",
              "3 1        3      1   26   7.9250 3        0         "
            ]
          },
          "metadata": {}
        }
      ]
    },
    {
      "cell_type": "code",
      "source": [
        "# 데이터 분리\n",
        "set.seed(123)\n",
        "idx <-sample(1:nrow(df),0.8*nrow(df))\n",
        "df_train <- df[idx,]\n",
        "df_test <- df[-idx,]\n",
        "\n",
        "print(dim(df_train))\n",
        "print(dim(df_test))"
      ],
      "metadata": {
        "colab": {
          "base_uri": "https://localhost:8080/"
        },
        "id": "4A7AFivvuDYV",
        "outputId": "0aeff9ec-7f0f-4a92-8e7e-41b944104f84"
      },
      "execution_count": 21,
      "outputs": [
        {
          "output_type": "stream",
          "name": "stdout",
          "text": [
            "[1] 712   7\n",
            "[1] 179   7\n"
          ]
        }
      ]
    },
    {
      "cell_type": "code",
      "source": [
        "df_train$Survived <- as.factor(df_train$Survived)\n",
        "model <- randomForest(Survived~., data = df_train)\n"
      ],
      "metadata": {
        "id": "Rk2hZkKFuV3w"
      },
      "execution_count": 22,
      "outputs": []
    },
    {
      "cell_type": "code",
      "source": [
        "pred <- predict(model, newdata = df_test, type = \"class\")"
      ],
      "metadata": {
        "id": "-rmGXg8dvKLl"
      },
      "execution_count": 23,
      "outputs": []
    },
    {
      "cell_type": "code",
      "source": [
        "cm <- table(df_test$Survived,pred)\n",
        "print(cm)\n",
        "\n",
        "acc <-(cm[1,1] + cm[2,2])/ nrow(df_test)\n",
        "\n",
        "print(acc)"
      ],
      "metadata": {
        "colab": {
          "base_uri": "https://localhost:8080/"
        },
        "id": "UTWm7Rr5vRys",
        "outputId": "794c6e18-2d9b-444e-b498-fd7ed084f2be"
      },
      "execution_count": 24,
      "outputs": [
        {
          "output_type": "stream",
          "name": "stdout",
          "text": [
            "   pred\n",
            "     0  1\n",
            "  0 99 11\n",
            "  1 19 50\n",
            "[1] 0.8324022\n"
          ]
        }
      ]
    },
    {
      "cell_type": "code",
      "source": [],
      "metadata": {
        "id": "Qi7zTWxLxMjo"
      },
      "execution_count": null,
      "outputs": []
    }
  ]
}