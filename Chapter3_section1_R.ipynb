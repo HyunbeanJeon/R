{
  "nbformat": 4,
  "nbformat_minor": 0,
  "metadata": {
    "colab": {
      "provenance": [],
      "authorship_tag": "ABX9TyO3xSo1Rfko+5e7bmQcqt89",
      "include_colab_link": true
    },
    "kernelspec": {
      "name": "ir",
      "display_name": "R"
    },
    "language_info": {
      "name": "R"
    }
  },
  "cells": [
    {
      "cell_type": "markdown",
      "metadata": {
        "id": "view-in-github",
        "colab_type": "text"
      },
      "source": [
        "<a href=\"https://colab.research.google.com/github/jhbeann/Bigdata_R/blob/main/Chapter3_section1_R.ipynb\" target=\"_parent\"><img src=\"https://colab.research.google.com/assets/colab-badge.svg\" alt=\"Open In Colab\"/></a>"
      ]
    },
    {
      "cell_type": "markdown",
      "source": [
        "# 제 2유형: 데이터 분석"
      ],
      "metadata": {
        "id": "3CGPRpHXKloe"
      }
    },
    {
      "cell_type": "markdown",
      "source": [
        "## SECTION 01. 빅데이터 분석 과정"
      ],
      "metadata": {
        "id": "sBr8nFeSKlrz"
      }
    },
    {
      "cell_type": "markdown",
      "source": [
        "### 1. 빅데이터 분석 과정 이해\n",
        "  1) 필요 패키지 import \n",
        "  \n",
        "  - dplyr : filter , select, arrange \n",
        "  - ggplot2 : scatter plot, histogram, boxplot\n",
        "  - 분류\n",
        "    - 의사결정나무 : library(rpart)\n",
        "    - knn : library(class)\n",
        "    - svm : install.packages(\"e1071\") & library(nnet)\n",
        "    - 로지스틱회귀 : library(nnet)\n",
        "    - 랜덤포레스트 : install.packages(\"randomForest\") & library(randomForest)\n",
        "  - 회귀 : 선형회귀 lm()\n",
        "  - 군집 : k-means\n",
        "  - 연관 : install.packages(\"arules\") & library(arules)\n",
        "  "
      ],
      "metadata": {
        "id": "gbef5pX6Lso1"
      }
    },
    {
      "cell_type": "code",
      "source": [
        "library(dplyr)\n",
        "library(ggplot2)\n",
        "# 의사결정나무 분류모델\n",
        "library(rpart)"
      ],
      "metadata": {
        "colab": {
          "base_uri": "https://localhost:8080/"
        },
        "id": "oVpQhPGKKwGu",
        "outputId": "eec82150-9643-40a9-ec4c-c6647fe08ecf"
      },
      "execution_count": 1,
      "outputs": [
        {
          "output_type": "stream",
          "name": "stderr",
          "text": [
            "\n",
            "Attaching package: ‘dplyr’\n",
            "\n",
            "\n",
            "The following objects are masked from ‘package:stats’:\n",
            "\n",
            "    filter, lag\n",
            "\n",
            "\n",
            "The following objects are masked from ‘package:base’:\n",
            "\n",
            "    intersect, setdiff, setequal, union\n",
            "\n",
            "\n"
          ]
        }
      ]
    },
    {
      "cell_type": "code",
      "source": [
        "df <- read.csv(\"https://raw.githubusercontent.com/mwaskom/seaborn-data/master/iris.csv\")\n",
        "\n",
        "# 목표 :: iris 를 이용하여 꽃잎의 길이나 넓이에 따라 붓꽃의 종류를 구별하는 것"
      ],
      "metadata": {
        "id": "Zb9GtW0jNF-o"
      },
      "execution_count": 2,
      "outputs": []
    },
    {
      "cell_type": "code",
      "source": [
        "# 데이터 살펴보기\n",
        "head(df,5)"
      ],
      "metadata": {
        "colab": {
          "base_uri": "https://localhost:8080/",
          "height": 255
        },
        "id": "Lt0pva5ZNjxt",
        "outputId": "4ee30896-b649-4ae9-e027-3e20376d8866"
      },
      "execution_count": 3,
      "outputs": [
        {
          "output_type": "display_data",
          "data": {
            "text/html": [
              "<table class=\"dataframe\">\n",
              "<caption>A data.frame: 5 × 5</caption>\n",
              "<thead>\n",
              "\t<tr><th></th><th scope=col>sepal_length</th><th scope=col>sepal_width</th><th scope=col>petal_length</th><th scope=col>petal_width</th><th scope=col>species</th></tr>\n",
              "\t<tr><th></th><th scope=col>&lt;dbl&gt;</th><th scope=col>&lt;dbl&gt;</th><th scope=col>&lt;dbl&gt;</th><th scope=col>&lt;dbl&gt;</th><th scope=col>&lt;chr&gt;</th></tr>\n",
              "</thead>\n",
              "<tbody>\n",
              "\t<tr><th scope=row>1</th><td>5.1</td><td>3.5</td><td>1.4</td><td>0.2</td><td>setosa</td></tr>\n",
              "\t<tr><th scope=row>2</th><td>4.9</td><td>3.0</td><td>1.4</td><td>0.2</td><td>setosa</td></tr>\n",
              "\t<tr><th scope=row>3</th><td>4.7</td><td>3.2</td><td>1.3</td><td>0.2</td><td>setosa</td></tr>\n",
              "\t<tr><th scope=row>4</th><td>4.6</td><td>3.1</td><td>1.5</td><td>0.2</td><td>setosa</td></tr>\n",
              "\t<tr><th scope=row>5</th><td>5.0</td><td>3.6</td><td>1.4</td><td>0.2</td><td>setosa</td></tr>\n",
              "</tbody>\n",
              "</table>\n"
            ],
            "text/markdown": "\nA data.frame: 5 × 5\n\n| <!--/--> | sepal_length &lt;dbl&gt; | sepal_width &lt;dbl&gt; | petal_length &lt;dbl&gt; | petal_width &lt;dbl&gt; | species &lt;chr&gt; |\n|---|---|---|---|---|---|\n| 1 | 5.1 | 3.5 | 1.4 | 0.2 | setosa |\n| 2 | 4.9 | 3.0 | 1.4 | 0.2 | setosa |\n| 3 | 4.7 | 3.2 | 1.3 | 0.2 | setosa |\n| 4 | 4.6 | 3.1 | 1.5 | 0.2 | setosa |\n| 5 | 5.0 | 3.6 | 1.4 | 0.2 | setosa |\n\n",
            "text/latex": "A data.frame: 5 × 5\n\\begin{tabular}{r|lllll}\n  & sepal\\_length & sepal\\_width & petal\\_length & petal\\_width & species\\\\\n  & <dbl> & <dbl> & <dbl> & <dbl> & <chr>\\\\\n\\hline\n\t1 & 5.1 & 3.5 & 1.4 & 0.2 & setosa\\\\\n\t2 & 4.9 & 3.0 & 1.4 & 0.2 & setosa\\\\\n\t3 & 4.7 & 3.2 & 1.3 & 0.2 & setosa\\\\\n\t4 & 4.6 & 3.1 & 1.5 & 0.2 & setosa\\\\\n\t5 & 5.0 & 3.6 & 1.4 & 0.2 & setosa\\\\\n\\end{tabular}\n",
            "text/plain": [
              "  sepal_length sepal_width petal_length petal_width species\n",
              "1 5.1          3.5         1.4          0.2         setosa \n",
              "2 4.9          3.0         1.4          0.2         setosa \n",
              "3 4.7          3.2         1.3          0.2         setosa \n",
              "4 4.6          3.1         1.5          0.2         setosa \n",
              "5 5.0          3.6         1.4          0.2         setosa "
            ]
          },
          "metadata": {}
        }
      ]
    },
    {
      "cell_type": "code",
      "source": [
        "str(df) # 구조정보"
      ],
      "metadata": {
        "colab": {
          "base_uri": "https://localhost:8080/"
        },
        "id": "8m8gEBjaNza-",
        "outputId": "140fca2c-c158-4ec6-9015-25dbc4d145c8"
      },
      "execution_count": 4,
      "outputs": [
        {
          "output_type": "stream",
          "name": "stdout",
          "text": [
            "'data.frame':\t150 obs. of  5 variables:\n",
            " $ sepal_length: num  5.1 4.9 4.7 4.6 5 5.4 4.6 5 4.4 4.9 ...\n",
            " $ sepal_width : num  3.5 3 3.2 3.1 3.6 3.9 3.4 3.4 2.9 3.1 ...\n",
            " $ petal_length: num  1.4 1.4 1.3 1.5 1.4 1.7 1.4 1.5 1.4 1.5 ...\n",
            " $ petal_width : num  0.2 0.2 0.2 0.2 0.2 0.4 0.3 0.2 0.2 0.1 ...\n",
            " $ species     : chr  \"setosa\" \"setosa\" \"setosa\" \"setosa\" ...\n"
          ]
        }
      ]
    },
    {
      "cell_type": "code",
      "source": [
        "summary(df)  # 기술통계"
      ],
      "metadata": {
        "colab": {
          "base_uri": "https://localhost:8080/",
          "height": 278
        },
        "id": "kx8qU5rXN2zQ",
        "outputId": "957b149a-8a16-4ca0-ec62-042ff6d6f31d"
      },
      "execution_count": 5,
      "outputs": [
        {
          "output_type": "display_data",
          "data": {
            "text/plain": [
              "  sepal_length    sepal_width     petal_length    petal_width   \n",
              " Min.   :4.300   Min.   :2.000   Min.   :1.000   Min.   :0.100  \n",
              " 1st Qu.:5.100   1st Qu.:2.800   1st Qu.:1.600   1st Qu.:0.300  \n",
              " Median :5.800   Median :3.000   Median :4.350   Median :1.300  \n",
              " Mean   :5.843   Mean   :3.057   Mean   :3.758   Mean   :1.199  \n",
              " 3rd Qu.:6.400   3rd Qu.:3.300   3rd Qu.:5.100   3rd Qu.:1.800  \n",
              " Max.   :7.900   Max.   :4.400   Max.   :6.900   Max.   :2.500  \n",
              "   species         \n",
              " Length:150        \n",
              " Class :character  \n",
              " Mode  :character  \n",
              "                   \n",
              "                   \n",
              "                   "
            ]
          },
          "metadata": {}
        }
      ]
    },
    {
      "cell_type": "code",
      "source": [
        "# 데이터 전처리\n",
        "# species 컬럼 : 레이블 인코딩\n",
        "# 'setosa':1, 'versicolor':2, 'virginica':3\n",
        "df$species <- as.numeric(factor(df$species), level=c(\"setosa\",\"versicolor\",\"virginica\"))\n",
        "df$species"
      ],
      "metadata": {
        "colab": {
          "base_uri": "https://localhost:8080/",
          "height": 69
        },
        "id": "jZ3JzhgKN6sr",
        "outputId": "af55c86d-23f8-4088-b1e3-a6837d46560a"
      },
      "execution_count": 6,
      "outputs": [
        {
          "output_type": "display_data",
          "data": {
            "text/html": [
              "<style>\n",
              ".list-inline {list-style: none; margin:0; padding: 0}\n",
              ".list-inline>li {display: inline-block}\n",
              ".list-inline>li:not(:last-child)::after {content: \"\\00b7\"; padding: 0 .5ex}\n",
              "</style>\n",
              "<ol class=list-inline><li>1</li><li>1</li><li>1</li><li>1</li><li>1</li><li>1</li><li>1</li><li>1</li><li>1</li><li>1</li><li>1</li><li>1</li><li>1</li><li>1</li><li>1</li><li>1</li><li>1</li><li>1</li><li>1</li><li>1</li><li>1</li><li>1</li><li>1</li><li>1</li><li>1</li><li>1</li><li>1</li><li>1</li><li>1</li><li>1</li><li>1</li><li>1</li><li>1</li><li>1</li><li>1</li><li>1</li><li>1</li><li>1</li><li>1</li><li>1</li><li>1</li><li>1</li><li>1</li><li>1</li><li>1</li><li>1</li><li>1</li><li>1</li><li>1</li><li>1</li><li>2</li><li>2</li><li>2</li><li>2</li><li>2</li><li>2</li><li>2</li><li>2</li><li>2</li><li>2</li><li>2</li><li>2</li><li>2</li><li>2</li><li>2</li><li>2</li><li>2</li><li>2</li><li>2</li><li>2</li><li>2</li><li>2</li><li>2</li><li>2</li><li>2</li><li>2</li><li>2</li><li>2</li><li>2</li><li>2</li><li>2</li><li>2</li><li>2</li><li>2</li><li>2</li><li>2</li><li>2</li><li>2</li><li>2</li><li>2</li><li>2</li><li>2</li><li>2</li><li>2</li><li>2</li><li>2</li><li>2</li><li>2</li><li>2</li><li>2</li><li>3</li><li>3</li><li>3</li><li>3</li><li>3</li><li>3</li><li>3</li><li>3</li><li>3</li><li>3</li><li>3</li><li>3</li><li>3</li><li>3</li><li>3</li><li>3</li><li>3</li><li>3</li><li>3</li><li>3</li><li>3</li><li>3</li><li>3</li><li>3</li><li>3</li><li>3</li><li>3</li><li>3</li><li>3</li><li>3</li><li>3</li><li>3</li><li>3</li><li>3</li><li>3</li><li>3</li><li>3</li><li>3</li><li>3</li><li>3</li><li>3</li><li>3</li><li>3</li><li>3</li><li>3</li><li>3</li><li>3</li><li>3</li><li>3</li><li>3</li></ol>\n"
            ],
            "text/markdown": "1. 1\n2. 1\n3. 1\n4. 1\n5. 1\n6. 1\n7. 1\n8. 1\n9. 1\n10. 1\n11. 1\n12. 1\n13. 1\n14. 1\n15. 1\n16. 1\n17. 1\n18. 1\n19. 1\n20. 1\n21. 1\n22. 1\n23. 1\n24. 1\n25. 1\n26. 1\n27. 1\n28. 1\n29. 1\n30. 1\n31. 1\n32. 1\n33. 1\n34. 1\n35. 1\n36. 1\n37. 1\n38. 1\n39. 1\n40. 1\n41. 1\n42. 1\n43. 1\n44. 1\n45. 1\n46. 1\n47. 1\n48. 1\n49. 1\n50. 1\n51. 2\n52. 2\n53. 2\n54. 2\n55. 2\n56. 2\n57. 2\n58. 2\n59. 2\n60. 2\n61. 2\n62. 2\n63. 2\n64. 2\n65. 2\n66. 2\n67. 2\n68. 2\n69. 2\n70. 2\n71. 2\n72. 2\n73. 2\n74. 2\n75. 2\n76. 2\n77. 2\n78. 2\n79. 2\n80. 2\n81. 2\n82. 2\n83. 2\n84. 2\n85. 2\n86. 2\n87. 2\n88. 2\n89. 2\n90. 2\n91. 2\n92. 2\n93. 2\n94. 2\n95. 2\n96. 2\n97. 2\n98. 2\n99. 2\n100. 2\n101. 3\n102. 3\n103. 3\n104. 3\n105. 3\n106. 3\n107. 3\n108. 3\n109. 3\n110. 3\n111. 3\n112. 3\n113. 3\n114. 3\n115. 3\n116. 3\n117. 3\n118. 3\n119. 3\n120. 3\n121. 3\n122. 3\n123. 3\n124. 3\n125. 3\n126. 3\n127. 3\n128. 3\n129. 3\n130. 3\n131. 3\n132. 3\n133. 3\n134. 3\n135. 3\n136. 3\n137. 3\n138. 3\n139. 3\n140. 3\n141. 3\n142. 3\n143. 3\n144. 3\n145. 3\n146. 3\n147. 3\n148. 3\n149. 3\n150. 3\n\n\n",
            "text/latex": "\\begin{enumerate*}\n\\item 1\n\\item 1\n\\item 1\n\\item 1\n\\item 1\n\\item 1\n\\item 1\n\\item 1\n\\item 1\n\\item 1\n\\item 1\n\\item 1\n\\item 1\n\\item 1\n\\item 1\n\\item 1\n\\item 1\n\\item 1\n\\item 1\n\\item 1\n\\item 1\n\\item 1\n\\item 1\n\\item 1\n\\item 1\n\\item 1\n\\item 1\n\\item 1\n\\item 1\n\\item 1\n\\item 1\n\\item 1\n\\item 1\n\\item 1\n\\item 1\n\\item 1\n\\item 1\n\\item 1\n\\item 1\n\\item 1\n\\item 1\n\\item 1\n\\item 1\n\\item 1\n\\item 1\n\\item 1\n\\item 1\n\\item 1\n\\item 1\n\\item 1\n\\item 2\n\\item 2\n\\item 2\n\\item 2\n\\item 2\n\\item 2\n\\item 2\n\\item 2\n\\item 2\n\\item 2\n\\item 2\n\\item 2\n\\item 2\n\\item 2\n\\item 2\n\\item 2\n\\item 2\n\\item 2\n\\item 2\n\\item 2\n\\item 2\n\\item 2\n\\item 2\n\\item 2\n\\item 2\n\\item 2\n\\item 2\n\\item 2\n\\item 2\n\\item 2\n\\item 2\n\\item 2\n\\item 2\n\\item 2\n\\item 2\n\\item 2\n\\item 2\n\\item 2\n\\item 2\n\\item 2\n\\item 2\n\\item 2\n\\item 2\n\\item 2\n\\item 2\n\\item 2\n\\item 2\n\\item 2\n\\item 2\n\\item 2\n\\item 3\n\\item 3\n\\item 3\n\\item 3\n\\item 3\n\\item 3\n\\item 3\n\\item 3\n\\item 3\n\\item 3\n\\item 3\n\\item 3\n\\item 3\n\\item 3\n\\item 3\n\\item 3\n\\item 3\n\\item 3\n\\item 3\n\\item 3\n\\item 3\n\\item 3\n\\item 3\n\\item 3\n\\item 3\n\\item 3\n\\item 3\n\\item 3\n\\item 3\n\\item 3\n\\item 3\n\\item 3\n\\item 3\n\\item 3\n\\item 3\n\\item 3\n\\item 3\n\\item 3\n\\item 3\n\\item 3\n\\item 3\n\\item 3\n\\item 3\n\\item 3\n\\item 3\n\\item 3\n\\item 3\n\\item 3\n\\item 3\n\\item 3\n\\end{enumerate*}\n",
            "text/plain": [
              "  [1] 1 1 1 1 1 1 1 1 1 1 1 1 1 1 1 1 1 1 1 1 1 1 1 1 1 1 1 1 1 1 1 1 1 1 1 1 1\n",
              " [38] 1 1 1 1 1 1 1 1 1 1 1 1 1 2 2 2 2 2 2 2 2 2 2 2 2 2 2 2 2 2 2 2 2 2 2 2 2\n",
              " [75] 2 2 2 2 2 2 2 2 2 2 2 2 2 2 2 2 2 2 2 2 2 2 2 2 2 2 3 3 3 3 3 3 3 3 3 3 3\n",
              "[112] 3 3 3 3 3 3 3 3 3 3 3 3 3 3 3 3 3 3 3 3 3 3 3 3 3 3 3 3 3 3 3 3 3 3 3 3 3\n",
              "[149] 3 3"
            ]
          },
          "metadata": {}
        }
      ]
    },
    {
      "cell_type": "markdown",
      "source": [
        "#### 5) 데이터셋 준비\n",
        "  - 학습용 데이터셋 : 테스트용 데이터셋 = 8 : 2\n",
        "  - sample()\n",
        "  "
      ],
      "metadata": {
        "id": "XpVU3M7XPjZD"
      }
    },
    {
      "cell_type": "code",
      "source": [
        "# 난수 발생 위해 seed 부여\n",
        "set.seed(123)\n",
        "\n",
        "#  전체 행의 80% 해당하는 인덱스 선정\n",
        "idx <- sample(1:nrow(df),0.8*nrow(df))\n",
        "\n",
        "# 인덱스 행 : 학습데이터\n",
        "df_train <- df[idx, ]\n",
        "# 나머지는 테스트 데이터\n",
        "df_test <- df[-idx, ]"
      ],
      "metadata": {
        "id": "CdJv2UdZOqKv"
      },
      "execution_count": 7,
      "outputs": []
    },
    {
      "cell_type": "code",
      "source": [
        "print(dim(df_train))\n",
        "print(dim(df_test))"
      ],
      "metadata": {
        "colab": {
          "base_uri": "https://localhost:8080/"
        },
        "id": "Tf4uimvoQe7l",
        "outputId": "4a62650c-83d3-45cd-f575-4ed31c4c15f6"
      },
      "execution_count": 8,
      "outputs": [
        {
          "output_type": "stream",
          "name": "stdout",
          "text": [
            "[1] 120   5\n",
            "[1] 30  5\n"
          ]
        }
      ]
    },
    {
      "cell_type": "code",
      "source": [
        "# rpart() 의사결정나무\n",
        "# 종속변수~ 독립변수 + 독립변수...\n",
        "# species~. : species종속변수 나머지는 독립변수\n",
        "\n",
        "model <- rpart(species~., method = \"class\", data = df_train)"
      ],
      "metadata": {
        "id": "9rBiSADeQqY2"
      },
      "execution_count": 10,
      "outputs": []
    },
    {
      "cell_type": "code",
      "source": [
        "# 학습된 모델을 기반한 예측수행\n",
        "pred <- predict(model, df_test, type=\"class\")"
      ],
      "metadata": {
        "id": "4y7Y1DJYT7bj"
      },
      "execution_count": 11,
      "outputs": []
    },
    {
      "cell_type": "code",
      "source": [
        "# 예측결과와 실제값을 비교\n",
        "cm <- table(df_test$species, pred)\n",
        "print(cm)\n",
        "\n",
        "# 2를 3으로 2개 잘못 분류함. 대각선 값들이 정확히 분류한 것"
      ],
      "metadata": {
        "colab": {
          "base_uri": "https://localhost:8080/"
        },
        "id": "m-muD298UE_K",
        "outputId": "908b9c70-df03-4fc9-9615-b27c3daf6b08"
      },
      "execution_count": 15,
      "outputs": [
        {
          "output_type": "stream",
          "name": "stdout",
          "text": [
            "   pred\n",
            "     1  2  3\n",
            "  1 10  0  0\n",
            "  2  0 13  2\n",
            "  3  0  0  5\n"
          ]
        }
      ]
    },
    {
      "cell_type": "code",
      "source": [
        "# 모델평가 - 정확도\n",
        "# 1을 1로 2를 2로 3을 3으로 맞춘 합 => 정확도\n",
        "acc <- (cm[1,1] + cm[2,2] + cm[3,3])/nrow(df_test)\n",
        "print(acc)\n",
        "\n",
        "# 분류(예측)모델의 정확도는 0.933..\n",
        "# 93%의 정확도로 붓꽃의 품종을 분류할 수 있다."
      ],
      "metadata": {
        "colab": {
          "base_uri": "https://localhost:8080/"
        },
        "id": "haMKp-SyUM56",
        "outputId": "6031949c-86c6-4058-d008-bd418efa259e"
      },
      "execution_count": 14,
      "outputs": [
        {
          "output_type": "stream",
          "name": "stdout",
          "text": [
            "[1] 0.9333333\n"
          ]
        }
      ]
    },
    {
      "cell_type": "markdown",
      "source": [
        "#### 2. 분석모델 성능 평가 방법\n",
        "  - 오차행렬  : caret 패키지의 confusionMatrix()\n",
        "  "
      ],
      "metadata": {
        "id": "UAb-Awc2X4Gm"
      }
    },
    {
      "cell_type": "code",
      "source": [
        "# 모델 평가 - 오차행렬, caret 패키지 사용\n",
        "install.packages(\"caret\")\n",
        "library(caret)"
      ],
      "metadata": {
        "colab": {
          "base_uri": "https://localhost:8080/"
        },
        "id": "YOMsBsMnX2Jc",
        "outputId": "241266bf-a493-4011-c592-2c38cf93efe4"
      },
      "execution_count": 18,
      "outputs": [
        {
          "output_type": "stream",
          "name": "stderr",
          "text": [
            "Installing package into ‘/usr/local/lib/R/site-library’\n",
            "(as ‘lib’ is unspecified)\n",
            "\n",
            "also installing the dependencies ‘clock’, ‘recipes’\n",
            "\n",
            "\n",
            "Loading required package: lattice\n",
            "\n"
          ]
        }
      ]
    },
    {
      "cell_type": "code",
      "source": [
        "confusionMatrix(data=pred, reference = factor(df_test$species), mode = \"prec_recall\" )"
      ],
      "metadata": {
        "colab": {
          "base_uri": "https://localhost:8080/",
          "height": 558
        },
        "id": "ixlJPp8yWjqn",
        "outputId": "761d0c79-6d88-459e-a9e2-a44f11744674"
      },
      "execution_count": 19,
      "outputs": [
        {
          "output_type": "display_data",
          "data": {
            "text/plain": [
              "Confusion Matrix and Statistics\n",
              "\n",
              "          Reference\n",
              "Prediction  1  2  3\n",
              "         1 10  0  0\n",
              "         2  0 13  0\n",
              "         3  0  2  5\n",
              "\n",
              "Overall Statistics\n",
              "                                          \n",
              "               Accuracy : 0.9333          \n",
              "                 95% CI : (0.7793, 0.9918)\n",
              "    No Information Rate : 0.5             \n",
              "    P-Value [Acc > NIR] : 4.34e-07        \n",
              "                                          \n",
              "                  Kappa : 0.8947          \n",
              "                                          \n",
              " Mcnemar's Test P-Value : NA              \n",
              "\n",
              "Statistics by Class:\n",
              "\n",
              "                     Class: 1 Class: 2 Class: 3\n",
              "Precision              1.0000   1.0000   0.7143\n",
              "Recall                 1.0000   0.8667   1.0000\n",
              "F1                     1.0000   0.9286   0.8333\n",
              "Prevalence             0.3333   0.5000   0.1667\n",
              "Detection Rate         0.3333   0.4333   0.1667\n",
              "Detection Prevalence   0.3333   0.4333   0.2333\n",
              "Balanced Accuracy      1.0000   0.9333   0.9600"
            ]
          },
          "metadata": {}
        }
      ]
    },
    {
      "cell_type": "code",
      "source": [],
      "metadata": {
        "id": "N2Ei5fVbds6v"
      },
      "execution_count": null,
      "outputs": []
    }
  ]
}