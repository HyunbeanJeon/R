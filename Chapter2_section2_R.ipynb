{
  "nbformat": 4,
  "nbformat_minor": 0,
  "metadata": {
    "colab": {
      "provenance": [],
      "authorship_tag": "ABX9TyPZRayOoG0C9rKyvRh4LQD8",
      "include_colab_link": true
    },
    "kernelspec": {
      "name": "ir",
      "display_name": "R"
    },
    "language_info": {
      "name": "R"
    }
  },
  "cells": [
    {
      "cell_type": "markdown",
      "metadata": {
        "id": "view-in-github",
        "colab_type": "text"
      },
      "source": [
        "<a href=\"https://colab.research.google.com/github/jhbeann/Bigdata_R/blob/main/Chapter2_section2_R.ipynb\" target=\"_parent\"><img src=\"https://colab.research.google.com/assets/colab-badge.svg\" alt=\"Open In Colab\"/></a>"
      ]
    },
    {
      "cell_type": "markdown",
      "source": [
        "# 2. 전처리 개요"
      ],
      "metadata": {
        "id": "LtIuVf9NXZI8"
      }
    },
    {
      "cell_type": "markdown",
      "source": [
        "### 데이터 변환\n",
        "\n",
        "  1) 표준 정규화\n",
        "  - rnorm() : 난수발생\n",
        "  - rnorm(n, mean=k, sd=s)\n",
        "    - 평균 k , 표준편차 s 정규분포 따르는 n개의 난수 생성"
      ],
      "metadata": {
        "id": "nGXcwU8oXTx7"
      }
    },
    {
      "cell_type": "code",
      "source": [
        "# 한국인, 일본인 각 성인 1000명 육류 소비량 데이터 생\n",
        "meat_consumption_korean <- rnorm(n=1000, mean=53.9, sd=5)\n",
        "meat_consumption_japan <- rnorm(n=1000, mean=32.9, sd=4)\n",
        "\n",
        "# 데이터 프레임\n",
        "meat_consumption <- data.frame(meat_consumption_korean,meat_consumption_japan)\n",
        "\n",
        "# 확인\n",
        "head(meat_consumption)"
      ],
      "metadata": {
        "colab": {
          "base_uri": "https://localhost:8080/",
          "height": 286
        },
        "id": "a-vhMewAXXCN",
        "outputId": "da045bd8-9d33-464d-f2a7-d4436b5d30b2"
      },
      "execution_count": 1,
      "outputs": [
        {
          "output_type": "display_data",
          "data": {
            "text/html": [
              "<table class=\"dataframe\">\n",
              "<caption>A data.frame: 6 × 2</caption>\n",
              "<thead>\n",
              "\t<tr><th></th><th scope=col>meat_consumption_korean</th><th scope=col>meat_consumption_japan</th></tr>\n",
              "\t<tr><th></th><th scope=col>&lt;dbl&gt;</th><th scope=col>&lt;dbl&gt;</th></tr>\n",
              "</thead>\n",
              "<tbody>\n",
              "\t<tr><th scope=row>1</th><td>61.78184</td><td>31.92582</td></tr>\n",
              "\t<tr><th scope=row>2</th><td>47.28861</td><td>38.21450</td></tr>\n",
              "\t<tr><th scope=row>3</th><td>46.58991</td><td>30.43864</td></tr>\n",
              "\t<tr><th scope=row>4</th><td>56.50503</td><td>34.66509</td></tr>\n",
              "\t<tr><th scope=row>5</th><td>49.53051</td><td>31.66493</td></tr>\n",
              "\t<tr><th scope=row>6</th><td>45.34029</td><td>28.68450</td></tr>\n",
              "</tbody>\n",
              "</table>\n"
            ],
            "text/markdown": "\nA data.frame: 6 × 2\n\n| <!--/--> | meat_consumption_korean &lt;dbl&gt; | meat_consumption_japan &lt;dbl&gt; |\n|---|---|---|\n| 1 | 61.78184 | 31.92582 |\n| 2 | 47.28861 | 38.21450 |\n| 3 | 46.58991 | 30.43864 |\n| 4 | 56.50503 | 34.66509 |\n| 5 | 49.53051 | 31.66493 |\n| 6 | 45.34029 | 28.68450 |\n\n",
            "text/latex": "A data.frame: 6 × 2\n\\begin{tabular}{r|ll}\n  & meat\\_consumption\\_korean & meat\\_consumption\\_japan\\\\\n  & <dbl> & <dbl>\\\\\n\\hline\n\t1 & 61.78184 & 31.92582\\\\\n\t2 & 47.28861 & 38.21450\\\\\n\t3 & 46.58991 & 30.43864\\\\\n\t4 & 56.50503 & 34.66509\\\\\n\t5 & 49.53051 & 31.66493\\\\\n\t6 & 45.34029 & 28.68450\\\\\n\\end{tabular}\n",
            "text/plain": [
              "  meat_consumption_korean meat_consumption_japan\n",
              "1 61.78184                31.92582              \n",
              "2 47.28861                38.21450              \n",
              "3 46.58991                30.43864              \n",
              "4 56.50503                34.66509              \n",
              "5 49.53051                31.66493              \n",
              "6 45.34029                28.68450              "
            ]
          },
          "metadata": {}
        }
      ]
    },
    {
      "cell_type": "markdown",
      "source": [
        "#### 히스토그램 함수 :hist()\n",
        "- hist(x, breaks=\"Sturges\", freq=TRUE, main =\"title\")\n",
        "  - x: 히스토그램 대상\n",
        "  - breaks : 히스토그램 계급구간 (기본값 :\"Sturges\")\n",
        "  - freq = TRUE (실제 빈도수 표시) //  FALSE : 상대 빈도수 표시:비율\n",
        "  - main : 그래프 제목"
      ],
      "metadata": {
        "id": "H0xH9e8nZCxW"
      }
    },
    {
      "cell_type": "code",
      "source": [
        "# 한국인 육류소비량 히스토그램\n",
        "hist(meat_consumption_korean, freq = TRUE, main = \"Histogram of Korean Meat Eat\")\n",
        "# 일본인 육류소비량 히스토그램\n",
        "hist(meat_consumption_japan, freq = TRUE, main = \"Histogram of Japan Meat Eat\")"
      ],
      "metadata": {
        "colab": {
          "base_uri": "https://localhost:8080/",
          "height": 857
        },
        "id": "5PMFA8osXfeb",
        "outputId": "17b4d7b2-9e14-4c5f-f039-cb3fb39cccc2"
      },
      "execution_count": 2,
      "outputs": [
        {
          "output_type": "display_data",
          "data": {
            "text/plain": [
              "Plot with title “Histogram of Korean Meat Eat”"
            ],
            "image/png": "[encoded data removed]"
          },
          "metadata": {
            "image/png": {
              "width": 420,
              "height": 420
            }
          }
        },
        {
          "output_type": "display_data",
          "data": {
            "text/plain": [
              "Plot with title “Histogram of Japan Meat Eat”"
            ],
            "image/png": "[encoded data removed]"
          },
          "metadata": {
            "image/png": {
              "width": 420,
              "height": 420
            }
          }
        }
      ]
    },
    {
      "cell_type": "markdown",
      "source": [
        "\n",
        "#### z 표준화\n",
        "-  Z-표준화된 컬럼을 추가\n",
        "- 표준정규화함수에 의한 변환 scale() 함수 이용\n"
      ],
      "metadata": {
        "id": "dJ9uc4u-Sv0A"
      }
    },
    {
      "cell_type": "code",
      "source": [
        "S1 <- scale(meat_consumption_korean)\n",
        "S2 <- scale(meat_consumption_japan)\n",
        "meat_consumption <- transform(meat_consumption, z_korean = S1, z_japan = S2)\n",
        "\n",
        "head(meat_consumption)\n"
      ],
      "metadata": {
        "colab": {
          "base_uri": "https://localhost:8080/",
          "height": 286
        },
        "id": "I7c8n-itSwVd",
        "outputId": "d42d1013-f0f8-48ad-dd15-97c3f4540dab"
      },
      "execution_count": 4,
      "outputs": [
        {
          "output_type": "display_data",
          "data": {
            "text/html": [
              "<table class=\"dataframe\">\n",
              "<caption>A data.frame: 6 × 4</caption>\n",
              "<thead>\n",
              "\t<tr><th></th><th scope=col>meat_consumption_korean</th><th scope=col>meat_consumption_japan</th><th scope=col>z_korean</th><th scope=col>z_japan</th></tr>\n",
              "\t<tr><th></th><th scope=col>&lt;dbl&gt;</th><th scope=col>&lt;dbl&gt;</th><th scope=col>&lt;dbl&gt;</th><th scope=col>&lt;dbl&gt;</th></tr>\n",
              "</thead>\n",
              "<tbody>\n",
              "\t<tr><th scope=row>1</th><td>61.78184</td><td>31.92582</td><td> 1.6184966</td><td>-0.3229940</td></tr>\n",
              "\t<tr><th scope=row>2</th><td>47.28861</td><td>38.21450</td><td>-1.4112047</td><td> 1.2784017</td></tr>\n",
              "\t<tr><th scope=row>3</th><td>46.58991</td><td>30.43864</td><td>-1.5572620</td><td>-0.7016984</td></tr>\n",
              "\t<tr><th scope=row>4</th><td>56.50503</td><td>34.66509</td><td> 0.5154187</td><td> 0.3745532</td></tr>\n",
              "\t<tr><th scope=row>5</th><td>49.53051</td><td>31.66493</td><td>-0.9425522</td><td>-0.3894293</td></tr>\n",
              "\t<tr><th scope=row>6</th><td>45.34029</td><td>28.68450</td><td>-1.8184854</td><td>-1.1483863</td></tr>\n",
              "</tbody>\n",
              "</table>\n"
            ],
            "text/markdown": "\nA data.frame: 6 × 4\n\n| <!--/--> | meat_consumption_korean &lt;dbl&gt; | meat_consumption_japan &lt;dbl&gt; | z_korean &lt;dbl&gt; | z_japan &lt;dbl&gt; |\n|---|---|---|---|---|\n| 1 | 61.78184 | 31.92582 |  1.6184966 | -0.3229940 |\n| 2 | 47.28861 | 38.21450 | -1.4112047 |  1.2784017 |\n| 3 | 46.58991 | 30.43864 | -1.5572620 | -0.7016984 |\n| 4 | 56.50503 | 34.66509 |  0.5154187 |  0.3745532 |\n| 5 | 49.53051 | 31.66493 | -0.9425522 | -0.3894293 |\n| 6 | 45.34029 | 28.68450 | -1.8184854 | -1.1483863 |\n\n",
            "text/latex": "A data.frame: 6 × 4\n\\begin{tabular}{r|llll}\n  & meat\\_consumption\\_korean & meat\\_consumption\\_japan & z\\_korean & z\\_japan\\\\\n  & <dbl> & <dbl> & <dbl> & <dbl>\\\\\n\\hline\n\t1 & 61.78184 & 31.92582 &  1.6184966 & -0.3229940\\\\\n\t2 & 47.28861 & 38.21450 & -1.4112047 &  1.2784017\\\\\n\t3 & 46.58991 & 30.43864 & -1.5572620 & -0.7016984\\\\\n\t4 & 56.50503 & 34.66509 &  0.5154187 &  0.3745532\\\\\n\t5 & 49.53051 & 31.66493 & -0.9425522 & -0.3894293\\\\\n\t6 & 45.34029 & 28.68450 & -1.8184854 & -1.1483863\\\\\n\\end{tabular}\n",
            "text/plain": [
              "  meat_consumption_korean meat_consumption_japan z_korean   z_japan   \n",
              "1 61.78184                31.92582                1.6184966 -0.3229940\n",
              "2 47.28861                38.21450               -1.4112047  1.2784017\n",
              "3 46.58991                30.43864               -1.5572620 -0.7016984\n",
              "4 56.50503                34.66509                0.5154187  0.3745532\n",
              "5 49.53051                31.66493               -0.9425522 -0.3894293\n",
              "6 45.34029                28.68450               -1.8184854 -1.1483863"
            ]
          },
          "metadata": {}
        }
      ]
    },
    {
      "cell_type": "markdown",
      "source": [
        "#### 표준정규화 수식을 직접 입력\n",
        "- 기존 데이터프레임에 새로운 Z-표준화된 컬럼을 추가"
      ],
      "metadata": {
        "id": "JpSwg4m9TlDl"
      }
    },
    {
      "cell_type": "code",
      "source": [
        "S1 <- (meat_consumption_korean - mean(meat_consumption_korean))/sd(meat_consumption_korean)\n",
        "S2 <- (meat_consumption_japan - mean(meat_consumption_japan))/sd(meat_consumption_japan)\n",
        "meat_consumption <- transform(meat_consumption, z2_korean = S1, z2_japan = S2)\n",
        "\n",
        "head(meat_consumption)\n",
        "\n",
        "# z와 z2는 똑같다"
      ],
      "metadata": {
        "colab": {
          "base_uri": "https://localhost:8080/",
          "height": 286
        },
        "id": "bJp6BQgBTqrM",
        "outputId": "980d0852-39b7-4824-a174-eb022540b11a"
      },
      "execution_count": 5,
      "outputs": [
        {
          "output_type": "display_data",
          "data": {
            "text/html": [
              "<table class=\"dataframe\">\n",
              "<caption>A data.frame: 6 × 6</caption>\n",
              "<thead>\n",
              "\t<tr><th></th><th scope=col>meat_consumption_korean</th><th scope=col>meat_consumption_japan</th><th scope=col>z_korean</th><th scope=col>z_japan</th><th scope=col>z2_korean</th><th scope=col>z2_japan</th></tr>\n",
              "\t<tr><th></th><th scope=col>&lt;dbl&gt;</th><th scope=col>&lt;dbl&gt;</th><th scope=col>&lt;dbl&gt;</th><th scope=col>&lt;dbl&gt;</th><th scope=col>&lt;dbl&gt;</th><th scope=col>&lt;dbl&gt;</th></tr>\n",
              "</thead>\n",
              "<tbody>\n",
              "\t<tr><th scope=row>1</th><td>61.78184</td><td>31.92582</td><td> 1.6184966</td><td>-0.3229940</td><td> 1.6184966</td><td>-0.3229940</td></tr>\n",
              "\t<tr><th scope=row>2</th><td>47.28861</td><td>38.21450</td><td>-1.4112047</td><td> 1.2784017</td><td>-1.4112047</td><td> 1.2784017</td></tr>\n",
              "\t<tr><th scope=row>3</th><td>46.58991</td><td>30.43864</td><td>-1.5572620</td><td>-0.7016984</td><td>-1.5572620</td><td>-0.7016984</td></tr>\n",
              "\t<tr><th scope=row>4</th><td>56.50503</td><td>34.66509</td><td> 0.5154187</td><td> 0.3745532</td><td> 0.5154187</td><td> 0.3745532</td></tr>\n",
              "\t<tr><th scope=row>5</th><td>49.53051</td><td>31.66493</td><td>-0.9425522</td><td>-0.3894293</td><td>-0.9425522</td><td>-0.3894293</td></tr>\n",
              "\t<tr><th scope=row>6</th><td>45.34029</td><td>28.68450</td><td>-1.8184854</td><td>-1.1483863</td><td>-1.8184854</td><td>-1.1483863</td></tr>\n",
              "</tbody>\n",
              "</table>\n"
            ],
            "text/markdown": "\nA data.frame: 6 × 6\n\n| <!--/--> | meat_consumption_korean &lt;dbl&gt; | meat_consumption_japan &lt;dbl&gt; | z_korean &lt;dbl&gt; | z_japan &lt;dbl&gt; | z2_korean &lt;dbl&gt; | z2_japan &lt;dbl&gt; |\n|---|---|---|---|---|---|---|\n| 1 | 61.78184 | 31.92582 |  1.6184966 | -0.3229940 |  1.6184966 | -0.3229940 |\n| 2 | 47.28861 | 38.21450 | -1.4112047 |  1.2784017 | -1.4112047 |  1.2784017 |\n| 3 | 46.58991 | 30.43864 | -1.5572620 | -0.7016984 | -1.5572620 | -0.7016984 |\n| 4 | 56.50503 | 34.66509 |  0.5154187 |  0.3745532 |  0.5154187 |  0.3745532 |\n| 5 | 49.53051 | 31.66493 | -0.9425522 | -0.3894293 | -0.9425522 | -0.3894293 |\n| 6 | 45.34029 | 28.68450 | -1.8184854 | -1.1483863 | -1.8184854 | -1.1483863 |\n\n",
            "text/latex": "A data.frame: 6 × 6\n\\begin{tabular}{r|llllll}\n  & meat\\_consumption\\_korean & meat\\_consumption\\_japan & z\\_korean & z\\_japan & z2\\_korean & z2\\_japan\\\\\n  & <dbl> & <dbl> & <dbl> & <dbl> & <dbl> & <dbl>\\\\\n\\hline\n\t1 & 61.78184 & 31.92582 &  1.6184966 & -0.3229940 &  1.6184966 & -0.3229940\\\\\n\t2 & 47.28861 & 38.21450 & -1.4112047 &  1.2784017 & -1.4112047 &  1.2784017\\\\\n\t3 & 46.58991 & 30.43864 & -1.5572620 & -0.7016984 & -1.5572620 & -0.7016984\\\\\n\t4 & 56.50503 & 34.66509 &  0.5154187 &  0.3745532 &  0.5154187 &  0.3745532\\\\\n\t5 & 49.53051 & 31.66493 & -0.9425522 & -0.3894293 & -0.9425522 & -0.3894293\\\\\n\t6 & 45.34029 & 28.68450 & -1.8184854 & -1.1483863 & -1.8184854 & -1.1483863\\\\\n\\end{tabular}\n",
            "text/plain": [
              "  meat_consumption_korean meat_consumption_japan z_korean   z_japan   \n",
              "1 61.78184                31.92582                1.6184966 -0.3229940\n",
              "2 47.28861                38.21450               -1.4112047  1.2784017\n",
              "3 46.58991                30.43864               -1.5572620 -0.7016984\n",
              "4 56.50503                34.66509                0.5154187  0.3745532\n",
              "5 49.53051                31.66493               -0.9425522 -0.3894293\n",
              "6 45.34029                28.68450               -1.8184854 -1.1483863\n",
              "  z2_korean  z2_japan  \n",
              "1  1.6184966 -0.3229940\n",
              "2 -1.4112047  1.2784017\n",
              "3 -1.5572620 -0.7016984\n",
              "4  0.5154187  0.3745532\n",
              "5 -0.9425522 -0.3894293\n",
              "6 -1.8184854 -1.1483863"
            ]
          },
          "metadata": {}
        }
      ]
    },
    {
      "cell_type": "code",
      "source": [
        "# 표준화된 데이터에 대한 히스토그램\n",
        "hist(meat_consumption$z_korean)\n",
        "hist(meat_consumption$z_japan)"
      ],
      "metadata": {
        "colab": {
          "base_uri": "https://localhost:8080/",
          "height": 857
        },
        "id": "0Zhr8tmvT4u6",
        "outputId": "17657219-60b9-4c23-8bdf-a70a2622eb24"
      },
      "execution_count": 6,
      "outputs": [
        {
          "output_type": "display_data",
          "data": {
            "text/plain": [
              "Plot with title “Histogram of meat_consumption$z_korean”"
            ],
            "image/png": "[encoded data removed]"
          },
          "metadata": {
            "image/png": {
              "width": 420,
              "height": 420
            }
          }
        },
        {
          "output_type": "display_data",
          "data": {
            "text/plain": [
              "Plot with title “Histogram of meat_consumption$z_japan”"
            ],
            "image/png": "[encoded data removed]"
          },
          "metadata": {
            "image/png": {
              "width": 420,
              "height": 420
            }
          }
        }
      ]
    },
    {
      "cell_type": "markdown",
      "source": [
        "### Min - Max 정규화\n",
        " - 연속형 변수의 값을 0~1 값으로 변환\n",
        " - 스케일이 다른 변수를  상호간 비교 가능\n",
        "#### 스케일 함수\n",
        "scale(x, center = Min, scale  =(Max -Min))\n",
        "\n",
        "- 행렬 유형의 데이터를 정규화\n",
        "- x : 숫자 벡터 유형의 객체\n"
      ],
      "metadata": {
        "id": "zyP4r0ngRWPm"
      }
    },
    {
      "cell_type": "code",
      "source": [
        "# 1. scale() 함수로 표준화\n",
        "Min <- min(meat_consumption_korean)\n",
        "Max <- max(meat_consumption_korean)\n",
        "\n",
        "S1 <- scale(meat_consumption_korean, center = Min, scale =(Max -Min))\n",
        "\n",
        "Min <- min(meat_consumption_japan)\n",
        "Max <- max(meat_consumption_japan)\n",
        "\n",
        "S2 <- scale(meat_consumption_japan, center = Min, scale =(Max -Min))\n",
        "meat_consumption <- transform(meat_consumption, mm_korean = S1, mm_japan = S2)"
      ],
      "metadata": {
        "id": "35HJOsifZv4S"
      },
      "execution_count": 7,
      "outputs": []
    },
    {
      "cell_type": "code",
      "source": [
        "head(meat_consumption)"
      ],
      "metadata": {
        "colab": {
          "base_uri": "https://localhost:8080/",
          "height": 286
        },
        "id": "Gz_sM-ScUVhh",
        "outputId": "162e0edd-0243-4677-f47d-3e082df28e3c"
      },
      "execution_count": 8,
      "outputs": [
        {
          "output_type": "display_data",
          "data": {
            "text/html": [
              "<table class=\"dataframe\">\n",
              "<caption>A data.frame: 6 × 8</caption>\n",
              "<thead>\n",
              "\t<tr><th></th><th scope=col>meat_consumption_korean</th><th scope=col>meat_consumption_japan</th><th scope=col>z_korean</th><th scope=col>z_japan</th><th scope=col>z2_korean</th><th scope=col>z2_japan</th><th scope=col>mm_korean</th><th scope=col>mm_japan</th></tr>\n",
              "\t<tr><th></th><th scope=col>&lt;dbl&gt;</th><th scope=col>&lt;dbl&gt;</th><th scope=col>&lt;dbl&gt;</th><th scope=col>&lt;dbl&gt;</th><th scope=col>&lt;dbl&gt;</th><th scope=col>&lt;dbl&gt;</th><th scope=col>&lt;dbl&gt;</th><th scope=col>&lt;dbl&gt;</th></tr>\n",
              "</thead>\n",
              "<tbody>\n",
              "\t<tr><th scope=row>1</th><td>61.78184</td><td>31.92582</td><td> 1.6184966</td><td>-0.3229940</td><td> 1.6184966</td><td>-0.3229940</td><td>0.7498731</td><td>0.4605920</td></tr>\n",
              "\t<tr><th scope=row>2</th><td>47.28861</td><td>38.21450</td><td>-1.4112047</td><td> 1.2784017</td><td>-1.4112047</td><td> 1.2784017</td><td>0.2485907</td><td>0.7354622</td></tr>\n",
              "\t<tr><th scope=row>3</th><td>46.58991</td><td>30.43864</td><td>-1.5572620</td><td>-0.7016984</td><td>-1.5572620</td><td>-0.7016984</td><td>0.2244247</td><td>0.3955896</td></tr>\n",
              "\t<tr><th scope=row>4</th><td>56.50503</td><td>34.66509</td><td> 0.5154187</td><td> 0.3745532</td><td> 0.5154187</td><td> 0.3745532</td><td>0.5673622</td><td>0.5803219</td></tr>\n",
              "\t<tr><th scope=row>5</th><td>49.53051</td><td>31.66493</td><td>-0.9425522</td><td>-0.3894293</td><td>-0.9425522</td><td>-0.3894293</td><td>0.3261321</td><td>0.4491888</td></tr>\n",
              "\t<tr><th scope=row>6</th><td>45.34029</td><td>28.68450</td><td>-1.8184854</td><td>-1.1483863</td><td>-1.8184854</td><td>-1.1483863</td><td>0.1812037</td><td>0.3189183</td></tr>\n",
              "</tbody>\n",
              "</table>\n"
            ],
            "text/markdown": "\nA data.frame: 6 × 8\n\n| <!--/--> | meat_consumption_korean &lt;dbl&gt; | meat_consumption_japan &lt;dbl&gt; | z_korean &lt;dbl&gt; | z_japan &lt;dbl&gt; | z2_korean &lt;dbl&gt; | z2_japan &lt;dbl&gt; | mm_korean &lt;dbl&gt; | mm_japan &lt;dbl&gt; |\n|---|---|---|---|---|---|---|---|---|\n| 1 | 61.78184 | 31.92582 |  1.6184966 | -0.3229940 |  1.6184966 | -0.3229940 | 0.7498731 | 0.4605920 |\n| 2 | 47.28861 | 38.21450 | -1.4112047 |  1.2784017 | -1.4112047 |  1.2784017 | 0.2485907 | 0.7354622 |\n| 3 | 46.58991 | 30.43864 | -1.5572620 | -0.7016984 | -1.5572620 | -0.7016984 | 0.2244247 | 0.3955896 |\n| 4 | 56.50503 | 34.66509 |  0.5154187 |  0.3745532 |  0.5154187 |  0.3745532 | 0.5673622 | 0.5803219 |\n| 5 | 49.53051 | 31.66493 | -0.9425522 | -0.3894293 | -0.9425522 | -0.3894293 | 0.3261321 | 0.4491888 |\n| 6 | 45.34029 | 28.68450 | -1.8184854 | -1.1483863 | -1.8184854 | -1.1483863 | 0.1812037 | 0.3189183 |\n\n",
            "text/latex": "A data.frame: 6 × 8\n\\begin{tabular}{r|llllllll}\n  & meat\\_consumption\\_korean & meat\\_consumption\\_japan & z\\_korean & z\\_japan & z2\\_korean & z2\\_japan & mm\\_korean & mm\\_japan\\\\\n  & <dbl> & <dbl> & <dbl> & <dbl> & <dbl> & <dbl> & <dbl> & <dbl>\\\\\n\\hline\n\t1 & 61.78184 & 31.92582 &  1.6184966 & -0.3229940 &  1.6184966 & -0.3229940 & 0.7498731 & 0.4605920\\\\\n\t2 & 47.28861 & 38.21450 & -1.4112047 &  1.2784017 & -1.4112047 &  1.2784017 & 0.2485907 & 0.7354622\\\\\n\t3 & 46.58991 & 30.43864 & -1.5572620 & -0.7016984 & -1.5572620 & -0.7016984 & 0.2244247 & 0.3955896\\\\\n\t4 & 56.50503 & 34.66509 &  0.5154187 &  0.3745532 &  0.5154187 &  0.3745532 & 0.5673622 & 0.5803219\\\\\n\t5 & 49.53051 & 31.66493 & -0.9425522 & -0.3894293 & -0.9425522 & -0.3894293 & 0.3261321 & 0.4491888\\\\\n\t6 & 45.34029 & 28.68450 & -1.8184854 & -1.1483863 & -1.8184854 & -1.1483863 & 0.1812037 & 0.3189183\\\\\n\\end{tabular}\n",
            "text/plain": [
              "  meat_consumption_korean meat_consumption_japan z_korean   z_japan   \n",
              "1 61.78184                31.92582                1.6184966 -0.3229940\n",
              "2 47.28861                38.21450               -1.4112047  1.2784017\n",
              "3 46.58991                30.43864               -1.5572620 -0.7016984\n",
              "4 56.50503                34.66509                0.5154187  0.3745532\n",
              "5 49.53051                31.66493               -0.9425522 -0.3894293\n",
              "6 45.34029                28.68450               -1.8184854 -1.1483863\n",
              "  z2_korean  z2_japan   mm_korean mm_japan \n",
              "1  1.6184966 -0.3229940 0.7498731 0.4605920\n",
              "2 -1.4112047  1.2784017 0.2485907 0.7354622\n",
              "3 -1.5572620 -0.7016984 0.2244247 0.3955896\n",
              "4  0.5154187  0.3745532 0.5673622 0.5803219\n",
              "5 -0.9425522 -0.3894293 0.3261321 0.4491888\n",
              "6 -1.8184854 -1.1483863 0.1812037 0.3189183"
            ]
          },
          "metadata": {}
        }
      ]
    },
    {
      "cell_type": "code",
      "source": [
        "# 2. 수식 이용해 표준화\n",
        "\n",
        "Min <- min(meat_consumption_korean)\n",
        "Max <- max(meat_consumption_korean)\n",
        "\n",
        "S1 <- (meat_consumption$meat_consumption_korean - Min) / (Max-Min)\n",
        "\n",
        "Min <- min(meat_consumption_japan)\n",
        "Max <- max(meat_consumption_japan)\n",
        "\n",
        "S2 <- (meat_consumption$meat_consumption_japan - Min) /(Max - Min)\n",
        "meat_consumption <- transform(meat_consumption, mm2_korean = S1, mm2_japan = S2)\n",
        "\n",
        "head(meat_consumption)"
      ],
      "metadata": {
        "colab": {
          "base_uri": "https://localhost:8080/",
          "height": 286
        },
        "id": "J_cbojQJUXrd",
        "outputId": "ff7e5e18-32a0-4064-b295-941c4e09420f"
      },
      "execution_count": 10,
      "outputs": [
        {
          "output_type": "display_data",
          "data": {
            "text/html": [
              "<table class=\"dataframe\">\n",
              "<caption>A data.frame: 6 × 10</caption>\n",
              "<thead>\n",
              "\t<tr><th></th><th scope=col>meat_consumption_korean</th><th scope=col>meat_consumption_japan</th><th scope=col>z_korean</th><th scope=col>z_japan</th><th scope=col>z2_korean</th><th scope=col>z2_japan</th><th scope=col>mm_korean</th><th scope=col>mm_japan</th><th scope=col>mm2_korean</th><th scope=col>mm2_japan</th></tr>\n",
              "\t<tr><th></th><th scope=col>&lt;dbl&gt;</th><th scope=col>&lt;dbl&gt;</th><th scope=col>&lt;dbl&gt;</th><th scope=col>&lt;dbl&gt;</th><th scope=col>&lt;dbl&gt;</th><th scope=col>&lt;dbl&gt;</th><th scope=col>&lt;dbl&gt;</th><th scope=col>&lt;dbl&gt;</th><th scope=col>&lt;dbl&gt;</th><th scope=col>&lt;dbl&gt;</th></tr>\n",
              "</thead>\n",
              "<tbody>\n",
              "\t<tr><th scope=row>1</th><td>61.78184</td><td>31.92582</td><td> 1.6184966</td><td>-0.3229940</td><td> 1.6184966</td><td>-0.3229940</td><td>0.7498731</td><td>0.4605920</td><td>0.7498731</td><td>0.4605920</td></tr>\n",
              "\t<tr><th scope=row>2</th><td>47.28861</td><td>38.21450</td><td>-1.4112047</td><td> 1.2784017</td><td>-1.4112047</td><td> 1.2784017</td><td>0.2485907</td><td>0.7354622</td><td>0.2485907</td><td>0.7354622</td></tr>\n",
              "\t<tr><th scope=row>3</th><td>46.58991</td><td>30.43864</td><td>-1.5572620</td><td>-0.7016984</td><td>-1.5572620</td><td>-0.7016984</td><td>0.2244247</td><td>0.3955896</td><td>0.2244247</td><td>0.3955896</td></tr>\n",
              "\t<tr><th scope=row>4</th><td>56.50503</td><td>34.66509</td><td> 0.5154187</td><td> 0.3745532</td><td> 0.5154187</td><td> 0.3745532</td><td>0.5673622</td><td>0.5803219</td><td>0.5673622</td><td>0.5803219</td></tr>\n",
              "\t<tr><th scope=row>5</th><td>49.53051</td><td>31.66493</td><td>-0.9425522</td><td>-0.3894293</td><td>-0.9425522</td><td>-0.3894293</td><td>0.3261321</td><td>0.4491888</td><td>0.3261321</td><td>0.4491888</td></tr>\n",
              "\t<tr><th scope=row>6</th><td>45.34029</td><td>28.68450</td><td>-1.8184854</td><td>-1.1483863</td><td>-1.8184854</td><td>-1.1483863</td><td>0.1812037</td><td>0.3189183</td><td>0.1812037</td><td>0.3189183</td></tr>\n",
              "</tbody>\n",
              "</table>\n"
            ],
            "text/markdown": "\nA data.frame: 6 × 10\n\n| <!--/--> | meat_consumption_korean &lt;dbl&gt; | meat_consumption_japan &lt;dbl&gt; | z_korean &lt;dbl&gt; | z_japan &lt;dbl&gt; | z2_korean &lt;dbl&gt; | z2_japan &lt;dbl&gt; | mm_korean &lt;dbl&gt; | mm_japan &lt;dbl&gt; | mm2_korean &lt;dbl&gt; | mm2_japan &lt;dbl&gt; |\n|---|---|---|---|---|---|---|---|---|---|---|\n| 1 | 61.78184 | 31.92582 |  1.6184966 | -0.3229940 |  1.6184966 | -0.3229940 | 0.7498731 | 0.4605920 | 0.7498731 | 0.4605920 |\n| 2 | 47.28861 | 38.21450 | -1.4112047 |  1.2784017 | -1.4112047 |  1.2784017 | 0.2485907 | 0.7354622 | 0.2485907 | 0.7354622 |\n| 3 | 46.58991 | 30.43864 | -1.5572620 | -0.7016984 | -1.5572620 | -0.7016984 | 0.2244247 | 0.3955896 | 0.2244247 | 0.3955896 |\n| 4 | 56.50503 | 34.66509 |  0.5154187 |  0.3745532 |  0.5154187 |  0.3745532 | 0.5673622 | 0.5803219 | 0.5673622 | 0.5803219 |\n| 5 | 49.53051 | 31.66493 | -0.9425522 | -0.3894293 | -0.9425522 | -0.3894293 | 0.3261321 | 0.4491888 | 0.3261321 | 0.4491888 |\n| 6 | 45.34029 | 28.68450 | -1.8184854 | -1.1483863 | -1.8184854 | -1.1483863 | 0.1812037 | 0.3189183 | 0.1812037 | 0.3189183 |\n\n",
            "text/latex": "A data.frame: 6 × 10\n\\begin{tabular}{r|llllllllll}\n  & meat\\_consumption\\_korean & meat\\_consumption\\_japan & z\\_korean & z\\_japan & z2\\_korean & z2\\_japan & mm\\_korean & mm\\_japan & mm2\\_korean & mm2\\_japan\\\\\n  & <dbl> & <dbl> & <dbl> & <dbl> & <dbl> & <dbl> & <dbl> & <dbl> & <dbl> & <dbl>\\\\\n\\hline\n\t1 & 61.78184 & 31.92582 &  1.6184966 & -0.3229940 &  1.6184966 & -0.3229940 & 0.7498731 & 0.4605920 & 0.7498731 & 0.4605920\\\\\n\t2 & 47.28861 & 38.21450 & -1.4112047 &  1.2784017 & -1.4112047 &  1.2784017 & 0.2485907 & 0.7354622 & 0.2485907 & 0.7354622\\\\\n\t3 & 46.58991 & 30.43864 & -1.5572620 & -0.7016984 & -1.5572620 & -0.7016984 & 0.2244247 & 0.3955896 & 0.2244247 & 0.3955896\\\\\n\t4 & 56.50503 & 34.66509 &  0.5154187 &  0.3745532 &  0.5154187 &  0.3745532 & 0.5673622 & 0.5803219 & 0.5673622 & 0.5803219\\\\\n\t5 & 49.53051 & 31.66493 & -0.9425522 & -0.3894293 & -0.9425522 & -0.3894293 & 0.3261321 & 0.4491888 & 0.3261321 & 0.4491888\\\\\n\t6 & 45.34029 & 28.68450 & -1.8184854 & -1.1483863 & -1.8184854 & -1.1483863 & 0.1812037 & 0.3189183 & 0.1812037 & 0.3189183\\\\\n\\end{tabular}\n",
            "text/plain": [
              "  meat_consumption_korean meat_consumption_japan z_korean   z_japan   \n",
              "1 61.78184                31.92582                1.6184966 -0.3229940\n",
              "2 47.28861                38.21450               -1.4112047  1.2784017\n",
              "3 46.58991                30.43864               -1.5572620 -0.7016984\n",
              "4 56.50503                34.66509                0.5154187  0.3745532\n",
              "5 49.53051                31.66493               -0.9425522 -0.3894293\n",
              "6 45.34029                28.68450               -1.8184854 -1.1483863\n",
              "  z2_korean  z2_japan   mm_korean mm_japan  mm2_korean mm2_japan\n",
              "1  1.6184966 -0.3229940 0.7498731 0.4605920 0.7498731  0.4605920\n",
              "2 -1.4112047  1.2784017 0.2485907 0.7354622 0.2485907  0.7354622\n",
              "3 -1.5572620 -0.7016984 0.2244247 0.3955896 0.2244247  0.3955896\n",
              "4  0.5154187  0.3745532 0.5673622 0.5803219 0.5673622  0.5803219\n",
              "5 -0.9425522 -0.3894293 0.3261321 0.4491888 0.3261321  0.4491888\n",
              "6 -1.8184854 -1.1483863 0.1812037 0.3189183 0.1812037  0.3189183"
            ]
          },
          "metadata": {}
        }
      ]
    },
    {
      "cell_type": "markdown",
      "source": [
        "#### 2) 정규분포 변환\n",
        "- 왜도 : 분포의 대칭 척도\n"
      ],
      "metadata": {
        "id": "wKyXyf_jVlqV"
      }
    },
    {
      "cell_type": "code",
      "source": [
        "data(USJudgeRatings)\n",
        "df <- USJudgeRatings\n",
        "head(df)"
      ],
      "metadata": {
        "colab": {
          "base_uri": "https://localhost:8080/",
          "height": 286
        },
        "id": "8CA1vbmkVUBm",
        "outputId": "5b31cc0f-3df6-440e-d91c-dcd2cd6af430"
      },
      "execution_count": 11,
      "outputs": [
        {
          "output_type": "display_data",
          "data": {
            "text/html": [
              "<table class=\"dataframe\">\n",
              "<caption>A data.frame: 6 × 12</caption>\n",
              "<thead>\n",
              "\t<tr><th></th><th scope=col>CONT</th><th scope=col>INTG</th><th scope=col>DMNR</th><th scope=col>DILG</th><th scope=col>CFMG</th><th scope=col>DECI</th><th scope=col>PREP</th><th scope=col>FAMI</th><th scope=col>ORAL</th><th scope=col>WRIT</th><th scope=col>PHYS</th><th scope=col>RTEN</th></tr>\n",
              "\t<tr><th></th><th scope=col>&lt;dbl&gt;</th><th scope=col>&lt;dbl&gt;</th><th scope=col>&lt;dbl&gt;</th><th scope=col>&lt;dbl&gt;</th><th scope=col>&lt;dbl&gt;</th><th scope=col>&lt;dbl&gt;</th><th scope=col>&lt;dbl&gt;</th><th scope=col>&lt;dbl&gt;</th><th scope=col>&lt;dbl&gt;</th><th scope=col>&lt;dbl&gt;</th><th scope=col>&lt;dbl&gt;</th><th scope=col>&lt;dbl&gt;</th></tr>\n",
              "</thead>\n",
              "<tbody>\n",
              "\t<tr><th scope=row>AARONSON,L.H.</th><td>5.7</td><td>7.9</td><td>7.7</td><td>7.3</td><td>7.1</td><td>7.4</td><td>7.1</td><td>7.1</td><td>7.1</td><td>7.0</td><td>8.3</td><td>7.8</td></tr>\n",
              "\t<tr><th scope=row>ALEXANDER,J.M.</th><td>6.8</td><td>8.9</td><td>8.8</td><td>8.5</td><td>7.8</td><td>8.1</td><td>8.0</td><td>8.0</td><td>7.8</td><td>7.9</td><td>8.5</td><td>8.7</td></tr>\n",
              "\t<tr><th scope=row>ARMENTANO,A.J.</th><td>7.2</td><td>8.1</td><td>7.8</td><td>7.8</td><td>7.5</td><td>7.6</td><td>7.5</td><td>7.5</td><td>7.3</td><td>7.4</td><td>7.9</td><td>7.8</td></tr>\n",
              "\t<tr><th scope=row>BERDON,R.I.</th><td>6.8</td><td>8.8</td><td>8.5</td><td>8.8</td><td>8.3</td><td>8.5</td><td>8.7</td><td>8.7</td><td>8.4</td><td>8.5</td><td>8.8</td><td>8.7</td></tr>\n",
              "\t<tr><th scope=row>BRACKEN,J.J.</th><td>7.3</td><td>6.4</td><td>4.3</td><td>6.5</td><td>6.0</td><td>6.2</td><td>5.7</td><td>5.7</td><td>5.1</td><td>5.3</td><td>5.5</td><td>4.8</td></tr>\n",
              "\t<tr><th scope=row>BURNS,E.B.</th><td>6.2</td><td>8.8</td><td>8.7</td><td>8.5</td><td>7.9</td><td>8.0</td><td>8.1</td><td>8.0</td><td>8.0</td><td>8.0</td><td>8.6</td><td>8.6</td></tr>\n",
              "</tbody>\n",
              "</table>\n"
            ],
            "text/markdown": "\nA data.frame: 6 × 12\n\n| <!--/--> | CONT &lt;dbl&gt; | INTG &lt;dbl&gt; | DMNR &lt;dbl&gt; | DILG &lt;dbl&gt; | CFMG &lt;dbl&gt; | DECI &lt;dbl&gt; | PREP &lt;dbl&gt; | FAMI &lt;dbl&gt; | ORAL &lt;dbl&gt; | WRIT &lt;dbl&gt; | PHYS &lt;dbl&gt; | RTEN &lt;dbl&gt; |\n|---|---|---|---|---|---|---|---|---|---|---|---|---|\n| AARONSON,L.H. | 5.7 | 7.9 | 7.7 | 7.3 | 7.1 | 7.4 | 7.1 | 7.1 | 7.1 | 7.0 | 8.3 | 7.8 |\n| ALEXANDER,J.M. | 6.8 | 8.9 | 8.8 | 8.5 | 7.8 | 8.1 | 8.0 | 8.0 | 7.8 | 7.9 | 8.5 | 8.7 |\n| ARMENTANO,A.J. | 7.2 | 8.1 | 7.8 | 7.8 | 7.5 | 7.6 | 7.5 | 7.5 | 7.3 | 7.4 | 7.9 | 7.8 |\n| BERDON,R.I. | 6.8 | 8.8 | 8.5 | 8.8 | 8.3 | 8.5 | 8.7 | 8.7 | 8.4 | 8.5 | 8.8 | 8.7 |\n| BRACKEN,J.J. | 7.3 | 6.4 | 4.3 | 6.5 | 6.0 | 6.2 | 5.7 | 5.7 | 5.1 | 5.3 | 5.5 | 4.8 |\n| BURNS,E.B. | 6.2 | 8.8 | 8.7 | 8.5 | 7.9 | 8.0 | 8.1 | 8.0 | 8.0 | 8.0 | 8.6 | 8.6 |\n\n",
            "text/latex": "A data.frame: 6 × 12\n\\begin{tabular}{r|llllllllllll}\n  & CONT & INTG & DMNR & DILG & CFMG & DECI & PREP & FAMI & ORAL & WRIT & PHYS & RTEN\\\\\n  & <dbl> & <dbl> & <dbl> & <dbl> & <dbl> & <dbl> & <dbl> & <dbl> & <dbl> & <dbl> & <dbl> & <dbl>\\\\\n\\hline\n\tAARONSON,L.H. & 5.7 & 7.9 & 7.7 & 7.3 & 7.1 & 7.4 & 7.1 & 7.1 & 7.1 & 7.0 & 8.3 & 7.8\\\\\n\tALEXANDER,J.M. & 6.8 & 8.9 & 8.8 & 8.5 & 7.8 & 8.1 & 8.0 & 8.0 & 7.8 & 7.9 & 8.5 & 8.7\\\\\n\tARMENTANO,A.J. & 7.2 & 8.1 & 7.8 & 7.8 & 7.5 & 7.6 & 7.5 & 7.5 & 7.3 & 7.4 & 7.9 & 7.8\\\\\n\tBERDON,R.I. & 6.8 & 8.8 & 8.5 & 8.8 & 8.3 & 8.5 & 8.7 & 8.7 & 8.4 & 8.5 & 8.8 & 8.7\\\\\n\tBRACKEN,J.J. & 7.3 & 6.4 & 4.3 & 6.5 & 6.0 & 6.2 & 5.7 & 5.7 & 5.1 & 5.3 & 5.5 & 4.8\\\\\n\tBURNS,E.B. & 6.2 & 8.8 & 8.7 & 8.5 & 7.9 & 8.0 & 8.1 & 8.0 & 8.0 & 8.0 & 8.6 & 8.6\\\\\n\\end{tabular}\n",
            "text/plain": [
              "               CONT INTG DMNR DILG CFMG DECI PREP FAMI ORAL WRIT PHYS RTEN\n",
              "AARONSON,L.H.  5.7  7.9  7.7  7.3  7.1  7.4  7.1  7.1  7.1  7.0  8.3  7.8 \n",
              "ALEXANDER,J.M. 6.8  8.9  8.8  8.5  7.8  8.1  8.0  8.0  7.8  7.9  8.5  8.7 \n",
              "ARMENTANO,A.J. 7.2  8.1  7.8  7.8  7.5  7.6  7.5  7.5  7.3  7.4  7.9  7.8 \n",
              "BERDON,R.I.    6.8  8.8  8.5  8.8  8.3  8.5  8.7  8.7  8.4  8.5  8.8  8.7 \n",
              "BRACKEN,J.J.   7.3  6.4  4.3  6.5  6.0  6.2  5.7  5.7  5.1  5.3  5.5  4.8 \n",
              "BURNS,E.B.     6.2  8.8  8.7  8.5  7.9  8.0  8.1  8.0  8.0  8.0  8.6  8.6 "
            ]
          },
          "metadata": {}
        }
      ]
    },
    {
      "cell_type": "code",
      "source": [
        "# 왜도, 첨도 관련 통계적 테스트 지원하는 패키지 ==> moments\n",
        "\n",
        "install.packages(\"moments\")\n",
        "library(moments)\n",
        "\n",
        "# 왜도 계산\n",
        "# CONT : 변호사와 판사 접촉 수 PHYS: 신체적 능력\n",
        "skewness(df$CONT, na.rm = T)  # 1.08597247962763 >0 양의 왜도\n",
        "skewness(df$PHYS, na.rm = T)  # -1.55821546422931 <0 음의 왜도\n"
      ],
      "metadata": {
        "colab": {
          "base_uri": "https://localhost:8080/",
          "height": 108
        },
        "id": "QICfBVwCV0SX",
        "outputId": "5fab85be-3f0d-410c-d828-331082f7628f"
      },
      "execution_count": 14,
      "outputs": [
        {
          "output_type": "stream",
          "name": "stderr",
          "text": [
            "Installing package into ‘/usr/local/lib/R/site-library’\n",
            "(as ‘lib’ is unspecified)\n",
            "\n"
          ]
        },
        {
          "output_type": "display_data",
          "data": {
            "text/html": [
              "1.08597247962763"
            ],
            "text/markdown": "1.08597247962763",
            "text/latex": "1.08597247962763",
            "text/plain": [
              "[1] 1.085972"
            ]
          },
          "metadata": {}
        },
        {
          "output_type": "display_data",
          "data": {
            "text/html": [
              "-1.55821546422931"
            ],
            "text/markdown": "-1.55821546422931",
            "text/latex": "-1.55821546422931",
            "text/plain": [
              "[1] -1.558215"
            ]
          },
          "metadata": {}
        }
      ]
    },
    {
      "cell_type": "markdown",
      "source": [
        "1. 로그 변환\n",
        "- CONT : 양의 왜도 => log(x) 변환\n",
        "- PHYS : 음의 왜도 => log(max(x + 1)-x) "
      ],
      "metadata": {
        "id": "e_NLy9WtZUUj"
      }
    },
    {
      "cell_type": "code",
      "source": [
        "# 로그변환\n",
        "df$CONT1 <-log(df$CONT)\n",
        "df$PHYS1 <- log(max(df$PHYS + 1)- df$PHYS)\n",
        "\n",
        "skewness(df$CONT1, na.rm = T)\n",
        "skewness(df$PHYS1,  na.rm = T)\n",
        "# 0.655557188669261\n",
        "# 0.582435774875044"
      ],
      "metadata": {
        "colab": {
          "base_uri": "https://localhost:8080/",
          "height": 52
        },
        "id": "nZXNTmj7W4Jm",
        "outputId": "35917968-6616-462d-d68e-32f6195253c9"
      },
      "execution_count": 17,
      "outputs": [
        {
          "output_type": "display_data",
          "data": {
            "text/html": [
              "0.655557188669261"
            ],
            "text/markdown": "0.655557188669261",
            "text/latex": "0.655557188669261",
            "text/plain": [
              "[1] 0.6555572"
            ]
          },
          "metadata": {}
        },
        {
          "output_type": "display_data",
          "data": {
            "text/html": [
              "0.582435774875044"
            ],
            "text/markdown": "0.582435774875044",
            "text/latex": "0.582435774875044",
            "text/plain": [
              "[1] 0.5824358"
            ]
          },
          "metadata": {}
        }
      ]
    },
    {
      "cell_type": "markdown",
      "source": [
        "2. log10() 변환\n",
        "- 양의 왜도 : log10() 변환\n",
        "- 음의 왜도 : log10(max(x +1) -x) 변환\n",
        "==> 실행결과는 log() 와 동일"
      ],
      "metadata": {
        "id": "0WsJ5eIgabwM"
      }
    },
    {
      "cell_type": "markdown",
      "source": [
        "#### 3) 범주화, 이산형화\n",
        "- 나누는 기준 결정 중요 : cutting line(구분선) \n"
      ],
      "metadata": {
        "id": "X5AtSAxMaval"
      }
    },
    {
      "cell_type": "code",
      "source": [
        "# 수학 점수(Math _score)\n",
        "student_Name <- c(\"철수\", \"영희\", \"미영\", \"시완\", \"미경\", \"영환\", \"숙경\", \"부영\", \"민섭\", \"보연\")\n",
        "Math_score <- c(52, 92, 84, 71, 65, 81, 66, 77, 73, 74)\n",
        "mean(Math_score)\n",
        "hist(Math_score)\n",
        "\n",
        "# 데이터 프레임 생성\n",
        "score <- data.frame(student_Name, Math_score)\n",
        "score"
      ],
      "metadata": {
        "colab": {
          "base_uri": "https://localhost:8080/",
          "height": 849
        },
        "id": "Jl-nj2_xaGlW",
        "outputId": "0cca8a83-5a50-46db-cc46-7a8b5fdf2cab"
      },
      "execution_count": 18,
      "outputs": [
        {
          "output_type": "display_data",
          "data": {
            "text/html": [
              "73.5"
            ],
            "text/markdown": "73.5",
            "text/latex": "73.5",
            "text/plain": [
              "[1] 73.5"
            ]
          },
          "metadata": {}
        },
        {
          "output_type": "display_data",
          "data": {
            "text/html": [
              "<table class=\"dataframe\">\n",
              "<caption>A data.frame: 10 × 2</caption>\n",
              "<thead>\n",
              "\t<tr><th scope=col>student_Name</th><th scope=col>Math_score</th></tr>\n",
              "\t<tr><th scope=col>&lt;chr&gt;</th><th scope=col>&lt;dbl&gt;</th></tr>\n",
              "</thead>\n",
              "<tbody>\n",
              "\t<tr><td>철수</td><td>52</td></tr>\n",
              "\t<tr><td>영희</td><td>92</td></tr>\n",
              "\t<tr><td>미영</td><td>84</td></tr>\n",
              "\t<tr><td>시완</td><td>71</td></tr>\n",
              "\t<tr><td>미경</td><td>65</td></tr>\n",
              "\t<tr><td>영환</td><td>81</td></tr>\n",
              "\t<tr><td>숙경</td><td>66</td></tr>\n",
              "\t<tr><td>부영</td><td>77</td></tr>\n",
              "\t<tr><td>민섭</td><td>73</td></tr>\n",
              "\t<tr><td>보연</td><td>74</td></tr>\n",
              "</tbody>\n",
              "</table>\n"
            ],
            "text/markdown": "\nA data.frame: 10 × 2\n\n| student_Name &lt;chr&gt; | Math_score &lt;dbl&gt; |\n|---|---|\n| 철수 | 52 |\n| 영희 | 92 |\n| 미영 | 84 |\n| 시완 | 71 |\n| 미경 | 65 |\n| 영환 | 81 |\n| 숙경 | 66 |\n| 부영 | 77 |\n| 민섭 | 73 |\n| 보연 | 74 |\n\n",
            "text/latex": "A data.frame: 10 × 2\n\\begin{tabular}{ll}\n student\\_Name & Math\\_score\\\\\n <chr> & <dbl>\\\\\n\\hline\n\t 철수 & 52\\\\\n\t 영희 & 92\\\\\n\t 미영 & 84\\\\\n\t 시완 & 71\\\\\n\t 미경 & 65\\\\\n\t 영환 & 81\\\\\n\t 숙경 & 66\\\\\n\t 부영 & 77\\\\\n\t 민섭 & 73\\\\\n\t 보연 & 74\\\\\n\\end{tabular}\n",
            "text/plain": [
              "   student_Name Math_score\n",
              "1  철수         52        \n",
              "2  영희         92        \n",
              "3  미영         84        \n",
              "4  시완         71        \n",
              "5  미경         65        \n",
              "6  영환         81        \n",
              "7  숙경         66        \n",
              "8  부영         77        \n",
              "9  민섭         73        \n",
              "10 보연         74        "
            ]
          },
          "metadata": {}
        },
        {
          "output_type": "display_data",
          "data": {
            "text/plain": [
              "Plot with title “Histogram of Math_score”"
            ],
            "image/png": "[encoded data removed]"
          },
          "metadata": {
            "image/png": {
              "width": 420,
              "height": 420
            }
          }
        }
      ]
    },
    {
      "cell_type": "code",
      "source": [
        "# cut 함수 사용()\n",
        "# include.lowest = TRUE  :\n",
        "# right = FALSE : a <= x < b 조건으로 등급 부여\n",
        "# right = TRUE :  a < x <= b \n",
        "score <- transform(score, Math_grade_cut = cut(Math_score, breaks =c(0,60,70,80,90,100),\n",
        "                  include.lowest = TRUE, \n",
        "                   right = FALSE,  \n",
        "                  labels = c(\"F\",\"D\",\"C\",\"B\",\"A\")))\n",
        "              \n",
        "score"
      ],
      "metadata": {
        "colab": {
          "base_uri": "https://localhost:8080/",
          "height": 411
        },
        "id": "1viBN_rhbRjX",
        "outputId": "cf690fb1-b8b4-477e-d967-2dc184d897ac"
      },
      "execution_count": 19,
      "outputs": [
        {
          "output_type": "display_data",
          "data": {
            "text/html": [
              "<table class=\"dataframe\">\n",
              "<caption>A data.frame: 10 × 3</caption>\n",
              "<thead>\n",
              "\t<tr><th scope=col>student_Name</th><th scope=col>Math_score</th><th scope=col>Math_grade_cut</th></tr>\n",
              "\t<tr><th scope=col>&lt;chr&gt;</th><th scope=col>&lt;dbl&gt;</th><th scope=col>&lt;fct&gt;</th></tr>\n",
              "</thead>\n",
              "<tbody>\n",
              "\t<tr><td>철수</td><td>52</td><td>F</td></tr>\n",
              "\t<tr><td>영희</td><td>92</td><td>A</td></tr>\n",
              "\t<tr><td>미영</td><td>84</td><td>B</td></tr>\n",
              "\t<tr><td>시완</td><td>71</td><td>C</td></tr>\n",
              "\t<tr><td>미경</td><td>65</td><td>D</td></tr>\n",
              "\t<tr><td>영환</td><td>81</td><td>B</td></tr>\n",
              "\t<tr><td>숙경</td><td>66</td><td>D</td></tr>\n",
              "\t<tr><td>부영</td><td>77</td><td>C</td></tr>\n",
              "\t<tr><td>민섭</td><td>73</td><td>C</td></tr>\n",
              "\t<tr><td>보연</td><td>74</td><td>C</td></tr>\n",
              "</tbody>\n",
              "</table>\n"
            ],
            "text/markdown": "\nA data.frame: 10 × 3\n\n| student_Name &lt;chr&gt; | Math_score &lt;dbl&gt; | Math_grade_cut &lt;fct&gt; |\n|---|---|---|\n| 철수 | 52 | F |\n| 영희 | 92 | A |\n| 미영 | 84 | B |\n| 시완 | 71 | C |\n| 미경 | 65 | D |\n| 영환 | 81 | B |\n| 숙경 | 66 | D |\n| 부영 | 77 | C |\n| 민섭 | 73 | C |\n| 보연 | 74 | C |\n\n",
            "text/latex": "A data.frame: 10 × 3\n\\begin{tabular}{lll}\n student\\_Name & Math\\_score & Math\\_grade\\_cut\\\\\n <chr> & <dbl> & <fct>\\\\\n\\hline\n\t 철수 & 52 & F\\\\\n\t 영희 & 92 & A\\\\\n\t 미영 & 84 & B\\\\\n\t 시완 & 71 & C\\\\\n\t 미경 & 65 & D\\\\\n\t 영환 & 81 & B\\\\\n\t 숙경 & 66 & D\\\\\n\t 부영 & 77 & C\\\\\n\t 민섭 & 73 & C\\\\\n\t 보연 & 74 & C\\\\\n\\end{tabular}\n",
            "text/plain": [
              "   student_Name Math_score Math_grade_cut\n",
              "1  철수         52         F             \n",
              "2  영희         92         A             \n",
              "3  미영         84         B             \n",
              "4  시완         71         C             \n",
              "5  미경         65         D             \n",
              "6  영환         81         B             \n",
              "7  숙경         66         D             \n",
              "8  부영         77         C             \n",
              "9  민섭         73         C             \n",
              "10 보연         74         C             "
            ]
          },
          "metadata": {}
        }
      ]
    },
    {
      "cell_type": "code",
      "source": [
        "# ifelse \n",
        "\n",
        "score <- transform(score, Math_grade_ifelse = ifelse(Math_score < 60, \"F\",\n",
        "                                              ifelse(Math_score >=60 & Math_score < 70, \"D\",\n",
        "                                              ifelse(Math_score >=70 & Math_score < 80, \"C\",\n",
        "                                              ifelse(Math_score >=80 & Math_score < 90, \"B\",\n",
        "                                              \"A\"\n",
        "                                              ))))) \n",
        "\n",
        "score"
      ],
      "metadata": {
        "colab": {
          "base_uri": "https://localhost:8080/",
          "height": 411
        },
        "id": "BwYIRtR9cpBl",
        "outputId": "0fae2d8f-02be-475a-87f2-4ebb9e11a26d"
      },
      "execution_count": 21,
      "outputs": [
        {
          "output_type": "display_data",
          "data": {
            "text/html": [
              "<table class=\"dataframe\">\n",
              "<caption>A data.frame: 10 × 4</caption>\n",
              "<thead>\n",
              "\t<tr><th scope=col>student_Name</th><th scope=col>Math_score</th><th scope=col>Math_grade_cut</th><th scope=col>Math_grade_ifelse</th></tr>\n",
              "\t<tr><th scope=col>&lt;chr&gt;</th><th scope=col>&lt;dbl&gt;</th><th scope=col>&lt;fct&gt;</th><th scope=col>&lt;chr&gt;</th></tr>\n",
              "</thead>\n",
              "<tbody>\n",
              "\t<tr><td>철수</td><td>52</td><td>F</td><td>F</td></tr>\n",
              "\t<tr><td>영희</td><td>92</td><td>A</td><td>A</td></tr>\n",
              "\t<tr><td>미영</td><td>84</td><td>B</td><td>B</td></tr>\n",
              "\t<tr><td>시완</td><td>71</td><td>C</td><td>C</td></tr>\n",
              "\t<tr><td>미경</td><td>65</td><td>D</td><td>D</td></tr>\n",
              "\t<tr><td>영환</td><td>81</td><td>B</td><td>B</td></tr>\n",
              "\t<tr><td>숙경</td><td>66</td><td>D</td><td>D</td></tr>\n",
              "\t<tr><td>부영</td><td>77</td><td>C</td><td>C</td></tr>\n",
              "\t<tr><td>민섭</td><td>73</td><td>C</td><td>C</td></tr>\n",
              "\t<tr><td>보연</td><td>74</td><td>C</td><td>C</td></tr>\n",
              "</tbody>\n",
              "</table>\n"
            ],
            "text/markdown": "\nA data.frame: 10 × 4\n\n| student_Name &lt;chr&gt; | Math_score &lt;dbl&gt; | Math_grade_cut &lt;fct&gt; | Math_grade_ifelse &lt;chr&gt; |\n|---|---|---|---|\n| 철수 | 52 | F | F |\n| 영희 | 92 | A | A |\n| 미영 | 84 | B | B |\n| 시완 | 71 | C | C |\n| 미경 | 65 | D | D |\n| 영환 | 81 | B | B |\n| 숙경 | 66 | D | D |\n| 부영 | 77 | C | C |\n| 민섭 | 73 | C | C |\n| 보연 | 74 | C | C |\n\n",
            "text/latex": "A data.frame: 10 × 4\n\\begin{tabular}{llll}\n student\\_Name & Math\\_score & Math\\_grade\\_cut & Math\\_grade\\_ifelse\\\\\n <chr> & <dbl> & <fct> & <chr>\\\\\n\\hline\n\t 철수 & 52 & F & F\\\\\n\t 영희 & 92 & A & A\\\\\n\t 미영 & 84 & B & B\\\\\n\t 시완 & 71 & C & C\\\\\n\t 미경 & 65 & D & D\\\\\n\t 영환 & 81 & B & B\\\\\n\t 숙경 & 66 & D & D\\\\\n\t 부영 & 77 & C & C\\\\\n\t 민섭 & 73 & C & C\\\\\n\t 보연 & 74 & C & C\\\\\n\\end{tabular}\n",
            "text/plain": [
              "   student_Name Math_score Math_grade_cut Math_grade_ifelse\n",
              "1  철수         52         F              F                \n",
              "2  영희         92         A              A                \n",
              "3  미영         84         B              B                \n",
              "4  시완         71         C              C                \n",
              "5  미경         65         D              D                \n",
              "6  영환         81         B              B                \n",
              "7  숙경         66         D              D                \n",
              "8  부영         77         C              C                \n",
              "9  민섭         73         C              C                \n",
              "10 보연         74         C              C                "
            ]
          },
          "metadata": {}
        }
      ]
    },
    {
      "cell_type": "code",
      "source": [
        "# 3. within \n",
        "# ??????????????????????\n",
        "score <- within(score, {Math_grade_within = character(0)\n",
        "        })"
      ],
      "metadata": {
        "id": "v_EbW4qTeXv-"
      },
      "execution_count": null,
      "outputs": []
    },
    {
      "cell_type": "markdown",
      "source": [
        "### 3. 차원축소 : PCA ( 주성분 분석 )\n",
        "- 서로 상관성 높은 여러 변수들의 선형 조합으로 만든 새로운 변수들로 요약, 축소하는 기법\n",
        "- 첫번째 주성분 : 전체 변동을 가장 많이 설명\n",
        "- 두번째 주성분 : 첫번째 주성분과 상관성이 낮아 첫번째 주성분이 설명하지 못하는 나머지 변동을 정보의 손실 없이 가장 많이 설명할 수 있도록 변수들의 선형조합 만든다.\n",
        "\n"
      ],
      "metadata": {
        "id": "MzPSfxKOimFR"
      }
    },
    {
      "cell_type": "code",
      "source": [
        "# 연속형 변수와 범주형 변수 분리\n",
        "df <- iris[,-5]\n",
        "df_species <- iris[,5]\n",
        "\n",
        "head(df)"
      ],
      "metadata": {
        "colab": {
          "base_uri": "https://localhost:8080/",
          "height": 286
        },
        "id": "xwHgYRuAilpz",
        "outputId": "ab0b89fe-19c9-4fb9-cb75-b956eb70aa28"
      },
      "execution_count": 22,
      "outputs": [
        {
          "output_type": "display_data",
          "data": {
            "text/html": [
              "<table class=\"dataframe\">\n",
              "<caption>A data.frame: 6 × 4</caption>\n",
              "<thead>\n",
              "\t<tr><th></th><th scope=col>Sepal.Length</th><th scope=col>Sepal.Width</th><th scope=col>Petal.Length</th><th scope=col>Petal.Width</th></tr>\n",
              "\t<tr><th></th><th scope=col>&lt;dbl&gt;</th><th scope=col>&lt;dbl&gt;</th><th scope=col>&lt;dbl&gt;</th><th scope=col>&lt;dbl&gt;</th></tr>\n",
              "</thead>\n",
              "<tbody>\n",
              "\t<tr><th scope=row>1</th><td>5.1</td><td>3.5</td><td>1.4</td><td>0.2</td></tr>\n",
              "\t<tr><th scope=row>2</th><td>4.9</td><td>3.0</td><td>1.4</td><td>0.2</td></tr>\n",
              "\t<tr><th scope=row>3</th><td>4.7</td><td>3.2</td><td>1.3</td><td>0.2</td></tr>\n",
              "\t<tr><th scope=row>4</th><td>4.6</td><td>3.1</td><td>1.5</td><td>0.2</td></tr>\n",
              "\t<tr><th scope=row>5</th><td>5.0</td><td>3.6</td><td>1.4</td><td>0.2</td></tr>\n",
              "\t<tr><th scope=row>6</th><td>5.4</td><td>3.9</td><td>1.7</td><td>0.4</td></tr>\n",
              "</tbody>\n",
              "</table>\n"
            ],
            "text/markdown": "\nA data.frame: 6 × 4\n\n| <!--/--> | Sepal.Length &lt;dbl&gt; | Sepal.Width &lt;dbl&gt; | Petal.Length &lt;dbl&gt; | Petal.Width &lt;dbl&gt; |\n|---|---|---|---|---|\n| 1 | 5.1 | 3.5 | 1.4 | 0.2 |\n| 2 | 4.9 | 3.0 | 1.4 | 0.2 |\n| 3 | 4.7 | 3.2 | 1.3 | 0.2 |\n| 4 | 4.6 | 3.1 | 1.5 | 0.2 |\n| 5 | 5.0 | 3.6 | 1.4 | 0.2 |\n| 6 | 5.4 | 3.9 | 1.7 | 0.4 |\n\n",
            "text/latex": "A data.frame: 6 × 4\n\\begin{tabular}{r|llll}\n  & Sepal.Length & Sepal.Width & Petal.Length & Petal.Width\\\\\n  & <dbl> & <dbl> & <dbl> & <dbl>\\\\\n\\hline\n\t1 & 5.1 & 3.5 & 1.4 & 0.2\\\\\n\t2 & 4.9 & 3.0 & 1.4 & 0.2\\\\\n\t3 & 4.7 & 3.2 & 1.3 & 0.2\\\\\n\t4 & 4.6 & 3.1 & 1.5 & 0.2\\\\\n\t5 & 5.0 & 3.6 & 1.4 & 0.2\\\\\n\t6 & 5.4 & 3.9 & 1.7 & 0.4\\\\\n\\end{tabular}\n",
            "text/plain": [
              "  Sepal.Length Sepal.Width Petal.Length Petal.Width\n",
              "1 5.1          3.5         1.4          0.2        \n",
              "2 4.9          3.0         1.4          0.2        \n",
              "3 4.7          3.2         1.3          0.2        \n",
              "4 4.6          3.1         1.5          0.2        \n",
              "5 5.0          3.6         1.4          0.2        \n",
              "6 5.4          3.9         1.7          0.4        "
            ]
          },
          "metadata": {}
        }
      ]
    },
    {
      "cell_type": "markdown",
      "source": [],
      "metadata": {
        "id": "AyNFN-NokNZh"
      }
    },
    {
      "cell_type": "code",
      "source": [
        "# PCA 수행\n",
        "pca_df <- prcomp(df, center = TRUE, scale. = TRUE)\n",
        "# center = TRUE, sclae. = TRUE :: 표준화 (변수 간 단위 차이 없앰)\n",
        "pca_df\n",
        "# 결과 수치는 각 변수에 기여한 정도 "
      ],
      "metadata": {
        "colab": {
          "base_uri": "https://localhost:8080/",
          "height": 185
        },
        "id": "-uUD9t9JefOI",
        "outputId": "0c9999b0-2566-4e6f-8fbe-75208eeba17e"
      },
      "execution_count": 27,
      "outputs": [
        {
          "output_type": "display_data",
          "data": {
            "text/plain": [
              "Standard deviations (1, .., p=4):\n",
              "[1] 1.7083611 0.9560494 0.3830886 0.1439265\n",
              "\n",
              "Rotation (n x k) = (4 x 4):\n",
              "                    PC1         PC2        PC3        PC4\n",
              "Sepal.Length  0.5210659 -0.37741762  0.7195664  0.2612863\n",
              "Sepal.Width  -0.2693474 -0.92329566 -0.2443818 -0.1235096\n",
              "Petal.Length  0.5804131 -0.02449161 -0.1421264 -0.8014492\n",
              "Petal.Width   0.5648565 -0.06694199 -0.6342727  0.5235971"
            ]
          },
          "metadata": {}
        }
      ]
    },
    {
      "cell_type": "code",
      "source": [
        "# 시각화\n",
        "plot(pca_df, type=\"l\")"
      ],
      "metadata": {
        "colab": {
          "base_uri": "https://localhost:8080/",
          "height": 437
        },
        "id": "3iqosZv7lAvX",
        "outputId": "03accd0c-cb48-4431-bd27-41a3fbeb7183"
      },
      "execution_count": 28,
      "outputs": [
        {
          "output_type": "display_data",
          "data": {
            "text/plain": [
              "Plot with title “pca_df”"
            ],
            "image/png": "[encoded data removed]"
          },
          "metadata": {
            "image/png": {
              "width": 420,
              "height": 420
            }
          }
        }
      ]
    },
    {
      "cell_type": "code",
      "source": [
        "summary(pca_df)\n",
        "# 결과해석\n",
        "# PC2 까지의 누적 비율 : 95.81 %\n",
        "# PC1, PC2 두개만으로 데이터의 95.81 %를 설명할 수 있다."
      ],
      "metadata": {
        "colab": {
          "base_uri": "https://localhost:8080/",
          "height": 110
        },
        "id": "MHRceC2Wlirv",
        "outputId": "af8b3c27-883f-4493-accb-b02b55a327df"
      },
      "execution_count": 29,
      "outputs": [
        {
          "output_type": "display_data",
          "data": {
            "text/plain": [
              "Importance of components:\n",
              "                          PC1    PC2     PC3     PC4\n",
              "Standard deviation     1.7084 0.9560 0.38309 0.14393\n",
              "Proportion of Variance 0.7296 0.2285 0.03669 0.00518\n",
              "Cumulative Proportion  0.7296 0.9581 0.99482 1.00000"
            ]
          },
          "metadata": {}
        }
      ]
    },
    {
      "cell_type": "markdown",
      "source": [
        "### 4. 결측치 처리\n",
        "\n",
        "\n",
        "1.   결측치 확인\n",
        "  - is.na() => TRUE, FALSE 값 반환\n",
        "  - sum(), summary()로 각 컬럼에 대한 결측치 파악\n",
        "2.   결측치 제거\n",
        "  - na.omit()\n",
        "  - 결측치 행 반환 : complete.cases()\n",
        "3.   결측치 대체\n",
        "  - 0이나 평균값으로 대체\n",
        "  - groupby() 그룹별 대체 "
      ],
      "metadata": {
        "id": "b-TlBMdJmuc1"
      }
    },
    {
      "cell_type": "code",
      "source": [
        "x<- c(1,2,3,4,NA,6,7,8,9,NA)\n",
        "is.na(x)"
      ],
      "metadata": {
        "colab": {
          "base_uri": "https://localhost:8080/",
          "height": 34
        },
        "id": "TuvrZRNzlw-4",
        "outputId": "5d1b3766-6f84-46c1-eaaf-4bbad1d38fa6"
      },
      "execution_count": 30,
      "outputs": [
        {
          "output_type": "display_data",
          "data": {
            "text/html": [
              "<style>\n",
              ".list-inline {list-style: none; margin:0; padding: 0}\n",
              ".list-inline>li {display: inline-block}\n",
              ".list-inline>li:not(:last-child)::after {content: \"\\00b7\"; padding: 0 .5ex}\n",
              "</style>\n",
              "<ol class=list-inline><li>FALSE</li><li>FALSE</li><li>FALSE</li><li>FALSE</li><li>TRUE</li><li>FALSE</li><li>FALSE</li><li>FALSE</li><li>FALSE</li><li>TRUE</li></ol>\n"
            ],
            "text/markdown": "1. FALSE\n2. FALSE\n3. FALSE\n4. FALSE\n5. TRUE\n6. FALSE\n7. FALSE\n8. FALSE\n9. FALSE\n10. TRUE\n\n\n",
            "text/latex": "\\begin{enumerate*}\n\\item FALSE\n\\item FALSE\n\\item FALSE\n\\item FALSE\n\\item TRUE\n\\item FALSE\n\\item FALSE\n\\item FALSE\n\\item FALSE\n\\item TRUE\n\\end{enumerate*}\n",
            "text/plain": [
              " [1] FALSE FALSE FALSE FALSE  TRUE FALSE FALSE FALSE FALSE  TRUE"
            ]
          },
          "metadata": {}
        }
      ]
    },
    {
      "cell_type": "code",
      "source": [
        "# 결측치 확인\n",
        "df = read.csv(\"https://raw.githubusercontent.com/datasciencedojo/datasets/master/titanic.csv\")\n",
        "\n",
        "sum(is.na(df))\n",
        "summary(df)"
      ],
      "metadata": {
        "colab": {
          "base_uri": "https://localhost:8080/",
          "height": 482
        },
        "id": "8bPUQmJtp_5r",
        "outputId": "a5e2463d-07b0-4cc7-b10d-a06807f1aaf1"
      },
      "execution_count": 33,
      "outputs": [
        {
          "output_type": "display_data",
          "data": {
            "text/html": [
              "177"
            ],
            "text/markdown": "177",
            "text/latex": "177",
            "text/plain": [
              "[1] 177"
            ]
          },
          "metadata": {}
        },
        {
          "output_type": "display_data",
          "data": {
            "text/plain": [
              "  PassengerId       Survived          Pclass          Name          \n",
              " Min.   :  1.0   Min.   :0.0000   Min.   :1.000   Length:891        \n",
              " 1st Qu.:223.5   1st Qu.:0.0000   1st Qu.:2.000   Class :character  \n",
              " Median :446.0   Median :0.0000   Median :3.000   Mode  :character  \n",
              " Mean   :446.0   Mean   :0.3838   Mean   :2.309                     \n",
              " 3rd Qu.:668.5   3rd Qu.:1.0000   3rd Qu.:3.000                     \n",
              " Max.   :891.0   Max.   :1.0000   Max.   :3.000                     \n",
              "                                                                    \n",
              "     Sex                 Age            SibSp           Parch       \n",
              " Length:891         Min.   : 0.42   Min.   :0.000   Min.   :0.0000  \n",
              " Class :character   1st Qu.:20.12   1st Qu.:0.000   1st Qu.:0.0000  \n",
              " Mode  :character   Median :28.00   Median :0.000   Median :0.0000  \n",
              "                    Mean   :29.70   Mean   :0.523   Mean   :0.3816  \n",
              "                    3rd Qu.:38.00   3rd Qu.:1.000   3rd Qu.:0.0000  \n",
              "                    Max.   :80.00   Max.   :8.000   Max.   :6.0000  \n",
              "                    NA's   :177                                     \n",
              "    Ticket               Fare           Cabin             Embarked        \n",
              " Length:891         Min.   :  0.00   Length:891         Length:891        \n",
              " Class :character   1st Qu.:  7.91   Class :character   Class :character  \n",
              " Mode  :character   Median : 14.45   Mode  :character   Mode  :character  \n",
              "                    Mean   : 32.20                                        \n",
              "                    3rd Qu.: 31.00                                        \n",
              "                    Max.   :512.33                                        \n",
              "                                                                          "
            ]
          },
          "metadata": {}
        }
      ]
    },
    {
      "cell_type": "code",
      "source": [
        "# 결측치 제거\n",
        "sum(df$Age)\n",
        "mean(df$Age)\n",
        "# NA 결측치 포함한 통계 함수 적용 -> NA 나옴\n",
        "\n",
        "sum(df$Age, na.rm = TRUE)\n",
        "mean(df$Age, na.rm = T)\n",
        "# na.rm = T : 결측치 포함하지 않고 계산\n"
      ],
      "metadata": {
        "colab": {
          "base_uri": "https://localhost:8080/",
          "height": 86
        },
        "id": "x18fIKxLrgL4",
        "outputId": "c8c944cc-9a41-4077-9ffb-f50453ce540a"
      },
      "execution_count": 35,
      "outputs": [
        {
          "output_type": "display_data",
          "data": {
            "text/html": [
              "&lt;NA&gt;"
            ],
            "text/markdown": "&lt;NA&gt;",
            "text/latex": "<NA>",
            "text/plain": [
              "[1] NA"
            ]
          },
          "metadata": {}
        },
        {
          "output_type": "display_data",
          "data": {
            "text/html": [
              "&lt;NA&gt;"
            ],
            "text/markdown": "&lt;NA&gt;",
            "text/latex": "<NA>",
            "text/plain": [
              "[1] NA"
            ]
          },
          "metadata": {}
        },
        {
          "output_type": "display_data",
          "data": {
            "text/html": [
              "21205.17"
            ],
            "text/markdown": "21205.17",
            "text/latex": "21205.17",
            "text/plain": [
              "[1] 21205.17"
            ]
          },
          "metadata": {}
        },
        {
          "output_type": "display_data",
          "data": {
            "text/html": [
              "29.6991176470588"
            ],
            "text/markdown": "29.6991176470588",
            "text/latex": "29.6991176470588",
            "text/plain": [
              "[1] 29.69912"
            ]
          },
          "metadata": {}
        }
      ]
    },
    {
      "cell_type": "code",
      "source": [
        "# na.omit() \n",
        "df_1 <- na.omit(df)\n",
        "dim(df_1) # 결측값 제거한 데이터프레임의 크기\n",
        "dim(df)  # 기존 데이터 프레임의 크기"
      ],
      "metadata": {
        "colab": {
          "base_uri": "https://localhost:8080/",
          "height": 52
        },
        "id": "KmuvYJIdr1uV",
        "outputId": "ee10ae94-0602-4b11-a9c5-4c2b5f7636df"
      },
      "execution_count": 36,
      "outputs": [
        {
          "output_type": "display_data",
          "data": {
            "text/html": [
              "<style>\n",
              ".list-inline {list-style: none; margin:0; padding: 0}\n",
              ".list-inline>li {display: inline-block}\n",
              ".list-inline>li:not(:last-child)::after {content: \"\\00b7\"; padding: 0 .5ex}\n",
              "</style>\n",
              "<ol class=list-inline><li>714</li><li>12</li></ol>\n"
            ],
            "text/markdown": "1. 714\n2. 12\n\n\n",
            "text/latex": "\\begin{enumerate*}\n\\item 714\n\\item 12\n\\end{enumerate*}\n",
            "text/plain": [
              "[1] 714  12"
            ]
          },
          "metadata": {}
        },
        {
          "output_type": "display_data",
          "data": {
            "text/html": [
              "<style>\n",
              ".list-inline {list-style: none; margin:0; padding: 0}\n",
              ".list-inline>li {display: inline-block}\n",
              ".list-inline>li:not(:last-child)::after {content: \"\\00b7\"; padding: 0 .5ex}\n",
              "</style>\n",
              "<ol class=list-inline><li>891</li><li>12</li></ol>\n"
            ],
            "text/markdown": "1. 891\n2. 12\n\n\n",
            "text/latex": "\\begin{enumerate*}\n\\item 891\n\\item 12\n\\end{enumerate*}\n",
            "text/plain": [
              "[1] 891  12"
            ]
          },
          "metadata": {}
        }
      ]
    },
    {
      "cell_type": "code",
      "source": [
        "df_2 <- df[complete.cases(df[,c(\"Age\")]),]\n",
        "dim(df)\n",
        "dim(df_2)"
      ],
      "metadata": {
        "colab": {
          "base_uri": "https://localhost:8080/",
          "height": 52
        },
        "id": "3ZeIp5QusU7x",
        "outputId": "668e1a46-072e-41d8-a776-5923830b7bee"
      },
      "execution_count": 37,
      "outputs": [
        {
          "output_type": "display_data",
          "data": {
            "text/html": [
              "<style>\n",
              ".list-inline {list-style: none; margin:0; padding: 0}\n",
              ".list-inline>li {display: inline-block}\n",
              ".list-inline>li:not(:last-child)::after {content: \"\\00b7\"; padding: 0 .5ex}\n",
              "</style>\n",
              "<ol class=list-inline><li>891</li><li>12</li></ol>\n"
            ],
            "text/markdown": "1. 891\n2. 12\n\n\n",
            "text/latex": "\\begin{enumerate*}\n\\item 891\n\\item 12\n\\end{enumerate*}\n",
            "text/plain": [
              "[1] 891  12"
            ]
          },
          "metadata": {}
        },
        {
          "output_type": "display_data",
          "data": {
            "text/html": [
              "<style>\n",
              ".list-inline {list-style: none; margin:0; padding: 0}\n",
              ".list-inline>li {display: inline-block}\n",
              ".list-inline>li:not(:last-child)::after {content: \"\\00b7\"; padding: 0 .5ex}\n",
              "</style>\n",
              "<ol class=list-inline><li>714</li><li>12</li></ol>\n"
            ],
            "text/markdown": "1. 714\n2. 12\n\n\n",
            "text/latex": "\\begin{enumerate*}\n\\item 714\n\\item 12\n\\end{enumerate*}\n",
            "text/plain": [
              "[1] 714  12"
            ]
          },
          "metadata": {}
        }
      ]
    },
    {
      "cell_type": "code",
      "source": [
        "# 결측치 대체\n",
        "head(df$Age,20)\n",
        "sum(is.na(df$Age))\n",
        "\n",
        "# 0 으로 대체\n",
        "df_3 <-df\n",
        "df_3$Age[is.na(df_3$Age)] <- 0 \n",
        "head(df_3$Age,20)\n",
        "\n",
        "# 평균으로 대체\n",
        "df_4 <- df\n",
        "df_4$Age[is.na(df_4$Age)] <- mean(df$Age, na.rm = T)\n",
        "head(df_4$Age,20)"
      ],
      "metadata": {
        "colab": {
          "base_uri": "https://localhost:8080/",
          "height": 86
        },
        "id": "oWakrg-Dtbrj",
        "outputId": "a3830644-8e80-4227-c369-b1524cabfb88"
      },
      "execution_count": 41,
      "outputs": [
        {
          "output_type": "display_data",
          "data": {
            "text/html": [
              "<style>\n",
              ".list-inline {list-style: none; margin:0; padding: 0}\n",
              ".list-inline>li {display: inline-block}\n",
              ".list-inline>li:not(:last-child)::after {content: \"\\00b7\"; padding: 0 .5ex}\n",
              "</style>\n",
              "<ol class=list-inline><li>22</li><li>38</li><li>26</li><li>35</li><li>35</li><li>&lt;NA&gt;</li><li>54</li><li>2</li><li>27</li><li>14</li><li>4</li><li>58</li><li>20</li><li>39</li><li>14</li><li>55</li><li>2</li><li>&lt;NA&gt;</li><li>31</li><li>&lt;NA&gt;</li></ol>\n"
            ],
            "text/markdown": "1. 22\n2. 38\n3. 26\n4. 35\n5. 35\n6. &lt;NA&gt;\n7. 54\n8. 2\n9. 27\n10. 14\n11. 4\n12. 58\n13. 20\n14. 39\n15. 14\n16. 55\n17. 2\n18. &lt;NA&gt;\n19. 31\n20. &lt;NA&gt;\n\n\n",
            "text/latex": "\\begin{enumerate*}\n\\item 22\n\\item 38\n\\item 26\n\\item 35\n\\item 35\n\\item <NA>\n\\item 54\n\\item 2\n\\item 27\n\\item 14\n\\item 4\n\\item 58\n\\item 20\n\\item 39\n\\item 14\n\\item 55\n\\item 2\n\\item <NA>\n\\item 31\n\\item <NA>\n\\end{enumerate*}\n",
            "text/plain": [
              " [1] 22 38 26 35 35 NA 54  2 27 14  4 58 20 39 14 55  2 NA 31 NA"
            ]
          },
          "metadata": {}
        },
        {
          "output_type": "display_data",
          "data": {
            "text/html": [
              "177"
            ],
            "text/markdown": "177",
            "text/latex": "177",
            "text/plain": [
              "[1] 177"
            ]
          },
          "metadata": {}
        },
        {
          "output_type": "display_data",
          "data": {
            "text/html": [
              "<style>\n",
              ".list-inline {list-style: none; margin:0; padding: 0}\n",
              ".list-inline>li {display: inline-block}\n",
              ".list-inline>li:not(:last-child)::after {content: \"\\00b7\"; padding: 0 .5ex}\n",
              "</style>\n",
              "<ol class=list-inline><li>22</li><li>38</li><li>26</li><li>35</li><li>35</li><li>0</li><li>54</li><li>2</li><li>27</li><li>14</li><li>4</li><li>58</li><li>20</li><li>39</li><li>14</li><li>55</li><li>2</li><li>0</li><li>31</li><li>0</li></ol>\n"
            ],
            "text/markdown": "1. 22\n2. 38\n3. 26\n4. 35\n5. 35\n6. 0\n7. 54\n8. 2\n9. 27\n10. 14\n11. 4\n12. 58\n13. 20\n14. 39\n15. 14\n16. 55\n17. 2\n18. 0\n19. 31\n20. 0\n\n\n",
            "text/latex": "\\begin{enumerate*}\n\\item 22\n\\item 38\n\\item 26\n\\item 35\n\\item 35\n\\item 0\n\\item 54\n\\item 2\n\\item 27\n\\item 14\n\\item 4\n\\item 58\n\\item 20\n\\item 39\n\\item 14\n\\item 55\n\\item 2\n\\item 0\n\\item 31\n\\item 0\n\\end{enumerate*}\n",
            "text/plain": [
              " [1] 22 38 26 35 35  0 54  2 27 14  4 58 20 39 14 55  2  0 31  0"
            ]
          },
          "metadata": {}
        },
        {
          "output_type": "display_data",
          "data": {
            "text/html": [
              "<style>\n",
              ".list-inline {list-style: none; margin:0; padding: 0}\n",
              ".list-inline>li {display: inline-block}\n",
              ".list-inline>li:not(:last-child)::after {content: \"\\00b7\"; padding: 0 .5ex}\n",
              "</style>\n",
              "<ol class=list-inline><li>22</li><li>38</li><li>26</li><li>35</li><li>35</li><li>29.6991176470588</li><li>54</li><li>2</li><li>27</li><li>14</li><li>4</li><li>58</li><li>20</li><li>39</li><li>14</li><li>55</li><li>2</li><li>29.6991176470588</li><li>31</li><li>29.6991176470588</li></ol>\n"
            ],
            "text/markdown": "1. 22\n2. 38\n3. 26\n4. 35\n5. 35\n6. 29.6991176470588\n7. 54\n8. 2\n9. 27\n10. 14\n11. 4\n12. 58\n13. 20\n14. 39\n15. 14\n16. 55\n17. 2\n18. 29.6991176470588\n19. 31\n20. 29.6991176470588\n\n\n",
            "text/latex": "\\begin{enumerate*}\n\\item 22\n\\item 38\n\\item 26\n\\item 35\n\\item 35\n\\item 29.6991176470588\n\\item 54\n\\item 2\n\\item 27\n\\item 14\n\\item 4\n\\item 58\n\\item 20\n\\item 39\n\\item 14\n\\item 55\n\\item 2\n\\item 29.6991176470588\n\\item 31\n\\item 29.6991176470588\n\\end{enumerate*}\n",
            "text/plain": [
              " [1] 22.00000 38.00000 26.00000 35.00000 35.00000 29.69912 54.00000  2.00000\n",
              " [9] 27.00000 14.00000  4.00000 58.00000 20.00000 39.00000 14.00000 55.00000\n",
              "[17]  2.00000 29.69912 31.00000 29.69912"
            ]
          },
          "metadata": {}
        }
      ]
    },
    {
      "cell_type": "code",
      "source": [
        "library(dplyr)\n",
        "\n",
        "df = read.csv(\"https://raw.githubusercontent.com/datasciencedojo/datasets/master/titanic.csv\")\n",
        "# 성별 Age 평균\n",
        "df %>% group_by(Sex) %>% summarise(Age = mean(Age, na.rm = T))\n",
        "# Pclass별 Age 평균\n",
        "df %>% group_by(Pclass) %>% summarise(Age = mean(Age, na.rm = T))\n"
      ],
      "metadata": {
        "colab": {
          "base_uri": "https://localhost:8080/",
          "height": 335
        },
        "id": "X-buU2Vatvob",
        "outputId": "72caf000-18fc-40f7-cd54-b415b594b190"
      },
      "execution_count": 43,
      "outputs": [
        {
          "output_type": "display_data",
          "data": {
            "text/html": [
              "<table class=\"dataframe\">\n",
              "<caption>A tibble: 2 × 2</caption>\n",
              "<thead>\n",
              "\t<tr><th scope=col>Sex</th><th scope=col>Age</th></tr>\n",
              "\t<tr><th scope=col>&lt;chr&gt;</th><th scope=col>&lt;dbl&gt;</th></tr>\n",
              "</thead>\n",
              "<tbody>\n",
              "\t<tr><td>female</td><td>27.91571</td></tr>\n",
              "\t<tr><td>male  </td><td>30.72664</td></tr>\n",
              "</tbody>\n",
              "</table>\n"
            ],
            "text/markdown": "\nA tibble: 2 × 2\n\n| Sex &lt;chr&gt; | Age &lt;dbl&gt; |\n|---|---|\n| female | 27.91571 |\n| male   | 30.72664 |\n\n",
            "text/latex": "A tibble: 2 × 2\n\\begin{tabular}{ll}\n Sex & Age\\\\\n <chr> & <dbl>\\\\\n\\hline\n\t female & 27.91571\\\\\n\t male   & 30.72664\\\\\n\\end{tabular}\n",
            "text/plain": [
              "  Sex    Age     \n",
              "1 female 27.91571\n",
              "2 male   30.72664"
            ]
          },
          "metadata": {}
        },
        {
          "output_type": "display_data",
          "data": {
            "text/html": [
              "<table class=\"dataframe\">\n",
              "<caption>A tibble: 3 × 2</caption>\n",
              "<thead>\n",
              "\t<tr><th scope=col>Pclass</th><th scope=col>Age</th></tr>\n",
              "\t<tr><th scope=col>&lt;int&gt;</th><th scope=col>&lt;dbl&gt;</th></tr>\n",
              "</thead>\n",
              "<tbody>\n",
              "\t<tr><td>1</td><td>38.23344</td></tr>\n",
              "\t<tr><td>2</td><td>29.87763</td></tr>\n",
              "\t<tr><td>3</td><td>25.14062</td></tr>\n",
              "</tbody>\n",
              "</table>\n"
            ],
            "text/markdown": "\nA tibble: 3 × 2\n\n| Pclass &lt;int&gt; | Age &lt;dbl&gt; |\n|---|---|\n| 1 | 38.23344 |\n| 2 | 29.87763 |\n| 3 | 25.14062 |\n\n",
            "text/latex": "A tibble: 3 × 2\n\\begin{tabular}{ll}\n Pclass & Age\\\\\n <int> & <dbl>\\\\\n\\hline\n\t 1 & 38.23344\\\\\n\t 2 & 29.87763\\\\\n\t 3 & 25.14062\\\\\n\\end{tabular}\n",
            "text/plain": [
              "  Pclass Age     \n",
              "1 1      38.23344\n",
              "2 2      29.87763\n",
              "3 3      25.14062"
            ]
          },
          "metadata": {}
        }
      ]
    },
    {
      "cell_type": "code",
      "source": [
        "tail(df,5)"
      ],
      "metadata": {
        "colab": {
          "base_uri": "https://localhost:8080/",
          "height": 255
        },
        "id": "ZZ-sQvpCujQp",
        "outputId": "2fe288e6-c9db-423c-8d3c-8e75c5b8dd3b"
      },
      "execution_count": 44,
      "outputs": [
        {
          "output_type": "display_data",
          "data": {
            "text/html": [
              "<table class=\"dataframe\">\n",
              "<caption>A data.frame: 5 × 12</caption>\n",
              "<thead>\n",
              "\t<tr><th></th><th scope=col>PassengerId</th><th scope=col>Survived</th><th scope=col>Pclass</th><th scope=col>Name</th><th scope=col>Sex</th><th scope=col>Age</th><th scope=col>SibSp</th><th scope=col>Parch</th><th scope=col>Ticket</th><th scope=col>Fare</th><th scope=col>Cabin</th><th scope=col>Embarked</th></tr>\n",
              "\t<tr><th></th><th scope=col>&lt;int&gt;</th><th scope=col>&lt;int&gt;</th><th scope=col>&lt;int&gt;</th><th scope=col>&lt;chr&gt;</th><th scope=col>&lt;chr&gt;</th><th scope=col>&lt;dbl&gt;</th><th scope=col>&lt;int&gt;</th><th scope=col>&lt;int&gt;</th><th scope=col>&lt;chr&gt;</th><th scope=col>&lt;dbl&gt;</th><th scope=col>&lt;chr&gt;</th><th scope=col>&lt;chr&gt;</th></tr>\n",
              "</thead>\n",
              "<tbody>\n",
              "\t<tr><th scope=row>887</th><td>887</td><td>0</td><td>2</td><td>Montvila, Rev. Juozas                   </td><td>male  </td><td>27</td><td>0</td><td>0</td><td>211536    </td><td>13.00</td><td>    </td><td>S</td></tr>\n",
              "\t<tr><th scope=row>888</th><td>888</td><td>1</td><td>1</td><td>Graham, Miss. Margaret Edith            </td><td>female</td><td>19</td><td>0</td><td>0</td><td>112053    </td><td>30.00</td><td>B42 </td><td>S</td></tr>\n",
              "\t<tr><th scope=row>889</th><td>889</td><td>0</td><td>3</td><td>Johnston, Miss. Catherine Helen \"Carrie\"</td><td>female</td><td>NA</td><td>1</td><td>2</td><td>W./C. 6607</td><td>23.45</td><td>    </td><td>S</td></tr>\n",
              "\t<tr><th scope=row>890</th><td>890</td><td>1</td><td>1</td><td>Behr, Mr. Karl Howell                   </td><td>male  </td><td>26</td><td>0</td><td>0</td><td>111369    </td><td>30.00</td><td>C148</td><td>C</td></tr>\n",
              "\t<tr><th scope=row>891</th><td>891</td><td>0</td><td>3</td><td>Dooley, Mr. Patrick                     </td><td>male  </td><td>32</td><td>0</td><td>0</td><td>370376    </td><td> 7.75</td><td>    </td><td>Q</td></tr>\n",
              "</tbody>\n",
              "</table>\n"
            ],
            "text/markdown": "\nA data.frame: 5 × 12\n\n| <!--/--> | PassengerId &lt;int&gt; | Survived &lt;int&gt; | Pclass &lt;int&gt; | Name &lt;chr&gt; | Sex &lt;chr&gt; | Age &lt;dbl&gt; | SibSp &lt;int&gt; | Parch &lt;int&gt; | Ticket &lt;chr&gt; | Fare &lt;dbl&gt; | Cabin &lt;chr&gt; | Embarked &lt;chr&gt; |\n|---|---|---|---|---|---|---|---|---|---|---|---|---|\n| 887 | 887 | 0 | 2 | Montvila, Rev. Juozas                    | male   | 27 | 0 | 0 | 211536     | 13.00 | <!----> | S |\n| 888 | 888 | 1 | 1 | Graham, Miss. Margaret Edith             | female | 19 | 0 | 0 | 112053     | 30.00 | B42  | S |\n| 889 | 889 | 0 | 3 | Johnston, Miss. Catherine Helen \"Carrie\" | female | NA | 1 | 2 | W./C. 6607 | 23.45 | <!----> | S |\n| 890 | 890 | 1 | 1 | Behr, Mr. Karl Howell                    | male   | 26 | 0 | 0 | 111369     | 30.00 | C148 | C |\n| 891 | 891 | 0 | 3 | Dooley, Mr. Patrick                      | male   | 32 | 0 | 0 | 370376     |  7.75 | <!----> | Q |\n\n",
            "text/latex": "A data.frame: 5 × 12\n\\begin{tabular}{r|llllllllllll}\n  & PassengerId & Survived & Pclass & Name & Sex & Age & SibSp & Parch & Ticket & Fare & Cabin & Embarked\\\\\n  & <int> & <int> & <int> & <chr> & <chr> & <dbl> & <int> & <int> & <chr> & <dbl> & <chr> & <chr>\\\\\n\\hline\n\t887 & 887 & 0 & 2 & Montvila, Rev. Juozas                    & male   & 27 & 0 & 0 & 211536     & 13.00 &      & S\\\\\n\t888 & 888 & 1 & 1 & Graham, Miss. Margaret Edith             & female & 19 & 0 & 0 & 112053     & 30.00 & B42  & S\\\\\n\t889 & 889 & 0 & 3 & Johnston, Miss. Catherine Helen \"Carrie\" & female & NA & 1 & 2 & W./C. 6607 & 23.45 &      & S\\\\\n\t890 & 890 & 1 & 1 & Behr, Mr. Karl Howell                    & male   & 26 & 0 & 0 & 111369     & 30.00 & C148 & C\\\\\n\t891 & 891 & 0 & 3 & Dooley, Mr. Patrick                      & male   & 32 & 0 & 0 & 370376     &  7.75 &      & Q\\\\\n\\end{tabular}\n",
            "text/plain": [
              "    PassengerId Survived Pclass Name                                     Sex   \n",
              "887 887         0        2      Montvila, Rev. Juozas                    male  \n",
              "888 888         1        1      Graham, Miss. Margaret Edith             female\n",
              "889 889         0        3      Johnston, Miss. Catherine Helen \"Carrie\" female\n",
              "890 890         1        1      Behr, Mr. Karl Howell                    male  \n",
              "891 891         0        3      Dooley, Mr. Patrick                      male  \n",
              "    Age SibSp Parch Ticket     Fare  Cabin Embarked\n",
              "887 27  0     0     211536     13.00       S       \n",
              "888 19  0     0     112053     30.00 B42   S       \n",
              "889 NA  1     2     W./C. 6607 23.45       S       \n",
              "890 26  0     0     111369     30.00 C148  C       \n",
              "891 32  0     0     370376      7.75       Q       "
            ]
          },
          "metadata": {}
        }
      ]
    },
    {
      "cell_type": "code",
      "source": [
        "# Pclass 그룹 별 Age 평균으로 결측치 대체\n",
        "df <- df %>% group_by(Pclass) %>%\n",
        "  mutate(Age = ifelse(is.na(Age), mean(Age, na.rm = T), Age)) \n",
        "tail(df,5)"
      ],
      "metadata": {
        "colab": {
          "base_uri": "https://localhost:8080/",
          "height": 255
        },
        "id": "Rka9yS6TvMfM",
        "outputId": "fb1a8423-dd67-4b66-c9b9-8c25e6d9c956"
      },
      "execution_count": 45,
      "outputs": [
        {
          "output_type": "display_data",
          "data": {
            "text/html": [
              "<table class=\"dataframe\">\n",
              "<caption>A grouped_df: 5 × 12</caption>\n",
              "<thead>\n",
              "\t<tr><th scope=col>PassengerId</th><th scope=col>Survived</th><th scope=col>Pclass</th><th scope=col>Name</th><th scope=col>Sex</th><th scope=col>Age</th><th scope=col>SibSp</th><th scope=col>Parch</th><th scope=col>Ticket</th><th scope=col>Fare</th><th scope=col>Cabin</th><th scope=col>Embarked</th></tr>\n",
              "\t<tr><th scope=col>&lt;int&gt;</th><th scope=col>&lt;int&gt;</th><th scope=col>&lt;int&gt;</th><th scope=col>&lt;chr&gt;</th><th scope=col>&lt;chr&gt;</th><th scope=col>&lt;dbl&gt;</th><th scope=col>&lt;int&gt;</th><th scope=col>&lt;int&gt;</th><th scope=col>&lt;chr&gt;</th><th scope=col>&lt;dbl&gt;</th><th scope=col>&lt;chr&gt;</th><th scope=col>&lt;chr&gt;</th></tr>\n",
              "</thead>\n",
              "<tbody>\n",
              "\t<tr><td>887</td><td>0</td><td>2</td><td>Montvila, Rev. Juozas                   </td><td>male  </td><td>27.00000</td><td>0</td><td>0</td><td>211536    </td><td>13.00</td><td>    </td><td>S</td></tr>\n",
              "\t<tr><td>888</td><td>1</td><td>1</td><td>Graham, Miss. Margaret Edith            </td><td>female</td><td>19.00000</td><td>0</td><td>0</td><td>112053    </td><td>30.00</td><td>B42 </td><td>S</td></tr>\n",
              "\t<tr><td>889</td><td>0</td><td>3</td><td>Johnston, Miss. Catherine Helen \"Carrie\"</td><td>female</td><td>25.14062</td><td>1</td><td>2</td><td>W./C. 6607</td><td>23.45</td><td>    </td><td>S</td></tr>\n",
              "\t<tr><td>890</td><td>1</td><td>1</td><td>Behr, Mr. Karl Howell                   </td><td>male  </td><td>26.00000</td><td>0</td><td>0</td><td>111369    </td><td>30.00</td><td>C148</td><td>C</td></tr>\n",
              "\t<tr><td>891</td><td>0</td><td>3</td><td>Dooley, Mr. Patrick                     </td><td>male  </td><td>32.00000</td><td>0</td><td>0</td><td>370376    </td><td> 7.75</td><td>    </td><td>Q</td></tr>\n",
              "</tbody>\n",
              "</table>\n"
            ],
            "text/markdown": "\nA grouped_df: 5 × 12\n\n| PassengerId &lt;int&gt; | Survived &lt;int&gt; | Pclass &lt;int&gt; | Name &lt;chr&gt; | Sex &lt;chr&gt; | Age &lt;dbl&gt; | SibSp &lt;int&gt; | Parch &lt;int&gt; | Ticket &lt;chr&gt; | Fare &lt;dbl&gt; | Cabin &lt;chr&gt; | Embarked &lt;chr&gt; |\n|---|---|---|---|---|---|---|---|---|---|---|---|\n| 887 | 0 | 2 | Montvila, Rev. Juozas                    | male   | 27.00000 | 0 | 0 | 211536     | 13.00 | <!----> | S |\n| 888 | 1 | 1 | Graham, Miss. Margaret Edith             | female | 19.00000 | 0 | 0 | 112053     | 30.00 | B42  | S |\n| 889 | 0 | 3 | Johnston, Miss. Catherine Helen \"Carrie\" | female | 25.14062 | 1 | 2 | W./C. 6607 | 23.45 | <!----> | S |\n| 890 | 1 | 1 | Behr, Mr. Karl Howell                    | male   | 26.00000 | 0 | 0 | 111369     | 30.00 | C148 | C |\n| 891 | 0 | 3 | Dooley, Mr. Patrick                      | male   | 32.00000 | 0 | 0 | 370376     |  7.75 | <!----> | Q |\n\n",
            "text/latex": "A grouped\\_df: 5 × 12\n\\begin{tabular}{llllllllllll}\n PassengerId & Survived & Pclass & Name & Sex & Age & SibSp & Parch & Ticket & Fare & Cabin & Embarked\\\\\n <int> & <int> & <int> & <chr> & <chr> & <dbl> & <int> & <int> & <chr> & <dbl> & <chr> & <chr>\\\\\n\\hline\n\t 887 & 0 & 2 & Montvila, Rev. Juozas                    & male   & 27.00000 & 0 & 0 & 211536     & 13.00 &      & S\\\\\n\t 888 & 1 & 1 & Graham, Miss. Margaret Edith             & female & 19.00000 & 0 & 0 & 112053     & 30.00 & B42  & S\\\\\n\t 889 & 0 & 3 & Johnston, Miss. Catherine Helen \"Carrie\" & female & 25.14062 & 1 & 2 & W./C. 6607 & 23.45 &      & S\\\\\n\t 890 & 1 & 1 & Behr, Mr. Karl Howell                    & male   & 26.00000 & 0 & 0 & 111369     & 30.00 & C148 & C\\\\\n\t 891 & 0 & 3 & Dooley, Mr. Patrick                      & male   & 32.00000 & 0 & 0 & 370376     &  7.75 &      & Q\\\\\n\\end{tabular}\n",
            "text/plain": [
              "  PassengerId Survived Pclass Name                                     Sex   \n",
              "1 887         0        2      Montvila, Rev. Juozas                    male  \n",
              "2 888         1        1      Graham, Miss. Margaret Edith             female\n",
              "3 889         0        3      Johnston, Miss. Catherine Helen \"Carrie\" female\n",
              "4 890         1        1      Behr, Mr. Karl Howell                    male  \n",
              "5 891         0        3      Dooley, Mr. Patrick                      male  \n",
              "  Age      SibSp Parch Ticket     Fare  Cabin Embarked\n",
              "1 27.00000 0     0     211536     13.00       S       \n",
              "2 19.00000 0     0     112053     30.00 B42   S       \n",
              "3 25.14062 1     2     W./C. 6607 23.45       S       \n",
              "4 26.00000 0     0     111369     30.00 C148  C       \n",
              "5 32.00000 0     0     370376      7.75       Q       "
            ]
          },
          "metadata": {}
        }
      ]
    },
    {
      "cell_type": "markdown",
      "source": [
        "### 5.이상치 처리"
      ],
      "metadata": {
        "id": "XWtDHshcv0Vq"
      }
    },
    {
      "cell_type": "code",
      "source": [
        "# 데이터 준비\n",
        "data <- rnorm(200,mean =50, sd=10)\n",
        "\n",
        "# 임의 이상치 삽입\n",
        "data[201] = 2\n",
        "data[202] = 100\n",
        "data[203] = 10\n",
        "data[204] = 110\n",
        "\n",
        "#  분포 시각화\n",
        "hist(data, breaks = 20)"
      ],
      "metadata": {
        "colab": {
          "base_uri": "https://localhost:8080/",
          "height": 437
        },
        "id": "ErcFo5DjvtMf",
        "outputId": "e655332c-928a-4586-f14e-fee656ac7b51"
      },
      "execution_count": 46,
      "outputs": [
        {
          "output_type": "display_data",
          "data": {
            "text/plain": [
              "Plot with title “Histogram of data”"
            ],
            "image/png": "[encoded data removed]"
          },
          "metadata": {
            "image/png": {
              "width": 420,
              "height": 420
            }
          }
        }
      ]
    },
    {
      "cell_type": "code",
      "source": [
        "# boxplot() & fivenum() \n",
        "# fivenum(): 최소값, 제1사분위수, 중앙값, 제3사분위수, 최댓값 5가지 수치로 요약\n",
        "# summary : 5 가지 수치 요약 + 평균\n",
        "boxplot(data)\n",
        "\n",
        "text(0.7, median(data), \"median\")\n",
        "text(0.7, quantile(data)[2],\"Q1\")\n",
        "text(0.7, quantile(data)[4],\"Q3\")\n",
        "text(0.7, fivenum(data)[4] + 1.5*IQR(data),\"Q3 + 1.5*IQR----\")\n",
        "text(0.7, fivenum(data)[2] - 1.5*IQR(data),\"Q1 - 1.5*IQR----\")"
      ],
      "metadata": {
        "colab": {
          "base_uri": "https://localhost:8080/",
          "height": 437
        },
        "id": "_JvGhnhnwNbe",
        "outputId": "6dd6cd47-3d3b-4d54-b10a-c3ed590b09c5"
      },
      "execution_count": 48,
      "outputs": [
        {
          "output_type": "display_data",
          "data": {
            "text/plain": [
              "plot without title"
            ],
            "image/png": "[encoded data removed]"
          },
          "metadata": {
            "image/png": {
              "width": 420,
              "height": 420
            }
          }
        }
      ]
    },
    {
      "cell_type": "code",
      "source": [
        "summary(data)"
      ],
      "metadata": {
        "colab": {
          "base_uri": "https://localhost:8080/",
          "height": 54
        },
        "id": "tV908FDgxDF6",
        "outputId": "046fe2fa-e5c0-4b26-a7a7-a51cc26a2053"
      },
      "execution_count": 49,
      "outputs": [
        {
          "output_type": "display_data",
          "data": {
            "text/plain": [
              "   Min. 1st Qu.  Median    Mean 3rd Qu.    Max. \n",
              "   2.00   42.05   49.70   49.10   55.91  110.00 "
            ]
          },
          "metadata": {}
        }
      ]
    },
    {
      "cell_type": "code",
      "source": [
        "quantile(data)"
      ],
      "metadata": {
        "colab": {
          "base_uri": "https://localhost:8080/",
          "height": 34
        },
        "id": "iIn1vdhPxlIb",
        "outputId": "698d7bdc-0afd-46c4-c865-81aa92483c81"
      },
      "execution_count": 50,
      "outputs": [
        {
          "output_type": "display_data",
          "data": {
            "text/html": [
              "<style>\n",
              ".dl-inline {width: auto; margin:0; padding: 0}\n",
              ".dl-inline>dt, .dl-inline>dd {float: none; width: auto; display: inline-block}\n",
              ".dl-inline>dt::after {content: \":\\0020\"; padding-right: .5ex}\n",
              ".dl-inline>dt:not(:first-of-type) {padding-left: .5ex}\n",
              "</style><dl class=dl-inline><dt>0%</dt><dd>2</dd><dt>25%</dt><dd>42.0539651951115</dd><dt>50%</dt><dd>49.7021213931227</dd><dt>75%</dt><dd>55.911111331714</dd><dt>100%</dt><dd>110</dd></dl>\n"
            ],
            "text/markdown": "0%\n:   225%\n:   42.053965195111550%\n:   49.702121393122775%\n:   55.911111331714100%\n:   110\n\n",
            "text/latex": "\\begin{description*}\n\\item[0\\textbackslash{}\\%] 2\n\\item[25\\textbackslash{}\\%] 42.0539651951115\n\\item[50\\textbackslash{}\\%] 49.7021213931227\n\\item[75\\textbackslash{}\\%] 55.911111331714\n\\item[100\\textbackslash{}\\%] 110\n\\end{description*}\n",
            "text/plain": [
              "       0%       25%       50%       75%      100% \n",
              "  2.00000  42.05397  49.70212  55.91111 110.00000 "
            ]
          },
          "metadata": {}
        }
      ]
    },
    {
      "cell_type": "code",
      "source": [
        "fivenum(data)"
      ],
      "metadata": {
        "colab": {
          "base_uri": "https://localhost:8080/",
          "height": 34
        },
        "id": "-zXVymCcxnbw",
        "outputId": "8274a3bf-419e-4283-bdce-ad7c359a054f"
      },
      "execution_count": 51,
      "outputs": [
        {
          "output_type": "display_data",
          "data": {
            "text/html": [
              "<style>\n",
              ".list-inline {list-style: none; margin:0; padding: 0}\n",
              ".list-inline>li {display: inline-block}\n",
              ".list-inline>li:not(:last-child)::after {content: \"\\00b7\"; padding: 0 .5ex}\n",
              "</style>\n",
              "<ol class=list-inline><li>2</li><li>41.9980023714853</li><li>49.7021213931227</li><li>55.9853459784821</li><li>110</li></ol>\n"
            ],
            "text/markdown": "1. 2\n2. 41.9980023714853\n3. 49.7021213931227\n4. 55.9853459784821\n5. 110\n\n\n",
            "text/latex": "\\begin{enumerate*}\n\\item 2\n\\item 41.9980023714853\n\\item 49.7021213931227\n\\item 55.9853459784821\n\\item 110\n\\end{enumerate*}\n",
            "text/plain": [
              "[1]   2.00000  41.99800  49.70212  55.98535 110.00000"
            ]
          },
          "metadata": {}
        }
      ]
    },
    {
      "cell_type": "code",
      "source": [
        "# IQR = 3사분위수 - 1사분위수\n",
        "\n",
        "UpperQ = fivenum(data)[4]\n",
        "LowerQ = fivenum(data)[2]\n",
        "\n",
        "IQR = UpperQ - LowerQ \n",
        "\n",
        "IQR\n"
      ],
      "metadata": {
        "colab": {
          "base_uri": "https://localhost:8080/",
          "height": 34
        },
        "id": "XIy7bD84xqlS",
        "outputId": "13274d1b-ab37-463f-dbe9-55ae8978c31f"
      },
      "execution_count": 52,
      "outputs": [
        {
          "output_type": "display_data",
          "data": {
            "text/html": [
              "13.9873436069968"
            ],
            "text/markdown": "13.9873436069968",
            "text/latex": "13.9873436069968",
            "text/plain": [
              "[1] 13.98734"
            ]
          },
          "metadata": {}
        }
      ]
    },
    {
      "cell_type": "code",
      "source": [
        "# 이상치 : 3사분위수 + 1.5 * IQR  & 1사분위수 - 1.5*IQR\n",
        "upperOutlier = data[ which(data > UpperQ+IQR*1.5) ]\n",
        "lowerOutlier = data[ which(data < LowerQ-IQR*1.5) ]\n",
        "\n",
        "lowerOutlier\n",
        "upperOutlier"
      ],
      "metadata": {
        "colab": {
          "base_uri": "https://localhost:8080/",
          "height": 52
        },
        "id": "oQKDa7J1yEn6",
        "outputId": "40f9b5fb-21e6-4adc-a397-ceae54306fad"
      },
      "execution_count": 56,
      "outputs": [
        {
          "output_type": "display_data",
          "data": {
            "text/html": [
              "<style>\n",
              ".list-inline {list-style: none; margin:0; padding: 0}\n",
              ".list-inline>li {display: inline-block}\n",
              ".list-inline>li:not(:last-child)::after {content: \"\\00b7\"; padding: 0 .5ex}\n",
              "</style>\n",
              "<ol class=list-inline><li>2</li><li>10</li></ol>\n"
            ],
            "text/markdown": "1. 2\n2. 10\n\n\n",
            "text/latex": "\\begin{enumerate*}\n\\item 2\n\\item 10\n\\end{enumerate*}\n",
            "text/plain": [
              "[1]  2 10"
            ]
          },
          "metadata": {}
        },
        {
          "output_type": "display_data",
          "data": {
            "text/html": [
              "<style>\n",
              ".list-inline {list-style: none; margin:0; padding: 0}\n",
              ".list-inline>li {display: inline-block}\n",
              ".list-inline>li:not(:last-child)::after {content: \"\\00b7\"; padding: 0 .5ex}\n",
              "</style>\n",
              "<ol class=list-inline><li>77.741991459238</li><li>100</li><li>110</li></ol>\n"
            ],
            "text/markdown": "1. 77.741991459238\n2. 100\n3. 110\n\n\n",
            "text/latex": "\\begin{enumerate*}\n\\item 77.741991459238\n\\item 100\n\\item 110\n\\end{enumerate*}\n",
            "text/plain": [
              "[1]  77.74199 100.00000 110.00000"
            ]
          },
          "metadata": {}
        }
      ]
    },
    {
      "cell_type": "markdown",
      "source": [
        "### 6. 평활화\n",
        "  - 데이터의 추세 알기\n",
        "  - 필터링 수행\n",
        "\n",
        "* 이동평균 (MA): "
      ],
      "metadata": {
        "id": "JGPu9__gz7Nl"
      }
    },
    {
      "cell_type": "code",
      "source": [
        "data(lynx)  # 캐나다 시라소니 수에 대한 시계열 데이터\n",
        "head(lynx,10)\n",
        "str(lynx)\n",
        "summary(lynx)"
      ],
      "metadata": {
        "colab": {
          "base_uri": "https://localhost:8080/",
          "height": 90
        },
        "id": "0TE1-uoNzZQi",
        "outputId": "8076f335-1a54-467f-ad0c-54e79cd55af4"
      },
      "execution_count": 57,
      "outputs": [
        {
          "output_type": "display_data",
          "data": {
            "text/html": [
              "<style>\n",
              ".list-inline {list-style: none; margin:0; padding: 0}\n",
              ".list-inline>li {display: inline-block}\n",
              ".list-inline>li:not(:last-child)::after {content: \"\\00b7\"; padding: 0 .5ex}\n",
              "</style>\n",
              "<ol class=list-inline><li>269</li><li>321</li><li>585</li><li>871</li><li>1475</li><li>2821</li><li>3928</li><li>5943</li><li>4950</li><li>2577</li></ol>\n"
            ],
            "text/markdown": "1. 269\n2. 321\n3. 585\n4. 871\n5. 1475\n6. 2821\n7. 3928\n8. 5943\n9. 4950\n10. 2577\n\n\n",
            "text/latex": "\\begin{enumerate*}\n\\item 269\n\\item 321\n\\item 585\n\\item 871\n\\item 1475\n\\item 2821\n\\item 3928\n\\item 5943\n\\item 4950\n\\item 2577\n\\end{enumerate*}\n",
            "text/plain": [
              " [1]  269  321  585  871 1475 2821 3928 5943 4950 2577"
            ]
          },
          "metadata": {}
        },
        {
          "output_type": "stream",
          "name": "stdout",
          "text": [
            " Time-Series [1:114] from 1821 to 1934: 269 321 585 871 1475 ...\n"
          ]
        },
        {
          "output_type": "display_data",
          "data": {
            "text/plain": [
              "   Min. 1st Qu.  Median    Mean 3rd Qu.    Max. \n",
              "   39.0   348.2   771.0  1538.0  2566.8  6991.0 "
            ]
          },
          "metadata": {}
        }
      ]
    },
    {
      "cell_type": "markdown",
      "source": [
        "- ts.plot : 각 속성의 데이터를 한번에 나타내 줌. 시계열 나누는 plot\n",
        "- 단순이동평균: SMA(x, n=10,,,)\n",
        "  - x: 변환 데이터\n",
        "  - n: 평균 기간\n",
        "  - TTR 라이브러리 필요"
      ],
      "metadata": {
        "id": "BEP_4pBM3ONL"
      }
    },
    {
      "cell_type": "code",
      "source": [
        "# 단순이동평균 : SMA\n",
        "\n",
        "install.packages(\"TTR\")\n",
        "library(TTR)"
      ],
      "metadata": {
        "colab": {
          "base_uri": "https://localhost:8080/"
        },
        "id": "aKSDIVBE0Udz",
        "outputId": "50ab64bf-d4d6-4600-9d83-5dc605f58df4"
      },
      "execution_count": 58,
      "outputs": [
        {
          "output_type": "stream",
          "name": "stderr",
          "text": [
            "Installing package into ‘/usr/local/lib/R/site-library’\n",
            "(as ‘lib’ is unspecified)\n",
            "\n",
            "also installing the dependencies ‘xts’, ‘zoo’\n",
            "\n",
            "\n"
          ]
        }
      ]
    },
    {
      "cell_type": "code",
      "source": [
        "# 원시 데이터\n",
        "ts.plot(lynx)\n",
        "# 10년 단순이동 평균 그림\n",
        "ts.plot(SMA(lynx,n=10))"
      ],
      "metadata": {
        "colab": {
          "base_uri": "https://localhost:8080/",
          "height": 857
        },
        "id": "H5gImlKl0kZG",
        "outputId": "b977f190-ff0f-46ec-f307-f19ba5432859"
      },
      "execution_count": 59,
      "outputs": [
        {
          "output_type": "display_data",
          "data": {
            "text/plain": [
              "plot without title"
            ],
            "image/png": "[encoded data removed]"
          },
          "metadata": {
            "image/png": {
              "width": 420,
              "height": 420
            }
          }
        },
        {
          "output_type": "display_data",
          "data": {
            "text/plain": [
              "plot without title"
            ],
            "image/png": "[encoded data removed]"
          },
          "metadata": {
            "image/png": {
              "width": 420,
              "height": 420
            }
          }
        }
      ]
    },
    {
      "cell_type": "code",
      "source": [
        "# 지수가중이동 평균\n",
        "# --> 최근데이터에 가중치 부여하여 이동평균. 가중치를 지수함수형태로\n",
        "# EMA(x,n=10, wilder = FALSE)\n",
        "# x : 변환데이터, n : 평균기간\n",
        "ts.plot(lynx)\n",
        "\n",
        "ts.plot(EMA(lynx, n=10, wilder = FALSE))"
      ],
      "metadata": {
        "colab": {
          "base_uri": "https://localhost:8080/",
          "height": 857
        },
        "id": "eutwVqdG060Y",
        "outputId": "600793a5-6c63-427f-e9ad-5cae9859661e"
      },
      "execution_count": 60,
      "outputs": [
        {
          "output_type": "display_data",
          "data": {
            "text/plain": [
              "plot without title"
            ],
            "image/png": "[encoded data removed]"
          },
          "metadata": {
            "image/png": {
              "width": 420,
              "height": 420
            }
          }
        },
        {
          "output_type": "display_data",
          "data": {
            "text/plain": [
              "plot without title"
            ],
            "image/png": "[encoded data removed]"
          },
          "metadata": {
            "image/png": {
              "width": 420,
              "height": 420
            }
          }
        }
      ]
    },
    {
      "cell_type": "code",
      "source": [],
      "metadata": {
        "id": "l6bfvhiZ1jjR"
      },
      "execution_count": null,
      "outputs": []
    }
  ]
}