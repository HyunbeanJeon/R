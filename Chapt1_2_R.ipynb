{
  "nbformat": 4,
  "nbformat_minor": 0,
  "metadata": {
    "colab": {
      "provenance": [],
      "toc_visible": true,
      "authorship_tag": "ABX9TyPjpIRlLE4bx/eehxD8dHQ0",
      "include_colab_link": true
    },
    "kernelspec": {
      "name": "ir",
      "display_name": "R"
    },
    "language_info": {
      "name": "R"
    }
  },
  "cells": [
    {
      "cell_type": "markdown",
      "metadata": {
        "id": "view-in-github",
        "colab_type": "text"
      },
      "source": [
        "<a href=\"https://colab.research.google.com/github/jhbeann/R/blob/main/Chapt1_2_R.ipynb\" target=\"_parent\"><img src=\"https://colab.research.google.com/assets/colab-badge.svg\" alt=\"Open In Colab\"/></a>"
      ]
    },
    {
      "cell_type": "markdown",
      "source": [],
      "metadata": {
        "id": "U2btnELtit5m"
      }
    },
    {
      "cell_type": "markdown",
      "source": [
        "# SECTION2_ R로 데이터 다루기\n",
        "\n"
      ],
      "metadata": {
        "id": "taz0EqaWjK5M"
      }
    },
    {
      "cell_type": "markdown",
      "source": [
        "### 1. 데이터 가져오기와 내보내기"
      ],
      "metadata": {
        "id": "t6bs8rwtjIDT"
      }
    },
    {
      "cell_type": "markdown",
      "source": [],
      "metadata": {
        "id": "Ngz6ou2ajR_n"
      }
    },
    {
      "cell_type": "code",
      "execution_count": 2,
      "metadata": {
        "colab": {
          "base_uri": "https://localhost:8080/",
          "height": 411
        },
        "id": "xpEqtxKvhEE-",
        "outputId": "142128af-8a28-4039-ce48-af06ce07927b"
      },
      "outputs": [
        {
          "output_type": "display_data",
          "data": {
            "text/html": [
              "<table class=\"dataframe\">\n",
              "<caption>A data.frame: 10 × 5</caption>\n",
              "<thead>\n",
              "\t<tr><th scope=col>학번</th><th scope=col>중간</th><th scope=col>기말</th><th scope=col>리포트</th><th scope=col>퀴즈</th></tr>\n",
              "\t<tr><th scope=col>&lt;chr&gt;</th><th scope=col>&lt;int&gt;</th><th scope=col>&lt;int&gt;</th><th scope=col>&lt;int&gt;</th><th scope=col>&lt;int&gt;</th></tr>\n",
              "</thead>\n",
              "<tbody>\n",
              "\t<tr><td>S01</td><td>90</td><td>95</td><td>20</td><td>20</td></tr>\n",
              "\t<tr><td>S02</td><td>82</td><td>83</td><td>18</td><td>18</td></tr>\n",
              "\t<tr><td>S03</td><td>80</td><td>78</td><td>18</td><td>18</td></tr>\n",
              "\t<tr><td>S04</td><td>78</td><td>75</td><td>10</td><td>10</td></tr>\n",
              "\t<tr><td>S05</td><td>93</td><td>91</td><td>12</td><td>12</td></tr>\n",
              "\t<tr><td>S06</td><td>71</td><td>75</td><td>16</td><td>16</td></tr>\n",
              "\t<tr><td>S07</td><td>60</td><td>80</td><td>18</td><td>18</td></tr>\n",
              "\t<tr><td>S08</td><td>72</td><td>65</td><td>14</td><td>14</td></tr>\n",
              "\t<tr><td>S09</td><td>65</td><td>65</td><td>14</td><td>14</td></tr>\n",
              "\t<tr><td>S10</td><td>85</td><td>78</td><td>10</td><td>10</td></tr>\n",
              "</tbody>\n",
              "</table>\n"
            ],
            "text/markdown": "\nA data.frame: 10 × 5\n\n| 학번 &lt;chr&gt; | 중간 &lt;int&gt; | 기말 &lt;int&gt; | 리포트 &lt;int&gt; | 퀴즈 &lt;int&gt; |\n|---|---|---|---|---|\n| S01 | 90 | 95 | 20 | 20 |\n| S02 | 82 | 83 | 18 | 18 |\n| S03 | 80 | 78 | 18 | 18 |\n| S04 | 78 | 75 | 10 | 10 |\n| S05 | 93 | 91 | 12 | 12 |\n| S06 | 71 | 75 | 16 | 16 |\n| S07 | 60 | 80 | 18 | 18 |\n| S08 | 72 | 65 | 14 | 14 |\n| S09 | 65 | 65 | 14 | 14 |\n| S10 | 85 | 78 | 10 | 10 |\n\n",
            "text/latex": "A data.frame: 10 × 5\n\\begin{tabular}{lllll}\n 학번 & 중간 & 기말 & 리포트 & 퀴즈\\\\\n <chr> & <int> & <int> & <int> & <int>\\\\\n\\hline\n\t S01 & 90 & 95 & 20 & 20\\\\\n\t S02 & 82 & 83 & 18 & 18\\\\\n\t S03 & 80 & 78 & 18 & 18\\\\\n\t S04 & 78 & 75 & 10 & 10\\\\\n\t S05 & 93 & 91 & 12 & 12\\\\\n\t S06 & 71 & 75 & 16 & 16\\\\\n\t S07 & 60 & 80 & 18 & 18\\\\\n\t S08 & 72 & 65 & 14 & 14\\\\\n\t S09 & 65 & 65 & 14 & 14\\\\\n\t S10 & 85 & 78 & 10 & 10\\\\\n\\end{tabular}\n",
            "text/plain": [
              "   학번 중간 기말 리포트 퀴즈\n",
              "1  S01  90   95   20     20  \n",
              "2  S02  82   83   18     18  \n",
              "3  S03  80   78   18     18  \n",
              "4  S04  78   75   10     10  \n",
              "5  S05  93   91   12     12  \n",
              "6  S06  71   75   16     16  \n",
              "7  S07  60   80   18     18  \n",
              "8  S08  72   65   14     14  \n",
              "9  S09  65   65   14     14  \n",
              "10 S10  85   78   10     10  "
            ]
          },
          "metadata": {}
        }
      ],
      "source": [
        "#1) 데이터 가져오기\n",
        "df <-read.csv(\"sample_data/df_sample.csv\")\n",
        "df"
      ]
    },
    {
      "cell_type": "code",
      "source": [
        "# 2) 데이터 내보내기\n",
        "# sample_data 폴더에 df_output.csv 파일로 저장\n",
        "\n",
        "write.csv(df,\"sample_data/df_output.csv\")"
      ],
      "metadata": {
        "id": "pQxmBHuhjjal"
      },
      "execution_count": 3,
      "outputs": []
    },
    {
      "cell_type": "markdown",
      "source": [
        "### 2. 데이터 확인"
      ],
      "metadata": {
        "id": "yu3ECguaj29q"
      }
    },
    {
      "cell_type": "code",
      "source": [
        "head(df,3)\n",
        "tail(df,3)"
      ],
      "metadata": {
        "colab": {
          "base_uri": "https://localhost:8080/",
          "height": 367
        },
        "id": "1vxSN7GjjtDk",
        "outputId": "7948a7c3-53a0-4633-b615-08f5da28c9f7"
      },
      "execution_count": 4,
      "outputs": [
        {
          "output_type": "display_data",
          "data": {
            "text/html": [
              "<table class=\"dataframe\">\n",
              "<caption>A data.frame: 3 × 5</caption>\n",
              "<thead>\n",
              "\t<tr><th></th><th scope=col>학번</th><th scope=col>중간</th><th scope=col>기말</th><th scope=col>리포트</th><th scope=col>퀴즈</th></tr>\n",
              "\t<tr><th></th><th scope=col>&lt;chr&gt;</th><th scope=col>&lt;int&gt;</th><th scope=col>&lt;int&gt;</th><th scope=col>&lt;int&gt;</th><th scope=col>&lt;int&gt;</th></tr>\n",
              "</thead>\n",
              "<tbody>\n",
              "\t<tr><th scope=row>1</th><td>S01</td><td>90</td><td>95</td><td>20</td><td>20</td></tr>\n",
              "\t<tr><th scope=row>2</th><td>S02</td><td>82</td><td>83</td><td>18</td><td>18</td></tr>\n",
              "\t<tr><th scope=row>3</th><td>S03</td><td>80</td><td>78</td><td>18</td><td>18</td></tr>\n",
              "</tbody>\n",
              "</table>\n"
            ],
            "text/markdown": "\nA data.frame: 3 × 5\n\n| <!--/--> | 학번 &lt;chr&gt; | 중간 &lt;int&gt; | 기말 &lt;int&gt; | 리포트 &lt;int&gt; | 퀴즈 &lt;int&gt; |\n|---|---|---|---|---|---|\n| 1 | S01 | 90 | 95 | 20 | 20 |\n| 2 | S02 | 82 | 83 | 18 | 18 |\n| 3 | S03 | 80 | 78 | 18 | 18 |\n\n",
            "text/latex": "A data.frame: 3 × 5\n\\begin{tabular}{r|lllll}\n  & 학번 & 중간 & 기말 & 리포트 & 퀴즈\\\\\n  & <chr> & <int> & <int> & <int> & <int>\\\\\n\\hline\n\t1 & S01 & 90 & 95 & 20 & 20\\\\\n\t2 & S02 & 82 & 83 & 18 & 18\\\\\n\t3 & S03 & 80 & 78 & 18 & 18\\\\\n\\end{tabular}\n",
            "text/plain": [
              "  학번 중간 기말 리포트 퀴즈\n",
              "1 S01  90   95   20     20  \n",
              "2 S02  82   83   18     18  \n",
              "3 S03  80   78   18     18  "
            ]
          },
          "metadata": {}
        },
        {
          "output_type": "display_data",
          "data": {
            "text/html": [
              "<table class=\"dataframe\">\n",
              "<caption>A data.frame: 3 × 5</caption>\n",
              "<thead>\n",
              "\t<tr><th></th><th scope=col>학번</th><th scope=col>중간</th><th scope=col>기말</th><th scope=col>리포트</th><th scope=col>퀴즈</th></tr>\n",
              "\t<tr><th></th><th scope=col>&lt;chr&gt;</th><th scope=col>&lt;int&gt;</th><th scope=col>&lt;int&gt;</th><th scope=col>&lt;int&gt;</th><th scope=col>&lt;int&gt;</th></tr>\n",
              "</thead>\n",
              "<tbody>\n",
              "\t<tr><th scope=row>8</th><td>S08</td><td>72</td><td>65</td><td>14</td><td>14</td></tr>\n",
              "\t<tr><th scope=row>9</th><td>S09</td><td>65</td><td>65</td><td>14</td><td>14</td></tr>\n",
              "\t<tr><th scope=row>10</th><td>S10</td><td>85</td><td>78</td><td>10</td><td>10</td></tr>\n",
              "</tbody>\n",
              "</table>\n"
            ],
            "text/markdown": "\nA data.frame: 3 × 5\n\n| <!--/--> | 학번 &lt;chr&gt; | 중간 &lt;int&gt; | 기말 &lt;int&gt; | 리포트 &lt;int&gt; | 퀴즈 &lt;int&gt; |\n|---|---|---|---|---|---|\n| 8 | S08 | 72 | 65 | 14 | 14 |\n| 9 | S09 | 65 | 65 | 14 | 14 |\n| 10 | S10 | 85 | 78 | 10 | 10 |\n\n",
            "text/latex": "A data.frame: 3 × 5\n\\begin{tabular}{r|lllll}\n  & 학번 & 중간 & 기말 & 리포트 & 퀴즈\\\\\n  & <chr> & <int> & <int> & <int> & <int>\\\\\n\\hline\n\t8 & S08 & 72 & 65 & 14 & 14\\\\\n\t9 & S09 & 65 & 65 & 14 & 14\\\\\n\t10 & S10 & 85 & 78 & 10 & 10\\\\\n\\end{tabular}\n",
            "text/plain": [
              "   학번 중간 기말 리포트 퀴즈\n",
              "8  S08  72   65   14     14  \n",
              "9  S09  65   65   14     14  \n",
              "10 S10  85   78   10     10  "
            ]
          },
          "metadata": {}
        }
      ]
    },
    {
      "cell_type": "code",
      "source": [
        "# 데이터 구조 출력\n",
        "str(df)"
      ],
      "metadata": {
        "colab": {
          "base_uri": "https://localhost:8080/"
        },
        "id": "K-PnRHffj9jl",
        "outputId": "baf21497-5000-4500-fe34-c6c5e692b659"
      },
      "execution_count": 5,
      "outputs": [
        {
          "output_type": "stream",
          "name": "stdout",
          "text": [
            "'data.frame':\t10 obs. of  5 variables:\n",
            " $ 학번  : chr  \"S01\" \"S02\" \"S03\" \"S04\" ...\n",
            " $ 중간  : int  90 82 80 78 93 71 60 72 65 85\n",
            " $ 기말  : int  95 83 78 75 91 75 80 65 65 78\n",
            " $ 리포트: int  20 18 18 10 12 16 18 14 14 10\n",
            " $ 퀴즈  : int  20 18 18 10 12 16 18 14 14 10\n"
          ]
        }
      ]
    },
    {
      "cell_type": "code",
      "source": [
        "# 요약통계량 확인\n",
        "summary(df)"
      ],
      "metadata": {
        "colab": {
          "base_uri": "https://localhost:8080/",
          "height": 282
        },
        "id": "ZU-cxYmxj-lM",
        "outputId": "c5fdf39c-552e-4f38-cf89-62753e8f867e"
      },
      "execution_count": 6,
      "outputs": [
        {
          "output_type": "display_data",
          "data": {
            "text/plain": [
              "     학번                중간            기말           리포트    \n",
              " Length:10          Min.   :60.00   Min.   :65.00   Min.   :10.0  \n",
              " Class :character   1st Qu.:71.25   1st Qu.:75.00   1st Qu.:12.5  \n",
              " Mode  :character   Median :79.00   Median :78.00   Median :15.0  \n",
              "                    Mean   :77.60   Mean   :78.50   Mean   :15.0  \n",
              "                    3rd Qu.:84.25   3rd Qu.:82.25   3rd Qu.:18.0  \n",
              "                    Max.   :93.00   Max.   :95.00   Max.   :20.0  \n",
              "      퀴즈     \n",
              " Min.   :10.0  \n",
              " 1st Qu.:12.5  \n",
              " Median :15.0  \n",
              " Mean   :15.0  \n",
              " 3rd Qu.:18.0  \n",
              " Max.   :20.0  "
            ]
          },
          "metadata": {}
        }
      ]
    },
    {
      "cell_type": "code",
      "source": [
        "dim(df) # 차원 출력\n",
        "nrow(df)\n",
        "ncol(df)\n",
        "length(df) # df 길이"
      ],
      "metadata": {
        "colab": {
          "base_uri": "https://localhost:8080/",
          "height": 86
        },
        "id": "3RuQXu9CkQ8z",
        "outputId": "f36acf46-27e1-4473-cb57-1009d4250c14"
      },
      "execution_count": 7,
      "outputs": [
        {
          "output_type": "display_data",
          "data": {
            "text/html": [
              "<style>\n",
              ".list-inline {list-style: none; margin:0; padding: 0}\n",
              ".list-inline>li {display: inline-block}\n",
              ".list-inline>li:not(:last-child)::after {content: \"\\00b7\"; padding: 0 .5ex}\n",
              "</style>\n",
              "<ol class=list-inline><li>10</li><li>5</li></ol>\n"
            ],
            "text/markdown": "1. 10\n2. 5\n\n\n",
            "text/latex": "\\begin{enumerate*}\n\\item 10\n\\item 5\n\\end{enumerate*}\n",
            "text/plain": [
              "[1] 10  5"
            ]
          },
          "metadata": {}
        },
        {
          "output_type": "display_data",
          "data": {
            "text/html": [
              "10"
            ],
            "text/markdown": "10",
            "text/latex": "10",
            "text/plain": [
              "[1] 10"
            ]
          },
          "metadata": {}
        },
        {
          "output_type": "display_data",
          "data": {
            "text/html": [
              "5"
            ],
            "text/markdown": "5",
            "text/latex": "5",
            "text/plain": [
              "[1] 5"
            ]
          },
          "metadata": {}
        },
        {
          "output_type": "display_data",
          "data": {
            "text/html": [
              "5"
            ],
            "text/markdown": "5",
            "text/latex": "5",
            "text/plain": [
              "[1] 5"
            ]
          },
          "metadata": {}
        }
      ]
    },
    {
      "cell_type": "markdown",
      "source": [
        "### 3. 데이터 조작"
      ],
      "metadata": {
        "id": "Msn1Cb-MkgWg"
      }
    },
    {
      "cell_type": "code",
      "source": [
        "df1 <- head(df,3)\n",
        "df2 <- tail(df,3)\n",
        "# 행 결합\n",
        "rbind(df1,df2)\n",
        "# 열 결합 \n",
        "cbind(df1,df2)"
      ],
      "metadata": {
        "colab": {
          "base_uri": "https://localhost:8080/",
          "height": 461
        },
        "id": "B5hiO6yvkTPi",
        "outputId": "b9d509f9-11e8-464f-ec65-deaaa4a60053"
      },
      "execution_count": 8,
      "outputs": [
        {
          "output_type": "display_data",
          "data": {
            "text/html": [
              "<table class=\"dataframe\">\n",
              "<caption>A data.frame: 6 × 5</caption>\n",
              "<thead>\n",
              "\t<tr><th></th><th scope=col>학번</th><th scope=col>중간</th><th scope=col>기말</th><th scope=col>리포트</th><th scope=col>퀴즈</th></tr>\n",
              "\t<tr><th></th><th scope=col>&lt;chr&gt;</th><th scope=col>&lt;int&gt;</th><th scope=col>&lt;int&gt;</th><th scope=col>&lt;int&gt;</th><th scope=col>&lt;int&gt;</th></tr>\n",
              "</thead>\n",
              "<tbody>\n",
              "\t<tr><th scope=row>1</th><td>S01</td><td>90</td><td>95</td><td>20</td><td>20</td></tr>\n",
              "\t<tr><th scope=row>2</th><td>S02</td><td>82</td><td>83</td><td>18</td><td>18</td></tr>\n",
              "\t<tr><th scope=row>3</th><td>S03</td><td>80</td><td>78</td><td>18</td><td>18</td></tr>\n",
              "\t<tr><th scope=row>8</th><td>S08</td><td>72</td><td>65</td><td>14</td><td>14</td></tr>\n",
              "\t<tr><th scope=row>9</th><td>S09</td><td>65</td><td>65</td><td>14</td><td>14</td></tr>\n",
              "\t<tr><th scope=row>10</th><td>S10</td><td>85</td><td>78</td><td>10</td><td>10</td></tr>\n",
              "</tbody>\n",
              "</table>\n"
            ],
            "text/markdown": "\nA data.frame: 6 × 5\n\n| <!--/--> | 학번 &lt;chr&gt; | 중간 &lt;int&gt; | 기말 &lt;int&gt; | 리포트 &lt;int&gt; | 퀴즈 &lt;int&gt; |\n|---|---|---|---|---|---|\n| 1 | S01 | 90 | 95 | 20 | 20 |\n| 2 | S02 | 82 | 83 | 18 | 18 |\n| 3 | S03 | 80 | 78 | 18 | 18 |\n| 8 | S08 | 72 | 65 | 14 | 14 |\n| 9 | S09 | 65 | 65 | 14 | 14 |\n| 10 | S10 | 85 | 78 | 10 | 10 |\n\n",
            "text/latex": "A data.frame: 6 × 5\n\\begin{tabular}{r|lllll}\n  & 학번 & 중간 & 기말 & 리포트 & 퀴즈\\\\\n  & <chr> & <int> & <int> & <int> & <int>\\\\\n\\hline\n\t1 & S01 & 90 & 95 & 20 & 20\\\\\n\t2 & S02 & 82 & 83 & 18 & 18\\\\\n\t3 & S03 & 80 & 78 & 18 & 18\\\\\n\t8 & S08 & 72 & 65 & 14 & 14\\\\\n\t9 & S09 & 65 & 65 & 14 & 14\\\\\n\t10 & S10 & 85 & 78 & 10 & 10\\\\\n\\end{tabular}\n",
            "text/plain": [
              "   학번 중간 기말 리포트 퀴즈\n",
              "1  S01  90   95   20     20  \n",
              "2  S02  82   83   18     18  \n",
              "3  S03  80   78   18     18  \n",
              "8  S08  72   65   14     14  \n",
              "9  S09  65   65   14     14  \n",
              "10 S10  85   78   10     10  "
            ]
          },
          "metadata": {}
        },
        {
          "output_type": "display_data",
          "data": {
            "text/html": [
              "<table class=\"dataframe\">\n",
              "<caption>A data.frame: 3 × 10</caption>\n",
              "<thead>\n",
              "\t<tr><th></th><th scope=col>학번</th><th scope=col>중간</th><th scope=col>기말</th><th scope=col>리포트</th><th scope=col>퀴즈</th><th scope=col>학번</th><th scope=col>중간</th><th scope=col>기말</th><th scope=col>리포트</th><th scope=col>퀴즈</th></tr>\n",
              "\t<tr><th></th><th scope=col>&lt;chr&gt;</th><th scope=col>&lt;int&gt;</th><th scope=col>&lt;int&gt;</th><th scope=col>&lt;int&gt;</th><th scope=col>&lt;int&gt;</th><th scope=col>&lt;chr&gt;</th><th scope=col>&lt;int&gt;</th><th scope=col>&lt;int&gt;</th><th scope=col>&lt;int&gt;</th><th scope=col>&lt;int&gt;</th></tr>\n",
              "</thead>\n",
              "<tbody>\n",
              "\t<tr><th scope=row>1</th><td>S01</td><td>90</td><td>95</td><td>20</td><td>20</td><td>S08</td><td>72</td><td>65</td><td>14</td><td>14</td></tr>\n",
              "\t<tr><th scope=row>2</th><td>S02</td><td>82</td><td>83</td><td>18</td><td>18</td><td>S09</td><td>65</td><td>65</td><td>14</td><td>14</td></tr>\n",
              "\t<tr><th scope=row>3</th><td>S03</td><td>80</td><td>78</td><td>18</td><td>18</td><td>S10</td><td>85</td><td>78</td><td>10</td><td>10</td></tr>\n",
              "</tbody>\n",
              "</table>\n"
            ],
            "text/markdown": "\nA data.frame: 3 × 10\n\n| <!--/--> | 학번 &lt;chr&gt; | 중간 &lt;int&gt; | 기말 &lt;int&gt; | 리포트 &lt;int&gt; | 퀴즈 &lt;int&gt; | 학번 &lt;chr&gt; | 중간 &lt;int&gt; | 기말 &lt;int&gt; | 리포트 &lt;int&gt; | 퀴즈 &lt;int&gt; |\n|---|---|---|---|---|---|---|---|---|---|---|\n| 1 | S01 | 90 | 95 | 20 | 20 | S08 | 72 | 65 | 14 | 14 |\n| 2 | S02 | 82 | 83 | 18 | 18 | S09 | 65 | 65 | 14 | 14 |\n| 3 | S03 | 80 | 78 | 18 | 18 | S10 | 85 | 78 | 10 | 10 |\n\n",
            "text/latex": "A data.frame: 3 × 10\n\\begin{tabular}{r|llllllllll}\n  & 학번 & 중간 & 기말 & 리포트 & 퀴즈 & 학번 & 중간 & 기말 & 리포트 & 퀴즈\\\\\n  & <chr> & <int> & <int> & <int> & <int> & <chr> & <int> & <int> & <int> & <int>\\\\\n\\hline\n\t1 & S01 & 90 & 95 & 20 & 20 & S08 & 72 & 65 & 14 & 14\\\\\n\t2 & S02 & 82 & 83 & 18 & 18 & S09 & 65 & 65 & 14 & 14\\\\\n\t3 & S03 & 80 & 78 & 18 & 18 & S10 & 85 & 78 & 10 & 10\\\\\n\\end{tabular}\n",
            "text/plain": [
              "  학번 중간 기말 리포트 퀴즈 학번 중간 기말 리포트 퀴즈\n",
              "1 S01  90   95   20     20   S08  72   65   14     14  \n",
              "2 S02  82   83   18     18   S09  65   65   14     14  \n",
              "3 S03  80   78   18     18   S10  85   78   10     10  "
            ]
          },
          "metadata": {}
        }
      ]
    },
    {
      "cell_type": "code",
      "source": [
        "# 분리할 열 팩터(지정 열 구성 값)를 기준으로 분리\n",
        "split(df,df$`퀴즈`)\n",
        "# 동일한 퀴즈 점수를 가진 행들로 분리"
      ],
      "metadata": {
        "colab": {
          "base_uri": "https://localhost:8080/",
          "height": 948
        },
        "id": "RAxKBZbdkmyC",
        "outputId": "b94d8344-c975-4b9b-cbf2-4ec4575e6886"
      },
      "execution_count": 9,
      "outputs": [
        {
          "output_type": "display_data",
          "data": {
            "text/html": [
              "<dl>\n",
              "\t<dt>$`10`</dt>\n",
              "\t\t<dd><table class=\"dataframe\">\n",
              "<caption>A data.frame: 2 × 5</caption>\n",
              "<thead>\n",
              "\t<tr><th></th><th scope=col>학번</th><th scope=col>중간</th><th scope=col>기말</th><th scope=col>리포트</th><th scope=col>퀴즈</th></tr>\n",
              "\t<tr><th></th><th scope=col>&lt;chr&gt;</th><th scope=col>&lt;int&gt;</th><th scope=col>&lt;int&gt;</th><th scope=col>&lt;int&gt;</th><th scope=col>&lt;int&gt;</th></tr>\n",
              "</thead>\n",
              "<tbody>\n",
              "\t<tr><th scope=row>4</th><td>S04</td><td>78</td><td>75</td><td>10</td><td>10</td></tr>\n",
              "\t<tr><th scope=row>10</th><td>S10</td><td>85</td><td>78</td><td>10</td><td>10</td></tr>\n",
              "</tbody>\n",
              "</table>\n",
              "</dd>\n",
              "\t<dt>$`12`</dt>\n",
              "\t\t<dd><table class=\"dataframe\">\n",
              "<caption>A data.frame: 1 × 5</caption>\n",
              "<thead>\n",
              "\t<tr><th></th><th scope=col>학번</th><th scope=col>중간</th><th scope=col>기말</th><th scope=col>리포트</th><th scope=col>퀴즈</th></tr>\n",
              "\t<tr><th></th><th scope=col>&lt;chr&gt;</th><th scope=col>&lt;int&gt;</th><th scope=col>&lt;int&gt;</th><th scope=col>&lt;int&gt;</th><th scope=col>&lt;int&gt;</th></tr>\n",
              "</thead>\n",
              "<tbody>\n",
              "\t<tr><th scope=row>5</th><td>S05</td><td>93</td><td>91</td><td>12</td><td>12</td></tr>\n",
              "</tbody>\n",
              "</table>\n",
              "</dd>\n",
              "\t<dt>$`14`</dt>\n",
              "\t\t<dd><table class=\"dataframe\">\n",
              "<caption>A data.frame: 2 × 5</caption>\n",
              "<thead>\n",
              "\t<tr><th></th><th scope=col>학번</th><th scope=col>중간</th><th scope=col>기말</th><th scope=col>리포트</th><th scope=col>퀴즈</th></tr>\n",
              "\t<tr><th></th><th scope=col>&lt;chr&gt;</th><th scope=col>&lt;int&gt;</th><th scope=col>&lt;int&gt;</th><th scope=col>&lt;int&gt;</th><th scope=col>&lt;int&gt;</th></tr>\n",
              "</thead>\n",
              "<tbody>\n",
              "\t<tr><th scope=row>8</th><td>S08</td><td>72</td><td>65</td><td>14</td><td>14</td></tr>\n",
              "\t<tr><th scope=row>9</th><td>S09</td><td>65</td><td>65</td><td>14</td><td>14</td></tr>\n",
              "</tbody>\n",
              "</table>\n",
              "</dd>\n",
              "\t<dt>$`16`</dt>\n",
              "\t\t<dd><table class=\"dataframe\">\n",
              "<caption>A data.frame: 1 × 5</caption>\n",
              "<thead>\n",
              "\t<tr><th></th><th scope=col>학번</th><th scope=col>중간</th><th scope=col>기말</th><th scope=col>리포트</th><th scope=col>퀴즈</th></tr>\n",
              "\t<tr><th></th><th scope=col>&lt;chr&gt;</th><th scope=col>&lt;int&gt;</th><th scope=col>&lt;int&gt;</th><th scope=col>&lt;int&gt;</th><th scope=col>&lt;int&gt;</th></tr>\n",
              "</thead>\n",
              "<tbody>\n",
              "\t<tr><th scope=row>6</th><td>S06</td><td>71</td><td>75</td><td>16</td><td>16</td></tr>\n",
              "</tbody>\n",
              "</table>\n",
              "</dd>\n",
              "\t<dt>$`18`</dt>\n",
              "\t\t<dd><table class=\"dataframe\">\n",
              "<caption>A data.frame: 3 × 5</caption>\n",
              "<thead>\n",
              "\t<tr><th></th><th scope=col>학번</th><th scope=col>중간</th><th scope=col>기말</th><th scope=col>리포트</th><th scope=col>퀴즈</th></tr>\n",
              "\t<tr><th></th><th scope=col>&lt;chr&gt;</th><th scope=col>&lt;int&gt;</th><th scope=col>&lt;int&gt;</th><th scope=col>&lt;int&gt;</th><th scope=col>&lt;int&gt;</th></tr>\n",
              "</thead>\n",
              "<tbody>\n",
              "\t<tr><th scope=row>2</th><td>S02</td><td>82</td><td>83</td><td>18</td><td>18</td></tr>\n",
              "\t<tr><th scope=row>3</th><td>S03</td><td>80</td><td>78</td><td>18</td><td>18</td></tr>\n",
              "\t<tr><th scope=row>7</th><td>S07</td><td>60</td><td>80</td><td>18</td><td>18</td></tr>\n",
              "</tbody>\n",
              "</table>\n",
              "</dd>\n",
              "\t<dt>$`20`</dt>\n",
              "\t\t<dd><table class=\"dataframe\">\n",
              "<caption>A data.frame: 1 × 5</caption>\n",
              "<thead>\n",
              "\t<tr><th></th><th scope=col>학번</th><th scope=col>중간</th><th scope=col>기말</th><th scope=col>리포트</th><th scope=col>퀴즈</th></tr>\n",
              "\t<tr><th></th><th scope=col>&lt;chr&gt;</th><th scope=col>&lt;int&gt;</th><th scope=col>&lt;int&gt;</th><th scope=col>&lt;int&gt;</th><th scope=col>&lt;int&gt;</th></tr>\n",
              "</thead>\n",
              "<tbody>\n",
              "\t<tr><th scope=row>1</th><td>S01</td><td>90</td><td>95</td><td>20</td><td>20</td></tr>\n",
              "</tbody>\n",
              "</table>\n",
              "</dd>\n",
              "</dl>\n"
            ],
            "text/markdown": "$`10`\n:   \nA data.frame: 2 × 5\n\n| <!--/--> | 학번 &lt;chr&gt; | 중간 &lt;int&gt; | 기말 &lt;int&gt; | 리포트 &lt;int&gt; | 퀴즈 &lt;int&gt; |\n|---|---|---|---|---|---|\n| 4 | S04 | 78 | 75 | 10 | 10 |\n| 10 | S10 | 85 | 78 | 10 | 10 |\n\n\n$`12`\n:   \nA data.frame: 1 × 5\n\n| <!--/--> | 학번 &lt;chr&gt; | 중간 &lt;int&gt; | 기말 &lt;int&gt; | 리포트 &lt;int&gt; | 퀴즈 &lt;int&gt; |\n|---|---|---|---|---|---|\n| 5 | S05 | 93 | 91 | 12 | 12 |\n\n\n$`14`\n:   \nA data.frame: 2 × 5\n\n| <!--/--> | 학번 &lt;chr&gt; | 중간 &lt;int&gt; | 기말 &lt;int&gt; | 리포트 &lt;int&gt; | 퀴즈 &lt;int&gt; |\n|---|---|---|---|---|---|\n| 8 | S08 | 72 | 65 | 14 | 14 |\n| 9 | S09 | 65 | 65 | 14 | 14 |\n\n\n$`16`\n:   \nA data.frame: 1 × 5\n\n| <!--/--> | 학번 &lt;chr&gt; | 중간 &lt;int&gt; | 기말 &lt;int&gt; | 리포트 &lt;int&gt; | 퀴즈 &lt;int&gt; |\n|---|---|---|---|---|---|\n| 6 | S06 | 71 | 75 | 16 | 16 |\n\n\n$`18`\n:   \nA data.frame: 3 × 5\n\n| <!--/--> | 학번 &lt;chr&gt; | 중간 &lt;int&gt; | 기말 &lt;int&gt; | 리포트 &lt;int&gt; | 퀴즈 &lt;int&gt; |\n|---|---|---|---|---|---|\n| 2 | S02 | 82 | 83 | 18 | 18 |\n| 3 | S03 | 80 | 78 | 18 | 18 |\n| 7 | S07 | 60 | 80 | 18 | 18 |\n\n\n$`20`\n:   \nA data.frame: 1 × 5\n\n| <!--/--> | 학번 &lt;chr&gt; | 중간 &lt;int&gt; | 기말 &lt;int&gt; | 리포트 &lt;int&gt; | 퀴즈 &lt;int&gt; |\n|---|---|---|---|---|---|\n| 1 | S01 | 90 | 95 | 20 | 20 |\n\n\n\n\n",
            "text/latex": "\\begin{description}\n\\item[\\$`10`] A data.frame: 2 × 5\n\\begin{tabular}{r|lllll}\n  & 학번 & 중간 & 기말 & 리포트 & 퀴즈\\\\\n  & <chr> & <int> & <int> & <int> & <int>\\\\\n\\hline\n\t4 & S04 & 78 & 75 & 10 & 10\\\\\n\t10 & S10 & 85 & 78 & 10 & 10\\\\\n\\end{tabular}\n\n\\item[\\$`12`] A data.frame: 1 × 5\n\\begin{tabular}{r|lllll}\n  & 학번 & 중간 & 기말 & 리포트 & 퀴즈\\\\\n  & <chr> & <int> & <int> & <int> & <int>\\\\\n\\hline\n\t5 & S05 & 93 & 91 & 12 & 12\\\\\n\\end{tabular}\n\n\\item[\\$`14`] A data.frame: 2 × 5\n\\begin{tabular}{r|lllll}\n  & 학번 & 중간 & 기말 & 리포트 & 퀴즈\\\\\n  & <chr> & <int> & <int> & <int> & <int>\\\\\n\\hline\n\t8 & S08 & 72 & 65 & 14 & 14\\\\\n\t9 & S09 & 65 & 65 & 14 & 14\\\\\n\\end{tabular}\n\n\\item[\\$`16`] A data.frame: 1 × 5\n\\begin{tabular}{r|lllll}\n  & 학번 & 중간 & 기말 & 리포트 & 퀴즈\\\\\n  & <chr> & <int> & <int> & <int> & <int>\\\\\n\\hline\n\t6 & S06 & 71 & 75 & 16 & 16\\\\\n\\end{tabular}\n\n\\item[\\$`18`] A data.frame: 3 × 5\n\\begin{tabular}{r|lllll}\n  & 학번 & 중간 & 기말 & 리포트 & 퀴즈\\\\\n  & <chr> & <int> & <int> & <int> & <int>\\\\\n\\hline\n\t2 & S02 & 82 & 83 & 18 & 18\\\\\n\t3 & S03 & 80 & 78 & 18 & 18\\\\\n\t7 & S07 & 60 & 80 & 18 & 18\\\\\n\\end{tabular}\n\n\\item[\\$`20`] A data.frame: 1 × 5\n\\begin{tabular}{r|lllll}\n  & 학번 & 중간 & 기말 & 리포트 & 퀴즈\\\\\n  & <chr> & <int> & <int> & <int> & <int>\\\\\n\\hline\n\t1 & S01 & 90 & 95 & 20 & 20\\\\\n\\end{tabular}\n\n\\end{description}\n",
            "text/plain": [
              "$`10`\n",
              "   학번 중간 기말 리포트 퀴즈\n",
              "4   S04   78   75     10   10\n",
              "10  S10   85   78     10   10\n",
              "\n",
              "$`12`\n",
              "  학번 중간 기말 리포트 퀴즈\n",
              "5  S05   93   91     12   12\n",
              "\n",
              "$`14`\n",
              "  학번 중간 기말 리포트 퀴즈\n",
              "8  S08   72   65     14   14\n",
              "9  S09   65   65     14   14\n",
              "\n",
              "$`16`\n",
              "  학번 중간 기말 리포트 퀴즈\n",
              "6  S06   71   75     16   16\n",
              "\n",
              "$`18`\n",
              "  학번 중간 기말 리포트 퀴즈\n",
              "2  S02   82   83     18   18\n",
              "3  S03   80   78     18   18\n",
              "7  S07   60   80     18   18\n",
              "\n",
              "$`20`\n",
              "  학번 중간 기말 리포트 퀴즈\n",
              "1  S01   90   95     20   20\n"
            ]
          },
          "metadata": {}
        }
      ]
    },
    {
      "cell_type": "code",
      "source": [
        "# 조건에 맞는 행 선택 : subset()\n",
        "# select 사용해 일부 열만 출력\n",
        "\n",
        "subset(df,중간 >=90,select = c(\"학번\",\"중간\",\"기말\"))"
      ],
      "metadata": {
        "id": "bie1Surxk2BK",
        "outputId": "aef950e6-0b36-4604-846a-d4bf73641c22",
        "colab": {
          "base_uri": "https://localhost:8080/",
          "height": 161
        }
      },
      "execution_count": 10,
      "outputs": [
        {
          "output_type": "display_data",
          "data": {
            "text/html": [
              "<table class=\"dataframe\">\n",
              "<caption>A data.frame: 2 × 3</caption>\n",
              "<thead>\n",
              "\t<tr><th></th><th scope=col>학번</th><th scope=col>중간</th><th scope=col>기말</th></tr>\n",
              "\t<tr><th></th><th scope=col>&lt;chr&gt;</th><th scope=col>&lt;int&gt;</th><th scope=col>&lt;int&gt;</th></tr>\n",
              "</thead>\n",
              "<tbody>\n",
              "\t<tr><th scope=row>1</th><td>S01</td><td>90</td><td>95</td></tr>\n",
              "\t<tr><th scope=row>5</th><td>S05</td><td>93</td><td>91</td></tr>\n",
              "</tbody>\n",
              "</table>\n"
            ],
            "text/markdown": "\nA data.frame: 2 × 3\n\n| <!--/--> | 학번 &lt;chr&gt; | 중간 &lt;int&gt; | 기말 &lt;int&gt; |\n|---|---|---|---|\n| 1 | S01 | 90 | 95 |\n| 5 | S05 | 93 | 91 |\n\n",
            "text/latex": "A data.frame: 2 × 3\n\\begin{tabular}{r|lll}\n  & 학번 & 중간 & 기말\\\\\n  & <chr> & <int> & <int>\\\\\n\\hline\n\t1 & S01 & 90 & 95\\\\\n\t5 & S05 & 93 & 91\\\\\n\\end{tabular}\n",
            "text/plain": [
              "  학번 중간 기말\n",
              "1 S01  90   95  \n",
              "5 S05  93   91  "
            ]
          },
          "metadata": {}
        }
      ]
    },
    {
      "cell_type": "code",
      "source": [
        "# 지정한 자리 문자열 선택 : substr\n",
        "\n",
        "# 학번 열 데이터 값의 2번째~3번째 위치 문자열 선택\n",
        "substr(df$`학번`,2,3)"
      ],
      "metadata": {
        "id": "MwRvP5UYlQ4V",
        "outputId": "1423200a-b546-4c30-d2c8-fca5d432395d",
        "colab": {
          "base_uri": "https://localhost:8080/",
          "height": 34
        }
      },
      "execution_count": 11,
      "outputs": [
        {
          "output_type": "display_data",
          "data": {
            "text/html": [
              "<style>\n",
              ".list-inline {list-style: none; margin:0; padding: 0}\n",
              ".list-inline>li {display: inline-block}\n",
              ".list-inline>li:not(:last-child)::after {content: \"\\00b7\"; padding: 0 .5ex}\n",
              "</style>\n",
              "<ol class=list-inline><li>'01'</li><li>'02'</li><li>'03'</li><li>'04'</li><li>'05'</li><li>'06'</li><li>'07'</li><li>'08'</li><li>'09'</li><li>'10'</li></ol>\n"
            ],
            "text/markdown": "1. '01'\n2. '02'\n3. '03'\n4. '04'\n5. '05'\n6. '06'\n7. '07'\n8. '08'\n9. '09'\n10. '10'\n\n\n",
            "text/latex": "\\begin{enumerate*}\n\\item '01'\n\\item '02'\n\\item '03'\n\\item '04'\n\\item '05'\n\\item '06'\n\\item '07'\n\\item '08'\n\\item '09'\n\\item '10'\n\\end{enumerate*}\n",
            "text/plain": [
              " [1] \"01\" \"02\" \"03\" \"04\" \"05\" \"06\" \"07\" \"08\" \"09\" \"10\""
            ]
          },
          "metadata": {}
        }
      ]
    },
    {
      "cell_type": "code",
      "source": [
        "# 공통 열 기준으로 2개 df 병합\n",
        "df1 = subset(df, TRUE, select = c(\"학번\",\"중간\"))\n",
        "df2 = subset(df, TRUE, select = c(\"학번\",\"기말\") )\n",
        "merge(df1,df2)\n",
        "# 공통열 학번 기준으로 병합"
      ],
      "metadata": {
        "id": "YaLY3olvlsab",
        "outputId": "c19dd605-046c-4f73-f660-1a4aa772c922",
        "colab": {
          "base_uri": "https://localhost:8080/",
          "height": 411
        }
      },
      "execution_count": 12,
      "outputs": [
        {
          "output_type": "display_data",
          "data": {
            "text/html": [
              "<table class=\"dataframe\">\n",
              "<caption>A data.frame: 10 × 3</caption>\n",
              "<thead>\n",
              "\t<tr><th scope=col>학번</th><th scope=col>중간</th><th scope=col>기말</th></tr>\n",
              "\t<tr><th scope=col>&lt;chr&gt;</th><th scope=col>&lt;int&gt;</th><th scope=col>&lt;int&gt;</th></tr>\n",
              "</thead>\n",
              "<tbody>\n",
              "\t<tr><td>S01</td><td>90</td><td>95</td></tr>\n",
              "\t<tr><td>S02</td><td>82</td><td>83</td></tr>\n",
              "\t<tr><td>S03</td><td>80</td><td>78</td></tr>\n",
              "\t<tr><td>S04</td><td>78</td><td>75</td></tr>\n",
              "\t<tr><td>S05</td><td>93</td><td>91</td></tr>\n",
              "\t<tr><td>S06</td><td>71</td><td>75</td></tr>\n",
              "\t<tr><td>S07</td><td>60</td><td>80</td></tr>\n",
              "\t<tr><td>S08</td><td>72</td><td>65</td></tr>\n",
              "\t<tr><td>S09</td><td>65</td><td>65</td></tr>\n",
              "\t<tr><td>S10</td><td>85</td><td>78</td></tr>\n",
              "</tbody>\n",
              "</table>\n"
            ],
            "text/markdown": "\nA data.frame: 10 × 3\n\n| 학번 &lt;chr&gt; | 중간 &lt;int&gt; | 기말 &lt;int&gt; |\n|---|---|---|\n| S01 | 90 | 95 |\n| S02 | 82 | 83 |\n| S03 | 80 | 78 |\n| S04 | 78 | 75 |\n| S05 | 93 | 91 |\n| S06 | 71 | 75 |\n| S07 | 60 | 80 |\n| S08 | 72 | 65 |\n| S09 | 65 | 65 |\n| S10 | 85 | 78 |\n\n",
            "text/latex": "A data.frame: 10 × 3\n\\begin{tabular}{lll}\n 학번 & 중간 & 기말\\\\\n <chr> & <int> & <int>\\\\\n\\hline\n\t S01 & 90 & 95\\\\\n\t S02 & 82 & 83\\\\\n\t S03 & 80 & 78\\\\\n\t S04 & 78 & 75\\\\\n\t S05 & 93 & 91\\\\\n\t S06 & 71 & 75\\\\\n\t S07 & 60 & 80\\\\\n\t S08 & 72 & 65\\\\\n\t S09 & 65 & 65\\\\\n\t S10 & 85 & 78\\\\\n\\end{tabular}\n",
            "text/plain": [
              "   학번 중간 기말\n",
              "1  S01  90   95  \n",
              "2  S02  82   83  \n",
              "3  S03  80   78  \n",
              "4  S04  78   75  \n",
              "5  S05  93   91  \n",
              "6  S06  71   75  \n",
              "7  S07  60   80  \n",
              "8  S08  72   65  \n",
              "9  S09  65   65  \n",
              "10 S10  85   78  "
            ]
          },
          "metadata": {}
        }
      ]
    },
    {
      "cell_type": "code",
      "source": [
        "# 정렬 :sort()\n",
        "# decreasing = T : 내림차순 / FALSE : 오름차순(기본값)\n",
        "sort(df$`중간`, decreasing = T)"
      ],
      "metadata": {
        "id": "hkvhyIRPmIqh",
        "outputId": "8c645cb2-c3b6-4700-deff-f97cec589b4f",
        "colab": {
          "base_uri": "https://localhost:8080/",
          "height": 34
        }
      },
      "execution_count": 13,
      "outputs": [
        {
          "output_type": "display_data",
          "data": {
            "text/html": [
              "<style>\n",
              ".list-inline {list-style: none; margin:0; padding: 0}\n",
              ".list-inline>li {display: inline-block}\n",
              ".list-inline>li:not(:last-child)::after {content: \"\\00b7\"; padding: 0 .5ex}\n",
              "</style>\n",
              "<ol class=list-inline><li>93</li><li>90</li><li>85</li><li>82</li><li>80</li><li>78</li><li>72</li><li>71</li><li>65</li><li>60</li></ol>\n"
            ],
            "text/markdown": "1. 93\n2. 90\n3. 85\n4. 82\n5. 80\n6. 78\n7. 72\n8. 71\n9. 65\n10. 60\n\n\n",
            "text/latex": "\\begin{enumerate*}\n\\item 93\n\\item 90\n\\item 85\n\\item 82\n\\item 80\n\\item 78\n\\item 72\n\\item 71\n\\item 65\n\\item 60\n\\end{enumerate*}\n",
            "text/plain": [
              " [1] 93 90 85 82 80 78 72 71 65 60"
            ]
          },
          "metadata": {}
        }
      ]
    },
    {
      "cell_type": "code",
      "source": [
        "# 위치 인덱스를 정렬 순서대로 \n",
        "# 인덱스 행으로 선택하면 DF 정렬\n",
        "\n",
        "order(df$`중간`,decreasing = T) # 중간점수로 정렬할 때의 순서 반환\n",
        "df[order(df$`중간`,decreasing = T),] # 중간점수로 df 정렬"
      ],
      "metadata": {
        "id": "lCI2YilmmWmB",
        "outputId": "d54f03ec-33a9-49b3-adac-eb24793220e3",
        "colab": {
          "base_uri": "https://localhost:8080/",
          "height": 429
        }
      },
      "execution_count": 14,
      "outputs": [
        {
          "output_type": "display_data",
          "data": {
            "text/html": [
              "<style>\n",
              ".list-inline {list-style: none; margin:0; padding: 0}\n",
              ".list-inline>li {display: inline-block}\n",
              ".list-inline>li:not(:last-child)::after {content: \"\\00b7\"; padding: 0 .5ex}\n",
              "</style>\n",
              "<ol class=list-inline><li>5</li><li>1</li><li>10</li><li>2</li><li>3</li><li>4</li><li>8</li><li>6</li><li>9</li><li>7</li></ol>\n"
            ],
            "text/markdown": "1. 5\n2. 1\n3. 10\n4. 2\n5. 3\n6. 4\n7. 8\n8. 6\n9. 9\n10. 7\n\n\n",
            "text/latex": "\\begin{enumerate*}\n\\item 5\n\\item 1\n\\item 10\n\\item 2\n\\item 3\n\\item 4\n\\item 8\n\\item 6\n\\item 9\n\\item 7\n\\end{enumerate*}\n",
            "text/plain": [
              " [1]  5  1 10  2  3  4  8  6  9  7"
            ]
          },
          "metadata": {}
        },
        {
          "output_type": "display_data",
          "data": {
            "text/html": [
              "<table class=\"dataframe\">\n",
              "<caption>A data.frame: 10 × 5</caption>\n",
              "<thead>\n",
              "\t<tr><th></th><th scope=col>학번</th><th scope=col>중간</th><th scope=col>기말</th><th scope=col>리포트</th><th scope=col>퀴즈</th></tr>\n",
              "\t<tr><th></th><th scope=col>&lt;chr&gt;</th><th scope=col>&lt;int&gt;</th><th scope=col>&lt;int&gt;</th><th scope=col>&lt;int&gt;</th><th scope=col>&lt;int&gt;</th></tr>\n",
              "</thead>\n",
              "<tbody>\n",
              "\t<tr><th scope=row>5</th><td>S05</td><td>93</td><td>91</td><td>12</td><td>12</td></tr>\n",
              "\t<tr><th scope=row>1</th><td>S01</td><td>90</td><td>95</td><td>20</td><td>20</td></tr>\n",
              "\t<tr><th scope=row>10</th><td>S10</td><td>85</td><td>78</td><td>10</td><td>10</td></tr>\n",
              "\t<tr><th scope=row>2</th><td>S02</td><td>82</td><td>83</td><td>18</td><td>18</td></tr>\n",
              "\t<tr><th scope=row>3</th><td>S03</td><td>80</td><td>78</td><td>18</td><td>18</td></tr>\n",
              "\t<tr><th scope=row>4</th><td>S04</td><td>78</td><td>75</td><td>10</td><td>10</td></tr>\n",
              "\t<tr><th scope=row>8</th><td>S08</td><td>72</td><td>65</td><td>14</td><td>14</td></tr>\n",
              "\t<tr><th scope=row>6</th><td>S06</td><td>71</td><td>75</td><td>16</td><td>16</td></tr>\n",
              "\t<tr><th scope=row>9</th><td>S09</td><td>65</td><td>65</td><td>14</td><td>14</td></tr>\n",
              "\t<tr><th scope=row>7</th><td>S07</td><td>60</td><td>80</td><td>18</td><td>18</td></tr>\n",
              "</tbody>\n",
              "</table>\n"
            ],
            "text/markdown": "\nA data.frame: 10 × 5\n\n| <!--/--> | 학번 &lt;chr&gt; | 중간 &lt;int&gt; | 기말 &lt;int&gt; | 리포트 &lt;int&gt; | 퀴즈 &lt;int&gt; |\n|---|---|---|---|---|---|\n| 5 | S05 | 93 | 91 | 12 | 12 |\n| 1 | S01 | 90 | 95 | 20 | 20 |\n| 10 | S10 | 85 | 78 | 10 | 10 |\n| 2 | S02 | 82 | 83 | 18 | 18 |\n| 3 | S03 | 80 | 78 | 18 | 18 |\n| 4 | S04 | 78 | 75 | 10 | 10 |\n| 8 | S08 | 72 | 65 | 14 | 14 |\n| 6 | S06 | 71 | 75 | 16 | 16 |\n| 9 | S09 | 65 | 65 | 14 | 14 |\n| 7 | S07 | 60 | 80 | 18 | 18 |\n\n",
            "text/latex": "A data.frame: 10 × 5\n\\begin{tabular}{r|lllll}\n  & 학번 & 중간 & 기말 & 리포트 & 퀴즈\\\\\n  & <chr> & <int> & <int> & <int> & <int>\\\\\n\\hline\n\t5 & S05 & 93 & 91 & 12 & 12\\\\\n\t1 & S01 & 90 & 95 & 20 & 20\\\\\n\t10 & S10 & 85 & 78 & 10 & 10\\\\\n\t2 & S02 & 82 & 83 & 18 & 18\\\\\n\t3 & S03 & 80 & 78 & 18 & 18\\\\\n\t4 & S04 & 78 & 75 & 10 & 10\\\\\n\t8 & S08 & 72 & 65 & 14 & 14\\\\\n\t6 & S06 & 71 & 75 & 16 & 16\\\\\n\t9 & S09 & 65 & 65 & 14 & 14\\\\\n\t7 & S07 & 60 & 80 & 18 & 18\\\\\n\\end{tabular}\n",
            "text/plain": [
              "   학번 중간 기말 리포트 퀴즈\n",
              "5  S05  93   91   12     12  \n",
              "1  S01  90   95   20     20  \n",
              "10 S10  85   78   10     10  \n",
              "2  S02  82   83   18     18  \n",
              "3  S03  80   78   18     18  \n",
              "4  S04  78   75   10     10  \n",
              "8  S08  72   65   14     14  \n",
              "6  S06  71   75   16     16  \n",
              "9  S09  65   65   14     14  \n",
              "7  S07  60   80   18     18  "
            ]
          },
          "metadata": {}
        }
      ]
    },
    {
      "cell_type": "code",
      "source": [
        "# tapply(함수가 적용될 열, 그룹화 기준 열, 적용할 통계함수)\n",
        "# 그룹별 통계값 구할 때 사용\n",
        "# 동일한 퀴즈 점수를 가진 그룹별 (그룹기준) 중간점수(적용열)의 평균 출력\n",
        "tapply(df$중간,df$퀴즈,mean)\n",
        "\n",
        "# 10:81.5 ==> 퀴즈 10점 맞은 학생들의 중간고사 평균은 81.5"
      ],
      "metadata": {
        "id": "ZyLHdUUFnOCS",
        "outputId": "d30ee8b6-fce0-4971-d2ef-b38db77b4248",
        "colab": {
          "base_uri": "https://localhost:8080/",
          "height": 34
        }
      },
      "execution_count": 15,
      "outputs": [
        {
          "output_type": "display_data",
          "data": {
            "text/html": [
              "<style>\n",
              ".dl-inline {width: auto; margin:0; padding: 0}\n",
              ".dl-inline>dt, .dl-inline>dd {float: none; width: auto; display: inline-block}\n",
              ".dl-inline>dt::after {content: \":\\0020\"; padding-right: .5ex}\n",
              ".dl-inline>dt:not(:first-of-type) {padding-left: .5ex}\n",
              "</style><dl class=dl-inline><dt>10</dt><dd>81.5</dd><dt>12</dt><dd>93</dd><dt>14</dt><dd>68.5</dd><dt>16</dt><dd>71</dd><dt>18</dt><dd>74</dd><dt>20</dt><dd>90</dd></dl>\n"
            ],
            "text/markdown": "10\n:   81.512\n:   9314\n:   68.516\n:   7118\n:   7420\n:   90\n\n",
            "text/latex": "\\begin{description*}\n\\item[10] 81.5\n\\item[12] 93\n\\item[14] 68.5\n\\item[16] 71\n\\item[18] 74\n\\item[20] 90\n\\end{description*}\n",
            "text/plain": [
              "  10   12   14   16   18   20 \n",
              "81.5 93.0 68.5 71.0 74.0 90.0 "
            ]
          },
          "metadata": {}
        }
      ]
    },
    {
      "cell_type": "markdown",
      "source": [
        "### 4. 디플라이어(dplyr) 패키지"
      ],
      "metadata": {
        "id": "u2U-t7eFor9X"
      }
    },
    {
      "cell_type": "code",
      "source": [
        "library(dplyr) # 패키지 로드\n",
        "# 패키지 로딩 : library() 함수 사용"
      ],
      "metadata": {
        "id": "I6qZucSBn-V1",
        "outputId": "ed38df08-5ea5-4497-fa97-e2329b654503",
        "colab": {
          "base_uri": "https://localhost:8080/"
        }
      },
      "execution_count": 16,
      "outputs": [
        {
          "output_type": "stream",
          "name": "stderr",
          "text": [
            "\n",
            "Attaching package: ‘dplyr’\n",
            "\n",
            "\n",
            "The following objects are masked from ‘package:stats’:\n",
            "\n",
            "    filter, lag\n",
            "\n",
            "\n",
            "The following objects are masked from ‘package:base’:\n",
            "\n",
            "    intersect, setdiff, setequal, union\n",
            "\n",
            "\n"
          ]
        }
      ]
    },
    {
      "cell_type": "code",
      "source": [
        "df %>% count()\n",
        "# df의 데이터를 count() 함수로 전달\n"
      ],
      "metadata": {
        "id": "946aIBe0o81b",
        "outputId": "291df782-62b0-4f5e-9fe4-bcda4f9d5271",
        "colab": {
          "base_uri": "https://localhost:8080/",
          "height": 164
        }
      },
      "execution_count": 17,
      "outputs": [
        {
          "output_type": "display_data",
          "data": {
            "text/html": [
              "<table class=\"dataframe\">\n",
              "<caption>A data.frame: 1 × 1</caption>\n",
              "<thead>\n",
              "\t<tr><th scope=col>n</th></tr>\n",
              "\t<tr><th scope=col>&lt;int&gt;</th></tr>\n",
              "</thead>\n",
              "<tbody>\n",
              "\t<tr><td>10</td></tr>\n",
              "</tbody>\n",
              "</table>\n"
            ],
            "text/markdown": "\nA data.frame: 1 × 1\n\n| n &lt;int&gt; |\n|---|\n| 10 |\n\n",
            "text/latex": "A data.frame: 1 × 1\n\\begin{tabular}{l}\n n\\\\\n <int>\\\\\n\\hline\n\t 10\\\\\n\\end{tabular}\n",
            "text/plain": [
              "  n \n",
              "1 10"
            ]
          },
          "metadata": {}
        }
      ]
    },
    {
      "cell_type": "markdown",
      "source": [
        "2) 행 조작\n",
        "- 행 요약 : summarise()\n",
        "  - sum,mean,median,max,min,n() 함수 사용 가능\n",
        "- 행 그룹화 : group_by()"
      ],
      "metadata": {
        "id": "kfo9QjbwqRi_"
      }
    },
    {
      "cell_type": "code",
      "source": [
        "class = c(\"1반\",\"1반\",\"1반\",\"2반\",\"2반\",\"2반\",\"3반\",\"3반\",\"3반\",\"3반\")\n",
        "df = cbind(df,class)\n",
        "df"
      ],
      "metadata": {
        "id": "RVrr4tK7qGrM",
        "outputId": "1e0c118b-5660-48c2-a0a6-0a47e9c8641c",
        "colab": {
          "base_uri": "https://localhost:8080/",
          "height": 411
        }
      },
      "execution_count": 18,
      "outputs": [
        {
          "output_type": "display_data",
          "data": {
            "text/html": [
              "<table class=\"dataframe\">\n",
              "<caption>A data.frame: 10 × 6</caption>\n",
              "<thead>\n",
              "\t<tr><th scope=col>학번</th><th scope=col>중간</th><th scope=col>기말</th><th scope=col>리포트</th><th scope=col>퀴즈</th><th scope=col>class</th></tr>\n",
              "\t<tr><th scope=col>&lt;chr&gt;</th><th scope=col>&lt;int&gt;</th><th scope=col>&lt;int&gt;</th><th scope=col>&lt;int&gt;</th><th scope=col>&lt;int&gt;</th><th scope=col>&lt;chr&gt;</th></tr>\n",
              "</thead>\n",
              "<tbody>\n",
              "\t<tr><td>S01</td><td>90</td><td>95</td><td>20</td><td>20</td><td>1반</td></tr>\n",
              "\t<tr><td>S02</td><td>82</td><td>83</td><td>18</td><td>18</td><td>1반</td></tr>\n",
              "\t<tr><td>S03</td><td>80</td><td>78</td><td>18</td><td>18</td><td>1반</td></tr>\n",
              "\t<tr><td>S04</td><td>78</td><td>75</td><td>10</td><td>10</td><td>2반</td></tr>\n",
              "\t<tr><td>S05</td><td>93</td><td>91</td><td>12</td><td>12</td><td>2반</td></tr>\n",
              "\t<tr><td>S06</td><td>71</td><td>75</td><td>16</td><td>16</td><td>2반</td></tr>\n",
              "\t<tr><td>S07</td><td>60</td><td>80</td><td>18</td><td>18</td><td>3반</td></tr>\n",
              "\t<tr><td>S08</td><td>72</td><td>65</td><td>14</td><td>14</td><td>3반</td></tr>\n",
              "\t<tr><td>S09</td><td>65</td><td>65</td><td>14</td><td>14</td><td>3반</td></tr>\n",
              "\t<tr><td>S10</td><td>85</td><td>78</td><td>10</td><td>10</td><td>3반</td></tr>\n",
              "</tbody>\n",
              "</table>\n"
            ],
            "text/markdown": "\nA data.frame: 10 × 6\n\n| 학번 &lt;chr&gt; | 중간 &lt;int&gt; | 기말 &lt;int&gt; | 리포트 &lt;int&gt; | 퀴즈 &lt;int&gt; | class &lt;chr&gt; |\n|---|---|---|---|---|---|\n| S01 | 90 | 95 | 20 | 20 | 1반 |\n| S02 | 82 | 83 | 18 | 18 | 1반 |\n| S03 | 80 | 78 | 18 | 18 | 1반 |\n| S04 | 78 | 75 | 10 | 10 | 2반 |\n| S05 | 93 | 91 | 12 | 12 | 2반 |\n| S06 | 71 | 75 | 16 | 16 | 2반 |\n| S07 | 60 | 80 | 18 | 18 | 3반 |\n| S08 | 72 | 65 | 14 | 14 | 3반 |\n| S09 | 65 | 65 | 14 | 14 | 3반 |\n| S10 | 85 | 78 | 10 | 10 | 3반 |\n\n",
            "text/latex": "A data.frame: 10 × 6\n\\begin{tabular}{llllll}\n 학번 & 중간 & 기말 & 리포트 & 퀴즈 & class\\\\\n <chr> & <int> & <int> & <int> & <int> & <chr>\\\\\n\\hline\n\t S01 & 90 & 95 & 20 & 20 & 1반\\\\\n\t S02 & 82 & 83 & 18 & 18 & 1반\\\\\n\t S03 & 80 & 78 & 18 & 18 & 1반\\\\\n\t S04 & 78 & 75 & 10 & 10 & 2반\\\\\n\t S05 & 93 & 91 & 12 & 12 & 2반\\\\\n\t S06 & 71 & 75 & 16 & 16 & 2반\\\\\n\t S07 & 60 & 80 & 18 & 18 & 3반\\\\\n\t S08 & 72 & 65 & 14 & 14 & 3반\\\\\n\t S09 & 65 & 65 & 14 & 14 & 3반\\\\\n\t S10 & 85 & 78 & 10 & 10 & 3반\\\\\n\\end{tabular}\n",
            "text/plain": [
              "   학번 중간 기말 리포트 퀴즈 class\n",
              "1  S01  90   95   20     20   1반  \n",
              "2  S02  82   83   18     18   1반  \n",
              "3  S03  80   78   18     18   1반  \n",
              "4  S04  78   75   10     10   2반  \n",
              "5  S05  93   91   12     12   2반  \n",
              "6  S06  71   75   16     16   2반  \n",
              "7  S07  60   80   18     18   3반  \n",
              "8  S08  72   65   14     14   3반  \n",
              "9  S09  65   65   14     14   3반  \n",
              "10 S10  85   78   10     10   3반  "
            ]
          },
          "metadata": {}
        }
      ]
    },
    {
      "cell_type": "code",
      "source": [
        "# 클래스 별 중간시험 총점,평균 출력\n",
        "group_by(df,class) %>% summarise(sum(중간),mean(중간))"
      ],
      "metadata": {
        "id": "-x6QBOSIq6oh",
        "outputId": "2c5fa1d2-2869-4204-d8d4-bc26322eb410",
        "colab": {
          "base_uri": "https://localhost:8080/",
          "height": 192
        }
      },
      "execution_count": 19,
      "outputs": [
        {
          "output_type": "display_data",
          "data": {
            "text/html": [
              "<table class=\"dataframe\">\n",
              "<caption>A tibble: 3 × 3</caption>\n",
              "<thead>\n",
              "\t<tr><th scope=col>class</th><th scope=col>sum(중간)</th><th scope=col>mean(중간)</th></tr>\n",
              "\t<tr><th scope=col>&lt;chr&gt;</th><th scope=col>&lt;int&gt;</th><th scope=col>&lt;dbl&gt;</th></tr>\n",
              "</thead>\n",
              "<tbody>\n",
              "\t<tr><td>1반</td><td>252</td><td>84.00000</td></tr>\n",
              "\t<tr><td>2반</td><td>242</td><td>80.66667</td></tr>\n",
              "\t<tr><td>3반</td><td>282</td><td>70.50000</td></tr>\n",
              "</tbody>\n",
              "</table>\n"
            ],
            "text/markdown": "\nA tibble: 3 × 3\n\n| class &lt;chr&gt; | sum(중간) &lt;int&gt; | mean(중간) &lt;dbl&gt; |\n|---|---|---|\n| 1반 | 252 | 84.00000 |\n| 2반 | 242 | 80.66667 |\n| 3반 | 282 | 70.50000 |\n\n",
            "text/latex": "A tibble: 3 × 3\n\\begin{tabular}{lll}\n class & sum(중간) & mean(중간)\\\\\n <chr> & <int> & <dbl>\\\\\n\\hline\n\t 1반 & 252 & 84.00000\\\\\n\t 2반 & 242 & 80.66667\\\\\n\t 3반 & 282 & 70.50000\\\\\n\\end{tabular}\n",
            "text/plain": [
              "  class sum(중간) mean(중간)\n",
              "1 1반   252       84.00000  \n",
              "2 2반   242       80.66667  \n",
              "3 3반   282       70.50000  "
            ]
          },
          "metadata": {}
        }
      ]
    },
    {
      "cell_type": "markdown",
      "source": [
        "3 ) 조건으로 행 선택 : filter()\n",
        "- subset과 유사"
      ],
      "metadata": {
        "id": "LN8VSC4-rO5-"
      }
    },
    {
      "cell_type": "code",
      "source": [
        "filter(df, 중간 >=90)"
      ],
      "metadata": {
        "id": "vnU72rgPrF-e",
        "outputId": "b862681b-43d9-4008-af39-bfc2f2267568",
        "colab": {
          "base_uri": "https://localhost:8080/",
          "height": 161
        }
      },
      "execution_count": 20,
      "outputs": [
        {
          "output_type": "display_data",
          "data": {
            "text/html": [
              "<table class=\"dataframe\">\n",
              "<caption>A data.frame: 2 × 6</caption>\n",
              "<thead>\n",
              "\t<tr><th scope=col>학번</th><th scope=col>중간</th><th scope=col>기말</th><th scope=col>리포트</th><th scope=col>퀴즈</th><th scope=col>class</th></tr>\n",
              "\t<tr><th scope=col>&lt;chr&gt;</th><th scope=col>&lt;int&gt;</th><th scope=col>&lt;int&gt;</th><th scope=col>&lt;int&gt;</th><th scope=col>&lt;int&gt;</th><th scope=col>&lt;chr&gt;</th></tr>\n",
              "</thead>\n",
              "<tbody>\n",
              "\t<tr><td>S01</td><td>90</td><td>95</td><td>20</td><td>20</td><td>1반</td></tr>\n",
              "\t<tr><td>S05</td><td>93</td><td>91</td><td>12</td><td>12</td><td>2반</td></tr>\n",
              "</tbody>\n",
              "</table>\n"
            ],
            "text/markdown": "\nA data.frame: 2 × 6\n\n| 학번 &lt;chr&gt; | 중간 &lt;int&gt; | 기말 &lt;int&gt; | 리포트 &lt;int&gt; | 퀴즈 &lt;int&gt; | class &lt;chr&gt; |\n|---|---|---|---|---|---|\n| S01 | 90 | 95 | 20 | 20 | 1반 |\n| S05 | 93 | 91 | 12 | 12 | 2반 |\n\n",
            "text/latex": "A data.frame: 2 × 6\n\\begin{tabular}{llllll}\n 학번 & 중간 & 기말 & 리포트 & 퀴즈 & class\\\\\n <chr> & <int> & <int> & <int> & <int> & <chr>\\\\\n\\hline\n\t S01 & 90 & 95 & 20 & 20 & 1반\\\\\n\t S05 & 93 & 91 & 12 & 12 & 2반\\\\\n\\end{tabular}\n",
            "text/plain": [
              "  학번 중간 기말 리포트 퀴즈 class\n",
              "1 S01  90   95   20     20   1반  \n",
              "2 S05  93   91   12     12   2반  "
            ]
          },
          "metadata": {}
        }
      ]
    },
    {
      "cell_type": "code",
      "source": [
        "filter(df, 중간 >=90 & class == '1반')"
      ],
      "metadata": {
        "id": "Mb81wXvwrYWs",
        "outputId": "92356954-9b63-41a7-b8fc-1514c8ae072a",
        "colab": {
          "base_uri": "https://localhost:8080/",
          "height": 129
        }
      },
      "execution_count": 21,
      "outputs": [
        {
          "output_type": "display_data",
          "data": {
            "text/html": [
              "<table class=\"dataframe\">\n",
              "<caption>A data.frame: 1 × 6</caption>\n",
              "<thead>\n",
              "\t<tr><th scope=col>학번</th><th scope=col>중간</th><th scope=col>기말</th><th scope=col>리포트</th><th scope=col>퀴즈</th><th scope=col>class</th></tr>\n",
              "\t<tr><th scope=col>&lt;chr&gt;</th><th scope=col>&lt;int&gt;</th><th scope=col>&lt;int&gt;</th><th scope=col>&lt;int&gt;</th><th scope=col>&lt;int&gt;</th><th scope=col>&lt;chr&gt;</th></tr>\n",
              "</thead>\n",
              "<tbody>\n",
              "\t<tr><td>S01</td><td>90</td><td>95</td><td>20</td><td>20</td><td>1반</td></tr>\n",
              "</tbody>\n",
              "</table>\n"
            ],
            "text/markdown": "\nA data.frame: 1 × 6\n\n| 학번 &lt;chr&gt; | 중간 &lt;int&gt; | 기말 &lt;int&gt; | 리포트 &lt;int&gt; | 퀴즈 &lt;int&gt; | class &lt;chr&gt; |\n|---|---|---|---|---|---|\n| S01 | 90 | 95 | 20 | 20 | 1반 |\n\n",
            "text/latex": "A data.frame: 1 × 6\n\\begin{tabular}{llllll}\n 학번 & 중간 & 기말 & 리포트 & 퀴즈 & class\\\\\n <chr> & <int> & <int> & <int> & <int> & <chr>\\\\\n\\hline\n\t S01 & 90 & 95 & 20 & 20 & 1반\\\\\n\\end{tabular}\n",
            "text/plain": [
              "  학번 중간 기말 리포트 퀴즈 class\n",
              "1 S01  90   95   20     20   1반  "
            ]
          },
          "metadata": {}
        }
      ]
    },
    {
      "cell_type": "markdown",
      "source": [
        "4) 유일 값 행 선택 : distinct()\n",
        "- 컬럼 중복값 제거, 유일한 값만 출력"
      ],
      "metadata": {
        "id": "1Ad08osjrizZ"
      }
    },
    {
      "cell_type": "code",
      "source": [
        "distinct(df,class)"
      ],
      "metadata": {
        "id": "BEUlvKGpreSb",
        "outputId": "3ccf091d-a401-4da5-8d4e-f99e4f20c744",
        "colab": {
          "base_uri": "https://localhost:8080/",
          "height": 227
        }
      },
      "execution_count": 22,
      "outputs": [
        {
          "output_type": "display_data",
          "data": {
            "text/html": [
              "<table class=\"dataframe\">\n",
              "<caption>A data.frame: 3 × 1</caption>\n",
              "<thead>\n",
              "\t<tr><th scope=col>class</th></tr>\n",
              "\t<tr><th scope=col>&lt;chr&gt;</th></tr>\n",
              "</thead>\n",
              "<tbody>\n",
              "\t<tr><td>1반</td></tr>\n",
              "\t<tr><td>2반</td></tr>\n",
              "\t<tr><td>3반</td></tr>\n",
              "</tbody>\n",
              "</table>\n"
            ],
            "text/markdown": "\nA data.frame: 3 × 1\n\n| class &lt;chr&gt; |\n|---|\n| 1반 |\n| 2반 |\n| 3반 |\n\n",
            "text/latex": "A data.frame: 3 × 1\n\\begin{tabular}{l}\n class\\\\\n <chr>\\\\\n\\hline\n\t 1반\\\\\n\t 2반\\\\\n\t 3반\\\\\n\\end{tabular}\n",
            "text/plain": [
              "  class\n",
              "1 1반  \n",
              "2 2반  \n",
              "3 3반  "
            ]
          },
          "metadata": {}
        }
      ]
    },
    {
      "cell_type": "markdown",
      "source": [
        "5) 일부 행 선택 : slice()\n",
        "- 행 지정"
      ],
      "metadata": {
        "id": "LbYlHvuIr4ov"
      }
    },
    {
      "cell_type": "code",
      "source": [
        "slice(df, 3:5)"
      ],
      "metadata": {
        "id": "Hqxu6CW_ruK-",
        "outputId": "d21b6662-0c75-43e3-8839-011e7b474621",
        "colab": {
          "base_uri": "https://localhost:8080/",
          "height": 192
        }
      },
      "execution_count": 23,
      "outputs": [
        {
          "output_type": "display_data",
          "data": {
            "text/html": [
              "<table class=\"dataframe\">\n",
              "<caption>A data.frame: 3 × 6</caption>\n",
              "<thead>\n",
              "\t<tr><th scope=col>학번</th><th scope=col>중간</th><th scope=col>기말</th><th scope=col>리포트</th><th scope=col>퀴즈</th><th scope=col>class</th></tr>\n",
              "\t<tr><th scope=col>&lt;chr&gt;</th><th scope=col>&lt;int&gt;</th><th scope=col>&lt;int&gt;</th><th scope=col>&lt;int&gt;</th><th scope=col>&lt;int&gt;</th><th scope=col>&lt;chr&gt;</th></tr>\n",
              "</thead>\n",
              "<tbody>\n",
              "\t<tr><td>S03</td><td>80</td><td>78</td><td>18</td><td>18</td><td>1반</td></tr>\n",
              "\t<tr><td>S04</td><td>78</td><td>75</td><td>10</td><td>10</td><td>2반</td></tr>\n",
              "\t<tr><td>S05</td><td>93</td><td>91</td><td>12</td><td>12</td><td>2반</td></tr>\n",
              "</tbody>\n",
              "</table>\n"
            ],
            "text/markdown": "\nA data.frame: 3 × 6\n\n| 학번 &lt;chr&gt; | 중간 &lt;int&gt; | 기말 &lt;int&gt; | 리포트 &lt;int&gt; | 퀴즈 &lt;int&gt; | class &lt;chr&gt; |\n|---|---|---|---|---|---|\n| S03 | 80 | 78 | 18 | 18 | 1반 |\n| S04 | 78 | 75 | 10 | 10 | 2반 |\n| S05 | 93 | 91 | 12 | 12 | 2반 |\n\n",
            "text/latex": "A data.frame: 3 × 6\n\\begin{tabular}{llllll}\n 학번 & 중간 & 기말 & 리포트 & 퀴즈 & class\\\\\n <chr> & <int> & <int> & <int> & <int> & <chr>\\\\\n\\hline\n\t S03 & 80 & 78 & 18 & 18 & 1반\\\\\n\t S04 & 78 & 75 & 10 & 10 & 2반\\\\\n\t S05 & 93 & 91 & 12 & 12 & 2반\\\\\n\\end{tabular}\n",
            "text/plain": [
              "  학번 중간 기말 리포트 퀴즈 class\n",
              "1 S03  80   78   18     18   1반  \n",
              "2 S04  78   75   10     10   2반  \n",
              "3 S05  93   91   12     12   2반  "
            ]
          },
          "metadata": {}
        }
      ]
    },
    {
      "cell_type": "markdown",
      "source": [
        "6) 행 정렬하기 : arrange()\n",
        "- 기본: 오름차순"
      ],
      "metadata": {
        "id": "qSvRAk8xsC21"
      }
    },
    {
      "cell_type": "code",
      "source": [
        "arrange(df,기말)"
      ],
      "metadata": {
        "id": "fYHG-hpOsAWA",
        "outputId": "97ea094a-dad5-4b76-8b4b-abefcb2112d3",
        "colab": {
          "base_uri": "https://localhost:8080/",
          "height": 411
        }
      },
      "execution_count": 24,
      "outputs": [
        {
          "output_type": "display_data",
          "data": {
            "text/html": [
              "<table class=\"dataframe\">\n",
              "<caption>A data.frame: 10 × 6</caption>\n",
              "<thead>\n",
              "\t<tr><th scope=col>학번</th><th scope=col>중간</th><th scope=col>기말</th><th scope=col>리포트</th><th scope=col>퀴즈</th><th scope=col>class</th></tr>\n",
              "\t<tr><th scope=col>&lt;chr&gt;</th><th scope=col>&lt;int&gt;</th><th scope=col>&lt;int&gt;</th><th scope=col>&lt;int&gt;</th><th scope=col>&lt;int&gt;</th><th scope=col>&lt;chr&gt;</th></tr>\n",
              "</thead>\n",
              "<tbody>\n",
              "\t<tr><td>S08</td><td>72</td><td>65</td><td>14</td><td>14</td><td>3반</td></tr>\n",
              "\t<tr><td>S09</td><td>65</td><td>65</td><td>14</td><td>14</td><td>3반</td></tr>\n",
              "\t<tr><td>S04</td><td>78</td><td>75</td><td>10</td><td>10</td><td>2반</td></tr>\n",
              "\t<tr><td>S06</td><td>71</td><td>75</td><td>16</td><td>16</td><td>2반</td></tr>\n",
              "\t<tr><td>S03</td><td>80</td><td>78</td><td>18</td><td>18</td><td>1반</td></tr>\n",
              "\t<tr><td>S10</td><td>85</td><td>78</td><td>10</td><td>10</td><td>3반</td></tr>\n",
              "\t<tr><td>S07</td><td>60</td><td>80</td><td>18</td><td>18</td><td>3반</td></tr>\n",
              "\t<tr><td>S02</td><td>82</td><td>83</td><td>18</td><td>18</td><td>1반</td></tr>\n",
              "\t<tr><td>S05</td><td>93</td><td>91</td><td>12</td><td>12</td><td>2반</td></tr>\n",
              "\t<tr><td>S01</td><td>90</td><td>95</td><td>20</td><td>20</td><td>1반</td></tr>\n",
              "</tbody>\n",
              "</table>\n"
            ],
            "text/markdown": "\nA data.frame: 10 × 6\n\n| 학번 &lt;chr&gt; | 중간 &lt;int&gt; | 기말 &lt;int&gt; | 리포트 &lt;int&gt; | 퀴즈 &lt;int&gt; | class &lt;chr&gt; |\n|---|---|---|---|---|---|\n| S08 | 72 | 65 | 14 | 14 | 3반 |\n| S09 | 65 | 65 | 14 | 14 | 3반 |\n| S04 | 78 | 75 | 10 | 10 | 2반 |\n| S06 | 71 | 75 | 16 | 16 | 2반 |\n| S03 | 80 | 78 | 18 | 18 | 1반 |\n| S10 | 85 | 78 | 10 | 10 | 3반 |\n| S07 | 60 | 80 | 18 | 18 | 3반 |\n| S02 | 82 | 83 | 18 | 18 | 1반 |\n| S05 | 93 | 91 | 12 | 12 | 2반 |\n| S01 | 90 | 95 | 20 | 20 | 1반 |\n\n",
            "text/latex": "A data.frame: 10 × 6\n\\begin{tabular}{llllll}\n 학번 & 중간 & 기말 & 리포트 & 퀴즈 & class\\\\\n <chr> & <int> & <int> & <int> & <int> & <chr>\\\\\n\\hline\n\t S08 & 72 & 65 & 14 & 14 & 3반\\\\\n\t S09 & 65 & 65 & 14 & 14 & 3반\\\\\n\t S04 & 78 & 75 & 10 & 10 & 2반\\\\\n\t S06 & 71 & 75 & 16 & 16 & 2반\\\\\n\t S03 & 80 & 78 & 18 & 18 & 1반\\\\\n\t S10 & 85 & 78 & 10 & 10 & 3반\\\\\n\t S07 & 60 & 80 & 18 & 18 & 3반\\\\\n\t S02 & 82 & 83 & 18 & 18 & 1반\\\\\n\t S05 & 93 & 91 & 12 & 12 & 2반\\\\\n\t S01 & 90 & 95 & 20 & 20 & 1반\\\\\n\\end{tabular}\n",
            "text/plain": [
              "   학번 중간 기말 리포트 퀴즈 class\n",
              "1  S08  72   65   14     14   3반  \n",
              "2  S09  65   65   14     14   3반  \n",
              "3  S04  78   75   10     10   2반  \n",
              "4  S06  71   75   16     16   2반  \n",
              "5  S03  80   78   18     18   1반  \n",
              "6  S10  85   78   10     10   3반  \n",
              "7  S07  60   80   18     18   3반  \n",
              "8  S02  82   83   18     18   1반  \n",
              "9  S05  93   91   12     12   2반  \n",
              "10 S01  90   95   20     20   1반  "
            ]
          },
          "metadata": {}
        }
      ]
    },
    {
      "cell_type": "code",
      "source": [
        "arrange(df,desc(기말))\n",
        "arrange(df,중간, 기말) # 중간점수 동일할 경우 기말 점수 기준 오름차순 정렬"
      ],
      "metadata": {
        "id": "mZpUqUyasMi8",
        "outputId": "f9c52994-1487-44d0-d365-b647f35b312b",
        "colab": {
          "base_uri": "https://localhost:8080/",
          "height": 806
        }
      },
      "execution_count": 25,
      "outputs": [
        {
          "output_type": "display_data",
          "data": {
            "text/html": [
              "<table class=\"dataframe\">\n",
              "<caption>A data.frame: 10 × 6</caption>\n",
              "<thead>\n",
              "\t<tr><th scope=col>학번</th><th scope=col>중간</th><th scope=col>기말</th><th scope=col>리포트</th><th scope=col>퀴즈</th><th scope=col>class</th></tr>\n",
              "\t<tr><th scope=col>&lt;chr&gt;</th><th scope=col>&lt;int&gt;</th><th scope=col>&lt;int&gt;</th><th scope=col>&lt;int&gt;</th><th scope=col>&lt;int&gt;</th><th scope=col>&lt;chr&gt;</th></tr>\n",
              "</thead>\n",
              "<tbody>\n",
              "\t<tr><td>S01</td><td>90</td><td>95</td><td>20</td><td>20</td><td>1반</td></tr>\n",
              "\t<tr><td>S05</td><td>93</td><td>91</td><td>12</td><td>12</td><td>2반</td></tr>\n",
              "\t<tr><td>S02</td><td>82</td><td>83</td><td>18</td><td>18</td><td>1반</td></tr>\n",
              "\t<tr><td>S07</td><td>60</td><td>80</td><td>18</td><td>18</td><td>3반</td></tr>\n",
              "\t<tr><td>S03</td><td>80</td><td>78</td><td>18</td><td>18</td><td>1반</td></tr>\n",
              "\t<tr><td>S10</td><td>85</td><td>78</td><td>10</td><td>10</td><td>3반</td></tr>\n",
              "\t<tr><td>S04</td><td>78</td><td>75</td><td>10</td><td>10</td><td>2반</td></tr>\n",
              "\t<tr><td>S06</td><td>71</td><td>75</td><td>16</td><td>16</td><td>2반</td></tr>\n",
              "\t<tr><td>S08</td><td>72</td><td>65</td><td>14</td><td>14</td><td>3반</td></tr>\n",
              "\t<tr><td>S09</td><td>65</td><td>65</td><td>14</td><td>14</td><td>3반</td></tr>\n",
              "</tbody>\n",
              "</table>\n"
            ],
            "text/markdown": "\nA data.frame: 10 × 6\n\n| 학번 &lt;chr&gt; | 중간 &lt;int&gt; | 기말 &lt;int&gt; | 리포트 &lt;int&gt; | 퀴즈 &lt;int&gt; | class &lt;chr&gt; |\n|---|---|---|---|---|---|\n| S01 | 90 | 95 | 20 | 20 | 1반 |\n| S05 | 93 | 91 | 12 | 12 | 2반 |\n| S02 | 82 | 83 | 18 | 18 | 1반 |\n| S07 | 60 | 80 | 18 | 18 | 3반 |\n| S03 | 80 | 78 | 18 | 18 | 1반 |\n| S10 | 85 | 78 | 10 | 10 | 3반 |\n| S04 | 78 | 75 | 10 | 10 | 2반 |\n| S06 | 71 | 75 | 16 | 16 | 2반 |\n| S08 | 72 | 65 | 14 | 14 | 3반 |\n| S09 | 65 | 65 | 14 | 14 | 3반 |\n\n",
            "text/latex": "A data.frame: 10 × 6\n\\begin{tabular}{llllll}\n 학번 & 중간 & 기말 & 리포트 & 퀴즈 & class\\\\\n <chr> & <int> & <int> & <int> & <int> & <chr>\\\\\n\\hline\n\t S01 & 90 & 95 & 20 & 20 & 1반\\\\\n\t S05 & 93 & 91 & 12 & 12 & 2반\\\\\n\t S02 & 82 & 83 & 18 & 18 & 1반\\\\\n\t S07 & 60 & 80 & 18 & 18 & 3반\\\\\n\t S03 & 80 & 78 & 18 & 18 & 1반\\\\\n\t S10 & 85 & 78 & 10 & 10 & 3반\\\\\n\t S04 & 78 & 75 & 10 & 10 & 2반\\\\\n\t S06 & 71 & 75 & 16 & 16 & 2반\\\\\n\t S08 & 72 & 65 & 14 & 14 & 3반\\\\\n\t S09 & 65 & 65 & 14 & 14 & 3반\\\\\n\\end{tabular}\n",
            "text/plain": [
              "   학번 중간 기말 리포트 퀴즈 class\n",
              "1  S01  90   95   20     20   1반  \n",
              "2  S05  93   91   12     12   2반  \n",
              "3  S02  82   83   18     18   1반  \n",
              "4  S07  60   80   18     18   3반  \n",
              "5  S03  80   78   18     18   1반  \n",
              "6  S10  85   78   10     10   3반  \n",
              "7  S04  78   75   10     10   2반  \n",
              "8  S06  71   75   16     16   2반  \n",
              "9  S08  72   65   14     14   3반  \n",
              "10 S09  65   65   14     14   3반  "
            ]
          },
          "metadata": {}
        },
        {
          "output_type": "display_data",
          "data": {
            "text/html": [
              "<table class=\"dataframe\">\n",
              "<caption>A data.frame: 10 × 6</caption>\n",
              "<thead>\n",
              "\t<tr><th scope=col>학번</th><th scope=col>중간</th><th scope=col>기말</th><th scope=col>리포트</th><th scope=col>퀴즈</th><th scope=col>class</th></tr>\n",
              "\t<tr><th scope=col>&lt;chr&gt;</th><th scope=col>&lt;int&gt;</th><th scope=col>&lt;int&gt;</th><th scope=col>&lt;int&gt;</th><th scope=col>&lt;int&gt;</th><th scope=col>&lt;chr&gt;</th></tr>\n",
              "</thead>\n",
              "<tbody>\n",
              "\t<tr><td>S07</td><td>60</td><td>80</td><td>18</td><td>18</td><td>3반</td></tr>\n",
              "\t<tr><td>S09</td><td>65</td><td>65</td><td>14</td><td>14</td><td>3반</td></tr>\n",
              "\t<tr><td>S06</td><td>71</td><td>75</td><td>16</td><td>16</td><td>2반</td></tr>\n",
              "\t<tr><td>S08</td><td>72</td><td>65</td><td>14</td><td>14</td><td>3반</td></tr>\n",
              "\t<tr><td>S04</td><td>78</td><td>75</td><td>10</td><td>10</td><td>2반</td></tr>\n",
              "\t<tr><td>S03</td><td>80</td><td>78</td><td>18</td><td>18</td><td>1반</td></tr>\n",
              "\t<tr><td>S02</td><td>82</td><td>83</td><td>18</td><td>18</td><td>1반</td></tr>\n",
              "\t<tr><td>S10</td><td>85</td><td>78</td><td>10</td><td>10</td><td>3반</td></tr>\n",
              "\t<tr><td>S01</td><td>90</td><td>95</td><td>20</td><td>20</td><td>1반</td></tr>\n",
              "\t<tr><td>S05</td><td>93</td><td>91</td><td>12</td><td>12</td><td>2반</td></tr>\n",
              "</tbody>\n",
              "</table>\n"
            ],
            "text/markdown": "\nA data.frame: 10 × 6\n\n| 학번 &lt;chr&gt; | 중간 &lt;int&gt; | 기말 &lt;int&gt; | 리포트 &lt;int&gt; | 퀴즈 &lt;int&gt; | class &lt;chr&gt; |\n|---|---|---|---|---|---|\n| S07 | 60 | 80 | 18 | 18 | 3반 |\n| S09 | 65 | 65 | 14 | 14 | 3반 |\n| S06 | 71 | 75 | 16 | 16 | 2반 |\n| S08 | 72 | 65 | 14 | 14 | 3반 |\n| S04 | 78 | 75 | 10 | 10 | 2반 |\n| S03 | 80 | 78 | 18 | 18 | 1반 |\n| S02 | 82 | 83 | 18 | 18 | 1반 |\n| S10 | 85 | 78 | 10 | 10 | 3반 |\n| S01 | 90 | 95 | 20 | 20 | 1반 |\n| S05 | 93 | 91 | 12 | 12 | 2반 |\n\n",
            "text/latex": "A data.frame: 10 × 6\n\\begin{tabular}{llllll}\n 학번 & 중간 & 기말 & 리포트 & 퀴즈 & class\\\\\n <chr> & <int> & <int> & <int> & <int> & <chr>\\\\\n\\hline\n\t S07 & 60 & 80 & 18 & 18 & 3반\\\\\n\t S09 & 65 & 65 & 14 & 14 & 3반\\\\\n\t S06 & 71 & 75 & 16 & 16 & 2반\\\\\n\t S08 & 72 & 65 & 14 & 14 & 3반\\\\\n\t S04 & 78 & 75 & 10 & 10 & 2반\\\\\n\t S03 & 80 & 78 & 18 & 18 & 1반\\\\\n\t S02 & 82 & 83 & 18 & 18 & 1반\\\\\n\t S10 & 85 & 78 & 10 & 10 & 3반\\\\\n\t S01 & 90 & 95 & 20 & 20 & 1반\\\\\n\t S05 & 93 & 91 & 12 & 12 & 2반\\\\\n\\end{tabular}\n",
            "text/plain": [
              "   학번 중간 기말 리포트 퀴즈 class\n",
              "1  S07  60   80   18     18   3반  \n",
              "2  S09  65   65   14     14   3반  \n",
              "3  S06  71   75   16     16   2반  \n",
              "4  S08  72   65   14     14   3반  \n",
              "5  S04  78   75   10     10   2반  \n",
              "6  S03  80   78   18     18   1반  \n",
              "7  S02  82   83   18     18   1반  \n",
              "8  S10  85   78   10     10   3반  \n",
              "9  S01  90   95   20     20   1반  \n",
              "10 S05  93   91   12     12   2반  "
            ]
          },
          "metadata": {}
        }
      ]
    },
    {
      "cell_type": "markdown",
      "source": [
        "7) 행 추가하기 : add_row() 사용\n"
      ],
      "metadata": {
        "id": "SjzJj9r-si6A"
      }
    },
    {
      "cell_type": "code",
      "source": [
        "add_row(df, 학번=\"S11\", 중간=50, 기말=55, 리포트=12, 퀴즈=10)"
      ],
      "metadata": {
        "id": "W2cXwjPisStm",
        "outputId": "58694198-772c-4e24-c16b-0a4b9ccecd0a",
        "colab": {
          "base_uri": "https://localhost:8080/",
          "height": 443
        }
      },
      "execution_count": 26,
      "outputs": [
        {
          "output_type": "display_data",
          "data": {
            "text/html": [
              "<table class=\"dataframe\">\n",
              "<caption>A data.frame: 11 × 6</caption>\n",
              "<thead>\n",
              "\t<tr><th scope=col>학번</th><th scope=col>중간</th><th scope=col>기말</th><th scope=col>리포트</th><th scope=col>퀴즈</th><th scope=col>class</th></tr>\n",
              "\t<tr><th scope=col>&lt;chr&gt;</th><th scope=col>&lt;dbl&gt;</th><th scope=col>&lt;dbl&gt;</th><th scope=col>&lt;dbl&gt;</th><th scope=col>&lt;dbl&gt;</th><th scope=col>&lt;chr&gt;</th></tr>\n",
              "</thead>\n",
              "<tbody>\n",
              "\t<tr><td>S01</td><td>90</td><td>95</td><td>20</td><td>20</td><td>1반</td></tr>\n",
              "\t<tr><td>S02</td><td>82</td><td>83</td><td>18</td><td>18</td><td>1반</td></tr>\n",
              "\t<tr><td>S03</td><td>80</td><td>78</td><td>18</td><td>18</td><td>1반</td></tr>\n",
              "\t<tr><td>S04</td><td>78</td><td>75</td><td>10</td><td>10</td><td>2반</td></tr>\n",
              "\t<tr><td>S05</td><td>93</td><td>91</td><td>12</td><td>12</td><td>2반</td></tr>\n",
              "\t<tr><td>S06</td><td>71</td><td>75</td><td>16</td><td>16</td><td>2반</td></tr>\n",
              "\t<tr><td>S07</td><td>60</td><td>80</td><td>18</td><td>18</td><td>3반</td></tr>\n",
              "\t<tr><td>S08</td><td>72</td><td>65</td><td>14</td><td>14</td><td>3반</td></tr>\n",
              "\t<tr><td>S09</td><td>65</td><td>65</td><td>14</td><td>14</td><td>3반</td></tr>\n",
              "\t<tr><td>S10</td><td>85</td><td>78</td><td>10</td><td>10</td><td>3반</td></tr>\n",
              "\t<tr><td>S11</td><td>50</td><td>55</td><td>12</td><td>10</td><td>NA </td></tr>\n",
              "</tbody>\n",
              "</table>\n"
            ],
            "text/markdown": "\nA data.frame: 11 × 6\n\n| 학번 &lt;chr&gt; | 중간 &lt;dbl&gt; | 기말 &lt;dbl&gt; | 리포트 &lt;dbl&gt; | 퀴즈 &lt;dbl&gt; | class &lt;chr&gt; |\n|---|---|---|---|---|---|\n| S01 | 90 | 95 | 20 | 20 | 1반 |\n| S02 | 82 | 83 | 18 | 18 | 1반 |\n| S03 | 80 | 78 | 18 | 18 | 1반 |\n| S04 | 78 | 75 | 10 | 10 | 2반 |\n| S05 | 93 | 91 | 12 | 12 | 2반 |\n| S06 | 71 | 75 | 16 | 16 | 2반 |\n| S07 | 60 | 80 | 18 | 18 | 3반 |\n| S08 | 72 | 65 | 14 | 14 | 3반 |\n| S09 | 65 | 65 | 14 | 14 | 3반 |\n| S10 | 85 | 78 | 10 | 10 | 3반 |\n| S11 | 50 | 55 | 12 | 10 | NA  |\n\n",
            "text/latex": "A data.frame: 11 × 6\n\\begin{tabular}{llllll}\n 학번 & 중간 & 기말 & 리포트 & 퀴즈 & class\\\\\n <chr> & <dbl> & <dbl> & <dbl> & <dbl> & <chr>\\\\\n\\hline\n\t S01 & 90 & 95 & 20 & 20 & 1반\\\\\n\t S02 & 82 & 83 & 18 & 18 & 1반\\\\\n\t S03 & 80 & 78 & 18 & 18 & 1반\\\\\n\t S04 & 78 & 75 & 10 & 10 & 2반\\\\\n\t S05 & 93 & 91 & 12 & 12 & 2반\\\\\n\t S06 & 71 & 75 & 16 & 16 & 2반\\\\\n\t S07 & 60 & 80 & 18 & 18 & 3반\\\\\n\t S08 & 72 & 65 & 14 & 14 & 3반\\\\\n\t S09 & 65 & 65 & 14 & 14 & 3반\\\\\n\t S10 & 85 & 78 & 10 & 10 & 3반\\\\\n\t S11 & 50 & 55 & 12 & 10 & NA \\\\\n\\end{tabular}\n",
            "text/plain": [
              "   학번 중간 기말 리포트 퀴즈 class\n",
              "1  S01  90   95   20     20   1반  \n",
              "2  S02  82   83   18     18   1반  \n",
              "3  S03  80   78   18     18   1반  \n",
              "4  S04  78   75   10     10   2반  \n",
              "5  S05  93   91   12     12   2반  \n",
              "6  S06  71   75   16     16   2반  \n",
              "7  S07  60   80   18     18   3반  \n",
              "8  S08  72   65   14     14   3반  \n",
              "9  S09  65   65   14     14   3반  \n",
              "10 S10  85   78   10     10   3반  \n",
              "11 S11  50   55   12     10   NA   "
            ]
          },
          "metadata": {}
        }
      ]
    },
    {
      "cell_type": "markdown",
      "source": [
        "8) 샘플 행 뽑기"
      ],
      "metadata": {
        "id": "89osy3T6s42x"
      }
    },
    {
      "cell_type": "code",
      "source": [
        "sample_frac(df,0.2) # 비율(20% 추출)\n",
        "sample_n(df, 4) # 4개 행 추출\n",
        "sample_frac(df,0.2, replace = T) # 복원추출방식\n",
        "sample_n(df,4, replace = F) # 비복원추출방식"
      ],
      "metadata": {
        "id": "7OdeydMRs18e",
        "outputId": "6990410e-5cb6-45e0-db6b-1baf5d3c6545",
        "colab": {
          "base_uri": "https://localhost:8080/",
          "height": 717
        }
      },
      "execution_count": 28,
      "outputs": [
        {
          "output_type": "display_data",
          "data": {
            "text/html": [
              "<table class=\"dataframe\">\n",
              "<caption>A data.frame: 2 × 6</caption>\n",
              "<thead>\n",
              "\t<tr><th scope=col>학번</th><th scope=col>중간</th><th scope=col>기말</th><th scope=col>리포트</th><th scope=col>퀴즈</th><th scope=col>class</th></tr>\n",
              "\t<tr><th scope=col>&lt;chr&gt;</th><th scope=col>&lt;int&gt;</th><th scope=col>&lt;int&gt;</th><th scope=col>&lt;int&gt;</th><th scope=col>&lt;int&gt;</th><th scope=col>&lt;chr&gt;</th></tr>\n",
              "</thead>\n",
              "<tbody>\n",
              "\t<tr><td>S05</td><td>93</td><td>91</td><td>12</td><td>12</td><td>2반</td></tr>\n",
              "\t<tr><td>S06</td><td>71</td><td>75</td><td>16</td><td>16</td><td>2반</td></tr>\n",
              "</tbody>\n",
              "</table>\n"
            ],
            "text/markdown": "\nA data.frame: 2 × 6\n\n| 학번 &lt;chr&gt; | 중간 &lt;int&gt; | 기말 &lt;int&gt; | 리포트 &lt;int&gt; | 퀴즈 &lt;int&gt; | class &lt;chr&gt; |\n|---|---|---|---|---|---|\n| S05 | 93 | 91 | 12 | 12 | 2반 |\n| S06 | 71 | 75 | 16 | 16 | 2반 |\n\n",
            "text/latex": "A data.frame: 2 × 6\n\\begin{tabular}{llllll}\n 학번 & 중간 & 기말 & 리포트 & 퀴즈 & class\\\\\n <chr> & <int> & <int> & <int> & <int> & <chr>\\\\\n\\hline\n\t S05 & 93 & 91 & 12 & 12 & 2반\\\\\n\t S06 & 71 & 75 & 16 & 16 & 2반\\\\\n\\end{tabular}\n",
            "text/plain": [
              "  학번 중간 기말 리포트 퀴즈 class\n",
              "1 S05  93   91   12     12   2반  \n",
              "2 S06  71   75   16     16   2반  "
            ]
          },
          "metadata": {}
        },
        {
          "output_type": "display_data",
          "data": {
            "text/html": [
              "<table class=\"dataframe\">\n",
              "<caption>A data.frame: 4 × 6</caption>\n",
              "<thead>\n",
              "\t<tr><th scope=col>학번</th><th scope=col>중간</th><th scope=col>기말</th><th scope=col>리포트</th><th scope=col>퀴즈</th><th scope=col>class</th></tr>\n",
              "\t<tr><th scope=col>&lt;chr&gt;</th><th scope=col>&lt;int&gt;</th><th scope=col>&lt;int&gt;</th><th scope=col>&lt;int&gt;</th><th scope=col>&lt;int&gt;</th><th scope=col>&lt;chr&gt;</th></tr>\n",
              "</thead>\n",
              "<tbody>\n",
              "\t<tr><td>S09</td><td>65</td><td>65</td><td>14</td><td>14</td><td>3반</td></tr>\n",
              "\t<tr><td>S04</td><td>78</td><td>75</td><td>10</td><td>10</td><td>2반</td></tr>\n",
              "\t<tr><td>S02</td><td>82</td><td>83</td><td>18</td><td>18</td><td>1반</td></tr>\n",
              "\t<tr><td>S08</td><td>72</td><td>65</td><td>14</td><td>14</td><td>3반</td></tr>\n",
              "</tbody>\n",
              "</table>\n"
            ],
            "text/markdown": "\nA data.frame: 4 × 6\n\n| 학번 &lt;chr&gt; | 중간 &lt;int&gt; | 기말 &lt;int&gt; | 리포트 &lt;int&gt; | 퀴즈 &lt;int&gt; | class &lt;chr&gt; |\n|---|---|---|---|---|---|\n| S09 | 65 | 65 | 14 | 14 | 3반 |\n| S04 | 78 | 75 | 10 | 10 | 2반 |\n| S02 | 82 | 83 | 18 | 18 | 1반 |\n| S08 | 72 | 65 | 14 | 14 | 3반 |\n\n",
            "text/latex": "A data.frame: 4 × 6\n\\begin{tabular}{llllll}\n 학번 & 중간 & 기말 & 리포트 & 퀴즈 & class\\\\\n <chr> & <int> & <int> & <int> & <int> & <chr>\\\\\n\\hline\n\t S09 & 65 & 65 & 14 & 14 & 3반\\\\\n\t S04 & 78 & 75 & 10 & 10 & 2반\\\\\n\t S02 & 82 & 83 & 18 & 18 & 1반\\\\\n\t S08 & 72 & 65 & 14 & 14 & 3반\\\\\n\\end{tabular}\n",
            "text/plain": [
              "  학번 중간 기말 리포트 퀴즈 class\n",
              "1 S09  65   65   14     14   3반  \n",
              "2 S04  78   75   10     10   2반  \n",
              "3 S02  82   83   18     18   1반  \n",
              "4 S08  72   65   14     14   3반  "
            ]
          },
          "metadata": {}
        },
        {
          "output_type": "display_data",
          "data": {
            "text/html": [
              "<table class=\"dataframe\">\n",
              "<caption>A data.frame: 2 × 6</caption>\n",
              "<thead>\n",
              "\t<tr><th scope=col>학번</th><th scope=col>중간</th><th scope=col>기말</th><th scope=col>리포트</th><th scope=col>퀴즈</th><th scope=col>class</th></tr>\n",
              "\t<tr><th scope=col>&lt;chr&gt;</th><th scope=col>&lt;int&gt;</th><th scope=col>&lt;int&gt;</th><th scope=col>&lt;int&gt;</th><th scope=col>&lt;int&gt;</th><th scope=col>&lt;chr&gt;</th></tr>\n",
              "</thead>\n",
              "<tbody>\n",
              "\t<tr><td>S06</td><td>71</td><td>75</td><td>16</td><td>16</td><td>2반</td></tr>\n",
              "\t<tr><td>S01</td><td>90</td><td>95</td><td>20</td><td>20</td><td>1반</td></tr>\n",
              "</tbody>\n",
              "</table>\n"
            ],
            "text/markdown": "\nA data.frame: 2 × 6\n\n| 학번 &lt;chr&gt; | 중간 &lt;int&gt; | 기말 &lt;int&gt; | 리포트 &lt;int&gt; | 퀴즈 &lt;int&gt; | class &lt;chr&gt; |\n|---|---|---|---|---|---|\n| S06 | 71 | 75 | 16 | 16 | 2반 |\n| S01 | 90 | 95 | 20 | 20 | 1반 |\n\n",
            "text/latex": "A data.frame: 2 × 6\n\\begin{tabular}{llllll}\n 학번 & 중간 & 기말 & 리포트 & 퀴즈 & class\\\\\n <chr> & <int> & <int> & <int> & <int> & <chr>\\\\\n\\hline\n\t S06 & 71 & 75 & 16 & 16 & 2반\\\\\n\t S01 & 90 & 95 & 20 & 20 & 1반\\\\\n\\end{tabular}\n",
            "text/plain": [
              "  학번 중간 기말 리포트 퀴즈 class\n",
              "1 S06  71   75   16     16   2반  \n",
              "2 S01  90   95   20     20   1반  "
            ]
          },
          "metadata": {}
        },
        {
          "output_type": "display_data",
          "data": {
            "text/html": [
              "<table class=\"dataframe\">\n",
              "<caption>A data.frame: 4 × 6</caption>\n",
              "<thead>\n",
              "\t<tr><th scope=col>학번</th><th scope=col>중간</th><th scope=col>기말</th><th scope=col>리포트</th><th scope=col>퀴즈</th><th scope=col>class</th></tr>\n",
              "\t<tr><th scope=col>&lt;chr&gt;</th><th scope=col>&lt;int&gt;</th><th scope=col>&lt;int&gt;</th><th scope=col>&lt;int&gt;</th><th scope=col>&lt;int&gt;</th><th scope=col>&lt;chr&gt;</th></tr>\n",
              "</thead>\n",
              "<tbody>\n",
              "\t<tr><td>S10</td><td>85</td><td>78</td><td>10</td><td>10</td><td>3반</td></tr>\n",
              "\t<tr><td>S01</td><td>90</td><td>95</td><td>20</td><td>20</td><td>1반</td></tr>\n",
              "\t<tr><td>S09</td><td>65</td><td>65</td><td>14</td><td>14</td><td>3반</td></tr>\n",
              "\t<tr><td>S08</td><td>72</td><td>65</td><td>14</td><td>14</td><td>3반</td></tr>\n",
              "</tbody>\n",
              "</table>\n"
            ],
            "text/markdown": "\nA data.frame: 4 × 6\n\n| 학번 &lt;chr&gt; | 중간 &lt;int&gt; | 기말 &lt;int&gt; | 리포트 &lt;int&gt; | 퀴즈 &lt;int&gt; | class &lt;chr&gt; |\n|---|---|---|---|---|---|\n| S10 | 85 | 78 | 10 | 10 | 3반 |\n| S01 | 90 | 95 | 20 | 20 | 1반 |\n| S09 | 65 | 65 | 14 | 14 | 3반 |\n| S08 | 72 | 65 | 14 | 14 | 3반 |\n\n",
            "text/latex": "A data.frame: 4 × 6\n\\begin{tabular}{llllll}\n 학번 & 중간 & 기말 & 리포트 & 퀴즈 & class\\\\\n <chr> & <int> & <int> & <int> & <int> & <chr>\\\\\n\\hline\n\t S10 & 85 & 78 & 10 & 10 & 3반\\\\\n\t S01 & 90 & 95 & 20 & 20 & 1반\\\\\n\t S09 & 65 & 65 & 14 & 14 & 3반\\\\\n\t S08 & 72 & 65 & 14 & 14 & 3반\\\\\n\\end{tabular}\n",
            "text/plain": [
              "  학번 중간 기말 리포트 퀴즈 class\n",
              "1 S10  85   78   10     10   3반  \n",
              "2 S01  90   95   20     20   1반  \n",
              "3 S09  65   65   14     14   3반  \n",
              "4 S08  72   65   14     14   3반  "
            ]
          },
          "metadata": {}
        }
      ]
    },
    {
      "cell_type": "markdown",
      "source": [
        "### 열 조작"
      ],
      "metadata": {
        "id": "vMfF0AbFn_J1"
      }
    },
    {
      "cell_type": "code",
      "source": [
        "# 열 선택\n",
        "\n",
        "select(df,학번, 중간)"
      ],
      "metadata": {
        "id": "G-9e1ePIQKdw",
        "colab": {
          "base_uri": "https://localhost:8080/",
          "height": 429
        },
        "outputId": "f38fc606-4c5a-4193-eba4-7f0c7f9f3077"
      },
      "execution_count": 29,
      "outputs": [
        {
          "output_type": "display_data",
          "data": {
            "text/html": [
              "<table class=\"dataframe\">\n",
              "<caption>A data.frame: 10 × 2</caption>\n",
              "<thead>\n",
              "\t<tr><th scope=col>학번</th><th scope=col>중간</th></tr>\n",
              "\t<tr><th scope=col>&lt;chr&gt;</th><th scope=col>&lt;int&gt;</th></tr>\n",
              "</thead>\n",
              "<tbody>\n",
              "\t<tr><td>S01</td><td>90</td></tr>\n",
              "\t<tr><td>S02</td><td>82</td></tr>\n",
              "\t<tr><td>S03</td><td>80</td></tr>\n",
              "\t<tr><td>S04</td><td>78</td></tr>\n",
              "\t<tr><td>S05</td><td>93</td></tr>\n",
              "\t<tr><td>S06</td><td>71</td></tr>\n",
              "\t<tr><td>S07</td><td>60</td></tr>\n",
              "\t<tr><td>S08</td><td>72</td></tr>\n",
              "\t<tr><td>S09</td><td>65</td></tr>\n",
              "\t<tr><td>S10</td><td>85</td></tr>\n",
              "</tbody>\n",
              "</table>\n"
            ],
            "text/markdown": "\nA data.frame: 10 × 2\n\n| 학번 &lt;chr&gt; | 중간 &lt;int&gt; |\n|---|---|\n| S01 | 90 |\n| S02 | 82 |\n| S03 | 80 |\n| S04 | 78 |\n| S05 | 93 |\n| S06 | 71 |\n| S07 | 60 |\n| S08 | 72 |\n| S09 | 65 |\n| S10 | 85 |\n\n",
            "text/latex": "A data.frame: 10 × 2\n\\begin{tabular}{ll}\n 학번 & 중간\\\\\n <chr> & <int>\\\\\n\\hline\n\t S01 & 90\\\\\n\t S02 & 82\\\\\n\t S03 & 80\\\\\n\t S04 & 78\\\\\n\t S05 & 93\\\\\n\t S06 & 71\\\\\n\t S07 & 60\\\\\n\t S08 & 72\\\\\n\t S09 & 65\\\\\n\t S10 & 85\\\\\n\\end{tabular}\n",
            "text/plain": [
              "   학번 중간\n",
              "1  S01  90  \n",
              "2  S02  82  \n",
              "3  S03  80  \n",
              "4  S04  78  \n",
              "5  S05  93  \n",
              "6  S06  71  \n",
              "7  S07  60  \n",
              "8  S08  72  \n",
              "9  S09  65  \n",
              "10 S10  85  "
            ]
          },
          "metadata": {}
        }
      ]
    },
    {
      "cell_type": "markdown",
      "source": [
        "#### mutate() : 기존 데이터 프레임에 계산된 열 추가\n",
        "  - 수식 , 함수 적용 가능"
      ],
      "metadata": {
        "id": "t8FglSLxoe_-"
      }
    },
    {
      "cell_type": "code",
      "source": [
        "df <- read.csv(\"sample_data/df_sample.csv\")\n",
        "\n",
        "class <- c(\"1반\",\"1반\",\"1반\",\"2반\",\"2반\",\"2반\",\"3반\",\"3반\",\"3반\",\"3반\")\n",
        "df <-cbind(df,class)\n",
        "\n",
        "df %>% mutate(기말-중간)"
      ],
      "metadata": {
        "colab": {
          "base_uri": "https://localhost:8080/",
          "height": 411
        },
        "id": "P6DbqcKsoGV5",
        "outputId": "c3c35598-c4b4-4e21-9897-bee73d6e5e9b"
      },
      "execution_count": 31,
      "outputs": [
        {
          "output_type": "display_data",
          "data": {
            "text/html": [
              "<table class=\"dataframe\">\n",
              "<caption>A data.frame: 10 × 7</caption>\n",
              "<thead>\n",
              "\t<tr><th scope=col>학번</th><th scope=col>중간</th><th scope=col>기말</th><th scope=col>리포트</th><th scope=col>퀴즈</th><th scope=col>class</th><th scope=col>기말 - 중간</th></tr>\n",
              "\t<tr><th scope=col>&lt;chr&gt;</th><th scope=col>&lt;int&gt;</th><th scope=col>&lt;int&gt;</th><th scope=col>&lt;int&gt;</th><th scope=col>&lt;int&gt;</th><th scope=col>&lt;chr&gt;</th><th scope=col>&lt;int&gt;</th></tr>\n",
              "</thead>\n",
              "<tbody>\n",
              "\t<tr><td>S01</td><td>90</td><td>95</td><td>20</td><td>20</td><td>1반</td><td> 5</td></tr>\n",
              "\t<tr><td>S02</td><td>82</td><td>83</td><td>18</td><td>18</td><td>1반</td><td> 1</td></tr>\n",
              "\t<tr><td>S03</td><td>80</td><td>78</td><td>18</td><td>18</td><td>1반</td><td>-2</td></tr>\n",
              "\t<tr><td>S04</td><td>78</td><td>75</td><td>10</td><td>10</td><td>2반</td><td>-3</td></tr>\n",
              "\t<tr><td>S05</td><td>93</td><td>91</td><td>12</td><td>12</td><td>2반</td><td>-2</td></tr>\n",
              "\t<tr><td>S06</td><td>71</td><td>75</td><td>16</td><td>16</td><td>2반</td><td> 4</td></tr>\n",
              "\t<tr><td>S07</td><td>60</td><td>80</td><td>18</td><td>18</td><td>3반</td><td>20</td></tr>\n",
              "\t<tr><td>S08</td><td>72</td><td>65</td><td>14</td><td>14</td><td>3반</td><td>-7</td></tr>\n",
              "\t<tr><td>S09</td><td>65</td><td>65</td><td>14</td><td>14</td><td>3반</td><td> 0</td></tr>\n",
              "\t<tr><td>S10</td><td>85</td><td>78</td><td>10</td><td>10</td><td>3반</td><td>-7</td></tr>\n",
              "</tbody>\n",
              "</table>\n"
            ],
            "text/markdown": "\nA data.frame: 10 × 7\n\n| 학번 &lt;chr&gt; | 중간 &lt;int&gt; | 기말 &lt;int&gt; | 리포트 &lt;int&gt; | 퀴즈 &lt;int&gt; | class &lt;chr&gt; | 기말 - 중간 &lt;int&gt; |\n|---|---|---|---|---|---|---|\n| S01 | 90 | 95 | 20 | 20 | 1반 |  5 |\n| S02 | 82 | 83 | 18 | 18 | 1반 |  1 |\n| S03 | 80 | 78 | 18 | 18 | 1반 | -2 |\n| S04 | 78 | 75 | 10 | 10 | 2반 | -3 |\n| S05 | 93 | 91 | 12 | 12 | 2반 | -2 |\n| S06 | 71 | 75 | 16 | 16 | 2반 |  4 |\n| S07 | 60 | 80 | 18 | 18 | 3반 | 20 |\n| S08 | 72 | 65 | 14 | 14 | 3반 | -7 |\n| S09 | 65 | 65 | 14 | 14 | 3반 |  0 |\n| S10 | 85 | 78 | 10 | 10 | 3반 | -7 |\n\n",
            "text/latex": "A data.frame: 10 × 7\n\\begin{tabular}{lllllll}\n 학번 & 중간 & 기말 & 리포트 & 퀴즈 & class & 기말 - 중간\\\\\n <chr> & <int> & <int> & <int> & <int> & <chr> & <int>\\\\\n\\hline\n\t S01 & 90 & 95 & 20 & 20 & 1반 &  5\\\\\n\t S02 & 82 & 83 & 18 & 18 & 1반 &  1\\\\\n\t S03 & 80 & 78 & 18 & 18 & 1반 & -2\\\\\n\t S04 & 78 & 75 & 10 & 10 & 2반 & -3\\\\\n\t S05 & 93 & 91 & 12 & 12 & 2반 & -2\\\\\n\t S06 & 71 & 75 & 16 & 16 & 2반 &  4\\\\\n\t S07 & 60 & 80 & 18 & 18 & 3반 & 20\\\\\n\t S08 & 72 & 65 & 14 & 14 & 3반 & -7\\\\\n\t S09 & 65 & 65 & 14 & 14 & 3반 &  0\\\\\n\t S10 & 85 & 78 & 10 & 10 & 3반 & -7\\\\\n\\end{tabular}\n",
            "text/plain": [
              "   학번 중간 기말 리포트 퀴즈 class 기말 - 중간\n",
              "1  S01  90   95   20     20   1반    5         \n",
              "2  S02  82   83   18     18   1반    1         \n",
              "3  S03  80   78   18     18   1반   -2         \n",
              "4  S04  78   75   10     10   2반   -3         \n",
              "5  S05  93   91   12     12   2반   -2         \n",
              "6  S06  71   75   16     16   2반    4         \n",
              "7  S07  60   80   18     18   3반   20         \n",
              "8  S08  72   65   14     14   3반   -7         \n",
              "9  S09  65   65   14     14   3반    0         \n",
              "10 S10  85   78   10     10   3반   -7         "
            ]
          },
          "metadata": {}
        }
      ]
    },
    {
      "cell_type": "markdown",
      "source": [
        "- transmute() : 생성 열만 출력"
      ],
      "metadata": {
        "id": "tne9gScbo26S"
      }
    },
    {
      "cell_type": "code",
      "source": [
        "df %>% transmute(기말-중간)"
      ],
      "metadata": {
        "colab": {
          "base_uri": "https://localhost:8080/",
          "height": 429
        },
        "id": "O0BmsZb5oSsk",
        "outputId": "2e4e6c86-0c9f-42c1-ebd1-f086ba889a3e"
      },
      "execution_count": 33,
      "outputs": [
        {
          "output_type": "display_data",
          "data": {
            "text/html": [
              "<table class=\"dataframe\">\n",
              "<caption>A data.frame: 10 × 1</caption>\n",
              "<thead>\n",
              "\t<tr><th scope=col>기말 - 중간</th></tr>\n",
              "\t<tr><th scope=col>&lt;int&gt;</th></tr>\n",
              "</thead>\n",
              "<tbody>\n",
              "\t<tr><td> 5</td></tr>\n",
              "\t<tr><td> 1</td></tr>\n",
              "\t<tr><td>-2</td></tr>\n",
              "\t<tr><td>-3</td></tr>\n",
              "\t<tr><td>-2</td></tr>\n",
              "\t<tr><td> 4</td></tr>\n",
              "\t<tr><td>20</td></tr>\n",
              "\t<tr><td>-7</td></tr>\n",
              "\t<tr><td> 0</td></tr>\n",
              "\t<tr><td>-7</td></tr>\n",
              "</tbody>\n",
              "</table>\n"
            ],
            "text/markdown": "\nA data.frame: 10 × 1\n\n| 기말 - 중간 &lt;int&gt; |\n|---|\n|  5 |\n|  1 |\n| -2 |\n| -3 |\n| -2 |\n|  4 |\n| 20 |\n| -7 |\n|  0 |\n| -7 |\n\n",
            "text/latex": "A data.frame: 10 × 1\n\\begin{tabular}{l}\n 기말 - 중간\\\\\n <int>\\\\\n\\hline\n\t  5\\\\\n\t  1\\\\\n\t -2\\\\\n\t -3\\\\\n\t -2\\\\\n\t  4\\\\\n\t 20\\\\\n\t -7\\\\\n\t  0\\\\\n\t -7\\\\\n\\end{tabular}\n",
            "text/plain": [
              "   기말 - 중간\n",
              "1   5         \n",
              "2   1         \n",
              "3  -2         \n",
              "4  -3         \n",
              "5  -2         \n",
              "6   4         \n",
              "7  20         \n",
              "8  -7         \n",
              "9   0         \n",
              "10 -7         "
            ]
          },
          "metadata": {}
        }
      ]
    },
    {
      "cell_type": "markdown",
      "source": [
        "#### mutate_all() : 모든 열 조작해 새로운 열 생성\n",
        "  - 함수 지정을 위해 funs() 옵션 사용 가능"
      ],
      "metadata": {
        "id": "rmZARXSro9HR"
      }
    },
    {
      "cell_type": "code",
      "source": [
        "df %>% mutate_all(funs(max)) # 각 열의 최대값으로 모든 값 대체"
      ],
      "metadata": {
        "colab": {
          "base_uri": "https://localhost:8080/",
          "height": 582
        },
        "id": "cqNgCrFco0Od",
        "outputId": "ef5fde2e-3f51-45ee-d69f-bf77d7c74a99"
      },
      "execution_count": 34,
      "outputs": [
        {
          "output_type": "stream",
          "name": "stderr",
          "text": [
            "Warning message:\n",
            "“\u001b[1m\u001b[22m`funs()` was deprecated in dplyr 0.8.0.\n",
            "\u001b[36mℹ\u001b[39m Please use a list of either functions or lambdas:\n",
            "\n",
            "# Simple named list: list(mean = mean, median = median)\n",
            "\n",
            "# Auto named with `tibble::lst()`: tibble::lst(mean, median)\n",
            "\n",
            "# Using lambdas list(~ mean(., trim = .2), ~ median(., na.rm = TRUE))”\n"
          ]
        },
        {
          "output_type": "display_data",
          "data": {
            "text/html": [
              "<table class=\"dataframe\">\n",
              "<caption>A data.frame: 10 × 6</caption>\n",
              "<thead>\n",
              "\t<tr><th scope=col>학번</th><th scope=col>중간</th><th scope=col>기말</th><th scope=col>리포트</th><th scope=col>퀴즈</th><th scope=col>class</th></tr>\n",
              "\t<tr><th scope=col>&lt;chr&gt;</th><th scope=col>&lt;int&gt;</th><th scope=col>&lt;int&gt;</th><th scope=col>&lt;int&gt;</th><th scope=col>&lt;int&gt;</th><th scope=col>&lt;chr&gt;</th></tr>\n",
              "</thead>\n",
              "<tbody>\n",
              "\t<tr><td>S10</td><td>93</td><td>95</td><td>20</td><td>20</td><td>3반</td></tr>\n",
              "\t<tr><td>S10</td><td>93</td><td>95</td><td>20</td><td>20</td><td>3반</td></tr>\n",
              "\t<tr><td>S10</td><td>93</td><td>95</td><td>20</td><td>20</td><td>3반</td></tr>\n",
              "\t<tr><td>S10</td><td>93</td><td>95</td><td>20</td><td>20</td><td>3반</td></tr>\n",
              "\t<tr><td>S10</td><td>93</td><td>95</td><td>20</td><td>20</td><td>3반</td></tr>\n",
              "\t<tr><td>S10</td><td>93</td><td>95</td><td>20</td><td>20</td><td>3반</td></tr>\n",
              "\t<tr><td>S10</td><td>93</td><td>95</td><td>20</td><td>20</td><td>3반</td></tr>\n",
              "\t<tr><td>S10</td><td>93</td><td>95</td><td>20</td><td>20</td><td>3반</td></tr>\n",
              "\t<tr><td>S10</td><td>93</td><td>95</td><td>20</td><td>20</td><td>3반</td></tr>\n",
              "\t<tr><td>S10</td><td>93</td><td>95</td><td>20</td><td>20</td><td>3반</td></tr>\n",
              "</tbody>\n",
              "</table>\n"
            ],
            "text/markdown": "\nA data.frame: 10 × 6\n\n| 학번 &lt;chr&gt; | 중간 &lt;int&gt; | 기말 &lt;int&gt; | 리포트 &lt;int&gt; | 퀴즈 &lt;int&gt; | class &lt;chr&gt; |\n|---|---|---|---|---|---|\n| S10 | 93 | 95 | 20 | 20 | 3반 |\n| S10 | 93 | 95 | 20 | 20 | 3반 |\n| S10 | 93 | 95 | 20 | 20 | 3반 |\n| S10 | 93 | 95 | 20 | 20 | 3반 |\n| S10 | 93 | 95 | 20 | 20 | 3반 |\n| S10 | 93 | 95 | 20 | 20 | 3반 |\n| S10 | 93 | 95 | 20 | 20 | 3반 |\n| S10 | 93 | 95 | 20 | 20 | 3반 |\n| S10 | 93 | 95 | 20 | 20 | 3반 |\n| S10 | 93 | 95 | 20 | 20 | 3반 |\n\n",
            "text/latex": "A data.frame: 10 × 6\n\\begin{tabular}{llllll}\n 학번 & 중간 & 기말 & 리포트 & 퀴즈 & class\\\\\n <chr> & <int> & <int> & <int> & <int> & <chr>\\\\\n\\hline\n\t S10 & 93 & 95 & 20 & 20 & 3반\\\\\n\t S10 & 93 & 95 & 20 & 20 & 3반\\\\\n\t S10 & 93 & 95 & 20 & 20 & 3반\\\\\n\t S10 & 93 & 95 & 20 & 20 & 3반\\\\\n\t S10 & 93 & 95 & 20 & 20 & 3반\\\\\n\t S10 & 93 & 95 & 20 & 20 & 3반\\\\\n\t S10 & 93 & 95 & 20 & 20 & 3반\\\\\n\t S10 & 93 & 95 & 20 & 20 & 3반\\\\\n\t S10 & 93 & 95 & 20 & 20 & 3반\\\\\n\t S10 & 93 & 95 & 20 & 20 & 3반\\\\\n\\end{tabular}\n",
            "text/plain": [
              "   학번 중간 기말 리포트 퀴즈 class\n",
              "1  S10  93   95   20     20   3반  \n",
              "2  S10  93   95   20     20   3반  \n",
              "3  S10  93   95   20     20   3반  \n",
              "4  S10  93   95   20     20   3반  \n",
              "5  S10  93   95   20     20   3반  \n",
              "6  S10  93   95   20     20   3반  \n",
              "7  S10  93   95   20     20   3반  \n",
              "8  S10  93   95   20     20   3반  \n",
              "9  S10  93   95   20     20   3반  \n",
              "10 S10  93   95   20     20   3반  "
            ]
          },
          "metadata": {}
        }
      ]
    },
    {
      "cell_type": "code",
      "source": [
        "# 열 이름 바꾸기 : rename(신 = 구)\n",
        "df %>% rename(반 = class)"
      ],
      "metadata": {
        "colab": {
          "base_uri": "https://localhost:8080/",
          "height": 411
        },
        "id": "XWS2nqsapNZg",
        "outputId": "b4bb6ae1-a010-43d1-8d9a-783b89105d5e"
      },
      "execution_count": 35,
      "outputs": [
        {
          "output_type": "display_data",
          "data": {
            "text/html": [
              "<table class=\"dataframe\">\n",
              "<caption>A data.frame: 10 × 6</caption>\n",
              "<thead>\n",
              "\t<tr><th scope=col>학번</th><th scope=col>중간</th><th scope=col>기말</th><th scope=col>리포트</th><th scope=col>퀴즈</th><th scope=col>반</th></tr>\n",
              "\t<tr><th scope=col>&lt;chr&gt;</th><th scope=col>&lt;int&gt;</th><th scope=col>&lt;int&gt;</th><th scope=col>&lt;int&gt;</th><th scope=col>&lt;int&gt;</th><th scope=col>&lt;chr&gt;</th></tr>\n",
              "</thead>\n",
              "<tbody>\n",
              "\t<tr><td>S01</td><td>90</td><td>95</td><td>20</td><td>20</td><td>1반</td></tr>\n",
              "\t<tr><td>S02</td><td>82</td><td>83</td><td>18</td><td>18</td><td>1반</td></tr>\n",
              "\t<tr><td>S03</td><td>80</td><td>78</td><td>18</td><td>18</td><td>1반</td></tr>\n",
              "\t<tr><td>S04</td><td>78</td><td>75</td><td>10</td><td>10</td><td>2반</td></tr>\n",
              "\t<tr><td>S05</td><td>93</td><td>91</td><td>12</td><td>12</td><td>2반</td></tr>\n",
              "\t<tr><td>S06</td><td>71</td><td>75</td><td>16</td><td>16</td><td>2반</td></tr>\n",
              "\t<tr><td>S07</td><td>60</td><td>80</td><td>18</td><td>18</td><td>3반</td></tr>\n",
              "\t<tr><td>S08</td><td>72</td><td>65</td><td>14</td><td>14</td><td>3반</td></tr>\n",
              "\t<tr><td>S09</td><td>65</td><td>65</td><td>14</td><td>14</td><td>3반</td></tr>\n",
              "\t<tr><td>S10</td><td>85</td><td>78</td><td>10</td><td>10</td><td>3반</td></tr>\n",
              "</tbody>\n",
              "</table>\n"
            ],
            "text/markdown": "\nA data.frame: 10 × 6\n\n| 학번 &lt;chr&gt; | 중간 &lt;int&gt; | 기말 &lt;int&gt; | 리포트 &lt;int&gt; | 퀴즈 &lt;int&gt; | 반 &lt;chr&gt; |\n|---|---|---|---|---|---|\n| S01 | 90 | 95 | 20 | 20 | 1반 |\n| S02 | 82 | 83 | 18 | 18 | 1반 |\n| S03 | 80 | 78 | 18 | 18 | 1반 |\n| S04 | 78 | 75 | 10 | 10 | 2반 |\n| S05 | 93 | 91 | 12 | 12 | 2반 |\n| S06 | 71 | 75 | 16 | 16 | 2반 |\n| S07 | 60 | 80 | 18 | 18 | 3반 |\n| S08 | 72 | 65 | 14 | 14 | 3반 |\n| S09 | 65 | 65 | 14 | 14 | 3반 |\n| S10 | 85 | 78 | 10 | 10 | 3반 |\n\n",
            "text/latex": "A data.frame: 10 × 6\n\\begin{tabular}{llllll}\n 학번 & 중간 & 기말 & 리포트 & 퀴즈 & 반\\\\\n <chr> & <int> & <int> & <int> & <int> & <chr>\\\\\n\\hline\n\t S01 & 90 & 95 & 20 & 20 & 1반\\\\\n\t S02 & 82 & 83 & 18 & 18 & 1반\\\\\n\t S03 & 80 & 78 & 18 & 18 & 1반\\\\\n\t S04 & 78 & 75 & 10 & 10 & 2반\\\\\n\t S05 & 93 & 91 & 12 & 12 & 2반\\\\\n\t S06 & 71 & 75 & 16 & 16 & 2반\\\\\n\t S07 & 60 & 80 & 18 & 18 & 3반\\\\\n\t S08 & 72 & 65 & 14 & 14 & 3반\\\\\n\t S09 & 65 & 65 & 14 & 14 & 3반\\\\\n\t S10 & 85 & 78 & 10 & 10 & 3반\\\\\n\\end{tabular}\n",
            "text/plain": [
              "   학번 중간 기말 리포트 퀴즈 반 \n",
              "1  S01  90   95   20     20   1반\n",
              "2  S02  82   83   18     18   1반\n",
              "3  S03  80   78   18     18   1반\n",
              "4  S04  78   75   10     10   2반\n",
              "5  S05  93   91   12     12   2반\n",
              "6  S06  71   75   16     16   2반\n",
              "7  S07  60   80   18     18   3반\n",
              "8  S08  72   65   14     14   3반\n",
              "9  S09  65   65   14     14   3반\n",
              "10 S10  85   78   10     10   3반"
            ]
          },
          "metadata": {}
        }
      ]
    },
    {
      "cell_type": "markdown",
      "source": [
        "### 데이터 전처리"
      ],
      "metadata": {
        "id": "waeP8qRwqBsB"
      }
    },
    {
      "cell_type": "markdown",
      "source": [
        "1) 데이터 변환\n",
        "- 파생변수 생성"
      ],
      "metadata": {
        "id": "uQ_DQJBRqEl6"
      }
    },
    {
      "cell_type": "code",
      "source": [
        "df <- read.csv(\"sample_data/df_sample.csv\")\n",
        "\n",
        "x <- c(\"1반\",\"1반\",\"1반\",\"2반\",\"2반\",\"2반\",\"3반\",\"3반\",\"3반\",\"3반\")       # 벡터 x정의\n",
        "df$class <- x               # 벡터 x를 값으로 df에 class 파생변수 생성\n",
        "head(df)"
      ],
      "metadata": {
        "colab": {
          "base_uri": "https://localhost:8080/",
          "height": 286
        },
        "id": "mJKnf_jbpgWl",
        "outputId": "1dc7e786-0665-4d1c-c77a-8023d833cace"
      },
      "execution_count": 37,
      "outputs": [
        {
          "output_type": "display_data",
          "data": {
            "text/html": [
              "<table class=\"dataframe\">\n",
              "<caption>A data.frame: 6 × 6</caption>\n",
              "<thead>\n",
              "\t<tr><th></th><th scope=col>학번</th><th scope=col>중간</th><th scope=col>기말</th><th scope=col>리포트</th><th scope=col>퀴즈</th><th scope=col>class</th></tr>\n",
              "\t<tr><th></th><th scope=col>&lt;chr&gt;</th><th scope=col>&lt;int&gt;</th><th scope=col>&lt;int&gt;</th><th scope=col>&lt;int&gt;</th><th scope=col>&lt;int&gt;</th><th scope=col>&lt;chr&gt;</th></tr>\n",
              "</thead>\n",
              "<tbody>\n",
              "\t<tr><th scope=row>1</th><td>S01</td><td>90</td><td>95</td><td>20</td><td>20</td><td>1반</td></tr>\n",
              "\t<tr><th scope=row>2</th><td>S02</td><td>82</td><td>83</td><td>18</td><td>18</td><td>1반</td></tr>\n",
              "\t<tr><th scope=row>3</th><td>S03</td><td>80</td><td>78</td><td>18</td><td>18</td><td>1반</td></tr>\n",
              "\t<tr><th scope=row>4</th><td>S04</td><td>78</td><td>75</td><td>10</td><td>10</td><td>2반</td></tr>\n",
              "\t<tr><th scope=row>5</th><td>S05</td><td>93</td><td>91</td><td>12</td><td>12</td><td>2반</td></tr>\n",
              "\t<tr><th scope=row>6</th><td>S06</td><td>71</td><td>75</td><td>16</td><td>16</td><td>2반</td></tr>\n",
              "</tbody>\n",
              "</table>\n"
            ],
            "text/markdown": "\nA data.frame: 6 × 6\n\n| <!--/--> | 학번 &lt;chr&gt; | 중간 &lt;int&gt; | 기말 &lt;int&gt; | 리포트 &lt;int&gt; | 퀴즈 &lt;int&gt; | class &lt;chr&gt; |\n|---|---|---|---|---|---|---|\n| 1 | S01 | 90 | 95 | 20 | 20 | 1반 |\n| 2 | S02 | 82 | 83 | 18 | 18 | 1반 |\n| 3 | S03 | 80 | 78 | 18 | 18 | 1반 |\n| 4 | S04 | 78 | 75 | 10 | 10 | 2반 |\n| 5 | S05 | 93 | 91 | 12 | 12 | 2반 |\n| 6 | S06 | 71 | 75 | 16 | 16 | 2반 |\n\n",
            "text/latex": "A data.frame: 6 × 6\n\\begin{tabular}{r|llllll}\n  & 학번 & 중간 & 기말 & 리포트 & 퀴즈 & class\\\\\n  & <chr> & <int> & <int> & <int> & <int> & <chr>\\\\\n\\hline\n\t1 & S01 & 90 & 95 & 20 & 20 & 1반\\\\\n\t2 & S02 & 82 & 83 & 18 & 18 & 1반\\\\\n\t3 & S03 & 80 & 78 & 18 & 18 & 1반\\\\\n\t4 & S04 & 78 & 75 & 10 & 10 & 2반\\\\\n\t5 & S05 & 93 & 91 & 12 & 12 & 2반\\\\\n\t6 & S06 & 71 & 75 & 16 & 16 & 2반\\\\\n\\end{tabular}\n",
            "text/plain": [
              "  학번 중간 기말 리포트 퀴즈 class\n",
              "1 S01  90   95   20     20   1반  \n",
              "2 S02  82   83   18     18   1반  \n",
              "3 S03  80   78   18     18   1반  \n",
              "4 S04  78   75   10     10   2반  \n",
              "5 S05  93   91   12     12   2반  \n",
              "6 S06  71   75   16     16   2반  "
            ]
          },
          "metadata": {}
        }
      ]
    },
    {
      "cell_type": "code",
      "source": [
        "df[\"class2\"] <-x"
      ],
      "metadata": {
        "id": "ZEAscQOPqMfX"
      },
      "execution_count": 38,
      "outputs": []
    },
    {
      "cell_type": "code",
      "source": [
        "df <- transform(df,합계 = 중간 +기말)\n",
        "df <- transform(df, 평균=합계/2)\n",
        "head(df)"
      ],
      "metadata": {
        "colab": {
          "base_uri": "https://localhost:8080/",
          "height": 286
        },
        "id": "iTJwt9LMsBXo",
        "outputId": "b7c3b7a2-d11b-416f-aa0b-9db3c19f0cb4"
      },
      "execution_count": 39,
      "outputs": [
        {
          "output_type": "display_data",
          "data": {
            "text/html": [
              "<table class=\"dataframe\">\n",
              "<caption>A data.frame: 6 × 9</caption>\n",
              "<thead>\n",
              "\t<tr><th></th><th scope=col>학번</th><th scope=col>중간</th><th scope=col>기말</th><th scope=col>리포트</th><th scope=col>퀴즈</th><th scope=col>class</th><th scope=col>class2</th><th scope=col>합계</th><th scope=col>평균</th></tr>\n",
              "\t<tr><th></th><th scope=col>&lt;chr&gt;</th><th scope=col>&lt;int&gt;</th><th scope=col>&lt;int&gt;</th><th scope=col>&lt;int&gt;</th><th scope=col>&lt;int&gt;</th><th scope=col>&lt;chr&gt;</th><th scope=col>&lt;chr&gt;</th><th scope=col>&lt;int&gt;</th><th scope=col>&lt;dbl&gt;</th></tr>\n",
              "</thead>\n",
              "<tbody>\n",
              "\t<tr><th scope=row>1</th><td>S01</td><td>90</td><td>95</td><td>20</td><td>20</td><td>1반</td><td>1반</td><td>185</td><td>92.5</td></tr>\n",
              "\t<tr><th scope=row>2</th><td>S02</td><td>82</td><td>83</td><td>18</td><td>18</td><td>1반</td><td>1반</td><td>165</td><td>82.5</td></tr>\n",
              "\t<tr><th scope=row>3</th><td>S03</td><td>80</td><td>78</td><td>18</td><td>18</td><td>1반</td><td>1반</td><td>158</td><td>79.0</td></tr>\n",
              "\t<tr><th scope=row>4</th><td>S04</td><td>78</td><td>75</td><td>10</td><td>10</td><td>2반</td><td>2반</td><td>153</td><td>76.5</td></tr>\n",
              "\t<tr><th scope=row>5</th><td>S05</td><td>93</td><td>91</td><td>12</td><td>12</td><td>2반</td><td>2반</td><td>184</td><td>92.0</td></tr>\n",
              "\t<tr><th scope=row>6</th><td>S06</td><td>71</td><td>75</td><td>16</td><td>16</td><td>2반</td><td>2반</td><td>146</td><td>73.0</td></tr>\n",
              "</tbody>\n",
              "</table>\n"
            ],
            "text/markdown": "\nA data.frame: 6 × 9\n\n| <!--/--> | 학번 &lt;chr&gt; | 중간 &lt;int&gt; | 기말 &lt;int&gt; | 리포트 &lt;int&gt; | 퀴즈 &lt;int&gt; | class &lt;chr&gt; | class2 &lt;chr&gt; | 합계 &lt;int&gt; | 평균 &lt;dbl&gt; |\n|---|---|---|---|---|---|---|---|---|---|\n| 1 | S01 | 90 | 95 | 20 | 20 | 1반 | 1반 | 185 | 92.5 |\n| 2 | S02 | 82 | 83 | 18 | 18 | 1반 | 1반 | 165 | 82.5 |\n| 3 | S03 | 80 | 78 | 18 | 18 | 1반 | 1반 | 158 | 79.0 |\n| 4 | S04 | 78 | 75 | 10 | 10 | 2반 | 2반 | 153 | 76.5 |\n| 5 | S05 | 93 | 91 | 12 | 12 | 2반 | 2반 | 184 | 92.0 |\n| 6 | S06 | 71 | 75 | 16 | 16 | 2반 | 2반 | 146 | 73.0 |\n\n",
            "text/latex": "A data.frame: 6 × 9\n\\begin{tabular}{r|lllllllll}\n  & 학번 & 중간 & 기말 & 리포트 & 퀴즈 & class & class2 & 합계 & 평균\\\\\n  & <chr> & <int> & <int> & <int> & <int> & <chr> & <chr> & <int> & <dbl>\\\\\n\\hline\n\t1 & S01 & 90 & 95 & 20 & 20 & 1반 & 1반 & 185 & 92.5\\\\\n\t2 & S02 & 82 & 83 & 18 & 18 & 1반 & 1반 & 165 & 82.5\\\\\n\t3 & S03 & 80 & 78 & 18 & 18 & 1반 & 1반 & 158 & 79.0\\\\\n\t4 & S04 & 78 & 75 & 10 & 10 & 2반 & 2반 & 153 & 76.5\\\\\n\t5 & S05 & 93 & 91 & 12 & 12 & 2반 & 2반 & 184 & 92.0\\\\\n\t6 & S06 & 71 & 75 & 16 & 16 & 2반 & 2반 & 146 & 73.0\\\\\n\\end{tabular}\n",
            "text/plain": [
              "  학번 중간 기말 리포트 퀴즈 class class2 합계 평균\n",
              "1 S01  90   95   20     20   1반   1반    185  92.5\n",
              "2 S02  82   83   18     18   1반   1반    165  82.5\n",
              "3 S03  80   78   18     18   1반   1반    158  79.0\n",
              "4 S04  78   75   10     10   2반   2반    153  76.5\n",
              "5 S05  93   91   12     12   2반   2반    184  92.0\n",
              "6 S06  71   75   16     16   2반   2반    146  73.0"
            ]
          },
          "metadata": {}
        }
      ]
    },
    {
      "cell_type": "code",
      "source": [
        "# 표준화 : 데이터가 평균 기준 얼마나 떨어져 있는지 \n",
        "# scale(데이터, center = TURE, scale = TRUE)\n",
        "df_z <- transform(df, 중간scale= scale(df$`중간`, center = TRUE, scale = TRUE ))\n",
        "df_z"
      ],
      "metadata": {
        "colab": {
          "base_uri": "https://localhost:8080/",
          "height": 411
        },
        "id": "nXKWIDpK2MJB",
        "outputId": "1209d3c6-abd4-455f-d59e-ecb7435f7fdd"
      },
      "execution_count": 41,
      "outputs": [
        {
          "output_type": "display_data",
          "data": {
            "text/html": [
              "<table class=\"dataframe\">\n",
              "<caption>A data.frame: 10 × 10</caption>\n",
              "<thead>\n",
              "\t<tr><th scope=col>학번</th><th scope=col>중간</th><th scope=col>기말</th><th scope=col>리포트</th><th scope=col>퀴즈</th><th scope=col>class</th><th scope=col>class2</th><th scope=col>합계</th><th scope=col>평균</th><th scope=col>중간scale</th></tr>\n",
              "\t<tr><th scope=col>&lt;chr&gt;</th><th scope=col>&lt;int&gt;</th><th scope=col>&lt;int&gt;</th><th scope=col>&lt;int&gt;</th><th scope=col>&lt;int&gt;</th><th scope=col>&lt;chr&gt;</th><th scope=col>&lt;chr&gt;</th><th scope=col>&lt;int&gt;</th><th scope=col>&lt;dbl&gt;</th><th scope=col>&lt;dbl&gt;</th></tr>\n",
              "</thead>\n",
              "<tbody>\n",
              "\t<tr><td>S01</td><td>90</td><td>95</td><td>20</td><td>20</td><td>1반</td><td>1반</td><td>185</td><td>92.5</td><td> 1.16798784</td></tr>\n",
              "\t<tr><td>S02</td><td>82</td><td>83</td><td>18</td><td>18</td><td>1반</td><td>1반</td><td>165</td><td>82.5</td><td> 0.41444730</td></tr>\n",
              "\t<tr><td>S03</td><td>80</td><td>78</td><td>18</td><td>18</td><td>1반</td><td>1반</td><td>158</td><td>79.0</td><td> 0.22606216</td></tr>\n",
              "\t<tr><td>S04</td><td>78</td><td>75</td><td>10</td><td>10</td><td>2반</td><td>2반</td><td>153</td><td>76.5</td><td> 0.03767703</td></tr>\n",
              "\t<tr><td>S05</td><td>93</td><td>91</td><td>12</td><td>12</td><td>2반</td><td>2반</td><td>184</td><td>92.0</td><td> 1.45056554</td></tr>\n",
              "\t<tr><td>S06</td><td>71</td><td>75</td><td>16</td><td>16</td><td>2반</td><td>2반</td><td>146</td><td>73.0</td><td>-0.62167094</td></tr>\n",
              "\t<tr><td>S07</td><td>60</td><td>80</td><td>18</td><td>18</td><td>3반</td><td>3반</td><td>140</td><td>70.0</td><td>-1.65778919</td></tr>\n",
              "\t<tr><td>S08</td><td>72</td><td>65</td><td>14</td><td>14</td><td>3반</td><td>3반</td><td>137</td><td>68.5</td><td>-0.52747838</td></tr>\n",
              "\t<tr><td>S09</td><td>65</td><td>65</td><td>14</td><td>14</td><td>3반</td><td>3반</td><td>130</td><td>65.0</td><td>-1.18682635</td></tr>\n",
              "\t<tr><td>S10</td><td>85</td><td>78</td><td>10</td><td>10</td><td>3반</td><td>3반</td><td>163</td><td>81.5</td><td> 0.69702500</td></tr>\n",
              "</tbody>\n",
              "</table>\n"
            ],
            "text/markdown": "\nA data.frame: 10 × 10\n\n| 학번 &lt;chr&gt; | 중간 &lt;int&gt; | 기말 &lt;int&gt; | 리포트 &lt;int&gt; | 퀴즈 &lt;int&gt; | class &lt;chr&gt; | class2 &lt;chr&gt; | 합계 &lt;int&gt; | 평균 &lt;dbl&gt; | 중간scale &lt;dbl&gt; |\n|---|---|---|---|---|---|---|---|---|---|\n| S01 | 90 | 95 | 20 | 20 | 1반 | 1반 | 185 | 92.5 |  1.16798784 |\n| S02 | 82 | 83 | 18 | 18 | 1반 | 1반 | 165 | 82.5 |  0.41444730 |\n| S03 | 80 | 78 | 18 | 18 | 1반 | 1반 | 158 | 79.0 |  0.22606216 |\n| S04 | 78 | 75 | 10 | 10 | 2반 | 2반 | 153 | 76.5 |  0.03767703 |\n| S05 | 93 | 91 | 12 | 12 | 2반 | 2반 | 184 | 92.0 |  1.45056554 |\n| S06 | 71 | 75 | 16 | 16 | 2반 | 2반 | 146 | 73.0 | -0.62167094 |\n| S07 | 60 | 80 | 18 | 18 | 3반 | 3반 | 140 | 70.0 | -1.65778919 |\n| S08 | 72 | 65 | 14 | 14 | 3반 | 3반 | 137 | 68.5 | -0.52747838 |\n| S09 | 65 | 65 | 14 | 14 | 3반 | 3반 | 130 | 65.0 | -1.18682635 |\n| S10 | 85 | 78 | 10 | 10 | 3반 | 3반 | 163 | 81.5 |  0.69702500 |\n\n",
            "text/latex": "A data.frame: 10 × 10\n\\begin{tabular}{llllllllll}\n 학번 & 중간 & 기말 & 리포트 & 퀴즈 & class & class2 & 합계 & 평균 & 중간scale\\\\\n <chr> & <int> & <int> & <int> & <int> & <chr> & <chr> & <int> & <dbl> & <dbl>\\\\\n\\hline\n\t S01 & 90 & 95 & 20 & 20 & 1반 & 1반 & 185 & 92.5 &  1.16798784\\\\\n\t S02 & 82 & 83 & 18 & 18 & 1반 & 1반 & 165 & 82.5 &  0.41444730\\\\\n\t S03 & 80 & 78 & 18 & 18 & 1반 & 1반 & 158 & 79.0 &  0.22606216\\\\\n\t S04 & 78 & 75 & 10 & 10 & 2반 & 2반 & 153 & 76.5 &  0.03767703\\\\\n\t S05 & 93 & 91 & 12 & 12 & 2반 & 2반 & 184 & 92.0 &  1.45056554\\\\\n\t S06 & 71 & 75 & 16 & 16 & 2반 & 2반 & 146 & 73.0 & -0.62167094\\\\\n\t S07 & 60 & 80 & 18 & 18 & 3반 & 3반 & 140 & 70.0 & -1.65778919\\\\\n\t S08 & 72 & 65 & 14 & 14 & 3반 & 3반 & 137 & 68.5 & -0.52747838\\\\\n\t S09 & 65 & 65 & 14 & 14 & 3반 & 3반 & 130 & 65.0 & -1.18682635\\\\\n\t S10 & 85 & 78 & 10 & 10 & 3반 & 3반 & 163 & 81.5 &  0.69702500\\\\\n\\end{tabular}\n",
            "text/plain": [
              "   학번 중간 기말 리포트 퀴즈 class class2 합계 평균 중간scale  \n",
              "1  S01  90   95   20     20   1반   1반    185  92.5  1.16798784\n",
              "2  S02  82   83   18     18   1반   1반    165  82.5  0.41444730\n",
              "3  S03  80   78   18     18   1반   1반    158  79.0  0.22606216\n",
              "4  S04  78   75   10     10   2반   2반    153  76.5  0.03767703\n",
              "5  S05  93   91   12     12   2반   2반    184  92.0  1.45056554\n",
              "6  S06  71   75   16     16   2반   2반    146  73.0 -0.62167094\n",
              "7  S07  60   80   18     18   3반   3반    140  70.0 -1.65778919\n",
              "8  S08  72   65   14     14   3반   3반    137  68.5 -0.52747838\n",
              "9  S09  65   65   14     14   3반   3반    130  65.0 -1.18682635\n",
              "10 S10  85   78   10     10   3반   3반    163  81.5  0.69702500"
            ]
          },
          "metadata": {}
        }
      ]
    },
    {
      "cell_type": "code",
      "source": [
        "# 정규화 : 데이터 범위를 0과 1 사이\n",
        "# scale(데이터, center = 최소, scale = 최대 - 최소)\n",
        "\n",
        "fmin <-min(df$`기말`)\n",
        "fmax <- max(df$`기말`)\n",
        "df_z <- transform(df, 기말scale = scale(df$기말, center = fmin, scale = fmax - fmin))\n",
        "head(df_z)"
      ],
      "metadata": {
        "colab": {
          "base_uri": "https://localhost:8080/",
          "height": 286
        },
        "id": "A_5meFrm269v",
        "outputId": "cc10d1e2-98a4-48b8-f3ec-4c77044855bf"
      },
      "execution_count": 42,
      "outputs": [
        {
          "output_type": "display_data",
          "data": {
            "text/html": [
              "<table class=\"dataframe\">\n",
              "<caption>A data.frame: 6 × 10</caption>\n",
              "<thead>\n",
              "\t<tr><th></th><th scope=col>학번</th><th scope=col>중간</th><th scope=col>기말</th><th scope=col>리포트</th><th scope=col>퀴즈</th><th scope=col>class</th><th scope=col>class2</th><th scope=col>합계</th><th scope=col>평균</th><th scope=col>기말scale</th></tr>\n",
              "\t<tr><th></th><th scope=col>&lt;chr&gt;</th><th scope=col>&lt;int&gt;</th><th scope=col>&lt;int&gt;</th><th scope=col>&lt;int&gt;</th><th scope=col>&lt;int&gt;</th><th scope=col>&lt;chr&gt;</th><th scope=col>&lt;chr&gt;</th><th scope=col>&lt;int&gt;</th><th scope=col>&lt;dbl&gt;</th><th scope=col>&lt;dbl&gt;</th></tr>\n",
              "</thead>\n",
              "<tbody>\n",
              "\t<tr><th scope=row>1</th><td>S01</td><td>90</td><td>95</td><td>20</td><td>20</td><td>1반</td><td>1반</td><td>185</td><td>92.5</td><td>1.0000000</td></tr>\n",
              "\t<tr><th scope=row>2</th><td>S02</td><td>82</td><td>83</td><td>18</td><td>18</td><td>1반</td><td>1반</td><td>165</td><td>82.5</td><td>0.6000000</td></tr>\n",
              "\t<tr><th scope=row>3</th><td>S03</td><td>80</td><td>78</td><td>18</td><td>18</td><td>1반</td><td>1반</td><td>158</td><td>79.0</td><td>0.4333333</td></tr>\n",
              "\t<tr><th scope=row>4</th><td>S04</td><td>78</td><td>75</td><td>10</td><td>10</td><td>2반</td><td>2반</td><td>153</td><td>76.5</td><td>0.3333333</td></tr>\n",
              "\t<tr><th scope=row>5</th><td>S05</td><td>93</td><td>91</td><td>12</td><td>12</td><td>2반</td><td>2반</td><td>184</td><td>92.0</td><td>0.8666667</td></tr>\n",
              "\t<tr><th scope=row>6</th><td>S06</td><td>71</td><td>75</td><td>16</td><td>16</td><td>2반</td><td>2반</td><td>146</td><td>73.0</td><td>0.3333333</td></tr>\n",
              "</tbody>\n",
              "</table>\n"
            ],
            "text/markdown": "\nA data.frame: 6 × 10\n\n| <!--/--> | 학번 &lt;chr&gt; | 중간 &lt;int&gt; | 기말 &lt;int&gt; | 리포트 &lt;int&gt; | 퀴즈 &lt;int&gt; | class &lt;chr&gt; | class2 &lt;chr&gt; | 합계 &lt;int&gt; | 평균 &lt;dbl&gt; | 기말scale &lt;dbl&gt; |\n|---|---|---|---|---|---|---|---|---|---|---|\n| 1 | S01 | 90 | 95 | 20 | 20 | 1반 | 1반 | 185 | 92.5 | 1.0000000 |\n| 2 | S02 | 82 | 83 | 18 | 18 | 1반 | 1반 | 165 | 82.5 | 0.6000000 |\n| 3 | S03 | 80 | 78 | 18 | 18 | 1반 | 1반 | 158 | 79.0 | 0.4333333 |\n| 4 | S04 | 78 | 75 | 10 | 10 | 2반 | 2반 | 153 | 76.5 | 0.3333333 |\n| 5 | S05 | 93 | 91 | 12 | 12 | 2반 | 2반 | 184 | 92.0 | 0.8666667 |\n| 6 | S06 | 71 | 75 | 16 | 16 | 2반 | 2반 | 146 | 73.0 | 0.3333333 |\n\n",
            "text/latex": "A data.frame: 6 × 10\n\\begin{tabular}{r|llllllllll}\n  & 학번 & 중간 & 기말 & 리포트 & 퀴즈 & class & class2 & 합계 & 평균 & 기말scale\\\\\n  & <chr> & <int> & <int> & <int> & <int> & <chr> & <chr> & <int> & <dbl> & <dbl>\\\\\n\\hline\n\t1 & S01 & 90 & 95 & 20 & 20 & 1반 & 1반 & 185 & 92.5 & 1.0000000\\\\\n\t2 & S02 & 82 & 83 & 18 & 18 & 1반 & 1반 & 165 & 82.5 & 0.6000000\\\\\n\t3 & S03 & 80 & 78 & 18 & 18 & 1반 & 1반 & 158 & 79.0 & 0.4333333\\\\\n\t4 & S04 & 78 & 75 & 10 & 10 & 2반 & 2반 & 153 & 76.5 & 0.3333333\\\\\n\t5 & S05 & 93 & 91 & 12 & 12 & 2반 & 2반 & 184 & 92.0 & 0.8666667\\\\\n\t6 & S06 & 71 & 75 & 16 & 16 & 2반 & 2반 & 146 & 73.0 & 0.3333333\\\\\n\\end{tabular}\n",
            "text/plain": [
              "  학번 중간 기말 리포트 퀴즈 class class2 합계 평균 기말scale\n",
              "1 S01  90   95   20     20   1반   1반    185  92.5 1.0000000\n",
              "2 S02  82   83   18     18   1반   1반    165  82.5 0.6000000\n",
              "3 S03  80   78   18     18   1반   1반    158  79.0 0.4333333\n",
              "4 S04  78   75   10     10   2반   2반    153  76.5 0.3333333\n",
              "5 S05  93   91   12     12   2반   2반    184  92.0 0.8666667\n",
              "6 S06  71   75   16     16   2반   2반    146  73.0 0.3333333"
            ]
          },
          "metadata": {}
        }
      ]
    },
    {
      "cell_type": "code",
      "source": [
        "# 집계함수\n",
        "# aggregate() : 특정 열 기준 데이터 그룹화 & 집계함수 적용\n",
        "\n",
        "# class를 기준으로 그룹화, 중간 점수 평균 구함.\n",
        "aggregate(중간~class, df, mean)"
      ],
      "metadata": {
        "colab": {
          "base_uri": "https://localhost:8080/",
          "height": 209
        },
        "id": "npy-5U-m4LLG",
        "outputId": "2419a930-de14-4116-d416-16cb29a14c86"
      },
      "execution_count": 43,
      "outputs": [
        {
          "output_type": "display_data",
          "data": {
            "text/html": [
              "<table class=\"dataframe\">\n",
              "<caption>A data.frame: 3 × 2</caption>\n",
              "<thead>\n",
              "\t<tr><th scope=col>class</th><th scope=col>중간</th></tr>\n",
              "\t<tr><th scope=col>&lt;chr&gt;</th><th scope=col>&lt;dbl&gt;</th></tr>\n",
              "</thead>\n",
              "<tbody>\n",
              "\t<tr><td>1반</td><td>84.00000</td></tr>\n",
              "\t<tr><td>2반</td><td>80.66667</td></tr>\n",
              "\t<tr><td>3반</td><td>70.50000</td></tr>\n",
              "</tbody>\n",
              "</table>\n"
            ],
            "text/markdown": "\nA data.frame: 3 × 2\n\n| class &lt;chr&gt; | 중간 &lt;dbl&gt; |\n|---|---|\n| 1반 | 84.00000 |\n| 2반 | 80.66667 |\n| 3반 | 70.50000 |\n\n",
            "text/latex": "A data.frame: 3 × 2\n\\begin{tabular}{ll}\n class & 중간\\\\\n <chr> & <dbl>\\\\\n\\hline\n\t 1반 & 84.00000\\\\\n\t 2반 & 80.66667\\\\\n\t 3반 & 70.50000\\\\\n\\end{tabular}\n",
            "text/plain": [
              "  class 중간    \n",
              "1 1반   84.00000\n",
              "2 2반   80.66667\n",
              "3 3반   70.50000"
            ]
          },
          "metadata": {}
        }
      ]
    },
    {
      "cell_type": "code",
      "source": [
        "# table():  각 범주별 도수분포표\n",
        "\n",
        "table(df$class)\n",
        "# prop.table(df$class) 상대도수분포표 (합 1 되도록)"
      ],
      "metadata": {
        "colab": {
          "base_uri": "https://localhost:8080/",
          "height": 74
        },
        "id": "8dpnOI075LsV",
        "outputId": "c9d87071-7330-4d05-b337-7a94963a625c"
      },
      "execution_count": 46,
      "outputs": [
        {
          "output_type": "display_data",
          "data": {
            "text/plain": [
              "\n",
              "1반 2반 3반 \n",
              "  3   3   4 "
            ]
          },
          "metadata": {}
        }
      ]
    },
    {
      "cell_type": "markdown",
      "source": [
        "- apply(): 행 또는 열 방향으로 주어진 함수 적용\n",
        "  -  1: 행방향 2: 열방향\n",
        "\n",
        "- tapply() : 데이터 행 지정한 기준에 따라 그룹화. 그룹별로 함수 적용 \n"
      ],
      "metadata": {
        "id": "nnkUhATW6Nt2"
      }
    },
    {
      "cell_type": "code",
      "source": [
        "apply(df[2:5], 2, mean)"
      ],
      "metadata": {
        "colab": {
          "base_uri": "https://localhost:8080/",
          "height": 34
        },
        "id": "lNg_3NF_5clM",
        "outputId": "5960a098-6903-43e5-f80b-e5dabe94b6d2"
      },
      "execution_count": 47,
      "outputs": [
        {
          "output_type": "display_data",
          "data": {
            "text/html": [
              "<style>\n",
              ".dl-inline {width: auto; margin:0; padding: 0}\n",
              ".dl-inline>dt, .dl-inline>dd {float: none; width: auto; display: inline-block}\n",
              ".dl-inline>dt::after {content: \":\\0020\"; padding-right: .5ex}\n",
              ".dl-inline>dt:not(:first-of-type) {padding-left: .5ex}\n",
              "</style><dl class=dl-inline><dt>중간</dt><dd>77.6</dd><dt>기말</dt><dd>78.5</dd><dt>리포트</dt><dd>15</dd><dt>퀴즈</dt><dd>15</dd></dl>\n"
            ],
            "text/markdown": "중간\n:   77.6기말\n:   78.5리포트\n:   15퀴즈\n:   15\n\n",
            "text/latex": "\\begin{description*}\n\\item[중간] 77.6\n\\item[기말] 78.5\n\\item[리포트] 15\n\\item[퀴즈] 15\n\\end{description*}\n",
            "text/plain": [
              "  중간   기말 리포트   퀴즈 \n",
              "  77.6   78.5   15.0   15.0 "
            ]
          },
          "metadata": {}
        }
      ]
    },
    {
      "cell_type": "code",
      "source": [
        "# 지정에 따라 그룹화. 그룹별로 함수 적용\n",
        "tapply(df$`기말`, df$class, mean)"
      ],
      "metadata": {
        "colab": {
          "base_uri": "https://localhost:8080/",
          "height": 34
        },
        "id": "iMMeMgM67AAk",
        "outputId": "2f0152a3-656c-49a8-8eb4-a2d013707c71"
      },
      "execution_count": 48,
      "outputs": [
        {
          "output_type": "display_data",
          "data": {
            "text/html": [
              "<style>\n",
              ".dl-inline {width: auto; margin:0; padding: 0}\n",
              ".dl-inline>dt, .dl-inline>dd {float: none; width: auto; display: inline-block}\n",
              ".dl-inline>dt::after {content: \":\\0020\"; padding-right: .5ex}\n",
              ".dl-inline>dt:not(:first-of-type) {padding-left: .5ex}\n",
              "</style><dl class=dl-inline><dt>1반</dt><dd>85.3333333333333</dd><dt>2반</dt><dd>80.3333333333333</dd><dt>3반</dt><dd>72</dd></dl>\n"
            ],
            "text/markdown": "1반\n:   85.33333333333332반\n:   80.33333333333333반\n:   72\n\n",
            "text/latex": "\\begin{description*}\n\\item[1반] 85.3333333333333\n\\item[2반] 80.3333333333333\n\\item[3반] 72\n\\end{description*}\n",
            "text/plain": [
              "     1반      2반      3반 \n",
              "85.33333 80.33333 72.00000 "
            ]
          },
          "metadata": {}
        }
      ]
    },
    {
      "cell_type": "code",
      "source": [
        "# 결측값 처리\n",
        "x = c(14,15,13,14,NA,NA,19,11,12,18)    # 결측값이 있는 컬럼 \"토론\" 추가\n",
        "df$토론 <- x\n",
        "is.na(df$토론)          # 토론 열의 결측값이 있는 부분을 TRUE로 표시\n",
        "sum(is.na(df$토론))     # 토론 열의 NA의 개수 계산\n",
        "table(is.na(df$토론))   # 토론 열의 결측값의 개수와 결측값이 아닌 개수를 함께 계산"
      ],
      "metadata": {
        "colab": {
          "base_uri": "https://localhost:8080/",
          "height": 109
        },
        "id": "V1Tn1_YQ8hlG",
        "outputId": "1547f312-5d53-401d-dce7-f18eb890b0c8"
      },
      "execution_count": 49,
      "outputs": [
        {
          "output_type": "display_data",
          "data": {
            "text/html": [
              "<style>\n",
              ".list-inline {list-style: none; margin:0; padding: 0}\n",
              ".list-inline>li {display: inline-block}\n",
              ".list-inline>li:not(:last-child)::after {content: \"\\00b7\"; padding: 0 .5ex}\n",
              "</style>\n",
              "<ol class=list-inline><li>FALSE</li><li>FALSE</li><li>FALSE</li><li>FALSE</li><li>TRUE</li><li>TRUE</li><li>FALSE</li><li>FALSE</li><li>FALSE</li><li>FALSE</li></ol>\n"
            ],
            "text/markdown": "1. FALSE\n2. FALSE\n3. FALSE\n4. FALSE\n5. TRUE\n6. TRUE\n7. FALSE\n8. FALSE\n9. FALSE\n10. FALSE\n\n\n",
            "text/latex": "\\begin{enumerate*}\n\\item FALSE\n\\item FALSE\n\\item FALSE\n\\item FALSE\n\\item TRUE\n\\item TRUE\n\\item FALSE\n\\item FALSE\n\\item FALSE\n\\item FALSE\n\\end{enumerate*}\n",
            "text/plain": [
              " [1] FALSE FALSE FALSE FALSE  TRUE  TRUE FALSE FALSE FALSE FALSE"
            ]
          },
          "metadata": {}
        },
        {
          "output_type": "display_data",
          "data": {
            "text/html": [
              "2"
            ],
            "text/markdown": "2",
            "text/latex": "2",
            "text/plain": [
              "[1] 2"
            ]
          },
          "metadata": {}
        },
        {
          "output_type": "display_data",
          "data": {
            "text/plain": [
              "\n",
              "FALSE  TRUE \n",
              "    8     2 "
            ]
          },
          "metadata": {}
        }
      ]
    },
    {
      "cell_type": "code",
      "source": [
        "# 결측치 행 제거하는 방법\n",
        "df_new <- na.omit(df)\n",
        "df_new <- df[!is.na(df$토론),]  # 조건에 맞는 행 선택\n",
        "df_new <- filter(df,!is.na(df$토론))"
      ],
      "metadata": {
        "id": "_LFquyTa_HrE"
      },
      "execution_count": 50,
      "outputs": []
    },
    {
      "cell_type": "code",
      "source": [
        "d_mean <- mean(df$토론, na.rm=1) # 결측값을 제외한 평균을 구함\n",
        "# df$토론의 값이 NA이면 평균(d_mean)으로 대체 (평균=14.5)\n",
        "df$토론 <- ifelse(is.na(df$토론), d_mean, df$토론)"
      ],
      "metadata": {
        "id": "w2W4j6Bz_sI7"
      },
      "execution_count": 52,
      "outputs": []
    },
    {
      "cell_type": "code",
      "source": [
        "# 이상값 처리\n",
        "# 이상치 판별\n",
        "\n",
        "quantile(df$기말, prob = 0.25)  # 1사분위수\n",
        "quantile(df$기말, prob = 0.75)  # 3사분위수\n",
        "# 사분위 범위 : IQR\n",
        "df_IQR <- IQR(df$`기말`)\n",
        "df_IQR"
      ],
      "metadata": {
        "colab": {
          "base_uri": "https://localhost:8080/",
          "height": 69
        },
        "id": "hC-GbZ8VAqur",
        "outputId": "6dff4d43-55a2-4b9e-95f9-65adabb06f36"
      },
      "execution_count": 54,
      "outputs": [
        {
          "output_type": "display_data",
          "data": {
            "text/html": [
              "<strong>25%:</strong> 75"
            ],
            "text/markdown": "**25%:** 75",
            "text/latex": "\\textbf{25\\textbackslash{}\\%:} 75",
            "text/plain": [
              "25% \n",
              " 75 "
            ]
          },
          "metadata": {}
        },
        {
          "output_type": "display_data",
          "data": {
            "text/html": [
              "<strong>75%:</strong> 82.25"
            ],
            "text/markdown": "**75%:** 82.25",
            "text/latex": "\\textbf{75\\textbackslash{}\\%:} 82.25",
            "text/plain": [
              "  75% \n",
              "82.25 "
            ]
          },
          "metadata": {}
        },
        {
          "output_type": "display_data",
          "data": {
            "text/html": [
              "7.25"
            ],
            "text/markdown": "7.25",
            "text/latex": "7.25",
            "text/plain": [
              "[1] 7.25"
            ]
          },
          "metadata": {}
        }
      ]
    },
    {
      "cell_type": "code",
      "source": [],
      "metadata": {
        "id": "wZYH161uBYZv"
      },
      "execution_count": null,
      "outputs": []
    }
  ]
}